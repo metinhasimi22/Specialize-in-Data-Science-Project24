{
 "cells": [
  {
   "cell_type": "markdown",
   "id": "c7c6956b",
   "metadata": {},
   "source": [
    "# Topic Modelling\n",
    "<img src='https://miro.medium.com/v2/resize:fit:620/1*xi7Zdo4jUzaIwXTV58roYA.png'>"
   ]
  },
  {
   "cell_type": "code",
   "execution_count": 2,
   "id": "35332d0d",
   "metadata": {},
   "outputs": [
    {
     "name": "stderr",
     "output_type": "stream",
     "text": [
      "[nltk_data] Downloading package punkt to\n",
      "[nltk_data]     C:\\Users\\Sabri\\AppData\\Roaming\\nltk_data...\n",
      "[nltk_data]   Package punkt is already up-to-date!\n",
      "[nltk_data] Downloading package stopwords to\n",
      "[nltk_data]     C:\\Users\\Sabri\\AppData\\Roaming\\nltk_data...\n",
      "[nltk_data]   Package stopwords is already up-to-date!\n",
      "[nltk_data] Downloading package wordnet to\n",
      "[nltk_data]     C:\\Users\\Sabri\\AppData\\Roaming\\nltk_data...\n",
      "[nltk_data]   Package wordnet is already up-to-date!\n",
      "[nltk_data] Downloading package omw-1.4 to\n",
      "[nltk_data]     C:\\Users\\Sabri\\AppData\\Roaming\\nltk_data...\n",
      "[nltk_data]   Package omw-1.4 is already up-to-date!\n"
     ]
    }
   ],
   "source": [
    "import numpy as np\n",
    "import pandas as pd\n",
    "import nltk\n",
    "from nltk.corpus import stopwords\n",
    "from nltk.stem.wordnet import WordNetLemmatizer\n",
    "import string\n",
    "from sklearn.feature_extraction.text import TfidfVectorizer, CountVectorizer\n",
    "from sklearn.decomposition import LatentDirichletAllocation\n",
    "\n",
    "import warnings \n",
    "warnings.filterwarnings('ignore')\n",
    "nltk.download('punkt')\n",
    "nltk.download('stopwords')\n",
    "nltk.download('wordnet')\n",
    "nltk.download('omw-1.4')\n",
    "\n",
    "df = pd.read_csv(\"articles.csv\", encoding = 'latin1')"
   ]
  },
  {
   "cell_type": "markdown",
   "id": "9b7aed75",
   "metadata": {},
   "source": [
    "# Konu Modelleme yani topic modelling , metin belgelerindeki gizli konuları ortaya çıkarmak için kullanılan bir Doğal Dil İşleme tekniğidir. Bir metin belgesinin içeriği ile konu arasındaki ilişkileri bulmak için metin belgelerinin konularını belirlemeye yardımcı olur.\n",
    "\n",
    "# Herhangi bir metin belgesinin konularını belirlemek için, içerik ve konular arasındaki ilişkileri tanımlamak üzere kelimelerin sıklığını analiz edebilen algoritmalar kullanmamız gerekir. Bu sorunu çözmek için metinsel verilere ihtiyacımız var.\n"
   ]
  },
  {
   "cell_type": "code",
   "execution_count": 18,
   "id": "56f8b066",
   "metadata": {},
   "outputs": [
    {
     "data": {
      "text/html": [
       "<div>\n",
       "<style scoped>\n",
       "    .dataframe tbody tr th:only-of-type {\n",
       "        vertical-align: middle;\n",
       "    }\n",
       "\n",
       "    .dataframe tbody tr th {\n",
       "        vertical-align: top;\n",
       "    }\n",
       "\n",
       "    .dataframe thead th {\n",
       "        text-align: right;\n",
       "    }\n",
       "</style>\n",
       "<table border=\"1\" class=\"dataframe\">\n",
       "  <thead>\n",
       "    <tr style=\"text-align: right;\">\n",
       "      <th></th>\n",
       "      <th>Article</th>\n",
       "      <th>Title</th>\n",
       "    </tr>\n",
       "  </thead>\n",
       "  <tbody>\n",
       "    <tr>\n",
       "      <th>0</th>\n",
       "      <td>data analysis process inspecting exploring dat...</td>\n",
       "      <td>Best Books to Learn Data Analysis</td>\n",
       "    </tr>\n",
       "    <tr>\n",
       "      <th>1</th>\n",
       "      <td>performance machine learning algorithm particu...</td>\n",
       "      <td>Assumptions of Machine Learning Algorithms</td>\n",
       "    </tr>\n",
       "    <tr>\n",
       "      <th>2</th>\n",
       "      <td>must seen news divided category go news websit...</td>\n",
       "      <td>News Classification with Machine Learning</td>\n",
       "    </tr>\n",
       "    <tr>\n",
       "      <th>3</th>\n",
       "      <td>two class classification problem problem binar...</td>\n",
       "      <td>Multiclass Classification Algorithms in Machin...</td>\n",
       "    </tr>\n",
       "    <tr>\n",
       "      <th>4</th>\n",
       "      <td>multinomial naive bayes one variant naive baye...</td>\n",
       "      <td>Multinomial Naive Bayes in Machine Learning</td>\n",
       "    </tr>\n",
       "  </tbody>\n",
       "</table>\n",
       "</div>"
      ],
      "text/plain": [
       "                                             Article  \\\n",
       "0  data analysis process inspecting exploring dat...   \n",
       "1  performance machine learning algorithm particu...   \n",
       "2  must seen news divided category go news websit...   \n",
       "3  two class classification problem problem binar...   \n",
       "4  multinomial naive bayes one variant naive baye...   \n",
       "\n",
       "                                               Title  \n",
       "0                  Best Books to Learn Data Analysis  \n",
       "1         Assumptions of Machine Learning Algorithms  \n",
       "2          News Classification with Machine Learning  \n",
       "3  Multiclass Classification Algorithms in Machin...  \n",
       "4        Multinomial Naive Bayes in Machine Learning  "
      ]
     },
     "execution_count": 18,
     "metadata": {},
     "output_type": "execute_result"
    }
   ],
   "source": [
    "df.head()"
   ]
  },
  {
   "cell_type": "code",
   "execution_count": 19,
   "id": "d6d57927",
   "metadata": {},
   "outputs": [
    {
     "data": {
      "text/plain": [
       "(34, 2)"
      ]
     },
     "execution_count": 19,
     "metadata": {},
     "output_type": "execute_result"
    }
   ],
   "source": [
    "df.shape"
   ]
  },
  {
   "cell_type": "code",
   "execution_count": 14,
   "id": "7e00ab15",
   "metadata": {},
   "outputs": [
    {
     "data": {
      "text/plain": [
       "('Assumptions of Machine Learning Algorithms',\n",
       " '***',\n",
       " 'The performance of a machine learning algorithm on a particular dataset often depends on whether the features of the dataset satisfies the assumptions of that machine learning algorithm. Not all machine learning algorithms have assumptions that differentiate them from each other. So, in this article, I will take you through the assumptions of machine learning algorithms.')"
      ]
     },
     "execution_count": 14,
     "metadata": {},
     "output_type": "execute_result"
    }
   ],
   "source": [
    "df.iloc[1,:][1],\"***\",df.iloc[1,:][0]"
   ]
  },
  {
   "cell_type": "markdown",
   "id": "0a5230c1",
   "metadata": {},
   "source": [
    "#### Dartamızda konu ve başlıklar var er halde buna göre dağoılımları yapacağız ve metin işleme ön adımlarını gerçekleştireceğiz "
   ]
  },
  {
   "cell_type": "code",
   "execution_count": 15,
   "id": "109398ad",
   "metadata": {},
   "outputs": [],
   "source": [
    "def preprocess(text):\n",
    "    text = text.lower()\n",
    "    text = text.translate(str.maketrans('', '', string.punctuation))\n",
    "\n",
    "    tokens = nltk.word_tokenize(text)\n",
    "    stop_words = set(stopwords.words(\"english\"))\n",
    "    tokens = [word for word in tokens if word not in stop_words]\n",
    "    \n",
    "    lemma = WordNetLemmatizer()\n",
    "    tokens = [lemma.lemmatize(word) for word in tokens]\n",
    "    \n",
    "    preprocessed_text = ' '.join(tokens)\n",
    "    return preprocessed_text\n"
   ]
  },
  {
   "cell_type": "code",
   "execution_count": 16,
   "id": "8aaa15ae",
   "metadata": {},
   "outputs": [],
   "source": [
    "df['Article'] = df['Article'].apply(preprocess)"
   ]
  },
  {
   "cell_type": "code",
   "execution_count": 17,
   "id": "607bdda6",
   "metadata": {},
   "outputs": [],
   "source": [
    "vectorizer = TfidfVectorizer(ngram_range=(2,2),stop_words='english')\n",
    "x = vectorizer.fit_transform(df['Article'].values)"
   ]
  },
  {
   "cell_type": "markdown",
   "id": "a6fc5219",
   "metadata": {},
   "source": [
    "## Latent Dirichlet Allocation (LDA), metinsel verilerden oluşan bir külliyatta altta yatan konuları ortaya çıkarmak için kullanılan üretken bir olasılıksal algoritmadır."
   ]
  },
  {
   "cell_type": "code",
   "execution_count": 20,
   "id": "30c75260",
   "metadata": {},
   "outputs": [
    {
     "data": {
      "text/html": [
       "<div>\n",
       "<style scoped>\n",
       "    .dataframe tbody tr th:only-of-type {\n",
       "        vertical-align: middle;\n",
       "    }\n",
       "\n",
       "    .dataframe tbody tr th {\n",
       "        vertical-align: top;\n",
       "    }\n",
       "\n",
       "    .dataframe thead th {\n",
       "        text-align: right;\n",
       "    }\n",
       "</style>\n",
       "<table border=\"1\" class=\"dataframe\">\n",
       "  <thead>\n",
       "    <tr style=\"text-align: right;\">\n",
       "      <th></th>\n",
       "      <th>Article</th>\n",
       "      <th>Title</th>\n",
       "      <th>topic_labels</th>\n",
       "    </tr>\n",
       "  </thead>\n",
       "  <tbody>\n",
       "    <tr>\n",
       "      <th>0</th>\n",
       "      <td>data analysis process inspecting exploring dat...</td>\n",
       "      <td>Best Books to Learn Data Analysis</td>\n",
       "      <td>1</td>\n",
       "    </tr>\n",
       "    <tr>\n",
       "      <th>1</th>\n",
       "      <td>performance machine learning algorithm particu...</td>\n",
       "      <td>Assumptions of Machine Learning Algorithms</td>\n",
       "      <td>2</td>\n",
       "    </tr>\n",
       "    <tr>\n",
       "      <th>2</th>\n",
       "      <td>must seen news divided category go news websit...</td>\n",
       "      <td>News Classification with Machine Learning</td>\n",
       "      <td>0</td>\n",
       "    </tr>\n",
       "    <tr>\n",
       "      <th>3</th>\n",
       "      <td>two class classification problem problem binar...</td>\n",
       "      <td>Multiclass Classification Algorithms in Machin...</td>\n",
       "      <td>0</td>\n",
       "    </tr>\n",
       "    <tr>\n",
       "      <th>4</th>\n",
       "      <td>multinomial naive bayes one variant naive baye...</td>\n",
       "      <td>Multinomial Naive Bayes in Machine Learning</td>\n",
       "      <td>4</td>\n",
       "    </tr>\n",
       "  </tbody>\n",
       "</table>\n",
       "</div>"
      ],
      "text/plain": [
       "                                             Article  \\\n",
       "0  data analysis process inspecting exploring dat...   \n",
       "1  performance machine learning algorithm particu...   \n",
       "2  must seen news divided category go news websit...   \n",
       "3  two class classification problem problem binar...   \n",
       "4  multinomial naive bayes one variant naive baye...   \n",
       "\n",
       "                                               Title  topic_labels  \n",
       "0                  Best Books to Learn Data Analysis             1  \n",
       "1         Assumptions of Machine Learning Algorithms             2  \n",
       "2          News Classification with Machine Learning             0  \n",
       "3  Multiclass Classification Algorithms in Machin...             0  \n",
       "4        Multinomial Naive Bayes in Machine Learning             4  "
      ]
     },
     "execution_count": 20,
     "metadata": {},
     "output_type": "execute_result"
    }
   ],
   "source": [
    "lda = LatentDirichletAllocation(n_components=5, random_state=42)\n",
    "lda.fit(x)\n",
    "\n",
    "topic_modelling = lda.transform(x)\n",
    "\n",
    "topic_labels = np.argmax(topic_modelling, axis=1)\n",
    "df['topic_labels'] = topic_labels\n",
    "\n",
    "df.head()"
   ]
  },
  {
   "cell_type": "code",
   "execution_count": 21,
   "id": "84e66d23",
   "metadata": {},
   "outputs": [
    {
     "data": {
      "text/plain": [
       "array([1, 2, 0, 4, 3], dtype=int64)"
      ]
     },
     "execution_count": 21,
     "metadata": {},
     "output_type": "execute_result"
    }
   ],
   "source": [
    "df.topic_labels.unique()"
   ]
  },
  {
   "cell_type": "markdown",
   "id": "41cd7402",
   "metadata": {},
   "source": [
    "# Konu Modelleme, metin belgelerindeki gizli konuları ortaya çıkarmak için kullanılan bir Doğal Dil İşleme tekniğidir. "
   ]
  },
  {
   "cell_type": "code",
   "execution_count": null,
   "id": "0a74da04",
   "metadata": {},
   "outputs": [],
   "source": []
  }
 ],
 "metadata": {
  "kernelspec": {
   "display_name": "Python 3 (ipykernel)",
   "language": "python",
   "name": "python3"
  },
  "language_info": {
   "codemirror_mode": {
    "name": "ipython",
    "version": 3
   },
   "file_extension": ".py",
   "mimetype": "text/x-python",
   "name": "python",
   "nbconvert_exporter": "python",
   "pygments_lexer": "ipython3",
   "version": "3.11.7"
  }
 },
 "nbformat": 4,
 "nbformat_minor": 5
}
