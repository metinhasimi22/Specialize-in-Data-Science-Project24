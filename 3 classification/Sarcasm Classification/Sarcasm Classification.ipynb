{
 "cells": [
  {
   "cell_type": "markdown",
   "id": "aac07314",
   "metadata": {},
   "source": [
    "\n",
    "# Hello This parchment Sarcasm, Sarcasm, Sarcasm (meaning the opposite of what is said) to the machine with classification so we'll try to teach the model \n",
    "\n",
    "### Merhaba Bu parşata Sarcasm yani Alaycılık , Iğneleme ( söylenen şeyin zıttını kast etme) yi classification ile makinaya ,yani modele öğretmeye çalışacağız "
   ]
  },
  {
   "cell_type": "code",
   "execution_count": 1,
   "id": "cfdf808f",
   "metadata": {},
   "outputs": [
    {
     "data": {
      "text/html": [
       "<div>\n",
       "<style scoped>\n",
       "    .dataframe tbody tr th:only-of-type {\n",
       "        vertical-align: middle;\n",
       "    }\n",
       "\n",
       "    .dataframe tbody tr th {\n",
       "        vertical-align: top;\n",
       "    }\n",
       "\n",
       "    .dataframe thead th {\n",
       "        text-align: right;\n",
       "    }\n",
       "</style>\n",
       "<table border=\"1\" class=\"dataframe\">\n",
       "  <thead>\n",
       "    <tr style=\"text-align: right;\">\n",
       "      <th></th>\n",
       "      <th>article_link</th>\n",
       "      <th>headline</th>\n",
       "      <th>is_sarcastic</th>\n",
       "    </tr>\n",
       "  </thead>\n",
       "  <tbody>\n",
       "    <tr>\n",
       "      <th>0</th>\n",
       "      <td>https://www.huffingtonpost.com/entry/versace-b...</td>\n",
       "      <td>former versace store clerk sues over secret 'b...</td>\n",
       "      <td>0</td>\n",
       "    </tr>\n",
       "    <tr>\n",
       "      <th>1</th>\n",
       "      <td>https://www.huffingtonpost.com/entry/roseanne-...</td>\n",
       "      <td>the 'roseanne' revival catches up to our thorn...</td>\n",
       "      <td>0</td>\n",
       "    </tr>\n",
       "    <tr>\n",
       "      <th>2</th>\n",
       "      <td>https://local.theonion.com/mom-starting-to-fea...</td>\n",
       "      <td>mom starting to fear son's web series closest ...</td>\n",
       "      <td>1</td>\n",
       "    </tr>\n",
       "    <tr>\n",
       "      <th>3</th>\n",
       "      <td>https://politics.theonion.com/boehner-just-wan...</td>\n",
       "      <td>boehner just wants wife to listen, not come up...</td>\n",
       "      <td>1</td>\n",
       "    </tr>\n",
       "    <tr>\n",
       "      <th>4</th>\n",
       "      <td>https://www.huffingtonpost.com/entry/jk-rowlin...</td>\n",
       "      <td>j.k. rowling wishes snape happy birthday in th...</td>\n",
       "      <td>0</td>\n",
       "    </tr>\n",
       "  </tbody>\n",
       "</table>\n",
       "</div>"
      ],
      "text/plain": [
       "                                        article_link  \\\n",
       "0  https://www.huffingtonpost.com/entry/versace-b...   \n",
       "1  https://www.huffingtonpost.com/entry/roseanne-...   \n",
       "2  https://local.theonion.com/mom-starting-to-fea...   \n",
       "3  https://politics.theonion.com/boehner-just-wan...   \n",
       "4  https://www.huffingtonpost.com/entry/jk-rowlin...   \n",
       "\n",
       "                                            headline  is_sarcastic  \n",
       "0  former versace store clerk sues over secret 'b...             0  \n",
       "1  the 'roseanne' revival catches up to our thorn...             0  \n",
       "2  mom starting to fear son's web series closest ...             1  \n",
       "3  boehner just wants wife to listen, not come up...             1  \n",
       "4  j.k. rowling wishes snape happy birthday in th...             0  "
      ]
     },
     "execution_count": 1,
     "metadata": {},
     "output_type": "execute_result"
    }
   ],
   "source": [
    "import pandas as pd\n",
    "import numpy as np\n",
    "from sklearn.feature_extraction.text import CountVectorizer\n",
    "from sklearn.model_selection import train_test_split\n",
    "from sklearn.naive_bayes import BernoulliNB\n",
    "\n",
    "df = pd.read_json(\"sarcasm.json\", lines=True)\n",
    "df.head()"
   ]
  },
  {
   "cell_type": "code",
   "execution_count": 2,
   "id": "5bed4059",
   "metadata": {},
   "outputs": [
    {
     "name": "stdout",
     "output_type": "stream",
     "text": [
      "<class 'pandas.core.frame.DataFrame'>\n",
      "RangeIndex: 26709 entries, 0 to 26708\n",
      "Data columns (total 3 columns):\n",
      " #   Column        Non-Null Count  Dtype \n",
      "---  ------        --------------  ----- \n",
      " 0   article_link  26709 non-null  object\n",
      " 1   headline      26709 non-null  object\n",
      " 2   is_sarcastic  26709 non-null  int64 \n",
      "dtypes: int64(1), object(2)\n",
      "memory usage: 626.1+ KB\n"
     ]
    }
   ],
   "source": [
    "df.info()"
   ]
  },
  {
   "cell_type": "code",
   "execution_count": 3,
   "id": "d79d93cf",
   "metadata": {},
   "outputs": [
    {
     "data": {
      "text/plain": [
       "article_link    0\n",
       "headline        0\n",
       "is_sarcastic    0\n",
       "dtype: int64"
      ]
     },
     "execution_count": 3,
     "metadata": {},
     "output_type": "execute_result"
    }
   ],
   "source": [
    "df.isnull().sum()"
   ]
  },
  {
   "cell_type": "code",
   "execution_count": 16,
   "id": "2325b5ce",
   "metadata": {},
   "outputs": [
    {
     "data": {
      "text/plain": [
       "('link:',\n",
       " 'https://local.theonion.com/mom-starting-to-fear-son-s-web-series-closest-thing-she-1819576697',\n",
       " 'text:',\n",
       " \"mom starting to fear son's web series closest thing she will have to grandchild\",\n",
       " 'is Sarcastic ?:',\n",
       " 1)"
      ]
     },
     "execution_count": 16,
     "metadata": {},
     "output_type": "execute_result"
    }
   ],
   "source": [
    "import warnings \n",
    "warnings.filterwarnings('ignore')\n",
    "\n",
    "'link:',df.iloc[2,:][0],'text:',df.iloc[2,:][1],'is Sarcastic ?:',df.iloc[2,:][2]"
   ]
  },
  {
   "cell_type": "code",
   "execution_count": 17,
   "id": "1c4d3def",
   "metadata": {},
   "outputs": [],
   "source": [
    "# Temel amaç yapılan kinayeyi anlaması "
   ]
  },
  {
   "cell_type": "code",
   "execution_count": 19,
   "id": "b5889d6e",
   "metadata": {},
   "outputs": [],
   "source": [
    "x=df['headline']\n",
    "y=df['is_sarcastic']\n",
    "\n",
    "cv = CountVectorizer()\n",
    "\n",
    "X = cv.fit_transform(x) \n",
    "\n",
    "X_train, X_test, y_train, y_test = train_test_split(X, y, test_size=0.20, random_state=42)"
   ]
  },
  {
   "cell_type": "code",
   "execution_count": 20,
   "id": "2850530f",
   "metadata": {},
   "outputs": [
    {
     "name": "stdout",
     "output_type": "stream",
     "text": [
      "0.8448146761512542\n"
     ]
    }
   ],
   "source": [
    "model = BernoulliNB()\n",
    "model.fit(X_train, y_train)\n",
    "print(model.score(X_test, y_test))"
   ]
  },
  {
   "cell_type": "code",
   "execution_count": 23,
   "id": "94f3ab5d",
   "metadata": {},
   "outputs": [
    {
     "name": "stdout",
     "output_type": "stream",
     "text": [
      "Epoch 1/10\n",
      "\u001b[1m668/668\u001b[0m \u001b[32m━━━━━━━━━━━━━━━━━━━━\u001b[0m\u001b[37m\u001b[0m \u001b[1m16s\u001b[0m 20ms/step - accuracy: 0.7276 - loss: 0.5167 - val_accuracy: 0.8474 - val_loss: 0.3552\n",
      "Epoch 2/10\n",
      "\u001b[1m668/668\u001b[0m \u001b[32m━━━━━━━━━━━━━━━━━━━━\u001b[0m\u001b[37m\u001b[0m \u001b[1m19s\u001b[0m 18ms/step - accuracy: 0.9172 - loss: 0.2255 - val_accuracy: 0.8399 - val_loss: 0.3766\n",
      "Epoch 3/10\n",
      "\u001b[1m668/668\u001b[0m \u001b[32m━━━━━━━━━━━━━━━━━━━━\u001b[0m\u001b[37m\u001b[0m \u001b[1m21s\u001b[0m 18ms/step - accuracy: 0.9572 - loss: 0.1224 - val_accuracy: 0.8355 - val_loss: 0.4517\n",
      "Epoch 4/10\n",
      "\u001b[1m668/668\u001b[0m \u001b[32m━━━━━━━━━━━━━━━━━━━━\u001b[0m\u001b[37m\u001b[0m \u001b[1m20s\u001b[0m 17ms/step - accuracy: 0.9806 - loss: 0.0588 - val_accuracy: 0.8345 - val_loss: 0.5725\n",
      "Epoch 5/10\n",
      "\u001b[1m668/668\u001b[0m \u001b[32m━━━━━━━━━━━━━━━━━━━━\u001b[0m\u001b[37m\u001b[0m \u001b[1m12s\u001b[0m 19ms/step - accuracy: 0.9896 - loss: 0.0284 - val_accuracy: 0.8366 - val_loss: 0.6673\n",
      "Epoch 6/10\n",
      "\u001b[1m668/668\u001b[0m \u001b[32m━━━━━━━━━━━━━━━━━━━━\u001b[0m\u001b[37m\u001b[0m \u001b[1m22s\u001b[0m 20ms/step - accuracy: 0.9937 - loss: 0.0198 - val_accuracy: 0.8377 - val_loss: 0.7649\n",
      "Epoch 7/10\n",
      "\u001b[1m668/668\u001b[0m \u001b[32m━━━━━━━━━━━━━━━━━━━━\u001b[0m\u001b[37m\u001b[0m \u001b[1m19s\u001b[0m 18ms/step - accuracy: 0.9973 - loss: 0.0110 - val_accuracy: 0.8341 - val_loss: 0.8507\n",
      "Epoch 8/10\n",
      "\u001b[1m668/668\u001b[0m \u001b[32m━━━━━━━━━━━━━━━━━━━━\u001b[0m\u001b[37m\u001b[0m \u001b[1m12s\u001b[0m 18ms/step - accuracy: 0.9985 - loss: 0.0058 - val_accuracy: 0.8368 - val_loss: 0.8939\n",
      "Epoch 9/10\n",
      "\u001b[1m668/668\u001b[0m \u001b[32m━━━━━━━━━━━━━━━━━━━━\u001b[0m\u001b[37m\u001b[0m \u001b[1m20s\u001b[0m 17ms/step - accuracy: 0.9984 - loss: 0.0056 - val_accuracy: 0.8341 - val_loss: 0.9441\n",
      "Epoch 10/10\n",
      "\u001b[1m668/668\u001b[0m \u001b[32m━━━━━━━━━━━━━━━━━━━━\u001b[0m\u001b[37m\u001b[0m \u001b[1m12s\u001b[0m 18ms/step - accuracy: 0.9990 - loss: 0.0035 - val_accuracy: 0.8302 - val_loss: 1.0579\n"
     ]
    },
    {
     "data": {
      "text/plain": [
       "<keras.src.callbacks.history.History at 0x1e1228ca4d0>"
      ]
     },
     "execution_count": 23,
     "metadata": {},
     "output_type": "execute_result"
    }
   ],
   "source": [
    "import numpy as np\n",
    "import tensorflow as tf\n",
    "from tensorflow.keras.models import Sequential\n",
    "from tensorflow.keras.layers import Dense, Dropout\n",
    "from sklearn.metrics import confusion_matrix, ConfusionMatrixDisplay\n",
    "from sklearn.model_selection import train_test_split\n",
    "from sklearn.feature_extraction.text import CountVectorizer\n",
    "import matplotlib.pyplot as plt\n",
    "\n",
    "# Verileri hazırla\n",
    "x = df['headline']\n",
    "y = df['is_sarcastic']\n",
    "\n",
    "cv = CountVectorizer()\n",
    "x = cv.fit_transform(x)\n",
    "\n",
    "X_train, X_test, y_train, y_test = train_test_split(x, y, test_size=0.20, random_state=42)\n",
    "\n",
    "# Modeli oluştur\n",
    "model = Sequential()\n",
    "model.add(Dense(128, activation='relu', input_shape=(X_train.shape[1],)))\n",
    "model.add(Dropout(0.5))\n",
    "model.add(Dense(64, activation='relu'))\n",
    "model.add(Dropout(0.5))\n",
    "model.add(Dense(1, activation='sigmoid'))\n",
    "\n",
    "# Modeli derle\n",
    "model.compile(optimizer='adam', loss='binary_crossentropy', metrics=['accuracy'])\n",
    "\n",
    "# Modeli eğit\n",
    "model.fit(X_train.toarray(), y_train, epochs=10, batch_size=32, validation_data=(X_test.toarray(), y_test))"
   ]
  },
  {
   "cell_type": "code",
   "execution_count": 24,
   "id": "c85b798c",
   "metadata": {},
   "outputs": [
    {
     "name": "stdout",
     "output_type": "stream",
     "text": [
      "\u001b[1m167/167\u001b[0m \u001b[32m━━━━━━━━━━━━━━━━━━━━\u001b[0m\u001b[37m\u001b[0m \u001b[1m1s\u001b[0m 8ms/step\n"
     ]
    },
    {
     "data": {
      "image/png": "[encoded data removed]",
      "text/plain": [
       "<Figure size 640x480 with 2 Axes>"
      ]
     },
     "metadata": {},
     "output_type": "display_data"
    }
   ],
   "source": [
    "y_pred = (model.predict(X_test.toarray()) > 0.5).astype(\"int32\")\n",
    "\n",
    "cm = confusion_matrix(y_test, y_pred)\n",
    "disp = ConfusionMatrixDisplay(confusion_matrix=cm)\n",
    "disp.plot(cmap=plt.cm.Blues)\n",
    "plt.show()"
   ]
  },
  {
   "cell_type": "code",
   "execution_count": 29,
   "id": "bc57ed55",
   "metadata": {},
   "outputs": [
    {
     "name": "stdout",
     "output_type": "stream",
     "text": [
      "Veriler hazır modeller deneniyor\n",
      "BernoulliNB()  modeli eğitiliyor!..\n",
      "[[4054  390]\n",
      " [ 845 2724]]\n",
      "LogisticRegression()  modeli eğitiliyor!..\n",
      "[[3884  560]\n",
      " [ 687 2882]]\n",
      "DecisionTreeClassifier()  modeli eğitiliyor!..\n",
      "[[3476  968]\n",
      " [1012 2557]]\n",
      "RandomForestClassifier()  modeli eğitiliyor!..\n",
      "[[3690  754]\n",
      " [ 726 2843]]\n",
      "GradientBoostingClassifier()  modeli eğitiliyor!..\n",
      "[[3625  819]\n",
      " [1165 2404]]\n",
      "KNeighborsClassifier()  modeli eğitiliyor!..\n",
      "[[4175  269]\n",
      " [2798  771]]\n",
      "AdaBoostClassifier()  modeli eğitiliyor!..\n",
      "[[3627  817]\n",
      " [1297 2272]]\n",
      "MultinomialNB()  modeli eğitiliyor!..\n",
      "[[3977  467]\n",
      " [ 733 2836]]\n",
      "Eğitim tamamlandı.\n",
      "En başarılı model:  MultinomialNB\n",
      "Confusion Matrix:\n",
      "[[3977  467]\n",
      " [ 733 2836]]\n",
      "classification Report:\n",
      "              precision    recall  f1-score   support\n",
      "\n",
      "           0       0.84      0.89      0.87      4444\n",
      "           1       0.86      0.79      0.83      3569\n",
      "\n",
      "    accuracy                           0.85      8013\n",
      "   macro avg       0.85      0.84      0.85      8013\n",
      "weighted avg       0.85      0.85      0.85      8013\n",
      "\n",
      "Diğer Modeller:\n"
     ]
    },
    {
     "data": {
      "text/html": [
       "<div>\n",
       "<style scoped>\n",
       "    .dataframe tbody tr th:only-of-type {\n",
       "        vertical-align: middle;\n",
       "    }\n",
       "\n",
       "    .dataframe tbody tr th {\n",
       "        vertical-align: top;\n",
       "    }\n",
       "\n",
       "    .dataframe thead th {\n",
       "        text-align: right;\n",
       "    }\n",
       "</style>\n",
       "<table border=\"1\" class=\"dataframe\">\n",
       "  <thead>\n",
       "    <tr style=\"text-align: right;\">\n",
       "      <th></th>\n",
       "      <th>Accuracy</th>\n",
       "      <th>Precision</th>\n",
       "      <th>Recall</th>\n",
       "      <th>F1</th>\n",
       "    </tr>\n",
       "  </thead>\n",
       "  <tbody>\n",
       "    <tr>\n",
       "      <th>MultinomialNB</th>\n",
       "      <td>0.850243</td>\n",
       "      <td>0.850243</td>\n",
       "      <td>0.850243</td>\n",
       "      <td>0.850243</td>\n",
       "    </tr>\n",
       "    <tr>\n",
       "      <th>BernoulliNB</th>\n",
       "      <td>0.845875</td>\n",
       "      <td>0.845875</td>\n",
       "      <td>0.845875</td>\n",
       "      <td>0.845875</td>\n",
       "    </tr>\n",
       "    <tr>\n",
       "      <th>LogisticRegression</th>\n",
       "      <td>0.844378</td>\n",
       "      <td>0.844378</td>\n",
       "      <td>0.844378</td>\n",
       "      <td>0.844378</td>\n",
       "    </tr>\n",
       "    <tr>\n",
       "      <th>RandomForestClassifier</th>\n",
       "      <td>0.815300</td>\n",
       "      <td>0.815300</td>\n",
       "      <td>0.815300</td>\n",
       "      <td>0.815300</td>\n",
       "    </tr>\n",
       "    <tr>\n",
       "      <th>DecisionTreeClassifier</th>\n",
       "      <td>0.752902</td>\n",
       "      <td>0.752902</td>\n",
       "      <td>0.752902</td>\n",
       "      <td>0.752902</td>\n",
       "    </tr>\n",
       "    <tr>\n",
       "      <th>GradientBoostingClassifier</th>\n",
       "      <td>0.752402</td>\n",
       "      <td>0.752402</td>\n",
       "      <td>0.752402</td>\n",
       "      <td>0.752402</td>\n",
       "    </tr>\n",
       "    <tr>\n",
       "      <th>AdaBoostClassifier</th>\n",
       "      <td>0.736179</td>\n",
       "      <td>0.736179</td>\n",
       "      <td>0.736179</td>\n",
       "      <td>0.736179</td>\n",
       "    </tr>\n",
       "    <tr>\n",
       "      <th>KNeighborsClassifier</th>\n",
       "      <td>0.617247</td>\n",
       "      <td>0.617247</td>\n",
       "      <td>0.617247</td>\n",
       "      <td>0.617247</td>\n",
       "    </tr>\n",
       "  </tbody>\n",
       "</table>\n",
       "</div>"
      ],
      "text/plain": [
       "                            Accuracy  Precision    Recall        F1\n",
       "MultinomialNB               0.850243   0.850243  0.850243  0.850243\n",
       "BernoulliNB                 0.845875   0.845875  0.845875  0.845875\n",
       "LogisticRegression          0.844378   0.844378  0.844378  0.844378\n",
       "RandomForestClassifier      0.815300   0.815300  0.815300  0.815300\n",
       "DecisionTreeClassifier      0.752902   0.752902  0.752902  0.752902\n",
       "GradientBoostingClassifier  0.752402   0.752402  0.752402  0.752402\n",
       "AdaBoostClassifier          0.736179   0.736179  0.736179  0.736179\n",
       "KNeighborsClassifier        0.617247   0.617247  0.617247  0.617247"
      ]
     },
     "execution_count": 29,
     "metadata": {},
     "output_type": "execute_result"
    }
   ],
   "source": [
    "from classifi import algo_test as at\n",
    "df = df[[\"headline\", \"is_sarcastic\"]]\n",
    "x = np.array(df[\"headline\"])\n",
    "y = np.array(df[\"is_sarcastic\"])\n",
    "\n",
    "cv = CountVectorizer()\n",
    "X = cv.fit_transform(x) # Fit the Data\n",
    "at(X,y)"
   ]
  },
  {
   "cell_type": "code",
   "execution_count": 31,
   "id": "379188d1",
   "metadata": {},
   "outputs": [],
   "source": [
    "# Deeplearning ile daha yüksek bir sonuç bulduk , modelimiz  Neyin Sarkastik olduğunu gayet iyi bir şekilde analmış oldu "
   ]
  }
 ],
 "metadata": {
  "kernelspec": {
   "display_name": "Python 3 (ipykernel)",
   "language": "python",
   "name": "python3"
  },
  "language_info": {
   "codemirror_mode": {
    "name": "ipython",
    "version": 3
   },
   "file_extension": ".py",
   "mimetype": "text/x-python",
   "name": "python",
   "nbconvert_exporter": "python",
   "pygments_lexer": "ipython3",
   "version": "3.11.7"
  }
 },
 "nbformat": 4,
 "nbformat_minor": 5
}
