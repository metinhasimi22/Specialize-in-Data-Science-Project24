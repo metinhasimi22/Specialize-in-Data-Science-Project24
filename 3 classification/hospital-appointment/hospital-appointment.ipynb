{
 "cells": [
  {
   "cell_type": "markdown",
   "id": "fcb705e2",
   "metadata": {},
   "source": [
    "#  Hastane Randevu Problemi "
   ]
  },
  {
   "cell_type": "markdown",
   "id": "341c89c9",
   "metadata": {},
   "source": [
    "## datayı yükleme ve temel incelemle ve bilgiler alma "
   ]
  },
  {
   "cell_type": "code",
   "execution_count": 51,
   "id": "1092ccbb",
   "metadata": {
    "papermill": {
     "duration": 0.005551,
     "end_time": "2024-06-12T15:54:46.298237",
     "exception": false,
     "start_time": "2024-06-12T15:54:46.292686",
     "status": "completed"
    },
    "tags": []
   },
   "outputs": [],
   "source": [
    "import pandas as pd \n",
    "df=pd.read_csv(\"hospital_appointment_data.csv\")\n",
    "data=df.copy()"
   ]
  },
  {
   "cell_type": "markdown",
   "id": "f5b25891",
   "metadata": {},
   "source": [
    "<img src=\"https://www.verywellhealth.com/thmb/AFn5nkyll986I8XeTQ-IOApRXQY=/750x0/filters:no_upscale():max_bytes(150000):strip_icc():format(webp)/VWH-GettyImages-1406496671-d559150d3c294b8282f546c5bbf21157.jpg\">\n",
    "\n",
    "###                              kolonlar hakkında açıklama\n",
    "AppointmentID: Randevunun benzersiz kimliği. \n",
    "    \n",
    "PatientID: Hastanın benzersiz kimliği. \n",
    "    \n",
    "AppointmentDate: Randevunun tarihi.\n",
    "    \n",
    "AppointmentTime: Randevunun saati. \n",
    "    \n",
    "AppointmentDay: Randevunun günü. (örneğin, Pazartesi, Salı).\n",
    "    \n",
    "PatientAge: Hastanın yaşı.\n",
    "    \n",
    "PatientGender: Hastanın cinsiyeti.\n",
    "    \n",
    "Disease: Hastanın hastalığı veya rahatsızlığı.\n",
    "\n",
    "DoctorID: Doktorun benzersiz kimliği. \n",
    "    \n",
    "PreviousNoShow: Hastanın geçmişte randevuya gelmeme durumu. \n",
    "    \n",
    "SMSReminder: SMS hatırlatıcı durumu.\n",
    "    \n",
    "NoShow: Hastanın randevuya gelip gelmediği.\n",
    "\n"
   ]
  },
  {
   "cell_type": "markdown",
   "id": "48b0b8eb",
   "metadata": {
    "papermill": {
     "duration": 0.004871,
     "end_time": "2024-06-12T15:54:46.307909",
     "exception": false,
     "start_time": "2024-06-12T15:54:46.303038",
     "status": "completed"
    },
    "tags": []
   },
   "source": [
    "**1-Veriler üzerinde yapılacak işlemler için gerekli kütüphaneleri yükleyin**"
   ]
  },
  {
   "cell_type": "code",
   "execution_count": 52,
   "id": "9f6a9fab",
   "metadata": {
    "papermill": {
     "duration": 0.004088,
     "end_time": "2024-06-12T15:54:46.316714",
     "exception": false,
     "start_time": "2024-06-12T15:54:46.312626",
     "status": "completed"
    },
    "tags": []
   },
   "outputs": [],
   "source": [
    "# Gerekli Kütüphaneler \n",
    "from sklearn.preprocessing import LabelEncoder  #  kategorik verileri numeric verilere dönüştürme \n",
    "\n",
    "import matplotlib.pyplot as plt # verileri görselleştirme kütüphanesi\n",
    "import seaborn as sns # daha iyi bir görselleştirme kütüphanesi\n",
    "import pandas as pd # Data işlemleri  için Kütüphane\n",
    "import plotly.express as px\n",
    "import warnings   # hataları görmezden geleme \n",
    "warnings.filterwarnings('ignore')\n",
    "\n",
    "\n",
    "\n",
    "from sklearn.metrics import accuracy_score,confusion_matrix,classification_report,precision_score,recall_score  # scordeğerleri algoritmasi \n",
    "from sklearn.naive_bayes import  GaussianNB,BernoulliNB\n",
    "from sklearn.preprocessing import LabelEncoder, MinMaxScaler,OneHotEncoder, StandardScaler\n",
    "from sklearn.compose import ColumnTransformer\n",
    "from sklearn.model_selection import train_test_split  #veritler test ve train diye ayırmaya yarrıoyr \n",
    "from sklearn.ensemble import RandomForestClassifier   # \n",
    "from sklearn.tree import DecisionTreeClassifier\n",
    "from sklearn.ensemble import GradientBoostingClassifier\n",
    "from sklearn.svm import SVC\n",
    "from sklearn.neighbors import KNeighborsClassifier\n"
   ]
  },
  {
   "cell_type": "code",
   "execution_count": 53,
   "id": "0b27c0a4",
   "metadata": {},
   "outputs": [
    {
     "data": {
      "text/html": [
       "<style type=\"text/css\">\n",
       "#T_db623_row10_col1 {\n",
       "  background-color: lightgreen;\n",
       "}\n",
       "</style>\n",
       "<table id=\"T_db623\">\n",
       "  <thead>\n",
       "    <tr>\n",
       "      <th class=\"blank level0\" >&nbsp;</th>\n",
       "      <th id=\"T_db623_level0_col0\" class=\"col_heading level0 col0\" >Description</th>\n",
       "      <th id=\"T_db623_level0_col1\" class=\"col_heading level0 col1\" >Value</th>\n",
       "    </tr>\n",
       "  </thead>\n",
       "  <tbody>\n",
       "    <tr>\n",
       "      <th id=\"T_db623_level0_row0\" class=\"row_heading level0 row0\" >0</th>\n",
       "      <td id=\"T_db623_row0_col0\" class=\"data row0 col0\" >Session id</td>\n",
       "      <td id=\"T_db623_row0_col1\" class=\"data row0 col1\" >4824</td>\n",
       "    </tr>\n",
       "    <tr>\n",
       "      <th id=\"T_db623_level0_row1\" class=\"row_heading level0 row1\" >1</th>\n",
       "      <td id=\"T_db623_row1_col0\" class=\"data row1 col0\" >Target</td>\n",
       "      <td id=\"T_db623_row1_col1\" class=\"data row1 col1\" >NoShow</td>\n",
       "    </tr>\n",
       "    <tr>\n",
       "      <th id=\"T_db623_level0_row2\" class=\"row_heading level0 row2\" >2</th>\n",
       "      <td id=\"T_db623_row2_col0\" class=\"data row2 col0\" >Target type</td>\n",
       "      <td id=\"T_db623_row2_col1\" class=\"data row2 col1\" >Binary</td>\n",
       "    </tr>\n",
       "    <tr>\n",
       "      <th id=\"T_db623_level0_row3\" class=\"row_heading level0 row3\" >3</th>\n",
       "      <td id=\"T_db623_row3_col0\" class=\"data row3 col0\" >Target mapping</td>\n",
       "      <td id=\"T_db623_row3_col1\" class=\"data row3 col1\" >No: 0, Yes: 1</td>\n",
       "    </tr>\n",
       "    <tr>\n",
       "      <th id=\"T_db623_level0_row4\" class=\"row_heading level0 row4\" >4</th>\n",
       "      <td id=\"T_db623_row4_col0\" class=\"data row4 col0\" >Original data shape</td>\n",
       "      <td id=\"T_db623_row4_col1\" class=\"data row4 col1\" >(1000, 12)</td>\n",
       "    </tr>\n",
       "    <tr>\n",
       "      <th id=\"T_db623_level0_row5\" class=\"row_heading level0 row5\" >5</th>\n",
       "      <td id=\"T_db623_row5_col0\" class=\"data row5 col0\" >Transformed data shape</td>\n",
       "      <td id=\"T_db623_row5_col1\" class=\"data row5 col1\" >(1000, 40)</td>\n",
       "    </tr>\n",
       "    <tr>\n",
       "      <th id=\"T_db623_level0_row6\" class=\"row_heading level0 row6\" >6</th>\n",
       "      <td id=\"T_db623_row6_col0\" class=\"data row6 col0\" >Transformed train set shape</td>\n",
       "      <td id=\"T_db623_row6_col1\" class=\"data row6 col1\" >(700, 40)</td>\n",
       "    </tr>\n",
       "    <tr>\n",
       "      <th id=\"T_db623_level0_row7\" class=\"row_heading level0 row7\" >7</th>\n",
       "      <td id=\"T_db623_row7_col0\" class=\"data row7 col0\" >Transformed test set shape</td>\n",
       "      <td id=\"T_db623_row7_col1\" class=\"data row7 col1\" >(300, 40)</td>\n",
       "    </tr>\n",
       "    <tr>\n",
       "      <th id=\"T_db623_level0_row8\" class=\"row_heading level0 row8\" >8</th>\n",
       "      <td id=\"T_db623_row8_col0\" class=\"data row8 col0\" >Numeric features</td>\n",
       "      <td id=\"T_db623_row8_col1\" class=\"data row8 col1\" >5</td>\n",
       "    </tr>\n",
       "    <tr>\n",
       "      <th id=\"T_db623_level0_row9\" class=\"row_heading level0 row9\" >9</th>\n",
       "      <td id=\"T_db623_row9_col0\" class=\"data row9 col0\" >Categorical features</td>\n",
       "      <td id=\"T_db623_row9_col1\" class=\"data row9 col1\" >6</td>\n",
       "    </tr>\n",
       "    <tr>\n",
       "      <th id=\"T_db623_level0_row10\" class=\"row_heading level0 row10\" >10</th>\n",
       "      <td id=\"T_db623_row10_col0\" class=\"data row10 col0\" >Preprocess</td>\n",
       "      <td id=\"T_db623_row10_col1\" class=\"data row10 col1\" >True</td>\n",
       "    </tr>\n",
       "    <tr>\n",
       "      <th id=\"T_db623_level0_row11\" class=\"row_heading level0 row11\" >11</th>\n",
       "      <td id=\"T_db623_row11_col0\" class=\"data row11 col0\" >Imputation type</td>\n",
       "      <td id=\"T_db623_row11_col1\" class=\"data row11 col1\" >simple</td>\n",
       "    </tr>\n",
       "    <tr>\n",
       "      <th id=\"T_db623_level0_row12\" class=\"row_heading level0 row12\" >12</th>\n",
       "      <td id=\"T_db623_row12_col0\" class=\"data row12 col0\" >Numeric imputation</td>\n",
       "      <td id=\"T_db623_row12_col1\" class=\"data row12 col1\" >mean</td>\n",
       "    </tr>\n",
       "    <tr>\n",
       "      <th id=\"T_db623_level0_row13\" class=\"row_heading level0 row13\" >13</th>\n",
       "      <td id=\"T_db623_row13_col0\" class=\"data row13 col0\" >Categorical imputation</td>\n",
       "      <td id=\"T_db623_row13_col1\" class=\"data row13 col1\" >mode</td>\n",
       "    </tr>\n",
       "    <tr>\n",
       "      <th id=\"T_db623_level0_row14\" class=\"row_heading level0 row14\" >14</th>\n",
       "      <td id=\"T_db623_row14_col0\" class=\"data row14 col0\" >Maximum one-hot encoding</td>\n",
       "      <td id=\"T_db623_row14_col1\" class=\"data row14 col1\" >25</td>\n",
       "    </tr>\n",
       "    <tr>\n",
       "      <th id=\"T_db623_level0_row15\" class=\"row_heading level0 row15\" >15</th>\n",
       "      <td id=\"T_db623_row15_col0\" class=\"data row15 col0\" >Encoding method</td>\n",
       "      <td id=\"T_db623_row15_col1\" class=\"data row15 col1\" >None</td>\n",
       "    </tr>\n",
       "    <tr>\n",
       "      <th id=\"T_db623_level0_row16\" class=\"row_heading level0 row16\" >16</th>\n",
       "      <td id=\"T_db623_row16_col0\" class=\"data row16 col0\" >Fold Generator</td>\n",
       "      <td id=\"T_db623_row16_col1\" class=\"data row16 col1\" >StratifiedKFold</td>\n",
       "    </tr>\n",
       "    <tr>\n",
       "      <th id=\"T_db623_level0_row17\" class=\"row_heading level0 row17\" >17</th>\n",
       "      <td id=\"T_db623_row17_col0\" class=\"data row17 col0\" >Fold Number</td>\n",
       "      <td id=\"T_db623_row17_col1\" class=\"data row17 col1\" >10</td>\n",
       "    </tr>\n",
       "    <tr>\n",
       "      <th id=\"T_db623_level0_row18\" class=\"row_heading level0 row18\" >18</th>\n",
       "      <td id=\"T_db623_row18_col0\" class=\"data row18 col0\" >CPU Jobs</td>\n",
       "      <td id=\"T_db623_row18_col1\" class=\"data row18 col1\" >-1</td>\n",
       "    </tr>\n",
       "    <tr>\n",
       "      <th id=\"T_db623_level0_row19\" class=\"row_heading level0 row19\" >19</th>\n",
       "      <td id=\"T_db623_row19_col0\" class=\"data row19 col0\" >Use GPU</td>\n",
       "      <td id=\"T_db623_row19_col1\" class=\"data row19 col1\" >False</td>\n",
       "    </tr>\n",
       "    <tr>\n",
       "      <th id=\"T_db623_level0_row20\" class=\"row_heading level0 row20\" >20</th>\n",
       "      <td id=\"T_db623_row20_col0\" class=\"data row20 col0\" >Log Experiment</td>\n",
       "      <td id=\"T_db623_row20_col1\" class=\"data row20 col1\" >False</td>\n",
       "    </tr>\n",
       "    <tr>\n",
       "      <th id=\"T_db623_level0_row21\" class=\"row_heading level0 row21\" >21</th>\n",
       "      <td id=\"T_db623_row21_col0\" class=\"data row21 col0\" >Experiment Name</td>\n",
       "      <td id=\"T_db623_row21_col1\" class=\"data row21 col1\" >clf-default-name</td>\n",
       "    </tr>\n",
       "    <tr>\n",
       "      <th id=\"T_db623_level0_row22\" class=\"row_heading level0 row22\" >22</th>\n",
       "      <td id=\"T_db623_row22_col0\" class=\"data row22 col0\" >USI</td>\n",
       "      <td id=\"T_db623_row22_col1\" class=\"data row22 col1\" >f515</td>\n",
       "    </tr>\n",
       "  </tbody>\n",
       "</table>\n"
      ],
      "text/plain": [
       "<pandas.io.formats.style.Styler at 0x2711e131810>"
      ]
     },
     "metadata": {},
     "output_type": "display_data"
    },
    {
     "data": {
      "text/plain": [
       "<pycaret.classification.oop.ClassificationExperiment at 0x2710c81b8d0>"
      ]
     },
     "execution_count": 53,
     "metadata": {},
     "output_type": "execute_result"
    }
   ],
   "source": [
    "#!pip install pycaret\n",
    "\n",
    "\n",
    "#  buraya AutoML üzerinden bir ön işlem yapamak isityorum\n",
    "from pycaret.classification import *\n",
    "\n",
    "setup(df,target='NoShow')"
   ]
  },
  {
   "cell_type": "code",
   "execution_count": 54,
   "id": "ec5d5afc",
   "metadata": {},
   "outputs": [
    {
     "data": {
      "text/html": [],
      "text/plain": [
       "<IPython.core.display.HTML object>"
      ]
     },
     "metadata": {},
     "output_type": "display_data"
    },
    {
     "data": {
      "text/html": [
       "<style type=\"text/css\">\n",
       "#T_1f022 th {\n",
       "  text-align: left;\n",
       "}\n",
       "#T_1f022_row0_col0, #T_1f022_row0_col2, #T_1f022_row0_col4, #T_1f022_row0_col5, #T_1f022_row0_col6, #T_1f022_row0_col7, #T_1f022_row1_col0, #T_1f022_row1_col2, #T_1f022_row1_col4, #T_1f022_row1_col5, #T_1f022_row1_col6, #T_1f022_row1_col7, #T_1f022_row2_col0, #T_1f022_row2_col2, #T_1f022_row2_col4, #T_1f022_row2_col5, #T_1f022_row2_col6, #T_1f022_row2_col7, #T_1f022_row3_col0, #T_1f022_row3_col2, #T_1f022_row3_col4, #T_1f022_row3_col5, #T_1f022_row3_col6, #T_1f022_row3_col7, #T_1f022_row4_col0, #T_1f022_row4_col2, #T_1f022_row4_col4, #T_1f022_row4_col5, #T_1f022_row4_col6, #T_1f022_row4_col7, #T_1f022_row5_col0, #T_1f022_row5_col2, #T_1f022_row5_col4, #T_1f022_row5_col5, #T_1f022_row5_col6, #T_1f022_row5_col7, #T_1f022_row6_col0, #T_1f022_row6_col2, #T_1f022_row6_col4, #T_1f022_row6_col5, #T_1f022_row6_col6, #T_1f022_row6_col7, #T_1f022_row7_col0, #T_1f022_row7_col4, #T_1f022_row7_col5, #T_1f022_row7_col6, #T_1f022_row7_col7, #T_1f022_row8_col0, #T_1f022_row8_col2, #T_1f022_row8_col4, #T_1f022_row8_col5, #T_1f022_row8_col6, #T_1f022_row8_col7, #T_1f022_row9_col0, #T_1f022_row9_col2, #T_1f022_row9_col4, #T_1f022_row9_col5, #T_1f022_row9_col6, #T_1f022_row9_col7, #T_1f022_row10_col0, #T_1f022_row10_col1, #T_1f022_row10_col2, #T_1f022_row10_col3, #T_1f022_row10_col4, #T_1f022_row10_col5, #T_1f022_row10_col6, #T_1f022_row10_col7, #T_1f022_row11_col0, #T_1f022_row11_col1, #T_1f022_row11_col2, #T_1f022_row11_col3, #T_1f022_row12_col0, #T_1f022_row12_col1, #T_1f022_row12_col2, #T_1f022_row12_col3, #T_1f022_row12_col4, #T_1f022_row12_col5, #T_1f022_row12_col6, #T_1f022_row12_col7, #T_1f022_row13_col0, #T_1f022_row13_col1, #T_1f022_row13_col2, #T_1f022_row13_col3, #T_1f022_row13_col4, #T_1f022_row13_col5, #T_1f022_row13_col6, #T_1f022_row13_col7 {\n",
       "  text-align: left;\n",
       "}\n",
       "#T_1f022_row0_col1, #T_1f022_row0_col3, #T_1f022_row1_col1, #T_1f022_row1_col3, #T_1f022_row2_col1, #T_1f022_row2_col3, #T_1f022_row3_col1, #T_1f022_row3_col3, #T_1f022_row4_col1, #T_1f022_row4_col3, #T_1f022_row5_col1, #T_1f022_row5_col3, #T_1f022_row6_col1, #T_1f022_row6_col3, #T_1f022_row7_col1, #T_1f022_row7_col2, #T_1f022_row7_col3, #T_1f022_row8_col1, #T_1f022_row8_col3, #T_1f022_row9_col1, #T_1f022_row9_col3, #T_1f022_row11_col4, #T_1f022_row11_col5, #T_1f022_row11_col6, #T_1f022_row11_col7 {\n",
       "  text-align: left;\n",
       "  background-color: yellow;\n",
       "}\n",
       "#T_1f022_row0_col8, #T_1f022_row1_col8, #T_1f022_row2_col8, #T_1f022_row3_col8, #T_1f022_row4_col8, #T_1f022_row5_col8, #T_1f022_row7_col8, #T_1f022_row8_col8, #T_1f022_row9_col8, #T_1f022_row10_col8, #T_1f022_row11_col8, #T_1f022_row12_col8, #T_1f022_row13_col8 {\n",
       "  text-align: left;\n",
       "  background-color: lightgrey;\n",
       "}\n",
       "#T_1f022_row6_col8 {\n",
       "  text-align: left;\n",
       "  background-color: yellow;\n",
       "  background-color: lightgrey;\n",
       "}\n",
       "</style>\n",
       "<table id=\"T_1f022\">\n",
       "  <thead>\n",
       "    <tr>\n",
       "      <th class=\"blank level0\" >&nbsp;</th>\n",
       "      <th id=\"T_1f022_level0_col0\" class=\"col_heading level0 col0\" >Model</th>\n",
       "      <th id=\"T_1f022_level0_col1\" class=\"col_heading level0 col1\" >Accuracy</th>\n",
       "      <th id=\"T_1f022_level0_col2\" class=\"col_heading level0 col2\" >AUC</th>\n",
       "      <th id=\"T_1f022_level0_col3\" class=\"col_heading level0 col3\" >Recall</th>\n",
       "      <th id=\"T_1f022_level0_col4\" class=\"col_heading level0 col4\" >Prec.</th>\n",
       "      <th id=\"T_1f022_level0_col5\" class=\"col_heading level0 col5\" >F1</th>\n",
       "      <th id=\"T_1f022_level0_col6\" class=\"col_heading level0 col6\" >Kappa</th>\n",
       "      <th id=\"T_1f022_level0_col7\" class=\"col_heading level0 col7\" >MCC</th>\n",
       "      <th id=\"T_1f022_level0_col8\" class=\"col_heading level0 col8\" >TT (Sec)</th>\n",
       "    </tr>\n",
       "  </thead>\n",
       "  <tbody>\n",
       "    <tr>\n",
       "      <th id=\"T_1f022_level0_row0\" class=\"row_heading level0 row0\" >nb</th>\n",
       "      <td id=\"T_1f022_row0_col0\" class=\"data row0 col0\" >Naive Bayes</td>\n",
       "      <td id=\"T_1f022_row0_col1\" class=\"data row0 col1\" >0.6643</td>\n",
       "      <td id=\"T_1f022_row0_col2\" class=\"data row0 col2\" >0.4631</td>\n",
       "      <td id=\"T_1f022_row0_col3\" class=\"data row0 col3\" >0.6643</td>\n",
       "      <td id=\"T_1f022_row0_col4\" class=\"data row0 col4\" >0.4413</td>\n",
       "      <td id=\"T_1f022_row0_col5\" class=\"data row0 col5\" >0.5303</td>\n",
       "      <td id=\"T_1f022_row0_col6\" class=\"data row0 col6\" >0.0000</td>\n",
       "      <td id=\"T_1f022_row0_col7\" class=\"data row0 col7\" >0.0000</td>\n",
       "      <td id=\"T_1f022_row0_col8\" class=\"data row0 col8\" >1.1450</td>\n",
       "    </tr>\n",
       "    <tr>\n",
       "      <th id=\"T_1f022_level0_row1\" class=\"row_heading level0 row1\" >dt</th>\n",
       "      <td id=\"T_1f022_row1_col0\" class=\"data row1 col0\" >Decision Tree Classifier</td>\n",
       "      <td id=\"T_1f022_row1_col1\" class=\"data row1 col1\" >0.6643</td>\n",
       "      <td id=\"T_1f022_row1_col2\" class=\"data row1 col2\" >0.5000</td>\n",
       "      <td id=\"T_1f022_row1_col3\" class=\"data row1 col3\" >0.6643</td>\n",
       "      <td id=\"T_1f022_row1_col4\" class=\"data row1 col4\" >0.4413</td>\n",
       "      <td id=\"T_1f022_row1_col5\" class=\"data row1 col5\" >0.5303</td>\n",
       "      <td id=\"T_1f022_row1_col6\" class=\"data row1 col6\" >0.0000</td>\n",
       "      <td id=\"T_1f022_row1_col7\" class=\"data row1 col7\" >0.0000</td>\n",
       "      <td id=\"T_1f022_row1_col8\" class=\"data row1 col8\" >0.8570</td>\n",
       "    </tr>\n",
       "    <tr>\n",
       "      <th id=\"T_1f022_level0_row2\" class=\"row_heading level0 row2\" >ridge</th>\n",
       "      <td id=\"T_1f022_row2_col0\" class=\"data row2 col0\" >Ridge Classifier</td>\n",
       "      <td id=\"T_1f022_row2_col1\" class=\"data row2 col1\" >0.6643</td>\n",
       "      <td id=\"T_1f022_row2_col2\" class=\"data row2 col2\" >0.4562</td>\n",
       "      <td id=\"T_1f022_row2_col3\" class=\"data row2 col3\" >0.6643</td>\n",
       "      <td id=\"T_1f022_row2_col4\" class=\"data row2 col4\" >0.4413</td>\n",
       "      <td id=\"T_1f022_row2_col5\" class=\"data row2 col5\" >0.5303</td>\n",
       "      <td id=\"T_1f022_row2_col6\" class=\"data row2 col6\" >0.0000</td>\n",
       "      <td id=\"T_1f022_row2_col7\" class=\"data row2 col7\" >0.0000</td>\n",
       "      <td id=\"T_1f022_row2_col8\" class=\"data row2 col8\" >0.0270</td>\n",
       "    </tr>\n",
       "    <tr>\n",
       "      <th id=\"T_1f022_level0_row3\" class=\"row_heading level0 row3\" >rf</th>\n",
       "      <td id=\"T_1f022_row3_col0\" class=\"data row3 col0\" >Random Forest Classifier</td>\n",
       "      <td id=\"T_1f022_row3_col1\" class=\"data row3 col1\" >0.6643</td>\n",
       "      <td id=\"T_1f022_row3_col2\" class=\"data row3 col2\" >0.4378</td>\n",
       "      <td id=\"T_1f022_row3_col3\" class=\"data row3 col3\" >0.6643</td>\n",
       "      <td id=\"T_1f022_row3_col4\" class=\"data row3 col4\" >0.4413</td>\n",
       "      <td id=\"T_1f022_row3_col5\" class=\"data row3 col5\" >0.5303</td>\n",
       "      <td id=\"T_1f022_row3_col6\" class=\"data row3 col6\" >0.0000</td>\n",
       "      <td id=\"T_1f022_row3_col7\" class=\"data row3 col7\" >0.0000</td>\n",
       "      <td id=\"T_1f022_row3_col8\" class=\"data row3 col8\" >0.0660</td>\n",
       "    </tr>\n",
       "    <tr>\n",
       "      <th id=\"T_1f022_level0_row4\" class=\"row_heading level0 row4\" >ada</th>\n",
       "      <td id=\"T_1f022_row4_col0\" class=\"data row4 col0\" >Ada Boost Classifier</td>\n",
       "      <td id=\"T_1f022_row4_col1\" class=\"data row4 col1\" >0.6643</td>\n",
       "      <td id=\"T_1f022_row4_col2\" class=\"data row4 col2\" >0.5000</td>\n",
       "      <td id=\"T_1f022_row4_col3\" class=\"data row4 col3\" >0.6643</td>\n",
       "      <td id=\"T_1f022_row4_col4\" class=\"data row4 col4\" >0.4413</td>\n",
       "      <td id=\"T_1f022_row4_col5\" class=\"data row4 col5\" >0.5303</td>\n",
       "      <td id=\"T_1f022_row4_col6\" class=\"data row4 col6\" >0.0000</td>\n",
       "      <td id=\"T_1f022_row4_col7\" class=\"data row4 col7\" >0.0000</td>\n",
       "      <td id=\"T_1f022_row4_col8\" class=\"data row4 col8\" >0.0250</td>\n",
       "    </tr>\n",
       "    <tr>\n",
       "      <th id=\"T_1f022_level0_row5\" class=\"row_heading level0 row5\" >gbc</th>\n",
       "      <td id=\"T_1f022_row5_col0\" class=\"data row5 col0\" >Gradient Boosting Classifier</td>\n",
       "      <td id=\"T_1f022_row5_col1\" class=\"data row5 col1\" >0.6643</td>\n",
       "      <td id=\"T_1f022_row5_col2\" class=\"data row5 col2\" >0.5000</td>\n",
       "      <td id=\"T_1f022_row5_col3\" class=\"data row5 col3\" >0.6643</td>\n",
       "      <td id=\"T_1f022_row5_col4\" class=\"data row5 col4\" >0.4413</td>\n",
       "      <td id=\"T_1f022_row5_col5\" class=\"data row5 col5\" >0.5303</td>\n",
       "      <td id=\"T_1f022_row5_col6\" class=\"data row5 col6\" >0.0000</td>\n",
       "      <td id=\"T_1f022_row5_col7\" class=\"data row5 col7\" >0.0000</td>\n",
       "      <td id=\"T_1f022_row5_col8\" class=\"data row5 col8\" >0.0420</td>\n",
       "    </tr>\n",
       "    <tr>\n",
       "      <th id=\"T_1f022_level0_row6\" class=\"row_heading level0 row6\" >lda</th>\n",
       "      <td id=\"T_1f022_row6_col0\" class=\"data row6 col0\" >Linear Discriminant Analysis</td>\n",
       "      <td id=\"T_1f022_row6_col1\" class=\"data row6 col1\" >0.6643</td>\n",
       "      <td id=\"T_1f022_row6_col2\" class=\"data row6 col2\" >0.5000</td>\n",
       "      <td id=\"T_1f022_row6_col3\" class=\"data row6 col3\" >0.6643</td>\n",
       "      <td id=\"T_1f022_row6_col4\" class=\"data row6 col4\" >0.4413</td>\n",
       "      <td id=\"T_1f022_row6_col5\" class=\"data row6 col5\" >0.5303</td>\n",
       "      <td id=\"T_1f022_row6_col6\" class=\"data row6 col6\" >0.0000</td>\n",
       "      <td id=\"T_1f022_row6_col7\" class=\"data row6 col7\" >0.0000</td>\n",
       "      <td id=\"T_1f022_row6_col8\" class=\"data row6 col8\" >0.0230</td>\n",
       "    </tr>\n",
       "    <tr>\n",
       "      <th id=\"T_1f022_level0_row7\" class=\"row_heading level0 row7\" >et</th>\n",
       "      <td id=\"T_1f022_row7_col0\" class=\"data row7 col0\" >Extra Trees Classifier</td>\n",
       "      <td id=\"T_1f022_row7_col1\" class=\"data row7 col1\" >0.6643</td>\n",
       "      <td id=\"T_1f022_row7_col2\" class=\"data row7 col2\" >0.5072</td>\n",
       "      <td id=\"T_1f022_row7_col3\" class=\"data row7 col3\" >0.6643</td>\n",
       "      <td id=\"T_1f022_row7_col4\" class=\"data row7 col4\" >0.4413</td>\n",
       "      <td id=\"T_1f022_row7_col5\" class=\"data row7 col5\" >0.5303</td>\n",
       "      <td id=\"T_1f022_row7_col6\" class=\"data row7 col6\" >0.0000</td>\n",
       "      <td id=\"T_1f022_row7_col7\" class=\"data row7 col7\" >0.0000</td>\n",
       "      <td id=\"T_1f022_row7_col8\" class=\"data row7 col8\" >0.0630</td>\n",
       "    </tr>\n",
       "    <tr>\n",
       "      <th id=\"T_1f022_level0_row8\" class=\"row_heading level0 row8\" >xgboost</th>\n",
       "      <td id=\"T_1f022_row8_col0\" class=\"data row8 col0\" >Extreme Gradient Boosting</td>\n",
       "      <td id=\"T_1f022_row8_col1\" class=\"data row8 col1\" >0.6643</td>\n",
       "      <td id=\"T_1f022_row8_col2\" class=\"data row8 col2\" >0.4623</td>\n",
       "      <td id=\"T_1f022_row8_col3\" class=\"data row8 col3\" >0.6643</td>\n",
       "      <td id=\"T_1f022_row8_col4\" class=\"data row8 col4\" >0.4413</td>\n",
       "      <td id=\"T_1f022_row8_col5\" class=\"data row8 col5\" >0.5303</td>\n",
       "      <td id=\"T_1f022_row8_col6\" class=\"data row8 col6\" >0.0000</td>\n",
       "      <td id=\"T_1f022_row8_col7\" class=\"data row8 col7\" >0.0000</td>\n",
       "      <td id=\"T_1f022_row8_col8\" class=\"data row8 col8\" >0.0520</td>\n",
       "    </tr>\n",
       "    <tr>\n",
       "      <th id=\"T_1f022_level0_row9\" class=\"row_heading level0 row9\" >dummy</th>\n",
       "      <td id=\"T_1f022_row9_col0\" class=\"data row9 col0\" >Dummy Classifier</td>\n",
       "      <td id=\"T_1f022_row9_col1\" class=\"data row9 col1\" >0.6643</td>\n",
       "      <td id=\"T_1f022_row9_col2\" class=\"data row9 col2\" >0.5000</td>\n",
       "      <td id=\"T_1f022_row9_col3\" class=\"data row9 col3\" >0.6643</td>\n",
       "      <td id=\"T_1f022_row9_col4\" class=\"data row9 col4\" >0.4413</td>\n",
       "      <td id=\"T_1f022_row9_col5\" class=\"data row9 col5\" >0.5303</td>\n",
       "      <td id=\"T_1f022_row9_col6\" class=\"data row9 col6\" >0.0000</td>\n",
       "      <td id=\"T_1f022_row9_col7\" class=\"data row9 col7\" >0.0000</td>\n",
       "      <td id=\"T_1f022_row9_col8\" class=\"data row9 col8\" >0.0250</td>\n",
       "    </tr>\n",
       "    <tr>\n",
       "      <th id=\"T_1f022_level0_row10\" class=\"row_heading level0 row10\" >lr</th>\n",
       "      <td id=\"T_1f022_row10_col0\" class=\"data row10 col0\" >Logistic Regression</td>\n",
       "      <td id=\"T_1f022_row10_col1\" class=\"data row10 col1\" >0.6571</td>\n",
       "      <td id=\"T_1f022_row10_col2\" class=\"data row10 col2\" >0.4659</td>\n",
       "      <td id=\"T_1f022_row10_col3\" class=\"data row10 col3\" >0.6571</td>\n",
       "      <td id=\"T_1f022_row10_col4\" class=\"data row10 col4\" >0.4917</td>\n",
       "      <td id=\"T_1f022_row10_col5\" class=\"data row10 col5\" >0.5317</td>\n",
       "      <td id=\"T_1f022_row10_col6\" class=\"data row10 col6\" >-0.0087</td>\n",
       "      <td id=\"T_1f022_row10_col7\" class=\"data row10 col7\" >-0.0134</td>\n",
       "      <td id=\"T_1f022_row10_col8\" class=\"data row10 col8\" >1.4520</td>\n",
       "    </tr>\n",
       "    <tr>\n",
       "      <th id=\"T_1f022_level0_row11\" class=\"row_heading level0 row11\" >knn</th>\n",
       "      <td id=\"T_1f022_row11_col0\" class=\"data row11 col0\" >K Neighbors Classifier</td>\n",
       "      <td id=\"T_1f022_row11_col1\" class=\"data row11 col1\" >0.6043</td>\n",
       "      <td id=\"T_1f022_row11_col2\" class=\"data row11 col2\" >0.5013</td>\n",
       "      <td id=\"T_1f022_row11_col3\" class=\"data row11 col3\" >0.6043</td>\n",
       "      <td id=\"T_1f022_row11_col4\" class=\"data row11 col4\" >0.5571</td>\n",
       "      <td id=\"T_1f022_row11_col5\" class=\"data row11 col5\" >0.5667</td>\n",
       "      <td id=\"T_1f022_row11_col6\" class=\"data row11 col6\" >0.0057</td>\n",
       "      <td id=\"T_1f022_row11_col7\" class=\"data row11 col7\" >0.0061</td>\n",
       "      <td id=\"T_1f022_row11_col8\" class=\"data row11 col8\" >1.0610</td>\n",
       "    </tr>\n",
       "    <tr>\n",
       "      <th id=\"T_1f022_level0_row12\" class=\"row_heading level0 row12\" >qda</th>\n",
       "      <td id=\"T_1f022_row12_col0\" class=\"data row12 col0\" >Quadratic Discriminant Analysis</td>\n",
       "      <td id=\"T_1f022_row12_col1\" class=\"data row12 col1\" >0.5957</td>\n",
       "      <td id=\"T_1f022_row12_col2\" class=\"data row12 col2\" >0.4994</td>\n",
       "      <td id=\"T_1f022_row12_col3\" class=\"data row12 col3\" >0.5957</td>\n",
       "      <td id=\"T_1f022_row12_col4\" class=\"data row12 col4\" >0.3728</td>\n",
       "      <td id=\"T_1f022_row12_col5\" class=\"data row12 col5\" >0.4549</td>\n",
       "      <td id=\"T_1f022_row12_col6\" class=\"data row12 col6\" >0.0000</td>\n",
       "      <td id=\"T_1f022_row12_col7\" class=\"data row12 col7\" >0.0000</td>\n",
       "      <td id=\"T_1f022_row12_col8\" class=\"data row12 col8\" >0.0240</td>\n",
       "    </tr>\n",
       "    <tr>\n",
       "      <th id=\"T_1f022_level0_row13\" class=\"row_heading level0 row13\" >svm</th>\n",
       "      <td id=\"T_1f022_row13_col0\" class=\"data row13 col0\" >SVM - Linear Kernel</td>\n",
       "      <td id=\"T_1f022_row13_col1\" class=\"data row13 col1\" >0.5829</td>\n",
       "      <td id=\"T_1f022_row13_col2\" class=\"data row13 col2\" >0.4664</td>\n",
       "      <td id=\"T_1f022_row13_col3\" class=\"data row13 col3\" >0.5829</td>\n",
       "      <td id=\"T_1f022_row13_col4\" class=\"data row13 col4\" >0.4467</td>\n",
       "      <td id=\"T_1f022_row13_col5\" class=\"data row13 col5\" >0.4817</td>\n",
       "      <td id=\"T_1f022_row13_col6\" class=\"data row13 col6\" >-0.0170</td>\n",
       "      <td id=\"T_1f022_row13_col7\" class=\"data row13 col7\" >-0.0168</td>\n",
       "      <td id=\"T_1f022_row13_col8\" class=\"data row13 col8\" >0.0280</td>\n",
       "    </tr>\n",
       "  </tbody>\n",
       "</table>\n"
      ],
      "text/plain": [
       "<pandas.io.formats.style.Styler at 0x2710cbc7ad0>"
      ]
     },
     "metadata": {},
     "output_type": "display_data"
    },
    {
     "data": {
      "application/vnd.jupyter.widget-view+json": {
       "model_id": "931233e8cbe0479c8fd04c6b90a5a26b",
       "version_major": 2,
       "version_minor": 0
      },
      "text/plain": [
       "Processing:   0%|          | 0/65 [00:00<?, ?it/s]"
      ]
     },
     "metadata": {},
     "output_type": "display_data"
    },
    {
     "data": {
      "text/html": [
       "<style>#sk-container-id-3 {\n",
       "  /* Definition of color scheme common for light and dark mode */\n",
       "  --sklearn-color-text: black;\n",
       "  --sklearn-color-line: gray;\n",
       "  /* Definition of color scheme for unfitted estimators */\n",
       "  --sklearn-color-unfitted-level-0: #fff5e6;\n",
       "  --sklearn-color-unfitted-level-1: #f6e4d2;\n",
       "  --sklearn-color-unfitted-level-2: #ffe0b3;\n",
       "  --sklearn-color-unfitted-level-3: chocolate;\n",
       "  /* Definition of color scheme for fitted estimators */\n",
       "  --sklearn-color-fitted-level-0: #f0f8ff;\n",
       "  --sklearn-color-fitted-level-1: #d4ebff;\n",
       "  --sklearn-color-fitted-level-2: #b3dbfd;\n",
       "  --sklearn-color-fitted-level-3: cornflowerblue;\n",
       "\n",
       "  /* Specific color for light theme */\n",
       "  --sklearn-color-text-on-default-background: var(--sg-text-color, var(--theme-code-foreground, var(--jp-content-font-color1, black)));\n",
       "  --sklearn-color-background: var(--sg-background-color, var(--theme-background, var(--jp-layout-color0, white)));\n",
       "  --sklearn-color-border-box: var(--sg-text-color, var(--theme-code-foreground, var(--jp-content-font-color1, black)));\n",
       "  --sklearn-color-icon: #696969;\n",
       "\n",
       "  @media (prefers-color-scheme: dark) {\n",
       "    /* Redefinition of color scheme for dark theme */\n",
       "    --sklearn-color-text-on-default-background: var(--sg-text-color, var(--theme-code-foreground, var(--jp-content-font-color1, white)));\n",
       "    --sklearn-color-background: var(--sg-background-color, var(--theme-background, var(--jp-layout-color0, #111)));\n",
       "    --sklearn-color-border-box: var(--sg-text-color, var(--theme-code-foreground, var(--jp-content-font-color1, white)));\n",
       "    --sklearn-color-icon: #878787;\n",
       "  }\n",
       "}\n",
       "\n",
       "#sk-container-id-3 {\n",
       "  color: var(--sklearn-color-text);\n",
       "}\n",
       "\n",
       "#sk-container-id-3 pre {\n",
       "  padding: 0;\n",
       "}\n",
       "\n",
       "#sk-container-id-3 input.sk-hidden--visually {\n",
       "  border: 0;\n",
       "  clip: rect(1px 1px 1px 1px);\n",
       "  clip: rect(1px, 1px, 1px, 1px);\n",
       "  height: 1px;\n",
       "  margin: -1px;\n",
       "  overflow: hidden;\n",
       "  padding: 0;\n",
       "  position: absolute;\n",
       "  width: 1px;\n",
       "}\n",
       "\n",
       "#sk-container-id-3 div.sk-dashed-wrapped {\n",
       "  border: 1px dashed var(--sklearn-color-line);\n",
       "  margin: 0 0.4em 0.5em 0.4em;\n",
       "  box-sizing: border-box;\n",
       "  padding-bottom: 0.4em;\n",
       "  background-color: var(--sklearn-color-background);\n",
       "}\n",
       "\n",
       "#sk-container-id-3 div.sk-container {\n",
       "  /* jupyter's `normalize.less` sets `[hidden] { display: none; }`\n",
       "     but bootstrap.min.css set `[hidden] { display: none !important; }`\n",
       "     so we also need the `!important` here to be able to override the\n",
       "     default hidden behavior on the sphinx rendered scikit-learn.org.\n",
       "     See: https://github.com/scikit-learn/scikit-learn/issues/21755 */\n",
       "  display: inline-block !important;\n",
       "  position: relative;\n",
       "}\n",
       "\n",
       "#sk-container-id-3 div.sk-text-repr-fallback {\n",
       "  display: none;\n",
       "}\n",
       "\n",
       "div.sk-parallel-item,\n",
       "div.sk-serial,\n",
       "div.sk-item {\n",
       "  /* draw centered vertical line to link estimators */\n",
       "  background-image: linear-gradient(var(--sklearn-color-text-on-default-background), var(--sklearn-color-text-on-default-background));\n",
       "  background-size: 2px 100%;\n",
       "  background-repeat: no-repeat;\n",
       "  background-position: center center;\n",
       "}\n",
       "\n",
       "/* Parallel-specific style estimator block */\n",
       "\n",
       "#sk-container-id-3 div.sk-parallel-item::after {\n",
       "  content: \"\";\n",
       "  width: 100%;\n",
       "  border-bottom: 2px solid var(--sklearn-color-text-on-default-background);\n",
       "  flex-grow: 1;\n",
       "}\n",
       "\n",
       "#sk-container-id-3 div.sk-parallel {\n",
       "  display: flex;\n",
       "  align-items: stretch;\n",
       "  justify-content: center;\n",
       "  background-color: var(--sklearn-color-background);\n",
       "  position: relative;\n",
       "}\n",
       "\n",
       "#sk-container-id-3 div.sk-parallel-item {\n",
       "  display: flex;\n",
       "  flex-direction: column;\n",
       "}\n",
       "\n",
       "#sk-container-id-3 div.sk-parallel-item:first-child::after {\n",
       "  align-self: flex-end;\n",
       "  width: 50%;\n",
       "}\n",
       "\n",
       "#sk-container-id-3 div.sk-parallel-item:last-child::after {\n",
       "  align-self: flex-start;\n",
       "  width: 50%;\n",
       "}\n",
       "\n",
       "#sk-container-id-3 div.sk-parallel-item:only-child::after {\n",
       "  width: 0;\n",
       "}\n",
       "\n",
       "/* Serial-specific style estimator block */\n",
       "\n",
       "#sk-container-id-3 div.sk-serial {\n",
       "  display: flex;\n",
       "  flex-direction: column;\n",
       "  align-items: center;\n",
       "  background-color: var(--sklearn-color-background);\n",
       "  padding-right: 1em;\n",
       "  padding-left: 1em;\n",
       "}\n",
       "\n",
       "\n",
       "/* Toggleable style: style used for estimator/Pipeline/ColumnTransformer box that is\n",
       "clickable and can be expanded/collapsed.\n",
       "- Pipeline and ColumnTransformer use this feature and define the default style\n",
       "- Estimators will overwrite some part of the style using the `sk-estimator` class\n",
       "*/\n",
       "\n",
       "/* Pipeline and ColumnTransformer style (default) */\n",
       "\n",
       "#sk-container-id-3 div.sk-toggleable {\n",
       "  /* Default theme specific background. It is overwritten whether we have a\n",
       "  specific estimator or a Pipeline/ColumnTransformer */\n",
       "  background-color: var(--sklearn-color-background);\n",
       "}\n",
       "\n",
       "/* Toggleable label */\n",
       "#sk-container-id-3 label.sk-toggleable__label {\n",
       "  cursor: pointer;\n",
       "  display: block;\n",
       "  width: 100%;\n",
       "  margin-bottom: 0;\n",
       "  padding: 0.5em;\n",
       "  box-sizing: border-box;\n",
       "  text-align: center;\n",
       "}\n",
       "\n",
       "#sk-container-id-3 label.sk-toggleable__label-arrow:before {\n",
       "  /* Arrow on the left of the label */\n",
       "  content: \"▸\";\n",
       "  float: left;\n",
       "  margin-right: 0.25em;\n",
       "  color: var(--sklearn-color-icon);\n",
       "}\n",
       "\n",
       "#sk-container-id-3 label.sk-toggleable__label-arrow:hover:before {\n",
       "  color: var(--sklearn-color-text);\n",
       "}\n",
       "\n",
       "/* Toggleable content - dropdown */\n",
       "\n",
       "#sk-container-id-3 div.sk-toggleable__content {\n",
       "  max-height: 0;\n",
       "  max-width: 0;\n",
       "  overflow: hidden;\n",
       "  text-align: left;\n",
       "  /* unfitted */\n",
       "  background-color: var(--sklearn-color-unfitted-level-0);\n",
       "}\n",
       "\n",
       "#sk-container-id-3 div.sk-toggleable__content.fitted {\n",
       "  /* fitted */\n",
       "  background-color: var(--sklearn-color-fitted-level-0);\n",
       "}\n",
       "\n",
       "#sk-container-id-3 div.sk-toggleable__content pre {\n",
       "  margin: 0.2em;\n",
       "  border-radius: 0.25em;\n",
       "  color: var(--sklearn-color-text);\n",
       "  /* unfitted */\n",
       "  background-color: var(--sklearn-color-unfitted-level-0);\n",
       "}\n",
       "\n",
       "#sk-container-id-3 div.sk-toggleable__content.fitted pre {\n",
       "  /* unfitted */\n",
       "  background-color: var(--sklearn-color-fitted-level-0);\n",
       "}\n",
       "\n",
       "#sk-container-id-3 input.sk-toggleable__control:checked~div.sk-toggleable__content {\n",
       "  /* Expand drop-down */\n",
       "  max-height: 200px;\n",
       "  max-width: 100%;\n",
       "  overflow: auto;\n",
       "}\n",
       "\n",
       "#sk-container-id-3 input.sk-toggleable__control:checked~label.sk-toggleable__label-arrow:before {\n",
       "  content: \"▾\";\n",
       "}\n",
       "\n",
       "/* Pipeline/ColumnTransformer-specific style */\n",
       "\n",
       "#sk-container-id-3 div.sk-label input.sk-toggleable__control:checked~label.sk-toggleable__label {\n",
       "  color: var(--sklearn-color-text);\n",
       "  background-color: var(--sklearn-color-unfitted-level-2);\n",
       "}\n",
       "\n",
       "#sk-container-id-3 div.sk-label.fitted input.sk-toggleable__control:checked~label.sk-toggleable__label {\n",
       "  background-color: var(--sklearn-color-fitted-level-2);\n",
       "}\n",
       "\n",
       "/* Estimator-specific style */\n",
       "\n",
       "/* Colorize estimator box */\n",
       "#sk-container-id-3 div.sk-estimator input.sk-toggleable__control:checked~label.sk-toggleable__label {\n",
       "  /* unfitted */\n",
       "  background-color: var(--sklearn-color-unfitted-level-2);\n",
       "}\n",
       "\n",
       "#sk-container-id-3 div.sk-estimator.fitted input.sk-toggleable__control:checked~label.sk-toggleable__label {\n",
       "  /* fitted */\n",
       "  background-color: var(--sklearn-color-fitted-level-2);\n",
       "}\n",
       "\n",
       "#sk-container-id-3 div.sk-label label.sk-toggleable__label,\n",
       "#sk-container-id-3 div.sk-label label {\n",
       "  /* The background is the default theme color */\n",
       "  color: var(--sklearn-color-text-on-default-background);\n",
       "}\n",
       "\n",
       "/* On hover, darken the color of the background */\n",
       "#sk-container-id-3 div.sk-label:hover label.sk-toggleable__label {\n",
       "  color: var(--sklearn-color-text);\n",
       "  background-color: var(--sklearn-color-unfitted-level-2);\n",
       "}\n",
       "\n",
       "/* Label box, darken color on hover, fitted */\n",
       "#sk-container-id-3 div.sk-label.fitted:hover label.sk-toggleable__label.fitted {\n",
       "  color: var(--sklearn-color-text);\n",
       "  background-color: var(--sklearn-color-fitted-level-2);\n",
       "}\n",
       "\n",
       "/* Estimator label */\n",
       "\n",
       "#sk-container-id-3 div.sk-label label {\n",
       "  font-family: monospace;\n",
       "  font-weight: bold;\n",
       "  display: inline-block;\n",
       "  line-height: 1.2em;\n",
       "}\n",
       "\n",
       "#sk-container-id-3 div.sk-label-container {\n",
       "  text-align: center;\n",
       "}\n",
       "\n",
       "/* Estimator-specific */\n",
       "#sk-container-id-3 div.sk-estimator {\n",
       "  font-family: monospace;\n",
       "  border: 1px dotted var(--sklearn-color-border-box);\n",
       "  border-radius: 0.25em;\n",
       "  box-sizing: border-box;\n",
       "  margin-bottom: 0.5em;\n",
       "  /* unfitted */\n",
       "  background-color: var(--sklearn-color-unfitted-level-0);\n",
       "}\n",
       "\n",
       "#sk-container-id-3 div.sk-estimator.fitted {\n",
       "  /* fitted */\n",
       "  background-color: var(--sklearn-color-fitted-level-0);\n",
       "}\n",
       "\n",
       "/* on hover */\n",
       "#sk-container-id-3 div.sk-estimator:hover {\n",
       "  /* unfitted */\n",
       "  background-color: var(--sklearn-color-unfitted-level-2);\n",
       "}\n",
       "\n",
       "#sk-container-id-3 div.sk-estimator.fitted:hover {\n",
       "  /* fitted */\n",
       "  background-color: var(--sklearn-color-fitted-level-2);\n",
       "}\n",
       "\n",
       "/* Specification for estimator info (e.g. \"i\" and \"?\") */\n",
       "\n",
       "/* Common style for \"i\" and \"?\" */\n",
       "\n",
       ".sk-estimator-doc-link,\n",
       "a:link.sk-estimator-doc-link,\n",
       "a:visited.sk-estimator-doc-link {\n",
       "  float: right;\n",
       "  font-size: smaller;\n",
       "  line-height: 1em;\n",
       "  font-family: monospace;\n",
       "  background-color: var(--sklearn-color-background);\n",
       "  border-radius: 1em;\n",
       "  height: 1em;\n",
       "  width: 1em;\n",
       "  text-decoration: none !important;\n",
       "  margin-left: 1ex;\n",
       "  /* unfitted */\n",
       "  border: var(--sklearn-color-unfitted-level-1) 1pt solid;\n",
       "  color: var(--sklearn-color-unfitted-level-1);\n",
       "}\n",
       "\n",
       ".sk-estimator-doc-link.fitted,\n",
       "a:link.sk-estimator-doc-link.fitted,\n",
       "a:visited.sk-estimator-doc-link.fitted {\n",
       "  /* fitted */\n",
       "  border: var(--sklearn-color-fitted-level-1) 1pt solid;\n",
       "  color: var(--sklearn-color-fitted-level-1);\n",
       "}\n",
       "\n",
       "/* On hover */\n",
       "div.sk-estimator:hover .sk-estimator-doc-link:hover,\n",
       ".sk-estimator-doc-link:hover,\n",
       "div.sk-label-container:hover .sk-estimator-doc-link:hover,\n",
       ".sk-estimator-doc-link:hover {\n",
       "  /* unfitted */\n",
       "  background-color: var(--sklearn-color-unfitted-level-3);\n",
       "  color: var(--sklearn-color-background);\n",
       "  text-decoration: none;\n",
       "}\n",
       "\n",
       "div.sk-estimator.fitted:hover .sk-estimator-doc-link.fitted:hover,\n",
       ".sk-estimator-doc-link.fitted:hover,\n",
       "div.sk-label-container:hover .sk-estimator-doc-link.fitted:hover,\n",
       ".sk-estimator-doc-link.fitted:hover {\n",
       "  /* fitted */\n",
       "  background-color: var(--sklearn-color-fitted-level-3);\n",
       "  color: var(--sklearn-color-background);\n",
       "  text-decoration: none;\n",
       "}\n",
       "\n",
       "/* Span, style for the box shown on hovering the info icon */\n",
       ".sk-estimator-doc-link span {\n",
       "  display: none;\n",
       "  z-index: 9999;\n",
       "  position: relative;\n",
       "  font-weight: normal;\n",
       "  right: .2ex;\n",
       "  padding: .5ex;\n",
       "  margin: .5ex;\n",
       "  width: min-content;\n",
       "  min-width: 20ex;\n",
       "  max-width: 50ex;\n",
       "  color: var(--sklearn-color-text);\n",
       "  box-shadow: 2pt 2pt 4pt #999;\n",
       "  /* unfitted */\n",
       "  background: var(--sklearn-color-unfitted-level-0);\n",
       "  border: .5pt solid var(--sklearn-color-unfitted-level-3);\n",
       "}\n",
       "\n",
       ".sk-estimator-doc-link.fitted span {\n",
       "  /* fitted */\n",
       "  background: var(--sklearn-color-fitted-level-0);\n",
       "  border: var(--sklearn-color-fitted-level-3);\n",
       "}\n",
       "\n",
       ".sk-estimator-doc-link:hover span {\n",
       "  display: block;\n",
       "}\n",
       "\n",
       "/* \"?\"-specific style due to the `<a>` HTML tag */\n",
       "\n",
       "#sk-container-id-3 a.estimator_doc_link {\n",
       "  float: right;\n",
       "  font-size: 1rem;\n",
       "  line-height: 1em;\n",
       "  font-family: monospace;\n",
       "  background-color: var(--sklearn-color-background);\n",
       "  border-radius: 1rem;\n",
       "  height: 1rem;\n",
       "  width: 1rem;\n",
       "  text-decoration: none;\n",
       "  /* unfitted */\n",
       "  color: var(--sklearn-color-unfitted-level-1);\n",
       "  border: var(--sklearn-color-unfitted-level-1) 1pt solid;\n",
       "}\n",
       "\n",
       "#sk-container-id-3 a.estimator_doc_link.fitted {\n",
       "  /* fitted */\n",
       "  border: var(--sklearn-color-fitted-level-1) 1pt solid;\n",
       "  color: var(--sklearn-color-fitted-level-1);\n",
       "}\n",
       "\n",
       "/* On hover */\n",
       "#sk-container-id-3 a.estimator_doc_link:hover {\n",
       "  /* unfitted */\n",
       "  background-color: var(--sklearn-color-unfitted-level-3);\n",
       "  color: var(--sklearn-color-background);\n",
       "  text-decoration: none;\n",
       "}\n",
       "\n",
       "#sk-container-id-3 a.estimator_doc_link.fitted:hover {\n",
       "  /* fitted */\n",
       "  background-color: var(--sklearn-color-fitted-level-3);\n",
       "}\n",
       "</style><div id=\"sk-container-id-3\" class=\"sk-top-container\"><div class=\"sk-text-repr-fallback\"><pre>GaussianNB(priors=None, var_smoothing=1e-09)</pre><b>In a Jupyter environment, please rerun this cell to show the HTML representation or trust the notebook. <br />On GitHub, the HTML representation is unable to render, please try loading this page with nbviewer.org.</b></div><div class=\"sk-container\" hidden><div class=\"sk-item\"><div class=\"sk-estimator fitted sk-toggleable\"><input class=\"sk-toggleable__control sk-hidden--visually\" id=\"sk-estimator-id-3\" type=\"checkbox\" checked><label for=\"sk-estimator-id-3\" class=\"sk-toggleable__label fitted sk-toggleable__label-arrow fitted\">&nbsp;&nbsp;GaussianNB<a class=\"sk-estimator-doc-link fitted\" rel=\"noreferrer\" target=\"_blank\" href=\"https://scikit-learn.org/1.4/modules/generated/sklearn.naive_bayes.GaussianNB.html\">?<span>Documentation for GaussianNB</span></a><span class=\"sk-estimator-doc-link fitted\">i<span>Fitted</span></span></label><div class=\"sk-toggleable__content fitted\"><pre>GaussianNB(priors=None, var_smoothing=1e-09)</pre></div> </div></div></div></div>"
      ],
      "text/plain": [
       "GaussianNB(priors=None, var_smoothing=1e-09)"
      ]
     },
     "execution_count": 54,
     "metadata": {},
     "output_type": "execute_result"
    }
   ],
   "source": [
    "compare_models()"
   ]
  },
  {
   "cell_type": "code",
   "execution_count": 55,
   "id": "45891de3",
   "metadata": {},
   "outputs": [
    {
     "data": {
      "text/html": [],
      "text/plain": [
       "<IPython.core.display.HTML object>"
      ]
     },
     "metadata": {},
     "output_type": "display_data"
    },
    {
     "data": {
      "text/html": [
       "<style type=\"text/css\">\n",
       "#T_9f364_row10_col0, #T_9f364_row10_col1, #T_9f364_row10_col2, #T_9f364_row10_col3, #T_9f364_row10_col4, #T_9f364_row10_col5, #T_9f364_row10_col6 {\n",
       "  background: yellow;\n",
       "}\n",
       "</style>\n",
       "<table id=\"T_9f364\">\n",
       "  <thead>\n",
       "    <tr>\n",
       "      <th class=\"blank level0\" >&nbsp;</th>\n",
       "      <th id=\"T_9f364_level0_col0\" class=\"col_heading level0 col0\" >Accuracy</th>\n",
       "      <th id=\"T_9f364_level0_col1\" class=\"col_heading level0 col1\" >AUC</th>\n",
       "      <th id=\"T_9f364_level0_col2\" class=\"col_heading level0 col2\" >Recall</th>\n",
       "      <th id=\"T_9f364_level0_col3\" class=\"col_heading level0 col3\" >Prec.</th>\n",
       "      <th id=\"T_9f364_level0_col4\" class=\"col_heading level0 col4\" >F1</th>\n",
       "      <th id=\"T_9f364_level0_col5\" class=\"col_heading level0 col5\" >Kappa</th>\n",
       "      <th id=\"T_9f364_level0_col6\" class=\"col_heading level0 col6\" >MCC</th>\n",
       "    </tr>\n",
       "    <tr>\n",
       "      <th class=\"index_name level0\" >Fold</th>\n",
       "      <th class=\"blank col0\" >&nbsp;</th>\n",
       "      <th class=\"blank col1\" >&nbsp;</th>\n",
       "      <th class=\"blank col2\" >&nbsp;</th>\n",
       "      <th class=\"blank col3\" >&nbsp;</th>\n",
       "      <th class=\"blank col4\" >&nbsp;</th>\n",
       "      <th class=\"blank col5\" >&nbsp;</th>\n",
       "      <th class=\"blank col6\" >&nbsp;</th>\n",
       "    </tr>\n",
       "  </thead>\n",
       "  <tbody>\n",
       "    <tr>\n",
       "      <th id=\"T_9f364_level0_row0\" class=\"row_heading level0 row0\" >0</th>\n",
       "      <td id=\"T_9f364_row0_col0\" class=\"data row0 col0\" >0.6714</td>\n",
       "      <td id=\"T_9f364_row0_col1\" class=\"data row0 col1\" >0.4496</td>\n",
       "      <td id=\"T_9f364_row0_col2\" class=\"data row0 col2\" >0.6714</td>\n",
       "      <td id=\"T_9f364_row0_col3\" class=\"data row0 col3\" >0.4508</td>\n",
       "      <td id=\"T_9f364_row0_col4\" class=\"data row0 col4\" >0.5394</td>\n",
       "      <td id=\"T_9f364_row0_col5\" class=\"data row0 col5\" >0.0000</td>\n",
       "      <td id=\"T_9f364_row0_col6\" class=\"data row0 col6\" >0.0000</td>\n",
       "    </tr>\n",
       "    <tr>\n",
       "      <th id=\"T_9f364_level0_row1\" class=\"row_heading level0 row1\" >1</th>\n",
       "      <td id=\"T_9f364_row1_col0\" class=\"data row1 col0\" >0.6571</td>\n",
       "      <td id=\"T_9f364_row1_col1\" class=\"data row1 col1\" >0.4801</td>\n",
       "      <td id=\"T_9f364_row1_col2\" class=\"data row1 col2\" >0.6571</td>\n",
       "      <td id=\"T_9f364_row1_col3\" class=\"data row1 col3\" >0.4476</td>\n",
       "      <td id=\"T_9f364_row1_col4\" class=\"data row1 col4\" >0.5325</td>\n",
       "      <td id=\"T_9f364_row1_col5\" class=\"data row1 col5\" >-0.0282</td>\n",
       "      <td id=\"T_9f364_row1_col6\" class=\"data row1 col6\" >-0.0842</td>\n",
       "    </tr>\n",
       "    <tr>\n",
       "      <th id=\"T_9f364_level0_row2\" class=\"row_heading level0 row2\" >2</th>\n",
       "      <td id=\"T_9f364_row2_col0\" class=\"data row2 col0\" >0.6429</td>\n",
       "      <td id=\"T_9f364_row2_col1\" class=\"data row2 col1\" >0.5560</td>\n",
       "      <td id=\"T_9f364_row2_col2\" class=\"data row2 col2\" >0.6429</td>\n",
       "      <td id=\"T_9f364_row2_col3\" class=\"data row2 col3\" >0.4443</td>\n",
       "      <td id=\"T_9f364_row2_col4\" class=\"data row2 col4\" >0.5255</td>\n",
       "      <td id=\"T_9f364_row2_col5\" class=\"data row2 col5\" >-0.0555</td>\n",
       "      <td id=\"T_9f364_row2_col6\" class=\"data row2 col6\" >-0.1200</td>\n",
       "    </tr>\n",
       "    <tr>\n",
       "      <th id=\"T_9f364_level0_row3\" class=\"row_heading level0 row3\" >3</th>\n",
       "      <td id=\"T_9f364_row3_col0\" class=\"data row3 col0\" >0.6714</td>\n",
       "      <td id=\"T_9f364_row3_col1\" class=\"data row3 col1\" >0.5217</td>\n",
       "      <td id=\"T_9f364_row3_col2\" class=\"data row3 col2\" >0.6714</td>\n",
       "      <td id=\"T_9f364_row3_col3\" class=\"data row3 col3\" >0.4508</td>\n",
       "      <td id=\"T_9f364_row3_col4\" class=\"data row3 col4\" >0.5394</td>\n",
       "      <td id=\"T_9f364_row3_col5\" class=\"data row3 col5\" >0.0000</td>\n",
       "      <td id=\"T_9f364_row3_col6\" class=\"data row3 col6\" >0.0000</td>\n",
       "    </tr>\n",
       "    <tr>\n",
       "      <th id=\"T_9f364_level0_row4\" class=\"row_heading level0 row4\" >4</th>\n",
       "      <td id=\"T_9f364_row4_col0\" class=\"data row4 col0\" >0.6714</td>\n",
       "      <td id=\"T_9f364_row4_col1\" class=\"data row4 col1\" >0.4376</td>\n",
       "      <td id=\"T_9f364_row4_col2\" class=\"data row4 col2\" >0.6714</td>\n",
       "      <td id=\"T_9f364_row4_col3\" class=\"data row4 col3\" >0.4508</td>\n",
       "      <td id=\"T_9f364_row4_col4\" class=\"data row4 col4\" >0.5394</td>\n",
       "      <td id=\"T_9f364_row4_col5\" class=\"data row4 col5\" >0.0000</td>\n",
       "      <td id=\"T_9f364_row4_col6\" class=\"data row4 col6\" >0.0000</td>\n",
       "    </tr>\n",
       "    <tr>\n",
       "      <th id=\"T_9f364_level0_row5\" class=\"row_heading level0 row5\" >5</th>\n",
       "      <td id=\"T_9f364_row5_col0\" class=\"data row5 col0\" >0.6143</td>\n",
       "      <td id=\"T_9f364_row5_col1\" class=\"data row5 col1\" >0.3379</td>\n",
       "      <td id=\"T_9f364_row5_col2\" class=\"data row5 col2\" >0.6143</td>\n",
       "      <td id=\"T_9f364_row5_col3\" class=\"data row5 col3\" >0.4217</td>\n",
       "      <td id=\"T_9f364_row5_col4\" class=\"data row5 col4\" >0.5001</td>\n",
       "      <td id=\"T_9f364_row5_col5\" class=\"data row5 col5\" >-0.0825</td>\n",
       "      <td id=\"T_9f364_row5_col6\" class=\"data row5 col6\" >-0.1528</td>\n",
       "    </tr>\n",
       "    <tr>\n",
       "      <th id=\"T_9f364_level0_row6\" class=\"row_heading level0 row6\" >6</th>\n",
       "      <td id=\"T_9f364_row6_col0\" class=\"data row6 col0\" >0.6571</td>\n",
       "      <td id=\"T_9f364_row6_col1\" class=\"data row6 col1\" >0.4457</td>\n",
       "      <td id=\"T_9f364_row6_col2\" class=\"data row6 col2\" >0.6571</td>\n",
       "      <td id=\"T_9f364_row6_col3\" class=\"data row6 col3\" >0.4318</td>\n",
       "      <td id=\"T_9f364_row6_col4\" class=\"data row6 col4\" >0.5212</td>\n",
       "      <td id=\"T_9f364_row6_col5\" class=\"data row6 col5\" >0.0000</td>\n",
       "      <td id=\"T_9f364_row6_col6\" class=\"data row6 col6\" >0.0000</td>\n",
       "    </tr>\n",
       "    <tr>\n",
       "      <th id=\"T_9f364_level0_row7\" class=\"row_heading level0 row7\" >7</th>\n",
       "      <td id=\"T_9f364_row7_col0\" class=\"data row7 col0\" >0.6571</td>\n",
       "      <td id=\"T_9f364_row7_col1\" class=\"data row7 col1\" >0.4792</td>\n",
       "      <td id=\"T_9f364_row7_col2\" class=\"data row7 col2\" >0.6571</td>\n",
       "      <td id=\"T_9f364_row7_col3\" class=\"data row7 col3\" >0.4318</td>\n",
       "      <td id=\"T_9f364_row7_col4\" class=\"data row7 col4\" >0.5212</td>\n",
       "      <td id=\"T_9f364_row7_col5\" class=\"data row7 col5\" >0.0000</td>\n",
       "      <td id=\"T_9f364_row7_col6\" class=\"data row7 col6\" >0.0000</td>\n",
       "    </tr>\n",
       "    <tr>\n",
       "      <th id=\"T_9f364_level0_row8\" class=\"row_heading level0 row8\" >8</th>\n",
       "      <td id=\"T_9f364_row8_col0\" class=\"data row8 col0\" >0.6714</td>\n",
       "      <td id=\"T_9f364_row8_col1\" class=\"data row8 col1\" >0.4801</td>\n",
       "      <td id=\"T_9f364_row8_col2\" class=\"data row8 col2\" >0.6714</td>\n",
       "      <td id=\"T_9f364_row8_col3\" class=\"data row8 col3\" >0.7810</td>\n",
       "      <td id=\"T_9f364_row8_col4\" class=\"data row8 col4\" >0.5531</td>\n",
       "      <td id=\"T_9f364_row8_col5\" class=\"data row8 col5\" >0.0541</td>\n",
       "      <td id=\"T_9f364_row8_col6\" class=\"data row8 col6\" >0.1667</td>\n",
       "    </tr>\n",
       "    <tr>\n",
       "      <th id=\"T_9f364_level0_row9\" class=\"row_heading level0 row9\" >9</th>\n",
       "      <td id=\"T_9f364_row9_col0\" class=\"data row9 col0\" >0.6571</td>\n",
       "      <td id=\"T_9f364_row9_col1\" class=\"data row9 col1\" >0.4710</td>\n",
       "      <td id=\"T_9f364_row9_col2\" class=\"data row9 col2\" >0.6571</td>\n",
       "      <td id=\"T_9f364_row9_col3\" class=\"data row9 col3\" >0.6063</td>\n",
       "      <td id=\"T_9f364_row9_col4\" class=\"data row9 col4\" >0.5452</td>\n",
       "      <td id=\"T_9f364_row9_col5\" class=\"data row9 col5\" >0.0255</td>\n",
       "      <td id=\"T_9f364_row9_col6\" class=\"data row9 col6\" >0.0568</td>\n",
       "    </tr>\n",
       "    <tr>\n",
       "      <th id=\"T_9f364_level0_row10\" class=\"row_heading level0 row10\" >Mean</th>\n",
       "      <td id=\"T_9f364_row10_col0\" class=\"data row10 col0\" >0.6571</td>\n",
       "      <td id=\"T_9f364_row10_col1\" class=\"data row10 col1\" >0.4659</td>\n",
       "      <td id=\"T_9f364_row10_col2\" class=\"data row10 col2\" >0.6571</td>\n",
       "      <td id=\"T_9f364_row10_col3\" class=\"data row10 col3\" >0.4917</td>\n",
       "      <td id=\"T_9f364_row10_col4\" class=\"data row10 col4\" >0.5317</td>\n",
       "      <td id=\"T_9f364_row10_col5\" class=\"data row10 col5\" >-0.0087</td>\n",
       "      <td id=\"T_9f364_row10_col6\" class=\"data row10 col6\" >-0.0134</td>\n",
       "    </tr>\n",
       "    <tr>\n",
       "      <th id=\"T_9f364_level0_row11\" class=\"row_heading level0 row11\" >Std</th>\n",
       "      <td id=\"T_9f364_row11_col0\" class=\"data row11 col0\" >0.0169</td>\n",
       "      <td id=\"T_9f364_row11_col1\" class=\"data row11 col1\" >0.0545</td>\n",
       "      <td id=\"T_9f364_row11_col2\" class=\"data row11 col2\" >0.0169</td>\n",
       "      <td id=\"T_9f364_row11_col3\" class=\"data row11 col3\" >0.1087</td>\n",
       "      <td id=\"T_9f364_row11_col4\" class=\"data row11 col4\" >0.0144</td>\n",
       "      <td id=\"T_9f364_row11_col5\" class=\"data row11 col5\" >0.0367</td>\n",
       "      <td id=\"T_9f364_row11_col6\" class=\"data row11 col6\" >0.0861</td>\n",
       "    </tr>\n",
       "  </tbody>\n",
       "</table>\n"
      ],
      "text/plain": [
       "<pandas.io.formats.style.Styler at 0x2710d15fe50>"
      ]
     },
     "metadata": {},
     "output_type": "display_data"
    },
    {
     "data": {
      "application/vnd.jupyter.widget-view+json": {
       "model_id": "70c0e32fb23d4667bec7d74c0b528b2d",
       "version_major": 2,
       "version_minor": 0
      },
      "text/plain": [
       "Processing:   0%|          | 0/4 [00:00<?, ?it/s]"
      ]
     },
     "metadata": {},
     "output_type": "display_data"
    }
   ],
   "source": [
    "best_model=create_model('lr')\n",
    "# Derin öğrenme ile daha yükseğe çıkabilir"
   ]
  },
  {
   "cell_type": "code",
   "execution_count": 56,
   "id": "bfea990a",
   "metadata": {},
   "outputs": [
    {
     "data": {
      "text/html": [],
      "text/plain": [
       "<IPython.core.display.HTML object>"
      ]
     },
     "metadata": {},
     "output_type": "display_data"
    },
    {
     "data": {
      "image/png": "[encoded data removed]",
      "text/plain": [
       "<Figure size 800x500 with 1 Axes>"
      ]
     },
     "metadata": {},
     "output_type": "display_data"
    }
   ],
   "source": [
    "plot_model(best_model,plot='feature')"
   ]
  },
  {
   "cell_type": "markdown",
   "id": "e5d26c13",
   "metadata": {
    "papermill": {
     "duration": 0.004044,
     "end_time": "2024-06-12T15:54:46.325180",
     "exception": false,
     "start_time": "2024-06-12T15:54:46.321136",
     "status": "completed"
    },
    "tags": []
   },
   "source": [
    "**2. Veri Keşfi ve Ön İşleme**\n",
    "\n",
    "Veri Setinin İlk Bakış: Veri setini gözden geçirin ve ilk birkaç satırı inceleyin.\n",
    "\n",
    "Eksik Veri Kontrolü: Eksik verileri kontrol edin ve gerekirse eksik verileri işleyin veya doldurun.\n",
    "\n",
    "Veri Türlerinin Kontrolü: Her bir sütunun veri türlerini kontrol edin ve uygun dönüşümleri yapın.\n",
    "\n",
    "Kategorik Değişkenlerin Kodlanması: Kategorik değişkenleri sayısal değerlere dönüştürün.\n"
   ]
  },
  {
   "cell_type": "markdown",
   "id": "3516fb91",
   "metadata": {},
   "source": [
    "# Veri Ön İşlem "
   ]
  },
  {
   "cell_type": "code",
   "execution_count": 57,
   "id": "7da4ae59",
   "metadata": {
    "papermill": {
     "duration": 0.004535,
     "end_time": "2024-06-12T15:54:46.334715",
     "exception": false,
     "start_time": "2024-06-12T15:54:46.330180",
     "status": "completed"
    },
    "tags": []
   },
   "outputs": [
    {
     "data": {
      "text/html": [
       "<div>\n",
       "<style scoped>\n",
       "    .dataframe tbody tr th:only-of-type {\n",
       "        vertical-align: middle;\n",
       "    }\n",
       "\n",
       "    .dataframe tbody tr th {\n",
       "        vertical-align: top;\n",
       "    }\n",
       "\n",
       "    .dataframe thead th {\n",
       "        text-align: right;\n",
       "    }\n",
       "</style>\n",
       "<table border=\"1\" class=\"dataframe\">\n",
       "  <thead>\n",
       "    <tr style=\"text-align: right;\">\n",
       "      <th></th>\n",
       "      <th>AppointmentID</th>\n",
       "      <th>PatientID</th>\n",
       "      <th>AppointmentDate</th>\n",
       "      <th>AppointmentTime</th>\n",
       "      <th>AppointmentDay</th>\n",
       "      <th>PatientAge</th>\n",
       "      <th>PatientGender</th>\n",
       "      <th>Disease</th>\n",
       "      <th>DoctorID</th>\n",
       "      <th>PreviousNoShow</th>\n",
       "      <th>SMSReminder</th>\n",
       "      <th>NoShow</th>\n",
       "    </tr>\n",
       "  </thead>\n",
       "  <tbody>\n",
       "    <tr>\n",
       "      <th>0</th>\n",
       "      <td>1</td>\n",
       "      <td>1102</td>\n",
       "      <td>2023-01-01</td>\n",
       "      <td>15:00:00</td>\n",
       "      <td>Sunday</td>\n",
       "      <td>78</td>\n",
       "      <td>Male</td>\n",
       "      <td>Pediatrics</td>\n",
       "      <td>110</td>\n",
       "      <td>3</td>\n",
       "      <td>Yes</td>\n",
       "      <td>Yes</td>\n",
       "    </tr>\n",
       "    <tr>\n",
       "      <th>1</th>\n",
       "      <td>2</td>\n",
       "      <td>1435</td>\n",
       "      <td>2023-01-02</td>\n",
       "      <td>11:00:00</td>\n",
       "      <td>Monday</td>\n",
       "      <td>33</td>\n",
       "      <td>Male</td>\n",
       "      <td>General</td>\n",
       "      <td>152</td>\n",
       "      <td>3</td>\n",
       "      <td>Yes</td>\n",
       "      <td>No</td>\n",
       "    </tr>\n",
       "    <tr>\n",
       "      <th>2</th>\n",
       "      <td>3</td>\n",
       "      <td>1860</td>\n",
       "      <td>2023-01-03</td>\n",
       "      <td>09:00:00</td>\n",
       "      <td>Tuesday</td>\n",
       "      <td>35</td>\n",
       "      <td>Male</td>\n",
       "      <td>Orthopedics</td>\n",
       "      <td>145</td>\n",
       "      <td>0</td>\n",
       "      <td>Yes</td>\n",
       "      <td>Yes</td>\n",
       "    </tr>\n",
       "    <tr>\n",
       "      <th>3</th>\n",
       "      <td>4</td>\n",
       "      <td>1270</td>\n",
       "      <td>2023-01-04</td>\n",
       "      <td>09:00:00</td>\n",
       "      <td>Wednesday</td>\n",
       "      <td>5</td>\n",
       "      <td>Female</td>\n",
       "      <td>Cardiology</td>\n",
       "      <td>129</td>\n",
       "      <td>1</td>\n",
       "      <td>Yes</td>\n",
       "      <td>No</td>\n",
       "    </tr>\n",
       "    <tr>\n",
       "      <th>4</th>\n",
       "      <td>5</td>\n",
       "      <td>1106</td>\n",
       "      <td>2023-01-05</td>\n",
       "      <td>17:30:00</td>\n",
       "      <td>Thursday</td>\n",
       "      <td>38</td>\n",
       "      <td>Female</td>\n",
       "      <td>Pediatrics</td>\n",
       "      <td>156</td>\n",
       "      <td>0</td>\n",
       "      <td>Yes</td>\n",
       "      <td>Yes</td>\n",
       "    </tr>\n",
       "    <tr>\n",
       "      <th>5</th>\n",
       "      <td>6</td>\n",
       "      <td>1071</td>\n",
       "      <td>2023-01-06</td>\n",
       "      <td>16:00:00</td>\n",
       "      <td>Friday</td>\n",
       "      <td>41</td>\n",
       "      <td>Female</td>\n",
       "      <td>General</td>\n",
       "      <td>117</td>\n",
       "      <td>2</td>\n",
       "      <td>No</td>\n",
       "      <td>No</td>\n",
       "    </tr>\n",
       "    <tr>\n",
       "      <th>6</th>\n",
       "      <td>7</td>\n",
       "      <td>1700</td>\n",
       "      <td>2023-01-07</td>\n",
       "      <td>17:00:00</td>\n",
       "      <td>Saturday</td>\n",
       "      <td>57</td>\n",
       "      <td>Female</td>\n",
       "      <td>Cardiology</td>\n",
       "      <td>150</td>\n",
       "      <td>0</td>\n",
       "      <td>No</td>\n",
       "      <td>No</td>\n",
       "    </tr>\n",
       "  </tbody>\n",
       "</table>\n",
       "</div>"
      ],
      "text/plain": [
       "   AppointmentID  PatientID AppointmentDate AppointmentTime AppointmentDay  \\\n",
       "0              1       1102      2023-01-01        15:00:00         Sunday   \n",
       "1              2       1435      2023-01-02        11:00:00         Monday   \n",
       "2              3       1860      2023-01-03        09:00:00        Tuesday   \n",
       "3              4       1270      2023-01-04        09:00:00      Wednesday   \n",
       "4              5       1106      2023-01-05        17:30:00       Thursday   \n",
       "5              6       1071      2023-01-06        16:00:00         Friday   \n",
       "6              7       1700      2023-01-07        17:00:00       Saturday   \n",
       "\n",
       "   PatientAge PatientGender      Disease  DoctorID  PreviousNoShow  \\\n",
       "0          78          Male   Pediatrics       110               3   \n",
       "1          33          Male      General       152               3   \n",
       "2          35          Male  Orthopedics       145               0   \n",
       "3           5        Female   Cardiology       129               1   \n",
       "4          38        Female   Pediatrics       156               0   \n",
       "5          41        Female      General       117               2   \n",
       "6          57        Female   Cardiology       150               0   \n",
       "\n",
       "  SMSReminder NoShow  \n",
       "0         Yes    Yes  \n",
       "1         Yes     No  \n",
       "2         Yes    Yes  \n",
       "3         Yes     No  \n",
       "4         Yes    Yes  \n",
       "5          No     No  \n",
       "6          No     No  "
      ]
     },
     "execution_count": 57,
     "metadata": {},
     "output_type": "execute_result"
    }
   ],
   "source": [
    "df.head(7)  #head ilk 5 satırı inceler , eğer parametre veriseniz  parametreye göre ilksatırları inceler "
   ]
  },
  {
   "cell_type": "code",
   "execution_count": 58,
   "id": "675ad028",
   "metadata": {},
   "outputs": [
    {
     "data": {
      "text/plain": [
       "AppointmentID      0\n",
       "PatientID          0\n",
       "AppointmentDate    0\n",
       "AppointmentTime    0\n",
       "AppointmentDay     0\n",
       "PatientAge         0\n",
       "PatientGender      0\n",
       "Disease            0\n",
       "DoctorID           0\n",
       "PreviousNoShow     0\n",
       "SMSReminder        0\n",
       "NoShow             0\n",
       "dtype: int64"
      ]
     },
     "execution_count": 58,
     "metadata": {},
     "output_type": "execute_result"
    }
   ],
   "source": [
    "df.isnull().sum()  # datamızda eksik veri bulunmamaktadır \n",
    "#isnull ile boş değerleri sum ile ise toplamlarını alarak bakıyoruz "
   ]
  },
  {
   "cell_type": "code",
   "execution_count": 59,
   "id": "8b174da5",
   "metadata": {},
   "outputs": [
    {
     "name": "stdout",
     "output_type": "stream",
     "text": [
      "<class 'pandas.core.frame.DataFrame'>\n",
      "RangeIndex: 1000 entries, 0 to 999\n",
      "Data columns (total 12 columns):\n",
      " #   Column           Non-Null Count  Dtype \n",
      "---  ------           --------------  ----- \n",
      " 0   AppointmentID    1000 non-null   int64 \n",
      " 1   PatientID        1000 non-null   int64 \n",
      " 2   AppointmentDate  1000 non-null   object\n",
      " 3   AppointmentTime  1000 non-null   object\n",
      " 4   AppointmentDay   1000 non-null   object\n",
      " 5   PatientAge       1000 non-null   int64 \n",
      " 6   PatientGender    1000 non-null   object\n",
      " 7   Disease          1000 non-null   object\n",
      " 8   DoctorID         1000 non-null   int64 \n",
      " 9   PreviousNoShow   1000 non-null   int64 \n",
      " 10  SMSReminder      1000 non-null   object\n",
      " 11  NoShow           1000 non-null   object\n",
      "dtypes: int64(5), object(7)\n",
      "memory usage: 93.9+ KB\n"
     ]
    }
   ],
   "source": [
    "df.info()   # datamız hakkında bir bilgilendirme alıyoruz  \n",
    "# column bilgileri \n",
    "# boş değer adedi \n",
    "# ve Dtype ile verinin tipini görüyoruz "
   ]
  },
  {
   "cell_type": "code",
   "execution_count": 60,
   "id": "47ba08b9",
   "metadata": {},
   "outputs": [
    {
     "data": {
      "text/html": [
       "<div>\n",
       "<style scoped>\n",
       "    .dataframe tbody tr th:only-of-type {\n",
       "        vertical-align: middle;\n",
       "    }\n",
       "\n",
       "    .dataframe tbody tr th {\n",
       "        vertical-align: top;\n",
       "    }\n",
       "\n",
       "    .dataframe thead th {\n",
       "        text-align: right;\n",
       "    }\n",
       "</style>\n",
       "<table border=\"1\" class=\"dataframe\">\n",
       "  <thead>\n",
       "    <tr style=\"text-align: right;\">\n",
       "      <th></th>\n",
       "      <th>AppointmentID</th>\n",
       "      <th>PatientID</th>\n",
       "      <th>PatientAge</th>\n",
       "      <th>DoctorID</th>\n",
       "      <th>PreviousNoShow</th>\n",
       "    </tr>\n",
       "  </thead>\n",
       "  <tbody>\n",
       "    <tr>\n",
       "      <th>count</th>\n",
       "      <td>1000.000000</td>\n",
       "      <td>1000.000000</td>\n",
       "      <td>1000.000000</td>\n",
       "      <td>1000.000000</td>\n",
       "      <td>1000.000000</td>\n",
       "    </tr>\n",
       "    <tr>\n",
       "      <th>mean</th>\n",
       "      <td>500.500000</td>\n",
       "      <td>1503.929000</td>\n",
       "      <td>47.305000</td>\n",
       "      <td>150.206000</td>\n",
       "      <td>2.047000</td>\n",
       "    </tr>\n",
       "    <tr>\n",
       "      <th>std</th>\n",
       "      <td>288.819436</td>\n",
       "      <td>289.998108</td>\n",
       "      <td>29.217591</td>\n",
       "      <td>28.720279</td>\n",
       "      <td>1.400983</td>\n",
       "    </tr>\n",
       "    <tr>\n",
       "      <th>min</th>\n",
       "      <td>1.000000</td>\n",
       "      <td>1000.000000</td>\n",
       "      <td>0.000000</td>\n",
       "      <td>100.000000</td>\n",
       "      <td>0.000000</td>\n",
       "    </tr>\n",
       "    <tr>\n",
       "      <th>25%</th>\n",
       "      <td>250.750000</td>\n",
       "      <td>1242.750000</td>\n",
       "      <td>21.000000</td>\n",
       "      <td>124.750000</td>\n",
       "      <td>1.000000</td>\n",
       "    </tr>\n",
       "    <tr>\n",
       "      <th>50%</th>\n",
       "      <td>500.500000</td>\n",
       "      <td>1505.000000</td>\n",
       "      <td>45.500000</td>\n",
       "      <td>152.500000</td>\n",
       "      <td>2.000000</td>\n",
       "    </tr>\n",
       "    <tr>\n",
       "      <th>75%</th>\n",
       "      <td>750.250000</td>\n",
       "      <td>1757.250000</td>\n",
       "      <td>73.000000</td>\n",
       "      <td>175.000000</td>\n",
       "      <td>3.000000</td>\n",
       "    </tr>\n",
       "    <tr>\n",
       "      <th>max</th>\n",
       "      <td>1000.000000</td>\n",
       "      <td>1998.000000</td>\n",
       "      <td>99.000000</td>\n",
       "      <td>199.000000</td>\n",
       "      <td>4.000000</td>\n",
       "    </tr>\n",
       "  </tbody>\n",
       "</table>\n",
       "</div>"
      ],
      "text/plain": [
       "       AppointmentID    PatientID   PatientAge     DoctorID  PreviousNoShow\n",
       "count    1000.000000  1000.000000  1000.000000  1000.000000     1000.000000\n",
       "mean      500.500000  1503.929000    47.305000   150.206000        2.047000\n",
       "std       288.819436   289.998108    29.217591    28.720279        1.400983\n",
       "min         1.000000  1000.000000     0.000000   100.000000        0.000000\n",
       "25%       250.750000  1242.750000    21.000000   124.750000        1.000000\n",
       "50%       500.500000  1505.000000    45.500000   152.500000        2.000000\n",
       "75%       750.250000  1757.250000    73.000000   175.000000        3.000000\n",
       "max      1000.000000  1998.000000    99.000000   199.000000        4.000000"
      ]
     },
     "execution_count": 60,
     "metadata": {},
     "output_type": "execute_result"
    }
   ],
   "source": [
    "df.describe() #sayısal değerler hakkında matematiksel bilgiler için kullanılan foksiyon ."
   ]
  },
  {
   "cell_type": "code",
   "execution_count": 61,
   "id": "0c743b7f",
   "metadata": {},
   "outputs": [],
   "source": [
    "# Veri setin tür ayarlama ve dönüştürme \n",
    "#1. ön sıradaki verilere bakma \n",
    "df.head() # object verilerimizin hangilerini int64 e çevirmemiz gerektiğini görelim\n",
    "\n",
    "#2. eksik veri kontrolu\n",
    "df.isnull().sum() # ve ya  df.info() ile  kontrol edilebilir\n",
    "\n",
    "#3. Tür kontrolüne göre tür dönüşümü \n",
    "    # dönüşecek türler # df.dtypes ile bakılabilir \n",
    "    #df.select_dtypes(['object'])  #object verileri görmüş olduk  \n",
    "\n",
    "#4. Gerekli Sütünların türünü dönüştürme \n",
    "label_e=LabelEncoder()\n",
    "      # 2 değerler için ( 0 ve 1 verir ) , 3 ve fazlasi 0 1 2 3 4 diye devam eder \n",
    "\n",
    "df['PatientGender'] = label_e.fit_transform(df['PatientGender'])  # cinsiyet\n",
    "df['AppointmentDay'] = label_e.fit_transform(df['AppointmentDay'])# gün\n",
    "df['Disease'] = label_e.fit_transform(df['Disease'])              #hastalık\n",
    "df['AppointmentTime'] = label_e.fit_transform(df['AppointmentTime'])              #hastalık\n",
    "    # Diğer tür dönüşümleri AppointmentTime\n",
    "      # ben 2 yöntemle yaptım 2 sinide yapabilrisiniz \n",
    "df['SMSReminder']=df['SMSReminder'].map(lambda x: 1 if x == 'Yes' else 0) \n",
    "df['NoShow']=df['NoShow'].map({'No': 0, 'Yes': 1})  #Yes yerine 1 No yerine 0 yaz  ama sadece map ile \n",
    "\n",
    "# yes'e 1 no' 0  # sms nin null gibi bi değeri olmadığı için böyle yapmayı tercih ettim \n",
    "# tanbi label encoder ile de bu şekildfe bir işlem yapılabilir .\n",
    "    \n",
    "# 2 den fazla değer oldukları için bura'da get_dummies kullandık yani kukla değişken \n",
    "#df = pd.get_dummies(df, columns=['Disease'], drop_first=True)\n",
    "#  kendi stünlarının attık sadece dummi leri buraktık \n",
    "\n"
   ]
  },
  {
   "cell_type": "code",
   "execution_count": 62,
   "id": "4c1b6565",
   "metadata": {},
   "outputs": [
    {
     "data": {
      "text/html": [
       "<div>\n",
       "<style scoped>\n",
       "    .dataframe tbody tr th:only-of-type {\n",
       "        vertical-align: middle;\n",
       "    }\n",
       "\n",
       "    .dataframe tbody tr th {\n",
       "        vertical-align: top;\n",
       "    }\n",
       "\n",
       "    .dataframe thead th {\n",
       "        text-align: right;\n",
       "    }\n",
       "</style>\n",
       "<table border=\"1\" class=\"dataframe\">\n",
       "  <thead>\n",
       "    <tr style=\"text-align: right;\">\n",
       "      <th></th>\n",
       "      <th>AppointmentID</th>\n",
       "      <th>PatientID</th>\n",
       "      <th>AppointmentDate</th>\n",
       "      <th>AppointmentTime</th>\n",
       "      <th>AppointmentDay</th>\n",
       "      <th>PatientAge</th>\n",
       "      <th>PatientGender</th>\n",
       "      <th>Disease</th>\n",
       "      <th>DoctorID</th>\n",
       "      <th>PreviousNoShow</th>\n",
       "      <th>SMSReminder</th>\n",
       "      <th>NoShow</th>\n",
       "    </tr>\n",
       "  </thead>\n",
       "  <tbody>\n",
       "    <tr>\n",
       "      <th>0</th>\n",
       "      <td>1</td>\n",
       "      <td>1102</td>\n",
       "      <td>2023-01-01</td>\n",
       "      <td>12</td>\n",
       "      <td>3</td>\n",
       "      <td>78</td>\n",
       "      <td>1</td>\n",
       "      <td>4</td>\n",
       "      <td>110</td>\n",
       "      <td>3</td>\n",
       "      <td>1</td>\n",
       "      <td>1</td>\n",
       "    </tr>\n",
       "    <tr>\n",
       "      <th>1</th>\n",
       "      <td>2</td>\n",
       "      <td>1435</td>\n",
       "      <td>2023-01-02</td>\n",
       "      <td>4</td>\n",
       "      <td>1</td>\n",
       "      <td>33</td>\n",
       "      <td>1</td>\n",
       "      <td>1</td>\n",
       "      <td>152</td>\n",
       "      <td>3</td>\n",
       "      <td>1</td>\n",
       "      <td>0</td>\n",
       "    </tr>\n",
       "    <tr>\n",
       "      <th>2</th>\n",
       "      <td>3</td>\n",
       "      <td>1860</td>\n",
       "      <td>2023-01-03</td>\n",
       "      <td>0</td>\n",
       "      <td>5</td>\n",
       "      <td>35</td>\n",
       "      <td>1</td>\n",
       "      <td>3</td>\n",
       "      <td>145</td>\n",
       "      <td>0</td>\n",
       "      <td>1</td>\n",
       "      <td>1</td>\n",
       "    </tr>\n",
       "    <tr>\n",
       "      <th>3</th>\n",
       "      <td>4</td>\n",
       "      <td>1270</td>\n",
       "      <td>2023-01-04</td>\n",
       "      <td>0</td>\n",
       "      <td>6</td>\n",
       "      <td>5</td>\n",
       "      <td>0</td>\n",
       "      <td>0</td>\n",
       "      <td>129</td>\n",
       "      <td>1</td>\n",
       "      <td>1</td>\n",
       "      <td>0</td>\n",
       "    </tr>\n",
       "    <tr>\n",
       "      <th>4</th>\n",
       "      <td>5</td>\n",
       "      <td>1106</td>\n",
       "      <td>2023-01-05</td>\n",
       "      <td>17</td>\n",
       "      <td>4</td>\n",
       "      <td>38</td>\n",
       "      <td>0</td>\n",
       "      <td>4</td>\n",
       "      <td>156</td>\n",
       "      <td>0</td>\n",
       "      <td>1</td>\n",
       "      <td>1</td>\n",
       "    </tr>\n",
       "  </tbody>\n",
       "</table>\n",
       "</div>"
      ],
      "text/plain": [
       "   AppointmentID  PatientID AppointmentDate  AppointmentTime  AppointmentDay  \\\n",
       "0              1       1102      2023-01-01               12               3   \n",
       "1              2       1435      2023-01-02                4               1   \n",
       "2              3       1860      2023-01-03                0               5   \n",
       "3              4       1270      2023-01-04                0               6   \n",
       "4              5       1106      2023-01-05               17               4   \n",
       "\n",
       "   PatientAge  PatientGender  Disease  DoctorID  PreviousNoShow  SMSReminder  \\\n",
       "0          78              1        4       110               3            1   \n",
       "1          33              1        1       152               3            1   \n",
       "2          35              1        3       145               0            1   \n",
       "3           5              0        0       129               1            1   \n",
       "4          38              0        4       156               0            1   \n",
       "\n",
       "   NoShow  \n",
       "0       1  \n",
       "1       0  \n",
       "2       1  \n",
       "3       0  \n",
       "4       1  "
      ]
     },
     "execution_count": 62,
     "metadata": {},
     "output_type": "execute_result"
    }
   ],
   "source": [
    "df.head()  # basit bir göz atma ."
   ]
  },
  {
   "cell_type": "code",
   "execution_count": 63,
   "id": "94dad68a",
   "metadata": {
    "scrolled": true
   },
   "outputs": [
    {
     "name": "stdout",
     "output_type": "stream",
     "text": [
      "<class 'pandas.core.frame.DataFrame'>\n",
      "RangeIndex: 1000 entries, 0 to 999\n",
      "Data columns (total 12 columns):\n",
      " #   Column           Non-Null Count  Dtype \n",
      "---  ------           --------------  ----- \n",
      " 0   AppointmentID    1000 non-null   int64 \n",
      " 1   PatientID        1000 non-null   int64 \n",
      " 2   AppointmentDate  1000 non-null   object\n",
      " 3   AppointmentTime  1000 non-null   int32 \n",
      " 4   AppointmentDay   1000 non-null   int32 \n",
      " 5   PatientAge       1000 non-null   int64 \n",
      " 6   PatientGender    1000 non-null   int32 \n",
      " 7   Disease          1000 non-null   int32 \n",
      " 8   DoctorID         1000 non-null   int64 \n",
      " 9   PreviousNoShow   1000 non-null   int64 \n",
      " 10  SMSReminder      1000 non-null   int64 \n",
      " 11  NoShow           1000 non-null   int64 \n",
      "dtypes: int32(4), int64(7), object(1)\n",
      "memory usage: 78.3+ KB\n"
     ]
    }
   ],
   "source": [
    "df.info()"
   ]
  },
  {
   "cell_type": "markdown",
   "id": "be2cd283",
   "metadata": {
    "papermill": {
     "duration": 0.004211,
     "end_time": "2024-06-12T15:54:46.343769",
     "exception": false,
     "start_time": "2024-06-12T15:54:46.339558",
     "status": "completed"
    },
    "tags": []
   },
   "source": [
    "**3. Veri Görselleştirme**\n",
    "\n",
    "Hastane Randevu Dağılımı: Randevuların tarih, saat, cinsiyet, hastalık vb. özelliklere göre dağılımını görselleştirin.\n",
    "\n",
    "No-Show Oranı: No-show (randevuya gelmeme) oranlarını görselleştirin ve faktörler arasındaki ilişkiyi inceleyin.\n",
    "\n",
    "Korelasyon Matrisi: Değişkenler arasındaki ilişkiyi göstermek için bir korelasyon matrisi oluşturun.\n"
   ]
  },
  {
   "cell_type": "markdown",
   "id": "0cda1982",
   "metadata": {},
   "source": [
    "# Veri Görselleştirme "
   ]
  },
  {
   "cell_type": "code",
   "execution_count": 64,
   "id": "9902bd27",
   "metadata": {},
   "outputs": [
    {
     "data": {
      "image/png": "[encoded data removed]",
      "text/plain": [
       "<Figure size 1000x600 with 1 Axes>"
      ]
     },
     "metadata": {},
     "output_type": "display_data"
    }
   ],
   "source": [
    "# Tarih Dağılımı (örneğin, ay bazında)\n",
    "plt.figure(figsize=(10, 6))\n",
    "sns.countplot(x=df.AppointmentTime, data=df)\n",
    "plt.title('Randevuların Saat e göre gelen kişi dağılımı')\n",
    "plt.xlabel('Hafta')\n",
    "plt.ylabel('Randevu Sayısı')\n",
    "plt.xticks(rotation=45)\n",
    "plt.show()\n"
   ]
  },
  {
   "cell_type": "code",
   "execution_count": 65,
   "id": "3b146a7a",
   "metadata": {},
   "outputs": [
    {
     "data": {
      "image/png": "[encoded data removed]",
      "text/plain": [
       "<Figure size 800x500 with 1 Axes>"
      ]
     },
     "metadata": {},
     "output_type": "display_data"
    }
   ],
   "source": [
    "plt.figure(figsize=(8, 5))\n",
    "sns.countplot(x='PatientGender', data=data)\n",
    "plt.title('Hastaların Cinsiyet Dağılımı')\n",
    "plt.xlabel('Cinsiyet')\n",
    "plt.ylabel('Hasta Sayısı')\n",
    "plt.show()"
   ]
  },
  {
   "cell_type": "code",
   "execution_count": 66,
   "id": "d77923ba",
   "metadata": {},
   "outputs": [
    {
     "data": {
      "image/png": "[encoded data removed]",
      "text/plain": [
       "<Figure size 1200x800 with 1 Axes>"
      ]
     },
     "metadata": {},
     "output_type": "display_data"
    }
   ],
   "source": [
    "plt.figure(figsize=(12, 8))\n",
    "sns.countplot(y='Disease', data=data, order=data['Disease'].value_counts().index)\n",
    "plt.title('Hastaların Hastalık Dağılımı')\n",
    "plt.xlabel('Hasta Sayısı')\n",
    "plt.ylabel('Hastalık')\n",
    "plt.show()"
   ]
  },
  {
   "cell_type": "code",
   "execution_count": 67,
   "id": "e275a885",
   "metadata": {
    "papermill": {
     "duration": 0.004084,
     "end_time": "2024-06-12T15:54:46.352993",
     "exception": false,
     "start_time": "2024-06-12T15:54:46.348909",
     "status": "completed"
    },
    "tags": []
   },
   "outputs": [
    {
     "data": {
      "application/vnd.plotly.v1+json": {
       "config": {
        "plotlyServerURL": "https://plot.ly"
       },
       "data": [
        {
         "alignmentgroup": "True",
         "hovertemplate": "color=No<br>Geldi mi=%{x}<br>Toplam Sayı=%{y}<extra></extra>",
         "legendgroup": "No",
         "marker": {
          "color": "#636efa",
          "pattern": {
           "shape": ""
          }
         },
         "name": "No",
         "offsetgroup": "No",
         "orientation": "v",
         "showlegend": true,
         "textposition": "auto",
         "type": "bar",
         "x": [
          "No"
         ],
         "xaxis": "x",
         "y": [
          664
         ],
         "yaxis": "y"
        },
        {
         "alignmentgroup": "True",
         "hovertemplate": "color=Yes<br>Geldi mi=%{x}<br>Toplam Sayı=%{y}<extra></extra>",
         "legendgroup": "Yes",
         "marker": {
          "color": "#EF553B",
          "pattern": {
           "shape": ""
          }
         },
         "name": "Yes",
         "offsetgroup": "Yes",
         "orientation": "v",
         "showlegend": true,
         "textposition": "auto",
         "type": "bar",
         "x": [
          "Yes"
         ],
         "xaxis": "x",
         "y": [
          336
         ],
         "yaxis": "y"
        }
       ],
       "layout": {
        "barmode": "relative",
        "legend": {
         "title": {
          "text": "color"
         },
         "tracegroupgap": 0
        },
        "template": {
         "data": {
          "bar": [
           {
            "error_x": {
             "color": "#2a3f5f"
            },
            "error_y": {
             "color": "#2a3f5f"
            },
            "marker": {
             "line": {
              "color": "white",
              "width": 0.5
             },
             "pattern": {
              "fillmode": "overlay",
              "size": 10,
              "solidity": 0.2
             }
            },
            "type": "bar"
           }
          ],
          "barpolar": [
           {
            "marker": {
             "line": {
              "color": "white",
              "width": 0.5
             },
             "pattern": {
              "fillmode": "overlay",
              "size": 10,
              "solidity": 0.2
             }
            },
            "type": "barpolar"
           }
          ],
          "carpet": [
           {
            "aaxis": {
             "endlinecolor": "#2a3f5f",
             "gridcolor": "#C8D4E3",
             "linecolor": "#C8D4E3",
             "minorgridcolor": "#C8D4E3",
             "startlinecolor": "#2a3f5f"
            },
            "baxis": {
             "endlinecolor": "#2a3f5f",
             "gridcolor": "#C8D4E3",
             "linecolor": "#C8D4E3",
             "minorgridcolor": "#C8D4E3",
             "startlinecolor": "#2a3f5f"
            },
            "type": "carpet"
           }
          ],
          "choropleth": [
           {
            "colorbar": {
             "outlinewidth": 0,
             "ticks": ""
            },
            "type": "choropleth"
           }
          ],
          "contour": [
           {
            "colorbar": {
             "outlinewidth": 0,
             "ticks": ""
            },
            "colorscale": [
             [
              0,
              "#0d0887"
             ],
             [
              0.1111111111111111,
              "#46039f"
             ],
             [
              0.2222222222222222,
              "#7201a8"
             ],
             [
              0.3333333333333333,
              "#9c179e"
             ],
             [
              0.4444444444444444,
              "#bd3786"
             ],
             [
              0.5555555555555556,
              "#d8576b"
             ],
             [
              0.6666666666666666,
              "#ed7953"
             ],
             [
              0.7777777777777778,
              "#fb9f3a"
             ],
             [
              0.8888888888888888,
              "#fdca26"
             ],
             [
              1,
              "#f0f921"
             ]
            ],
            "type": "contour"
           }
          ],
          "contourcarpet": [
           {
            "colorbar": {
             "outlinewidth": 0,
             "ticks": ""
            },
            "type": "contourcarpet"
           }
          ],
          "heatmap": [
           {
            "colorbar": {
             "outlinewidth": 0,
             "ticks": ""
            },
            "colorscale": [
             [
              0,
              "#0d0887"
             ],
             [
              0.1111111111111111,
              "#46039f"
             ],
             [
              0.2222222222222222,
              "#7201a8"
             ],
             [
              0.3333333333333333,
              "#9c179e"
             ],
             [
              0.4444444444444444,
              "#bd3786"
             ],
             [
              0.5555555555555556,
              "#d8576b"
             ],
             [
              0.6666666666666666,
              "#ed7953"
             ],
             [
              0.7777777777777778,
              "#fb9f3a"
             ],
             [
              0.8888888888888888,
              "#fdca26"
             ],
             [
              1,
              "#f0f921"
             ]
            ],
            "type": "heatmap"
           }
          ],
          "heatmapgl": [
           {
            "colorbar": {
             "outlinewidth": 0,
             "ticks": ""
            },
            "colorscale": [
             [
              0,
              "#0d0887"
             ],
             [
              0.1111111111111111,
              "#46039f"
             ],
             [
              0.2222222222222222,
              "#7201a8"
             ],
             [
              0.3333333333333333,
              "#9c179e"
             ],
             [
              0.4444444444444444,
              "#bd3786"
             ],
             [
              0.5555555555555556,
              "#d8576b"
             ],
             [
              0.6666666666666666,
              "#ed7953"
             ],
             [
              0.7777777777777778,
              "#fb9f3a"
             ],
             [
              0.8888888888888888,
              "#fdca26"
             ],
             [
              1,
              "#f0f921"
             ]
            ],
            "type": "heatmapgl"
           }
          ],
          "histogram": [
           {
            "marker": {
             "pattern": {
              "fillmode": "overlay",
              "size": 10,
              "solidity": 0.2
             }
            },
            "type": "histogram"
           }
          ],
          "histogram2d": [
           {
            "colorbar": {
             "outlinewidth": 0,
             "ticks": ""
            },
            "colorscale": [
             [
              0,
              "#0d0887"
             ],
             [
              0.1111111111111111,
              "#46039f"
             ],
             [
              0.2222222222222222,
              "#7201a8"
             ],
             [
              0.3333333333333333,
              "#9c179e"
             ],
             [
              0.4444444444444444,
              "#bd3786"
             ],
             [
              0.5555555555555556,
              "#d8576b"
             ],
             [
              0.6666666666666666,
              "#ed7953"
             ],
             [
              0.7777777777777778,
              "#fb9f3a"
             ],
             [
              0.8888888888888888,
              "#fdca26"
             ],
             [
              1,
              "#f0f921"
             ]
            ],
            "type": "histogram2d"
           }
          ],
          "histogram2dcontour": [
           {
            "colorbar": {
             "outlinewidth": 0,
             "ticks": ""
            },
            "colorscale": [
             [
              0,
              "#0d0887"
             ],
             [
              0.1111111111111111,
              "#46039f"
             ],
             [
              0.2222222222222222,
              "#7201a8"
             ],
             [
              0.3333333333333333,
              "#9c179e"
             ],
             [
              0.4444444444444444,
              "#bd3786"
             ],
             [
              0.5555555555555556,
              "#d8576b"
             ],
             [
              0.6666666666666666,
              "#ed7953"
             ],
             [
              0.7777777777777778,
              "#fb9f3a"
             ],
             [
              0.8888888888888888,
              "#fdca26"
             ],
             [
              1,
              "#f0f921"
             ]
            ],
            "type": "histogram2dcontour"
           }
          ],
          "mesh3d": [
           {
            "colorbar": {
             "outlinewidth": 0,
             "ticks": ""
            },
            "type": "mesh3d"
           }
          ],
          "parcoords": [
           {
            "line": {
             "colorbar": {
              "outlinewidth": 0,
              "ticks": ""
             }
            },
            "type": "parcoords"
           }
          ],
          "pie": [
           {
            "automargin": true,
            "type": "pie"
           }
          ],
          "scatter": [
           {
            "fillpattern": {
             "fillmode": "overlay",
             "size": 10,
             "solidity": 0.2
            },
            "type": "scatter"
           }
          ],
          "scatter3d": [
           {
            "line": {
             "colorbar": {
              "outlinewidth": 0,
              "ticks": ""
             }
            },
            "marker": {
             "colorbar": {
              "outlinewidth": 0,
              "ticks": ""
             }
            },
            "type": "scatter3d"
           }
          ],
          "scattercarpet": [
           {
            "marker": {
             "colorbar": {
              "outlinewidth": 0,
              "ticks": ""
             }
            },
            "type": "scattercarpet"
           }
          ],
          "scattergeo": [
           {
            "marker": {
             "colorbar": {
              "outlinewidth": 0,
              "ticks": ""
             }
            },
            "type": "scattergeo"
           }
          ],
          "scattergl": [
           {
            "marker": {
             "colorbar": {
              "outlinewidth": 0,
              "ticks": ""
             }
            },
            "type": "scattergl"
           }
          ],
          "scattermapbox": [
           {
            "marker": {
             "colorbar": {
              "outlinewidth": 0,
              "ticks": ""
             }
            },
            "type": "scattermapbox"
           }
          ],
          "scatterpolar": [
           {
            "marker": {
             "colorbar": {
              "outlinewidth": 0,
              "ticks": ""
             }
            },
            "type": "scatterpolar"
           }
          ],
          "scatterpolargl": [
           {
            "marker": {
             "colorbar": {
              "outlinewidth": 0,
              "ticks": ""
             }
            },
            "type": "scatterpolargl"
           }
          ],
          "scatterternary": [
           {
            "marker": {
             "colorbar": {
              "outlinewidth": 0,
              "ticks": ""
             }
            },
            "type": "scatterternary"
           }
          ],
          "surface": [
           {
            "colorbar": {
             "outlinewidth": 0,
             "ticks": ""
            },
            "colorscale": [
             [
              0,
              "#0d0887"
             ],
             [
              0.1111111111111111,
              "#46039f"
             ],
             [
              0.2222222222222222,
              "#7201a8"
             ],
             [
              0.3333333333333333,
              "#9c179e"
             ],
             [
              0.4444444444444444,
              "#bd3786"
             ],
             [
              0.5555555555555556,
              "#d8576b"
             ],
             [
              0.6666666666666666,
              "#ed7953"
             ],
             [
              0.7777777777777778,
              "#fb9f3a"
             ],
             [
              0.8888888888888888,
              "#fdca26"
             ],
             [
              1,
              "#f0f921"
             ]
            ],
            "type": "surface"
           }
          ],
          "table": [
           {
            "cells": {
             "fill": {
              "color": "#EBF0F8"
             },
             "line": {
              "color": "white"
             }
            },
            "header": {
             "fill": {
              "color": "#C8D4E3"
             },
             "line": {
              "color": "white"
             }
            },
            "type": "table"
           }
          ]
         },
         "layout": {
          "annotationdefaults": {
           "arrowcolor": "#2a3f5f",
           "arrowhead": 0,
           "arrowwidth": 1
          },
          "autotypenumbers": "strict",
          "coloraxis": {
           "colorbar": {
            "outlinewidth": 0,
            "ticks": ""
           }
          },
          "colorscale": {
           "diverging": [
            [
             0,
             "#8e0152"
            ],
            [
             0.1,
             "#c51b7d"
            ],
            [
             0.2,
             "#de77ae"
            ],
            [
             0.3,
             "#f1b6da"
            ],
            [
             0.4,
             "#fde0ef"
            ],
            [
             0.5,
             "#f7f7f7"
            ],
            [
             0.6,
             "#e6f5d0"
            ],
            [
             0.7,
             "#b8e186"
            ],
            [
             0.8,
             "#7fbc41"
            ],
            [
             0.9,
             "#4d9221"
            ],
            [
             1,
             "#276419"
            ]
           ],
           "sequential": [
            [
             0,
             "#0d0887"
            ],
            [
             0.1111111111111111,
             "#46039f"
            ],
            [
             0.2222222222222222,
             "#7201a8"
            ],
            [
             0.3333333333333333,
             "#9c179e"
            ],
            [
             0.4444444444444444,
             "#bd3786"
            ],
            [
             0.5555555555555556,
             "#d8576b"
            ],
            [
             0.6666666666666666,
             "#ed7953"
            ],
            [
             0.7777777777777778,
             "#fb9f3a"
            ],
            [
             0.8888888888888888,
             "#fdca26"
            ],
            [
             1,
             "#f0f921"
            ]
           ],
           "sequentialminus": [
            [
             0,
             "#0d0887"
            ],
            [
             0.1111111111111111,
             "#46039f"
            ],
            [
             0.2222222222222222,
             "#7201a8"
            ],
            [
             0.3333333333333333,
             "#9c179e"
            ],
            [
             0.4444444444444444,
             "#bd3786"
            ],
            [
             0.5555555555555556,
             "#d8576b"
            ],
            [
             0.6666666666666666,
             "#ed7953"
            ],
            [
             0.7777777777777778,
             "#fb9f3a"
            ],
            [
             0.8888888888888888,
             "#fdca26"
            ],
            [
             1,
             "#f0f921"
            ]
           ]
          },
          "colorway": [
           "#636efa",
           "#EF553B",
           "#00cc96",
           "#ab63fa",
           "#FFA15A",
           "#19d3f3",
           "#FF6692",
           "#B6E880",
           "#FF97FF",
           "#FECB52"
          ],
          "font": {
           "color": "#2a3f5f"
          },
          "geo": {
           "bgcolor": "white",
           "lakecolor": "white",
           "landcolor": "white",
           "showlakes": true,
           "showland": true,
           "subunitcolor": "#C8D4E3"
          },
          "hoverlabel": {
           "align": "left"
          },
          "hovermode": "closest",
          "mapbox": {
           "style": "light"
          },
          "paper_bgcolor": "white",
          "plot_bgcolor": "white",
          "polar": {
           "angularaxis": {
            "gridcolor": "#EBF0F8",
            "linecolor": "#EBF0F8",
            "ticks": ""
           },
           "bgcolor": "white",
           "radialaxis": {
            "gridcolor": "#EBF0F8",
            "linecolor": "#EBF0F8",
            "ticks": ""
           }
          },
          "scene": {
           "xaxis": {
            "backgroundcolor": "white",
            "gridcolor": "#DFE8F3",
            "gridwidth": 2,
            "linecolor": "#EBF0F8",
            "showbackground": true,
            "ticks": "",
            "zerolinecolor": "#EBF0F8"
           },
           "yaxis": {
            "backgroundcolor": "white",
            "gridcolor": "#DFE8F3",
            "gridwidth": 2,
            "linecolor": "#EBF0F8",
            "showbackground": true,
            "ticks": "",
            "zerolinecolor": "#EBF0F8"
           },
           "zaxis": {
            "backgroundcolor": "white",
            "gridcolor": "#DFE8F3",
            "gridwidth": 2,
            "linecolor": "#EBF0F8",
            "showbackground": true,
            "ticks": "",
            "zerolinecolor": "#EBF0F8"
           }
          },
          "shapedefaults": {
           "line": {
            "color": "#2a3f5f"
           }
          },
          "ternary": {
           "aaxis": {
            "gridcolor": "#DFE8F3",
            "linecolor": "#A2B1C6",
            "ticks": ""
           },
           "baxis": {
            "gridcolor": "#DFE8F3",
            "linecolor": "#A2B1C6",
            "ticks": ""
           },
           "bgcolor": "white",
           "caxis": {
            "gridcolor": "#DFE8F3",
            "linecolor": "#A2B1C6",
            "ticks": ""
           }
          },
          "title": {
           "x": 0.05
          },
          "xaxis": {
           "automargin": true,
           "gridcolor": "#EBF0F8",
           "linecolor": "#EBF0F8",
           "ticks": "",
           "title": {
            "standoff": 15
           },
           "zerolinecolor": "#EBF0F8",
           "zerolinewidth": 2
          },
          "yaxis": {
           "automargin": true,
           "gridcolor": "#EBF0F8",
           "linecolor": "#EBF0F8",
           "ticks": "",
           "title": {
            "standoff": 15
           },
           "zerolinecolor": "#EBF0F8",
           "zerolinewidth": 2
          }
         }
        },
        "title": {
         "text": "Cinsiyet Dağılımı"
        },
        "xaxis": {
         "anchor": "y",
         "domain": [
          0,
          1
         ],
         "title": {
          "text": "Geldi mi"
         }
        },
        "yaxis": {
         "anchor": "x",
         "domain": [
          0,
          1
         ],
         "title": {
          "text": "Toplam Sayı"
         }
        }
       }
      }
     },
     "metadata": {},
     "output_type": "display_data"
    },
    {
     "data": {
      "text/plain": [
       "<Figure size 1300x600 with 0 Axes>"
      ]
     },
     "metadata": {},
     "output_type": "display_data"
    }
   ],
   "source": [
    "# Cinsiyet Dağılımı  \n",
    "plt.figure(figsize=(13,6));\n",
    "count_show = data['NoShow'].value_counts()  # yes ve no var zaten \n",
    "\n",
    "fig = px.bar(x=count_show.index,\n",
    "             y=count_show.values,\n",
    "             color=count_show.index,\n",
    "             labels={'x': 'Geldi mi', 'y': 'Toplam Sayı'},\n",
    "             title='Cinsiyet Dağılımı',\n",
    "             template='plotly_white');\n",
    "fig.show()"
   ]
  },
  {
   "cell_type": "code",
   "execution_count": 68,
   "id": "19bb0853",
   "metadata": {},
   "outputs": [
    {
     "data": {
      "text/plain": [
       "Index(['AppointmentID', 'PatientID', 'AppointmentDate', 'AppointmentTime',\n",
       "       'AppointmentDay', 'PatientAge', 'PatientGender', 'Disease', 'DoctorID',\n",
       "       'PreviousNoShow', 'SMSReminder', 'NoShow'],\n",
       "      dtype='object')"
      ]
     },
     "execution_count": 68,
     "metadata": {},
     "output_type": "execute_result"
    }
   ],
   "source": [
    "df.shape\n",
    "data.shape\n",
    "data.columns"
   ]
  },
  {
   "cell_type": "code",
   "execution_count": 69,
   "id": "5b20604c",
   "metadata": {},
   "outputs": [
    {
     "data": {
      "text/plain": [
       "<Axes: xlabel='NoShow', ylabel='AppointmentDay'>"
      ]
     },
     "execution_count": 69,
     "metadata": {},
     "output_type": "execute_result"
    },
    {
     "data": {
      "image/png": "[encoded data removed]",
      "text/plain": [
       "<Figure size 800x550 with 1 Axes>"
      ]
     },
     "metadata": {},
     "output_type": "display_data"
    }
   ],
   "source": [
    "# burada haftanın günlerine göre  gösterenle göstermeyenleri yaptık kde plot ile\n",
    "\n",
    "sns.kdeplot(x=df.NoShow,y=df.AppointmentDay,fill=True,color=\"pink\")"
   ]
  },
  {
   "cell_type": "code",
   "execution_count": 70,
   "id": "b8dfc653",
   "metadata": {},
   "outputs": [
    {
     "data": {
      "application/vnd.plotly.v1+json": {
       "config": {
        "plotlyServerURL": "https://plot.ly"
       },
       "data": [
        {
         "alignmentgroup": "True",
         "hovertemplate": "Geldi mi=No<br>Cinsiyet=%{x}<br>Toplam Sayı=%{y}<extra></extra>",
         "legendgroup": "No",
         "marker": {
          "color": "#3498DB",
          "pattern": {
           "shape": ""
          }
         },
         "name": "No",
         "offsetgroup": "No",
         "orientation": "v",
         "showlegend": true,
         "textposition": "auto",
         "type": "bar",
         "x": [
          "Female",
          "Male"
         ],
         "xaxis": "x",
         "y": [
          332,
          332
         ],
         "yaxis": "y"
        },
        {
         "alignmentgroup": "True",
         "hovertemplate": "Geldi mi=Yes<br>Cinsiyet=%{x}<br>Toplam Sayı=%{y}<extra></extra>",
         "legendgroup": "Yes",
         "marker": {
          "color": "#FF5733",
          "pattern": {
           "shape": ""
          }
         },
         "name": "Yes",
         "offsetgroup": "Yes",
         "orientation": "v",
         "showlegend": true,
         "textposition": "auto",
         "type": "bar",
         "x": [
          "Female",
          "Male"
         ],
         "xaxis": "x",
         "y": [
          156,
          180
         ],
         "yaxis": "y"
        }
       ],
       "layout": {
        "barmode": "group",
        "legend": {
         "title": {
          "text": "Geldi mi"
         },
         "tracegroupgap": 0
        },
        "template": {
         "data": {
          "bar": [
           {
            "error_x": {
             "color": "#2a3f5f"
            },
            "error_y": {
             "color": "#2a3f5f"
            },
            "marker": {
             "line": {
              "color": "white",
              "width": 0.5
             },
             "pattern": {
              "fillmode": "overlay",
              "size": 10,
              "solidity": 0.2
             }
            },
            "type": "bar"
           }
          ],
          "barpolar": [
           {
            "marker": {
             "line": {
              "color": "white",
              "width": 0.5
             },
             "pattern": {
              "fillmode": "overlay",
              "size": 10,
              "solidity": 0.2
             }
            },
            "type": "barpolar"
           }
          ],
          "carpet": [
           {
            "aaxis": {
             "endlinecolor": "#2a3f5f",
             "gridcolor": "#C8D4E3",
             "linecolor": "#C8D4E3",
             "minorgridcolor": "#C8D4E3",
             "startlinecolor": "#2a3f5f"
            },
            "baxis": {
             "endlinecolor": "#2a3f5f",
             "gridcolor": "#C8D4E3",
             "linecolor": "#C8D4E3",
             "minorgridcolor": "#C8D4E3",
             "startlinecolor": "#2a3f5f"
            },
            "type": "carpet"
           }
          ],
          "choropleth": [
           {
            "colorbar": {
             "outlinewidth": 0,
             "ticks": ""
            },
            "type": "choropleth"
           }
          ],
          "contour": [
           {
            "colorbar": {
             "outlinewidth": 0,
             "ticks": ""
            },
            "colorscale": [
             [
              0,
              "#0d0887"
             ],
             [
              0.1111111111111111,
              "#46039f"
             ],
             [
              0.2222222222222222,
              "#7201a8"
             ],
             [
              0.3333333333333333,
              "#9c179e"
             ],
             [
              0.4444444444444444,
              "#bd3786"
             ],
             [
              0.5555555555555556,
              "#d8576b"
             ],
             [
              0.6666666666666666,
              "#ed7953"
             ],
             [
              0.7777777777777778,
              "#fb9f3a"
             ],
             [
              0.8888888888888888,
              "#fdca26"
             ],
             [
              1,
              "#f0f921"
             ]
            ],
            "type": "contour"
           }
          ],
          "contourcarpet": [
           {
            "colorbar": {
             "outlinewidth": 0,
             "ticks": ""
            },
            "type": "contourcarpet"
           }
          ],
          "heatmap": [
           {
            "colorbar": {
             "outlinewidth": 0,
             "ticks": ""
            },
            "colorscale": [
             [
              0,
              "#0d0887"
             ],
             [
              0.1111111111111111,
              "#46039f"
             ],
             [
              0.2222222222222222,
              "#7201a8"
             ],
             [
              0.3333333333333333,
              "#9c179e"
             ],
             [
              0.4444444444444444,
              "#bd3786"
             ],
             [
              0.5555555555555556,
              "#d8576b"
             ],
             [
              0.6666666666666666,
              "#ed7953"
             ],
             [
              0.7777777777777778,
              "#fb9f3a"
             ],
             [
              0.8888888888888888,
              "#fdca26"
             ],
             [
              1,
              "#f0f921"
             ]
            ],
            "type": "heatmap"
           }
          ],
          "heatmapgl": [
           {
            "colorbar": {
             "outlinewidth": 0,
             "ticks": ""
            },
            "colorscale": [
             [
              0,
              "#0d0887"
             ],
             [
              0.1111111111111111,
              "#46039f"
             ],
             [
              0.2222222222222222,
              "#7201a8"
             ],
             [
              0.3333333333333333,
              "#9c179e"
             ],
             [
              0.4444444444444444,
              "#bd3786"
             ],
             [
              0.5555555555555556,
              "#d8576b"
             ],
             [
              0.6666666666666666,
              "#ed7953"
             ],
             [
              0.7777777777777778,
              "#fb9f3a"
             ],
             [
              0.8888888888888888,
              "#fdca26"
             ],
             [
              1,
              "#f0f921"
             ]
            ],
            "type": "heatmapgl"
           }
          ],
          "histogram": [
           {
            "marker": {
             "pattern": {
              "fillmode": "overlay",
              "size": 10,
              "solidity": 0.2
             }
            },
            "type": "histogram"
           }
          ],
          "histogram2d": [
           {
            "colorbar": {
             "outlinewidth": 0,
             "ticks": ""
            },
            "colorscale": [
             [
              0,
              "#0d0887"
             ],
             [
              0.1111111111111111,
              "#46039f"
             ],
             [
              0.2222222222222222,
              "#7201a8"
             ],
             [
              0.3333333333333333,
              "#9c179e"
             ],
             [
              0.4444444444444444,
              "#bd3786"
             ],
             [
              0.5555555555555556,
              "#d8576b"
             ],
             [
              0.6666666666666666,
              "#ed7953"
             ],
             [
              0.7777777777777778,
              "#fb9f3a"
             ],
             [
              0.8888888888888888,
              "#fdca26"
             ],
             [
              1,
              "#f0f921"
             ]
            ],
            "type": "histogram2d"
           }
          ],
          "histogram2dcontour": [
           {
            "colorbar": {
             "outlinewidth": 0,
             "ticks": ""
            },
            "colorscale": [
             [
              0,
              "#0d0887"
             ],
             [
              0.1111111111111111,
              "#46039f"
             ],
             [
              0.2222222222222222,
              "#7201a8"
             ],
             [
              0.3333333333333333,
              "#9c179e"
             ],
             [
              0.4444444444444444,
              "#bd3786"
             ],
             [
              0.5555555555555556,
              "#d8576b"
             ],
             [
              0.6666666666666666,
              "#ed7953"
             ],
             [
              0.7777777777777778,
              "#fb9f3a"
             ],
             [
              0.8888888888888888,
              "#fdca26"
             ],
             [
              1,
              "#f0f921"
             ]
            ],
            "type": "histogram2dcontour"
           }
          ],
          "mesh3d": [
           {
            "colorbar": {
             "outlinewidth": 0,
             "ticks": ""
            },
            "type": "mesh3d"
           }
          ],
          "parcoords": [
           {
            "line": {
             "colorbar": {
              "outlinewidth": 0,
              "ticks": ""
             }
            },
            "type": "parcoords"
           }
          ],
          "pie": [
           {
            "automargin": true,
            "type": "pie"
           }
          ],
          "scatter": [
           {
            "fillpattern": {
             "fillmode": "overlay",
             "size": 10,
             "solidity": 0.2
            },
            "type": "scatter"
           }
          ],
          "scatter3d": [
           {
            "line": {
             "colorbar": {
              "outlinewidth": 0,
              "ticks": ""
             }
            },
            "marker": {
             "colorbar": {
              "outlinewidth": 0,
              "ticks": ""
             }
            },
            "type": "scatter3d"
           }
          ],
          "scattercarpet": [
           {
            "marker": {
             "colorbar": {
              "outlinewidth": 0,
              "ticks": ""
             }
            },
            "type": "scattercarpet"
           }
          ],
          "scattergeo": [
           {
            "marker": {
             "colorbar": {
              "outlinewidth": 0,
              "ticks": ""
             }
            },
            "type": "scattergeo"
           }
          ],
          "scattergl": [
           {
            "marker": {
             "colorbar": {
              "outlinewidth": 0,
              "ticks": ""
             }
            },
            "type": "scattergl"
           }
          ],
          "scattermapbox": [
           {
            "marker": {
             "colorbar": {
              "outlinewidth": 0,
              "ticks": ""
             }
            },
            "type": "scattermapbox"
           }
          ],
          "scatterpolar": [
           {
            "marker": {
             "colorbar": {
              "outlinewidth": 0,
              "ticks": ""
             }
            },
            "type": "scatterpolar"
           }
          ],
          "scatterpolargl": [
           {
            "marker": {
             "colorbar": {
              "outlinewidth": 0,
              "ticks": ""
             }
            },
            "type": "scatterpolargl"
           }
          ],
          "scatterternary": [
           {
            "marker": {
             "colorbar": {
              "outlinewidth": 0,
              "ticks": ""
             }
            },
            "type": "scatterternary"
           }
          ],
          "surface": [
           {
            "colorbar": {
             "outlinewidth": 0,
             "ticks": ""
            },
            "colorscale": [
             [
              0,
              "#0d0887"
             ],
             [
              0.1111111111111111,
              "#46039f"
             ],
             [
              0.2222222222222222,
              "#7201a8"
             ],
             [
              0.3333333333333333,
              "#9c179e"
             ],
             [
              0.4444444444444444,
              "#bd3786"
             ],
             [
              0.5555555555555556,
              "#d8576b"
             ],
             [
              0.6666666666666666,
              "#ed7953"
             ],
             [
              0.7777777777777778,
              "#fb9f3a"
             ],
             [
              0.8888888888888888,
              "#fdca26"
             ],
             [
              1,
              "#f0f921"
             ]
            ],
            "type": "surface"
           }
          ],
          "table": [
           {
            "cells": {
             "fill": {
              "color": "#EBF0F8"
             },
             "line": {
              "color": "white"
             }
            },
            "header": {
             "fill": {
              "color": "#C8D4E3"
             },
             "line": {
              "color": "white"
             }
            },
            "type": "table"
           }
          ]
         },
         "layout": {
          "annotationdefaults": {
           "arrowcolor": "#2a3f5f",
           "arrowhead": 0,
           "arrowwidth": 1
          },
          "autotypenumbers": "strict",
          "coloraxis": {
           "colorbar": {
            "outlinewidth": 0,
            "ticks": ""
           }
          },
          "colorscale": {
           "diverging": [
            [
             0,
             "#8e0152"
            ],
            [
             0.1,
             "#c51b7d"
            ],
            [
             0.2,
             "#de77ae"
            ],
            [
             0.3,
             "#f1b6da"
            ],
            [
             0.4,
             "#fde0ef"
            ],
            [
             0.5,
             "#f7f7f7"
            ],
            [
             0.6,
             "#e6f5d0"
            ],
            [
             0.7,
             "#b8e186"
            ],
            [
             0.8,
             "#7fbc41"
            ],
            [
             0.9,
             "#4d9221"
            ],
            [
             1,
             "#276419"
            ]
           ],
           "sequential": [
            [
             0,
             "#0d0887"
            ],
            [
             0.1111111111111111,
             "#46039f"
            ],
            [
             0.2222222222222222,
             "#7201a8"
            ],
            [
             0.3333333333333333,
             "#9c179e"
            ],
            [
             0.4444444444444444,
             "#bd3786"
            ],
            [
             0.5555555555555556,
             "#d8576b"
            ],
            [
             0.6666666666666666,
             "#ed7953"
            ],
            [
             0.7777777777777778,
             "#fb9f3a"
            ],
            [
             0.8888888888888888,
             "#fdca26"
            ],
            [
             1,
             "#f0f921"
            ]
           ],
           "sequentialminus": [
            [
             0,
             "#0d0887"
            ],
            [
             0.1111111111111111,
             "#46039f"
            ],
            [
             0.2222222222222222,
             "#7201a8"
            ],
            [
             0.3333333333333333,
             "#9c179e"
            ],
            [
             0.4444444444444444,
             "#bd3786"
            ],
            [
             0.5555555555555556,
             "#d8576b"
            ],
            [
             0.6666666666666666,
             "#ed7953"
            ],
            [
             0.7777777777777778,
             "#fb9f3a"
            ],
            [
             0.8888888888888888,
             "#fdca26"
            ],
            [
             1,
             "#f0f921"
            ]
           ]
          },
          "colorway": [
           "#636efa",
           "#EF553B",
           "#00cc96",
           "#ab63fa",
           "#FFA15A",
           "#19d3f3",
           "#FF6692",
           "#B6E880",
           "#FF97FF",
           "#FECB52"
          ],
          "font": {
           "color": "#2a3f5f"
          },
          "geo": {
           "bgcolor": "white",
           "lakecolor": "white",
           "landcolor": "white",
           "showlakes": true,
           "showland": true,
           "subunitcolor": "#C8D4E3"
          },
          "hoverlabel": {
           "align": "left"
          },
          "hovermode": "closest",
          "mapbox": {
           "style": "light"
          },
          "paper_bgcolor": "white",
          "plot_bgcolor": "white",
          "polar": {
           "angularaxis": {
            "gridcolor": "#EBF0F8",
            "linecolor": "#EBF0F8",
            "ticks": ""
           },
           "bgcolor": "white",
           "radialaxis": {
            "gridcolor": "#EBF0F8",
            "linecolor": "#EBF0F8",
            "ticks": ""
           }
          },
          "scene": {
           "xaxis": {
            "backgroundcolor": "white",
            "gridcolor": "#DFE8F3",
            "gridwidth": 2,
            "linecolor": "#EBF0F8",
            "showbackground": true,
            "ticks": "",
            "zerolinecolor": "#EBF0F8"
           },
           "yaxis": {
            "backgroundcolor": "white",
            "gridcolor": "#DFE8F3",
            "gridwidth": 2,
            "linecolor": "#EBF0F8",
            "showbackground": true,
            "ticks": "",
            "zerolinecolor": "#EBF0F8"
           },
           "zaxis": {
            "backgroundcolor": "white",
            "gridcolor": "#DFE8F3",
            "gridwidth": 2,
            "linecolor": "#EBF0F8",
            "showbackground": true,
            "ticks": "",
            "zerolinecolor": "#EBF0F8"
           }
          },
          "shapedefaults": {
           "line": {
            "color": "#2a3f5f"
           }
          },
          "ternary": {
           "aaxis": {
            "gridcolor": "#DFE8F3",
            "linecolor": "#A2B1C6",
            "ticks": ""
           },
           "baxis": {
            "gridcolor": "#DFE8F3",
            "linecolor": "#A2B1C6",
            "ticks": ""
           },
           "bgcolor": "white",
           "caxis": {
            "gridcolor": "#DFE8F3",
            "linecolor": "#A2B1C6",
            "ticks": ""
           }
          },
          "title": {
           "x": 0.05
          },
          "xaxis": {
           "automargin": true,
           "gridcolor": "#EBF0F8",
           "linecolor": "#EBF0F8",
           "ticks": "",
           "title": {
            "standoff": 15
           },
           "zerolinecolor": "#EBF0F8",
           "zerolinewidth": 2
          },
          "yaxis": {
           "automargin": true,
           "gridcolor": "#EBF0F8",
           "linecolor": "#EBF0F8",
           "ticks": "",
           "title": {
            "standoff": 15
           },
           "zerolinecolor": "#EBF0F8",
           "zerolinewidth": 2
          }
         }
        },
        "title": {
         "text": "Cinsiyet ve Gelme Durumu Dağılımı"
        },
        "xaxis": {
         "anchor": "y",
         "domain": [
          0,
          1
         ],
         "title": {
          "text": "Cinsiyet"
         }
        },
        "yaxis": {
         "anchor": "x",
         "domain": [
          0,
          1
         ],
         "title": {
          "text": "Toplam Sayı"
         }
        }
       }
      }
     },
     "metadata": {},
     "output_type": "display_data"
    }
   ],
   "source": [
    "g_s_c = data.groupby(['PatientGender', 'NoShow']).size().reset_index(name='count')\n",
    "\n",
    "fig = px.bar(g_s_c, \n",
    "             x='PatientGender', \n",
    "             y='count',\n",
    "             color='NoShow',\n",
    "             labels={'PatientGender': 'Cinsiyet',\n",
    "                     'count': 'Toplam Sayı',\n",
    "                     'NoShow': 'Geldi mi'},\n",
    "             title='Cinsiyet ve Gelme Durumu Dağılımı',\n",
    "             template='plotly_white',\n",
    "             color_discrete_map={'Yes': '#FF5733',# renk haritasi\n",
    "                                 'No': '#3498DB'})\n",
    "\n",
    "# Grafik gösterimini iyileştirme\n",
    "fig.update_layout(barmode='group')\n",
    "\n",
    "fig.show()"
   ]
  },
  {
   "cell_type": "code",
   "execution_count": 71,
   "id": "2ee59dc3",
   "metadata": {},
   "outputs": [
    {
     "data": {
      "application/vnd.plotly.v1+json": {
       "config": {
        "plotlyServerURL": "https://plot.ly"
       },
       "data": [
        {
         "domain": {
          "x": [
           0,
           1
          ],
          "y": [
           0,
           1
          ]
         },
         "hovertemplate": "Cinsiyet=%{label}<br>Toplam Sayı=%{value}<extra></extra>",
         "labels": [
          "Male",
          "Female"
         ],
         "legendgroup": "",
         "name": "",
         "showlegend": true,
         "type": "pie",
         "values": [
          512,
          488
         ]
        }
       ],
       "layout": {
        "legend": {
         "tracegroupgap": 0
        },
        "template": {
         "data": {
          "bar": [
           {
            "error_x": {
             "color": "#2a3f5f"
            },
            "error_y": {
             "color": "#2a3f5f"
            },
            "marker": {
             "line": {
              "color": "white",
              "width": 0.5
             },
             "pattern": {
              "fillmode": "overlay",
              "size": 10,
              "solidity": 0.2
             }
            },
            "type": "bar"
           }
          ],
          "barpolar": [
           {
            "marker": {
             "line": {
              "color": "white",
              "width": 0.5
             },
             "pattern": {
              "fillmode": "overlay",
              "size": 10,
              "solidity": 0.2
             }
            },
            "type": "barpolar"
           }
          ],
          "carpet": [
           {
            "aaxis": {
             "endlinecolor": "#2a3f5f",
             "gridcolor": "#C8D4E3",
             "linecolor": "#C8D4E3",
             "minorgridcolor": "#C8D4E3",
             "startlinecolor": "#2a3f5f"
            },
            "baxis": {
             "endlinecolor": "#2a3f5f",
             "gridcolor": "#C8D4E3",
             "linecolor": "#C8D4E3",
             "minorgridcolor": "#C8D4E3",
             "startlinecolor": "#2a3f5f"
            },
            "type": "carpet"
           }
          ],
          "choropleth": [
           {
            "colorbar": {
             "outlinewidth": 0,
             "ticks": ""
            },
            "type": "choropleth"
           }
          ],
          "contour": [
           {
            "colorbar": {
             "outlinewidth": 0,
             "ticks": ""
            },
            "colorscale": [
             [
              0,
              "#0d0887"
             ],
             [
              0.1111111111111111,
              "#46039f"
             ],
             [
              0.2222222222222222,
              "#7201a8"
             ],
             [
              0.3333333333333333,
              "#9c179e"
             ],
             [
              0.4444444444444444,
              "#bd3786"
             ],
             [
              0.5555555555555556,
              "#d8576b"
             ],
             [
              0.6666666666666666,
              "#ed7953"
             ],
             [
              0.7777777777777778,
              "#fb9f3a"
             ],
             [
              0.8888888888888888,
              "#fdca26"
             ],
             [
              1,
              "#f0f921"
             ]
            ],
            "type": "contour"
           }
          ],
          "contourcarpet": [
           {
            "colorbar": {
             "outlinewidth": 0,
             "ticks": ""
            },
            "type": "contourcarpet"
           }
          ],
          "heatmap": [
           {
            "colorbar": {
             "outlinewidth": 0,
             "ticks": ""
            },
            "colorscale": [
             [
              0,
              "#0d0887"
             ],
             [
              0.1111111111111111,
              "#46039f"
             ],
             [
              0.2222222222222222,
              "#7201a8"
             ],
             [
              0.3333333333333333,
              "#9c179e"
             ],
             [
              0.4444444444444444,
              "#bd3786"
             ],
             [
              0.5555555555555556,
              "#d8576b"
             ],
             [
              0.6666666666666666,
              "#ed7953"
             ],
             [
              0.7777777777777778,
              "#fb9f3a"
             ],
             [
              0.8888888888888888,
              "#fdca26"
             ],
             [
              1,
              "#f0f921"
             ]
            ],
            "type": "heatmap"
           }
          ],
          "heatmapgl": [
           {
            "colorbar": {
             "outlinewidth": 0,
             "ticks": ""
            },
            "colorscale": [
             [
              0,
              "#0d0887"
             ],
             [
              0.1111111111111111,
              "#46039f"
             ],
             [
              0.2222222222222222,
              "#7201a8"
             ],
             [
              0.3333333333333333,
              "#9c179e"
             ],
             [
              0.4444444444444444,
              "#bd3786"
             ],
             [
              0.5555555555555556,
              "#d8576b"
             ],
             [
              0.6666666666666666,
              "#ed7953"
             ],
             [
              0.7777777777777778,
              "#fb9f3a"
             ],
             [
              0.8888888888888888,
              "#fdca26"
             ],
             [
              1,
              "#f0f921"
             ]
            ],
            "type": "heatmapgl"
           }
          ],
          "histogram": [
           {
            "marker": {
             "pattern": {
              "fillmode": "overlay",
              "size": 10,
              "solidity": 0.2
             }
            },
            "type": "histogram"
           }
          ],
          "histogram2d": [
           {
            "colorbar": {
             "outlinewidth": 0,
             "ticks": ""
            },
            "colorscale": [
             [
              0,
              "#0d0887"
             ],
             [
              0.1111111111111111,
              "#46039f"
             ],
             [
              0.2222222222222222,
              "#7201a8"
             ],
             [
              0.3333333333333333,
              "#9c179e"
             ],
             [
              0.4444444444444444,
              "#bd3786"
             ],
             [
              0.5555555555555556,
              "#d8576b"
             ],
             [
              0.6666666666666666,
              "#ed7953"
             ],
             [
              0.7777777777777778,
              "#fb9f3a"
             ],
             [
              0.8888888888888888,
              "#fdca26"
             ],
             [
              1,
              "#f0f921"
             ]
            ],
            "type": "histogram2d"
           }
          ],
          "histogram2dcontour": [
           {
            "colorbar": {
             "outlinewidth": 0,
             "ticks": ""
            },
            "colorscale": [
             [
              0,
              "#0d0887"
             ],
             [
              0.1111111111111111,
              "#46039f"
             ],
             [
              0.2222222222222222,
              "#7201a8"
             ],
             [
              0.3333333333333333,
              "#9c179e"
             ],
             [
              0.4444444444444444,
              "#bd3786"
             ],
             [
              0.5555555555555556,
              "#d8576b"
             ],
             [
              0.6666666666666666,
              "#ed7953"
             ],
             [
              0.7777777777777778,
              "#fb9f3a"
             ],
             [
              0.8888888888888888,
              "#fdca26"
             ],
             [
              1,
              "#f0f921"
             ]
            ],
            "type": "histogram2dcontour"
           }
          ],
          "mesh3d": [
           {
            "colorbar": {
             "outlinewidth": 0,
             "ticks": ""
            },
            "type": "mesh3d"
           }
          ],
          "parcoords": [
           {
            "line": {
             "colorbar": {
              "outlinewidth": 0,
              "ticks": ""
             }
            },
            "type": "parcoords"
           }
          ],
          "pie": [
           {
            "automargin": true,
            "type": "pie"
           }
          ],
          "scatter": [
           {
            "fillpattern": {
             "fillmode": "overlay",
             "size": 10,
             "solidity": 0.2
            },
            "type": "scatter"
           }
          ],
          "scatter3d": [
           {
            "line": {
             "colorbar": {
              "outlinewidth": 0,
              "ticks": ""
             }
            },
            "marker": {
             "colorbar": {
              "outlinewidth": 0,
              "ticks": ""
             }
            },
            "type": "scatter3d"
           }
          ],
          "scattercarpet": [
           {
            "marker": {
             "colorbar": {
              "outlinewidth": 0,
              "ticks": ""
             }
            },
            "type": "scattercarpet"
           }
          ],
          "scattergeo": [
           {
            "marker": {
             "colorbar": {
              "outlinewidth": 0,
              "ticks": ""
             }
            },
            "type": "scattergeo"
           }
          ],
          "scattergl": [
           {
            "marker": {
             "colorbar": {
              "outlinewidth": 0,
              "ticks": ""
             }
            },
            "type": "scattergl"
           }
          ],
          "scattermapbox": [
           {
            "marker": {
             "colorbar": {
              "outlinewidth": 0,
              "ticks": ""
             }
            },
            "type": "scattermapbox"
           }
          ],
          "scatterpolar": [
           {
            "marker": {
             "colorbar": {
              "outlinewidth": 0,
              "ticks": ""
             }
            },
            "type": "scatterpolar"
           }
          ],
          "scatterpolargl": [
           {
            "marker": {
             "colorbar": {
              "outlinewidth": 0,
              "ticks": ""
             }
            },
            "type": "scatterpolargl"
           }
          ],
          "scatterternary": [
           {
            "marker": {
             "colorbar": {
              "outlinewidth": 0,
              "ticks": ""
             }
            },
            "type": "scatterternary"
           }
          ],
          "surface": [
           {
            "colorbar": {
             "outlinewidth": 0,
             "ticks": ""
            },
            "colorscale": [
             [
              0,
              "#0d0887"
             ],
             [
              0.1111111111111111,
              "#46039f"
             ],
             [
              0.2222222222222222,
              "#7201a8"
             ],
             [
              0.3333333333333333,
              "#9c179e"
             ],
             [
              0.4444444444444444,
              "#bd3786"
             ],
             [
              0.5555555555555556,
              "#d8576b"
             ],
             [
              0.6666666666666666,
              "#ed7953"
             ],
             [
              0.7777777777777778,
              "#fb9f3a"
             ],
             [
              0.8888888888888888,
              "#fdca26"
             ],
             [
              1,
              "#f0f921"
             ]
            ],
            "type": "surface"
           }
          ],
          "table": [
           {
            "cells": {
             "fill": {
              "color": "#EBF0F8"
             },
             "line": {
              "color": "white"
             }
            },
            "header": {
             "fill": {
              "color": "#C8D4E3"
             },
             "line": {
              "color": "white"
             }
            },
            "type": "table"
           }
          ]
         },
         "layout": {
          "annotationdefaults": {
           "arrowcolor": "#2a3f5f",
           "arrowhead": 0,
           "arrowwidth": 1
          },
          "autotypenumbers": "strict",
          "coloraxis": {
           "colorbar": {
            "outlinewidth": 0,
            "ticks": ""
           }
          },
          "colorscale": {
           "diverging": [
            [
             0,
             "#8e0152"
            ],
            [
             0.1,
             "#c51b7d"
            ],
            [
             0.2,
             "#de77ae"
            ],
            [
             0.3,
             "#f1b6da"
            ],
            [
             0.4,
             "#fde0ef"
            ],
            [
             0.5,
             "#f7f7f7"
            ],
            [
             0.6,
             "#e6f5d0"
            ],
            [
             0.7,
             "#b8e186"
            ],
            [
             0.8,
             "#7fbc41"
            ],
            [
             0.9,
             "#4d9221"
            ],
            [
             1,
             "#276419"
            ]
           ],
           "sequential": [
            [
             0,
             "#0d0887"
            ],
            [
             0.1111111111111111,
             "#46039f"
            ],
            [
             0.2222222222222222,
             "#7201a8"
            ],
            [
             0.3333333333333333,
             "#9c179e"
            ],
            [
             0.4444444444444444,
             "#bd3786"
            ],
            [
             0.5555555555555556,
             "#d8576b"
            ],
            [
             0.6666666666666666,
             "#ed7953"
            ],
            [
             0.7777777777777778,
             "#fb9f3a"
            ],
            [
             0.8888888888888888,
             "#fdca26"
            ],
            [
             1,
             "#f0f921"
            ]
           ],
           "sequentialminus": [
            [
             0,
             "#0d0887"
            ],
            [
             0.1111111111111111,
             "#46039f"
            ],
            [
             0.2222222222222222,
             "#7201a8"
            ],
            [
             0.3333333333333333,
             "#9c179e"
            ],
            [
             0.4444444444444444,
             "#bd3786"
            ],
            [
             0.5555555555555556,
             "#d8576b"
            ],
            [
             0.6666666666666666,
             "#ed7953"
            ],
            [
             0.7777777777777778,
             "#fb9f3a"
            ],
            [
             0.8888888888888888,
             "#fdca26"
            ],
            [
             1,
             "#f0f921"
            ]
           ]
          },
          "colorway": [
           "#636efa",
           "#EF553B",
           "#00cc96",
           "#ab63fa",
           "#FFA15A",
           "#19d3f3",
           "#FF6692",
           "#B6E880",
           "#FF97FF",
           "#FECB52"
          ],
          "font": {
           "color": "#2a3f5f"
          },
          "geo": {
           "bgcolor": "white",
           "lakecolor": "white",
           "landcolor": "white",
           "showlakes": true,
           "showland": true,
           "subunitcolor": "#C8D4E3"
          },
          "hoverlabel": {
           "align": "left"
          },
          "hovermode": "closest",
          "mapbox": {
           "style": "light"
          },
          "paper_bgcolor": "white",
          "plot_bgcolor": "white",
          "polar": {
           "angularaxis": {
            "gridcolor": "#EBF0F8",
            "linecolor": "#EBF0F8",
            "ticks": ""
           },
           "bgcolor": "white",
           "radialaxis": {
            "gridcolor": "#EBF0F8",
            "linecolor": "#EBF0F8",
            "ticks": ""
           }
          },
          "scene": {
           "xaxis": {
            "backgroundcolor": "white",
            "gridcolor": "#DFE8F3",
            "gridwidth": 2,
            "linecolor": "#EBF0F8",
            "showbackground": true,
            "ticks": "",
            "zerolinecolor": "#EBF0F8"
           },
           "yaxis": {
            "backgroundcolor": "white",
            "gridcolor": "#DFE8F3",
            "gridwidth": 2,
            "linecolor": "#EBF0F8",
            "showbackground": true,
            "ticks": "",
            "zerolinecolor": "#EBF0F8"
           },
           "zaxis": {
            "backgroundcolor": "white",
            "gridcolor": "#DFE8F3",
            "gridwidth": 2,
            "linecolor": "#EBF0F8",
            "showbackground": true,
            "ticks": "",
            "zerolinecolor": "#EBF0F8"
           }
          },
          "shapedefaults": {
           "line": {
            "color": "#2a3f5f"
           }
          },
          "ternary": {
           "aaxis": {
            "gridcolor": "#DFE8F3",
            "linecolor": "#A2B1C6",
            "ticks": ""
           },
           "baxis": {
            "gridcolor": "#DFE8F3",
            "linecolor": "#A2B1C6",
            "ticks": ""
           },
           "bgcolor": "white",
           "caxis": {
            "gridcolor": "#DFE8F3",
            "linecolor": "#A2B1C6",
            "ticks": ""
           }
          },
          "title": {
           "x": 0.05
          },
          "xaxis": {
           "automargin": true,
           "gridcolor": "#EBF0F8",
           "linecolor": "#EBF0F8",
           "ticks": "",
           "title": {
            "standoff": 15
           },
           "zerolinecolor": "#EBF0F8",
           "zerolinewidth": 2
          },
          "yaxis": {
           "automargin": true,
           "gridcolor": "#EBF0F8",
           "linecolor": "#EBF0F8",
           "ticks": "",
           "title": {
            "standoff": 15
           },
           "zerolinecolor": "#EBF0F8",
           "zerolinewidth": 2
          }
         }
        },
        "title": {
         "text": "Cinsiyet Dağılımı"
        }
       }
      }
     },
     "metadata": {},
     "output_type": "display_data"
    }
   ],
   "source": [
    "# Plotly ile pasta grafiği (pie chart) oluşturma\n",
    "# cinsiyet dağılımı \n",
    "cnt_gndr = data['PatientGender'].value_counts()\n",
    "\n",
    "fig = px.pie(names=cnt_gndr.index,\n",
    "             values=cnt_gndr.values,\n",
    "             title='Cinsiyet Dağılımı',\n",
    "             \n",
    "             labels={'names': 'Cinsiyet',\n",
    "                     'values': 'Toplam Sayı'},\n",
    "             \n",
    "             template='plotly_white')\n",
    "fig.show()"
   ]
  },
  {
   "cell_type": "code",
   "execution_count": 72,
   "id": "ea8480f8",
   "metadata": {},
   "outputs": [
    {
     "data": {
      "application/vnd.plotly.v1+json": {
       "config": {
        "plotlyServerURL": "https://plot.ly"
       },
       "data": [
        {
         "domain": {
          "x": [
           0,
           1
          ],
          "y": [
           0,
           1
          ]
         },
         "hovertemplate": "Gelme=%{label}<br>Toplam Sayı=%{value}<extra></extra>",
         "labels": [
          "No",
          "Yes"
         ],
         "legendgroup": "",
         "name": "",
         "showlegend": true,
         "type": "pie",
         "values": [
          664,
          336
         ]
        }
       ],
       "layout": {
        "legend": {
         "tracegroupgap": 0
        },
        "template": {
         "data": {
          "bar": [
           {
            "error_x": {
             "color": "#2a3f5f"
            },
            "error_y": {
             "color": "#2a3f5f"
            },
            "marker": {
             "line": {
              "color": "white",
              "width": 0.5
             },
             "pattern": {
              "fillmode": "overlay",
              "size": 10,
              "solidity": 0.2
             }
            },
            "type": "bar"
           }
          ],
          "barpolar": [
           {
            "marker": {
             "line": {
              "color": "white",
              "width": 0.5
             },
             "pattern": {
              "fillmode": "overlay",
              "size": 10,
              "solidity": 0.2
             }
            },
            "type": "barpolar"
           }
          ],
          "carpet": [
           {
            "aaxis": {
             "endlinecolor": "#2a3f5f",
             "gridcolor": "#C8D4E3",
             "linecolor": "#C8D4E3",
             "minorgridcolor": "#C8D4E3",
             "startlinecolor": "#2a3f5f"
            },
            "baxis": {
             "endlinecolor": "#2a3f5f",
             "gridcolor": "#C8D4E3",
             "linecolor": "#C8D4E3",
             "minorgridcolor": "#C8D4E3",
             "startlinecolor": "#2a3f5f"
            },
            "type": "carpet"
           }
          ],
          "choropleth": [
           {
            "colorbar": {
             "outlinewidth": 0,
             "ticks": ""
            },
            "type": "choropleth"
           }
          ],
          "contour": [
           {
            "colorbar": {
             "outlinewidth": 0,
             "ticks": ""
            },
            "colorscale": [
             [
              0,
              "#0d0887"
             ],
             [
              0.1111111111111111,
              "#46039f"
             ],
             [
              0.2222222222222222,
              "#7201a8"
             ],
             [
              0.3333333333333333,
              "#9c179e"
             ],
             [
              0.4444444444444444,
              "#bd3786"
             ],
             [
              0.5555555555555556,
              "#d8576b"
             ],
             [
              0.6666666666666666,
              "#ed7953"
             ],
             [
              0.7777777777777778,
              "#fb9f3a"
             ],
             [
              0.8888888888888888,
              "#fdca26"
             ],
             [
              1,
              "#f0f921"
             ]
            ],
            "type": "contour"
           }
          ],
          "contourcarpet": [
           {
            "colorbar": {
             "outlinewidth": 0,
             "ticks": ""
            },
            "type": "contourcarpet"
           }
          ],
          "heatmap": [
           {
            "colorbar": {
             "outlinewidth": 0,
             "ticks": ""
            },
            "colorscale": [
             [
              0,
              "#0d0887"
             ],
             [
              0.1111111111111111,
              "#46039f"
             ],
             [
              0.2222222222222222,
              "#7201a8"
             ],
             [
              0.3333333333333333,
              "#9c179e"
             ],
             [
              0.4444444444444444,
              "#bd3786"
             ],
             [
              0.5555555555555556,
              "#d8576b"
             ],
             [
              0.6666666666666666,
              "#ed7953"
             ],
             [
              0.7777777777777778,
              "#fb9f3a"
             ],
             [
              0.8888888888888888,
              "#fdca26"
             ],
             [
              1,
              "#f0f921"
             ]
            ],
            "type": "heatmap"
           }
          ],
          "heatmapgl": [
           {
            "colorbar": {
             "outlinewidth": 0,
             "ticks": ""
            },
            "colorscale": [
             [
              0,
              "#0d0887"
             ],
             [
              0.1111111111111111,
              "#46039f"
             ],
             [
              0.2222222222222222,
              "#7201a8"
             ],
             [
              0.3333333333333333,
              "#9c179e"
             ],
             [
              0.4444444444444444,
              "#bd3786"
             ],
             [
              0.5555555555555556,
              "#d8576b"
             ],
             [
              0.6666666666666666,
              "#ed7953"
             ],
             [
              0.7777777777777778,
              "#fb9f3a"
             ],
             [
              0.8888888888888888,
              "#fdca26"
             ],
             [
              1,
              "#f0f921"
             ]
            ],
            "type": "heatmapgl"
           }
          ],
          "histogram": [
           {
            "marker": {
             "pattern": {
              "fillmode": "overlay",
              "size": 10,
              "solidity": 0.2
             }
            },
            "type": "histogram"
           }
          ],
          "histogram2d": [
           {
            "colorbar": {
             "outlinewidth": 0,
             "ticks": ""
            },
            "colorscale": [
             [
              0,
              "#0d0887"
             ],
             [
              0.1111111111111111,
              "#46039f"
             ],
             [
              0.2222222222222222,
              "#7201a8"
             ],
             [
              0.3333333333333333,
              "#9c179e"
             ],
             [
              0.4444444444444444,
              "#bd3786"
             ],
             [
              0.5555555555555556,
              "#d8576b"
             ],
             [
              0.6666666666666666,
              "#ed7953"
             ],
             [
              0.7777777777777778,
              "#fb9f3a"
             ],
             [
              0.8888888888888888,
              "#fdca26"
             ],
             [
              1,
              "#f0f921"
             ]
            ],
            "type": "histogram2d"
           }
          ],
          "histogram2dcontour": [
           {
            "colorbar": {
             "outlinewidth": 0,
             "ticks": ""
            },
            "colorscale": [
             [
              0,
              "#0d0887"
             ],
             [
              0.1111111111111111,
              "#46039f"
             ],
             [
              0.2222222222222222,
              "#7201a8"
             ],
             [
              0.3333333333333333,
              "#9c179e"
             ],
             [
              0.4444444444444444,
              "#bd3786"
             ],
             [
              0.5555555555555556,
              "#d8576b"
             ],
             [
              0.6666666666666666,
              "#ed7953"
             ],
             [
              0.7777777777777778,
              "#fb9f3a"
             ],
             [
              0.8888888888888888,
              "#fdca26"
             ],
             [
              1,
              "#f0f921"
             ]
            ],
            "type": "histogram2dcontour"
           }
          ],
          "mesh3d": [
           {
            "colorbar": {
             "outlinewidth": 0,
             "ticks": ""
            },
            "type": "mesh3d"
           }
          ],
          "parcoords": [
           {
            "line": {
             "colorbar": {
              "outlinewidth": 0,
              "ticks": ""
             }
            },
            "type": "parcoords"
           }
          ],
          "pie": [
           {
            "automargin": true,
            "type": "pie"
           }
          ],
          "scatter": [
           {
            "fillpattern": {
             "fillmode": "overlay",
             "size": 10,
             "solidity": 0.2
            },
            "type": "scatter"
           }
          ],
          "scatter3d": [
           {
            "line": {
             "colorbar": {
              "outlinewidth": 0,
              "ticks": ""
             }
            },
            "marker": {
             "colorbar": {
              "outlinewidth": 0,
              "ticks": ""
             }
            },
            "type": "scatter3d"
           }
          ],
          "scattercarpet": [
           {
            "marker": {
             "colorbar": {
              "outlinewidth": 0,
              "ticks": ""
             }
            },
            "type": "scattercarpet"
           }
          ],
          "scattergeo": [
           {
            "marker": {
             "colorbar": {
              "outlinewidth": 0,
              "ticks": ""
             }
            },
            "type": "scattergeo"
           }
          ],
          "scattergl": [
           {
            "marker": {
             "colorbar": {
              "outlinewidth": 0,
              "ticks": ""
             }
            },
            "type": "scattergl"
           }
          ],
          "scattermapbox": [
           {
            "marker": {
             "colorbar": {
              "outlinewidth": 0,
              "ticks": ""
             }
            },
            "type": "scattermapbox"
           }
          ],
          "scatterpolar": [
           {
            "marker": {
             "colorbar": {
              "outlinewidth": 0,
              "ticks": ""
             }
            },
            "type": "scatterpolar"
           }
          ],
          "scatterpolargl": [
           {
            "marker": {
             "colorbar": {
              "outlinewidth": 0,
              "ticks": ""
             }
            },
            "type": "scatterpolargl"
           }
          ],
          "scatterternary": [
           {
            "marker": {
             "colorbar": {
              "outlinewidth": 0,
              "ticks": ""
             }
            },
            "type": "scatterternary"
           }
          ],
          "surface": [
           {
            "colorbar": {
             "outlinewidth": 0,
             "ticks": ""
            },
            "colorscale": [
             [
              0,
              "#0d0887"
             ],
             [
              0.1111111111111111,
              "#46039f"
             ],
             [
              0.2222222222222222,
              "#7201a8"
             ],
             [
              0.3333333333333333,
              "#9c179e"
             ],
             [
              0.4444444444444444,
              "#bd3786"
             ],
             [
              0.5555555555555556,
              "#d8576b"
             ],
             [
              0.6666666666666666,
              "#ed7953"
             ],
             [
              0.7777777777777778,
              "#fb9f3a"
             ],
             [
              0.8888888888888888,
              "#fdca26"
             ],
             [
              1,
              "#f0f921"
             ]
            ],
            "type": "surface"
           }
          ],
          "table": [
           {
            "cells": {
             "fill": {
              "color": "#EBF0F8"
             },
             "line": {
              "color": "white"
             }
            },
            "header": {
             "fill": {
              "color": "#C8D4E3"
             },
             "line": {
              "color": "white"
             }
            },
            "type": "table"
           }
          ]
         },
         "layout": {
          "annotationdefaults": {
           "arrowcolor": "#2a3f5f",
           "arrowhead": 0,
           "arrowwidth": 1
          },
          "autotypenumbers": "strict",
          "coloraxis": {
           "colorbar": {
            "outlinewidth": 0,
            "ticks": ""
           }
          },
          "colorscale": {
           "diverging": [
            [
             0,
             "#8e0152"
            ],
            [
             0.1,
             "#c51b7d"
            ],
            [
             0.2,
             "#de77ae"
            ],
            [
             0.3,
             "#f1b6da"
            ],
            [
             0.4,
             "#fde0ef"
            ],
            [
             0.5,
             "#f7f7f7"
            ],
            [
             0.6,
             "#e6f5d0"
            ],
            [
             0.7,
             "#b8e186"
            ],
            [
             0.8,
             "#7fbc41"
            ],
            [
             0.9,
             "#4d9221"
            ],
            [
             1,
             "#276419"
            ]
           ],
           "sequential": [
            [
             0,
             "#0d0887"
            ],
            [
             0.1111111111111111,
             "#46039f"
            ],
            [
             0.2222222222222222,
             "#7201a8"
            ],
            [
             0.3333333333333333,
             "#9c179e"
            ],
            [
             0.4444444444444444,
             "#bd3786"
            ],
            [
             0.5555555555555556,
             "#d8576b"
            ],
            [
             0.6666666666666666,
             "#ed7953"
            ],
            [
             0.7777777777777778,
             "#fb9f3a"
            ],
            [
             0.8888888888888888,
             "#fdca26"
            ],
            [
             1,
             "#f0f921"
            ]
           ],
           "sequentialminus": [
            [
             0,
             "#0d0887"
            ],
            [
             0.1111111111111111,
             "#46039f"
            ],
            [
             0.2222222222222222,
             "#7201a8"
            ],
            [
             0.3333333333333333,
             "#9c179e"
            ],
            [
             0.4444444444444444,
             "#bd3786"
            ],
            [
             0.5555555555555556,
             "#d8576b"
            ],
            [
             0.6666666666666666,
             "#ed7953"
            ],
            [
             0.7777777777777778,
             "#fb9f3a"
            ],
            [
             0.8888888888888888,
             "#fdca26"
            ],
            [
             1,
             "#f0f921"
            ]
           ]
          },
          "colorway": [
           "#636efa",
           "#EF553B",
           "#00cc96",
           "#ab63fa",
           "#FFA15A",
           "#19d3f3",
           "#FF6692",
           "#B6E880",
           "#FF97FF",
           "#FECB52"
          ],
          "font": {
           "color": "#2a3f5f"
          },
          "geo": {
           "bgcolor": "white",
           "lakecolor": "white",
           "landcolor": "white",
           "showlakes": true,
           "showland": true,
           "subunitcolor": "#C8D4E3"
          },
          "hoverlabel": {
           "align": "left"
          },
          "hovermode": "closest",
          "mapbox": {
           "style": "light"
          },
          "paper_bgcolor": "white",
          "plot_bgcolor": "white",
          "polar": {
           "angularaxis": {
            "gridcolor": "#EBF0F8",
            "linecolor": "#EBF0F8",
            "ticks": ""
           },
           "bgcolor": "white",
           "radialaxis": {
            "gridcolor": "#EBF0F8",
            "linecolor": "#EBF0F8",
            "ticks": ""
           }
          },
          "scene": {
           "xaxis": {
            "backgroundcolor": "white",
            "gridcolor": "#DFE8F3",
            "gridwidth": 2,
            "linecolor": "#EBF0F8",
            "showbackground": true,
            "ticks": "",
            "zerolinecolor": "#EBF0F8"
           },
           "yaxis": {
            "backgroundcolor": "white",
            "gridcolor": "#DFE8F3",
            "gridwidth": 2,
            "linecolor": "#EBF0F8",
            "showbackground": true,
            "ticks": "",
            "zerolinecolor": "#EBF0F8"
           },
           "zaxis": {
            "backgroundcolor": "white",
            "gridcolor": "#DFE8F3",
            "gridwidth": 2,
            "linecolor": "#EBF0F8",
            "showbackground": true,
            "ticks": "",
            "zerolinecolor": "#EBF0F8"
           }
          },
          "shapedefaults": {
           "line": {
            "color": "#2a3f5f"
           }
          },
          "ternary": {
           "aaxis": {
            "gridcolor": "#DFE8F3",
            "linecolor": "#A2B1C6",
            "ticks": ""
           },
           "baxis": {
            "gridcolor": "#DFE8F3",
            "linecolor": "#A2B1C6",
            "ticks": ""
           },
           "bgcolor": "white",
           "caxis": {
            "gridcolor": "#DFE8F3",
            "linecolor": "#A2B1C6",
            "ticks": ""
           }
          },
          "title": {
           "x": 0.05
          },
          "xaxis": {
           "automargin": true,
           "gridcolor": "#EBF0F8",
           "linecolor": "#EBF0F8",
           "ticks": "",
           "title": {
            "standoff": 15
           },
           "zerolinecolor": "#EBF0F8",
           "zerolinewidth": 2
          },
          "yaxis": {
           "automargin": true,
           "gridcolor": "#EBF0F8",
           "linecolor": "#EBF0F8",
           "ticks": "",
           "title": {
            "standoff": 15
           },
           "zerolinecolor": "#EBF0F8",
           "zerolinewidth": 2
          }
         }
        },
        "title": {
         "text": "NoShow Dağılımı"
        }
       }
      }
     },
     "metadata": {},
     "output_type": "display_data"
    }
   ],
   "source": [
    "# Plotly ile pasta grafiği (pie chart) oluşturma\n",
    "\n",
    "# gelip gelmeme dağılımı \n",
    "gelmeme = data['NoShow'].value_counts()\n",
    "\n",
    "fig = px.pie(names=gelmeme.index,\n",
    "             values=gelmeme.values,\n",
    "             title='NoShow Dağılımı',\n",
    "             \n",
    "             labels={'names': 'Gelme',\n",
    "                     'values': 'Toplam Sayı'},\n",
    "             \n",
    "             template='plotly_white')\n",
    "fig.show()"
   ]
  },
  {
   "cell_type": "code",
   "execution_count": 73,
   "id": "aba12123",
   "metadata": {},
   "outputs": [
    {
     "data": {
      "text/plain": [
       "Index(['AppointmentID', 'PatientID', 'AppointmentDate', 'AppointmentTime',\n",
       "       'AppointmentDay', 'PatientAge', 'PatientGender', 'Disease', 'DoctorID',\n",
       "       'PreviousNoShow', 'SMSReminder', 'NoShow'],\n",
       "      dtype='object')"
      ]
     },
     "execution_count": 73,
     "metadata": {},
     "output_type": "execute_result"
    }
   ],
   "source": [
    "data.columns"
   ]
  },
  {
   "cell_type": "code",
   "execution_count": 74,
   "id": "ad846271",
   "metadata": {},
   "outputs": [
    {
     "data": {
      "application/vnd.plotly.v1+json": {
       "config": {
        "plotlyServerURL": "https://plot.ly"
       },
       "data": [
        {
         "alignmentgroup": "True",
         "hovertemplate": "Gelme Durumu=No<br>Gün=%{x}<br>Toplam Sayı=%{y}<extra></extra>",
         "legendgroup": "No",
         "marker": {
          "color": "#00cc96",
          "pattern": {
           "shape": ""
          }
         },
         "name": "No",
         "offsetgroup": "No",
         "orientation": "v",
         "showlegend": true,
         "textposition": "auto",
         "type": "bar",
         "x": [
          "Friday",
          "Monday",
          "Saturday",
          "Sunday",
          "Thursday",
          "Tuesday",
          "Wednesday"
         ],
         "xaxis": "x",
         "y": [
          95,
          97,
          88,
          90,
          99,
          97,
          98
         ],
         "yaxis": "y"
        },
        {
         "alignmentgroup": "True",
         "hovertemplate": "Gelme Durumu=Yes<br>Gün=%{x}<br>Toplam Sayı=%{y}<extra></extra>",
         "legendgroup": "Yes",
         "marker": {
          "color": "#ab63fa",
          "pattern": {
           "shape": ""
          }
         },
         "name": "Yes",
         "offsetgroup": "Yes",
         "orientation": "v",
         "showlegend": true,
         "textposition": "auto",
         "type": "bar",
         "x": [
          "Friday",
          "Monday",
          "Saturday",
          "Sunday",
          "Thursday",
          "Tuesday",
          "Wednesday"
         ],
         "xaxis": "x",
         "y": [
          48,
          46,
          54,
          53,
          44,
          46,
          45
         ],
         "yaxis": "y"
        }
       ],
       "layout": {
        "barmode": "relative",
        "legend": {
         "title": {
          "text": "Gelme Durumu"
         },
         "tracegroupgap": 0
        },
        "template": {
         "data": {
          "bar": [
           {
            "error_x": {
             "color": "#f2f5fa"
            },
            "error_y": {
             "color": "#f2f5fa"
            },
            "marker": {
             "line": {
              "color": "rgb(17,17,17)",
              "width": 0.5
             },
             "pattern": {
              "fillmode": "overlay",
              "size": 10,
              "solidity": 0.2
             }
            },
            "type": "bar"
           }
          ],
          "barpolar": [
           {
            "marker": {
             "line": {
              "color": "rgb(17,17,17)",
              "width": 0.5
             },
             "pattern": {
              "fillmode": "overlay",
              "size": 10,
              "solidity": 0.2
             }
            },
            "type": "barpolar"
           }
          ],
          "carpet": [
           {
            "aaxis": {
             "endlinecolor": "#A2B1C6",
             "gridcolor": "#506784",
             "linecolor": "#506784",
             "minorgridcolor": "#506784",
             "startlinecolor": "#A2B1C6"
            },
            "baxis": {
             "endlinecolor": "#A2B1C6",
             "gridcolor": "#506784",
             "linecolor": "#506784",
             "minorgridcolor": "#506784",
             "startlinecolor": "#A2B1C6"
            },
            "type": "carpet"
           }
          ],
          "choropleth": [
           {
            "colorbar": {
             "outlinewidth": 0,
             "ticks": ""
            },
            "type": "choropleth"
           }
          ],
          "contour": [
           {
            "colorbar": {
             "outlinewidth": 0,
             "ticks": ""
            },
            "colorscale": [
             [
              0,
              "#0d0887"
             ],
             [
              0.1111111111111111,
              "#46039f"
             ],
             [
              0.2222222222222222,
              "#7201a8"
             ],
             [
              0.3333333333333333,
              "#9c179e"
             ],
             [
              0.4444444444444444,
              "#bd3786"
             ],
             [
              0.5555555555555556,
              "#d8576b"
             ],
             [
              0.6666666666666666,
              "#ed7953"
             ],
             [
              0.7777777777777778,
              "#fb9f3a"
             ],
             [
              0.8888888888888888,
              "#fdca26"
             ],
             [
              1,
              "#f0f921"
             ]
            ],
            "type": "contour"
           }
          ],
          "contourcarpet": [
           {
            "colorbar": {
             "outlinewidth": 0,
             "ticks": ""
            },
            "type": "contourcarpet"
           }
          ],
          "heatmap": [
           {
            "colorbar": {
             "outlinewidth": 0,
             "ticks": ""
            },
            "colorscale": [
             [
              0,
              "#0d0887"
             ],
             [
              0.1111111111111111,
              "#46039f"
             ],
             [
              0.2222222222222222,
              "#7201a8"
             ],
             [
              0.3333333333333333,
              "#9c179e"
             ],
             [
              0.4444444444444444,
              "#bd3786"
             ],
             [
              0.5555555555555556,
              "#d8576b"
             ],
             [
              0.6666666666666666,
              "#ed7953"
             ],
             [
              0.7777777777777778,
              "#fb9f3a"
             ],
             [
              0.8888888888888888,
              "#fdca26"
             ],
             [
              1,
              "#f0f921"
             ]
            ],
            "type": "heatmap"
           }
          ],
          "heatmapgl": [
           {
            "colorbar": {
             "outlinewidth": 0,
             "ticks": ""
            },
            "colorscale": [
             [
              0,
              "#0d0887"
             ],
             [
              0.1111111111111111,
              "#46039f"
             ],
             [
              0.2222222222222222,
              "#7201a8"
             ],
             [
              0.3333333333333333,
              "#9c179e"
             ],
             [
              0.4444444444444444,
              "#bd3786"
             ],
             [
              0.5555555555555556,
              "#d8576b"
             ],
             [
              0.6666666666666666,
              "#ed7953"
             ],
             [
              0.7777777777777778,
              "#fb9f3a"
             ],
             [
              0.8888888888888888,
              "#fdca26"
             ],
             [
              1,
              "#f0f921"
             ]
            ],
            "type": "heatmapgl"
           }
          ],
          "histogram": [
           {
            "marker": {
             "pattern": {
              "fillmode": "overlay",
              "size": 10,
              "solidity": 0.2
             }
            },
            "type": "histogram"
           }
          ],
          "histogram2d": [
           {
            "colorbar": {
             "outlinewidth": 0,
             "ticks": ""
            },
            "colorscale": [
             [
              0,
              "#0d0887"
             ],
             [
              0.1111111111111111,
              "#46039f"
             ],
             [
              0.2222222222222222,
              "#7201a8"
             ],
             [
              0.3333333333333333,
              "#9c179e"
             ],
             [
              0.4444444444444444,
              "#bd3786"
             ],
             [
              0.5555555555555556,
              "#d8576b"
             ],
             [
              0.6666666666666666,
              "#ed7953"
             ],
             [
              0.7777777777777778,
              "#fb9f3a"
             ],
             [
              0.8888888888888888,
              "#fdca26"
             ],
             [
              1,
              "#f0f921"
             ]
            ],
            "type": "histogram2d"
           }
          ],
          "histogram2dcontour": [
           {
            "colorbar": {
             "outlinewidth": 0,
             "ticks": ""
            },
            "colorscale": [
             [
              0,
              "#0d0887"
             ],
             [
              0.1111111111111111,
              "#46039f"
             ],
             [
              0.2222222222222222,
              "#7201a8"
             ],
             [
              0.3333333333333333,
              "#9c179e"
             ],
             [
              0.4444444444444444,
              "#bd3786"
             ],
             [
              0.5555555555555556,
              "#d8576b"
             ],
             [
              0.6666666666666666,
              "#ed7953"
             ],
             [
              0.7777777777777778,
              "#fb9f3a"
             ],
             [
              0.8888888888888888,
              "#fdca26"
             ],
             [
              1,
              "#f0f921"
             ]
            ],
            "type": "histogram2dcontour"
           }
          ],
          "mesh3d": [
           {
            "colorbar": {
             "outlinewidth": 0,
             "ticks": ""
            },
            "type": "mesh3d"
           }
          ],
          "parcoords": [
           {
            "line": {
             "colorbar": {
              "outlinewidth": 0,
              "ticks": ""
             }
            },
            "type": "parcoords"
           }
          ],
          "pie": [
           {
            "automargin": true,
            "type": "pie"
           }
          ],
          "scatter": [
           {
            "marker": {
             "line": {
              "color": "#283442"
             }
            },
            "type": "scatter"
           }
          ],
          "scatter3d": [
           {
            "line": {
             "colorbar": {
              "outlinewidth": 0,
              "ticks": ""
             }
            },
            "marker": {
             "colorbar": {
              "outlinewidth": 0,
              "ticks": ""
             }
            },
            "type": "scatter3d"
           }
          ],
          "scattercarpet": [
           {
            "marker": {
             "colorbar": {
              "outlinewidth": 0,
              "ticks": ""
             }
            },
            "type": "scattercarpet"
           }
          ],
          "scattergeo": [
           {
            "marker": {
             "colorbar": {
              "outlinewidth": 0,
              "ticks": ""
             }
            },
            "type": "scattergeo"
           }
          ],
          "scattergl": [
           {
            "marker": {
             "line": {
              "color": "#283442"
             }
            },
            "type": "scattergl"
           }
          ],
          "scattermapbox": [
           {
            "marker": {
             "colorbar": {
              "outlinewidth": 0,
              "ticks": ""
             }
            },
            "type": "scattermapbox"
           }
          ],
          "scatterpolar": [
           {
            "marker": {
             "colorbar": {
              "outlinewidth": 0,
              "ticks": ""
             }
            },
            "type": "scatterpolar"
           }
          ],
          "scatterpolargl": [
           {
            "marker": {
             "colorbar": {
              "outlinewidth": 0,
              "ticks": ""
             }
            },
            "type": "scatterpolargl"
           }
          ],
          "scatterternary": [
           {
            "marker": {
             "colorbar": {
              "outlinewidth": 0,
              "ticks": ""
             }
            },
            "type": "scatterternary"
           }
          ],
          "surface": [
           {
            "colorbar": {
             "outlinewidth": 0,
             "ticks": ""
            },
            "colorscale": [
             [
              0,
              "#0d0887"
             ],
             [
              0.1111111111111111,
              "#46039f"
             ],
             [
              0.2222222222222222,
              "#7201a8"
             ],
             [
              0.3333333333333333,
              "#9c179e"
             ],
             [
              0.4444444444444444,
              "#bd3786"
             ],
             [
              0.5555555555555556,
              "#d8576b"
             ],
             [
              0.6666666666666666,
              "#ed7953"
             ],
             [
              0.7777777777777778,
              "#fb9f3a"
             ],
             [
              0.8888888888888888,
              "#fdca26"
             ],
             [
              1,
              "#f0f921"
             ]
            ],
            "type": "surface"
           }
          ],
          "table": [
           {
            "cells": {
             "fill": {
              "color": "#506784"
             },
             "line": {
              "color": "rgb(17,17,17)"
             }
            },
            "header": {
             "fill": {
              "color": "#2a3f5f"
             },
             "line": {
              "color": "rgb(17,17,17)"
             }
            },
            "type": "table"
           }
          ]
         },
         "layout": {
          "annotationdefaults": {
           "arrowcolor": "#f2f5fa",
           "arrowhead": 0,
           "arrowwidth": 1
          },
          "autotypenumbers": "strict",
          "coloraxis": {
           "colorbar": {
            "outlinewidth": 0,
            "ticks": ""
           }
          },
          "colorscale": {
           "diverging": [
            [
             0,
             "#8e0152"
            ],
            [
             0.1,
             "#c51b7d"
            ],
            [
             0.2,
             "#de77ae"
            ],
            [
             0.3,
             "#f1b6da"
            ],
            [
             0.4,
             "#fde0ef"
            ],
            [
             0.5,
             "#f7f7f7"
            ],
            [
             0.6,
             "#e6f5d0"
            ],
            [
             0.7,
             "#b8e186"
            ],
            [
             0.8,
             "#7fbc41"
            ],
            [
             0.9,
             "#4d9221"
            ],
            [
             1,
             "#276419"
            ]
           ],
           "sequential": [
            [
             0,
             "#0d0887"
            ],
            [
             0.1111111111111111,
             "#46039f"
            ],
            [
             0.2222222222222222,
             "#7201a8"
            ],
            [
             0.3333333333333333,
             "#9c179e"
            ],
            [
             0.4444444444444444,
             "#bd3786"
            ],
            [
             0.5555555555555556,
             "#d8576b"
            ],
            [
             0.6666666666666666,
             "#ed7953"
            ],
            [
             0.7777777777777778,
             "#fb9f3a"
            ],
            [
             0.8888888888888888,
             "#fdca26"
            ],
            [
             1,
             "#f0f921"
            ]
           ],
           "sequentialminus": [
            [
             0,
             "#0d0887"
            ],
            [
             0.1111111111111111,
             "#46039f"
            ],
            [
             0.2222222222222222,
             "#7201a8"
            ],
            [
             0.3333333333333333,
             "#9c179e"
            ],
            [
             0.4444444444444444,
             "#bd3786"
            ],
            [
             0.5555555555555556,
             "#d8576b"
            ],
            [
             0.6666666666666666,
             "#ed7953"
            ],
            [
             0.7777777777777778,
             "#fb9f3a"
            ],
            [
             0.8888888888888888,
             "#fdca26"
            ],
            [
             1,
             "#f0f921"
            ]
           ]
          },
          "colorway": [
           "#636efa",
           "#EF553B",
           "#00cc96",
           "#ab63fa",
           "#FFA15A",
           "#19d3f3",
           "#FF6692",
           "#B6E880",
           "#FF97FF",
           "#FECB52"
          ],
          "font": {
           "color": "#f2f5fa"
          },
          "geo": {
           "bgcolor": "rgb(17,17,17)",
           "lakecolor": "rgb(17,17,17)",
           "landcolor": "rgb(17,17,17)",
           "showlakes": true,
           "showland": true,
           "subunitcolor": "#506784"
          },
          "hoverlabel": {
           "align": "left"
          },
          "hovermode": "closest",
          "mapbox": {
           "style": "dark"
          },
          "paper_bgcolor": "rgb(17,17,17)",
          "plot_bgcolor": "rgb(17,17,17)",
          "polar": {
           "angularaxis": {
            "gridcolor": "#506784",
            "linecolor": "#506784",
            "ticks": ""
           },
           "bgcolor": "rgb(17,17,17)",
           "radialaxis": {
            "gridcolor": "#506784",
            "linecolor": "#506784",
            "ticks": ""
           }
          },
          "scene": {
           "xaxis": {
            "backgroundcolor": "rgb(17,17,17)",
            "gridcolor": "#506784",
            "gridwidth": 2,
            "linecolor": "#506784",
            "showbackground": true,
            "ticks": "",
            "zerolinecolor": "#C8D4E3"
           },
           "yaxis": {
            "backgroundcolor": "rgb(17,17,17)",
            "gridcolor": "#506784",
            "gridwidth": 2,
            "linecolor": "#506784",
            "showbackground": true,
            "ticks": "",
            "zerolinecolor": "#C8D4E3"
           },
           "zaxis": {
            "backgroundcolor": "rgb(17,17,17)",
            "gridcolor": "#506784",
            "gridwidth": 2,
            "linecolor": "#506784",
            "showbackground": true,
            "ticks": "",
            "zerolinecolor": "#C8D4E3"
           }
          },
          "shapedefaults": {
           "line": {
            "color": "#f2f5fa"
           }
          },
          "sliderdefaults": {
           "bgcolor": "#C8D4E3",
           "bordercolor": "rgb(17,17,17)",
           "borderwidth": 1,
           "tickwidth": 0
          },
          "ternary": {
           "aaxis": {
            "gridcolor": "#506784",
            "linecolor": "#506784",
            "ticks": ""
           },
           "baxis": {
            "gridcolor": "#506784",
            "linecolor": "#506784",
            "ticks": ""
           },
           "bgcolor": "rgb(17,17,17)",
           "caxis": {
            "gridcolor": "#506784",
            "linecolor": "#506784",
            "ticks": ""
           }
          },
          "title": {
           "x": 0.05
          },
          "updatemenudefaults": {
           "bgcolor": "#506784",
           "borderwidth": 0
          },
          "xaxis": {
           "automargin": true,
           "gridcolor": "#283442",
           "linecolor": "#506784",
           "ticks": "",
           "title": {
            "standoff": 15
           },
           "zerolinecolor": "#283442",
           "zerolinewidth": 2
          },
          "yaxis": {
           "automargin": true,
           "gridcolor": "#283442",
           "linecolor": "#506784",
           "ticks": "",
           "title": {
            "standoff": 15
           },
           "zerolinecolor": "#283442",
           "zerolinewidth": 2
          }
         }
        },
        "title": {
         "text": "Haftalık Randevu Dağılımı ve NoShow Durumu"
        },
        "xaxis": {
         "anchor": "y",
         "domain": [
          0,
          1
         ],
         "title": {
          "text": "Gün"
         }
        },
        "yaxis": {
         "anchor": "x",
         "domain": [
          0,
          1
         ],
         "title": {
          "text": "Toplam Sayı"
         }
        }
       }
      }
     },
     "metadata": {},
     "output_type": "display_data"
    }
   ],
   "source": [
    "hafta_kisi = data.groupby(['AppointmentDay', 'NoShow']).size().reset_index(name='count')\n",
    "\n",
    "# Plotly ile bar grafiği oluşturma\n",
    "fig = px.bar(hafta_kisi, \n",
    "             x='AppointmentDay',\n",
    "             y='count', color='NoShow',\n",
    "             labels={'AppointmentDay': 'Gün',\n",
    "                     'count': 'Toplam Sayı',\n",
    "                     'NoShow': 'Gelme Durumu'},\n",
    "             \n",
    "             title='Haftalık Randevu Dağılımı ve NoShow Durumu',\n",
    "             template='plotly_dark',\n",
    "             color_discrete_map={False: '#1f77b4', True: '#ff7f0e'})  # Renklerin belirtilmesi\n",
    "\n",
    "fig.show()"
   ]
  },
  {
   "cell_type": "code",
   "execution_count": 75,
   "id": "a784da53",
   "metadata": {},
   "outputs": [
    {
     "data": {
      "application/vnd.plotly.v1+json": {
       "config": {
        "plotlyServerURL": "https://plot.ly"
       },
       "data": [
        {
         "alignmentgroup": "True",
         "hovertemplate": "color=Cardiology<br>Hastalık=%{x}<br>Toplam Sayı=%{y}<extra></extra>",
         "legendgroup": "Cardiology",
         "marker": {
          "color": "#636efa",
          "pattern": {
           "shape": ""
          }
         },
         "name": "Cardiology",
         "offsetgroup": "Cardiology",
         "orientation": "v",
         "showlegend": true,
         "textposition": "auto",
         "type": "bar",
         "x": [
          "Cardiology"
         ],
         "xaxis": "x",
         "y": [
          225
         ],
         "yaxis": "y"
        },
        {
         "alignmentgroup": "True",
         "hovertemplate": "color=Orthopedics<br>Hastalık=%{x}<br>Toplam Sayı=%{y}<extra></extra>",
         "legendgroup": "Orthopedics",
         "marker": {
          "color": "#EF553B",
          "pattern": {
           "shape": ""
          }
         },
         "name": "Orthopedics",
         "offsetgroup": "Orthopedics",
         "orientation": "v",
         "showlegend": true,
         "textposition": "auto",
         "type": "bar",
         "x": [
          "Orthopedics"
         ],
         "xaxis": "x",
         "y": [
          201
         ],
         "yaxis": "y"
        },
        {
         "alignmentgroup": "True",
         "hovertemplate": "color=General<br>Hastalık=%{x}<br>Toplam Sayı=%{y}<extra></extra>",
         "legendgroup": "General",
         "marker": {
          "color": "#00cc96",
          "pattern": {
           "shape": ""
          }
         },
         "name": "General",
         "offsetgroup": "General",
         "orientation": "v",
         "showlegend": true,
         "textposition": "auto",
         "type": "bar",
         "x": [
          "General"
         ],
         "xaxis": "x",
         "y": [
          200
         ],
         "yaxis": "y"
        },
        {
         "alignmentgroup": "True",
         "hovertemplate": "color=Neurology<br>Hastalık=%{x}<br>Toplam Sayı=%{y}<extra></extra>",
         "legendgroup": "Neurology",
         "marker": {
          "color": "#ab63fa",
          "pattern": {
           "shape": ""
          }
         },
         "name": "Neurology",
         "offsetgroup": "Neurology",
         "orientation": "v",
         "showlegend": true,
         "textposition": "auto",
         "type": "bar",
         "x": [
          "Neurology"
         ],
         "xaxis": "x",
         "y": [
          189
         ],
         "yaxis": "y"
        },
        {
         "alignmentgroup": "True",
         "hovertemplate": "color=Pediatrics<br>Hastalık=%{x}<br>Toplam Sayı=%{y}<extra></extra>",
         "legendgroup": "Pediatrics",
         "marker": {
          "color": "#FFA15A",
          "pattern": {
           "shape": ""
          }
         },
         "name": "Pediatrics",
         "offsetgroup": "Pediatrics",
         "orientation": "v",
         "showlegend": true,
         "textposition": "auto",
         "type": "bar",
         "x": [
          "Pediatrics"
         ],
         "xaxis": "x",
         "y": [
          185
         ],
         "yaxis": "y"
        }
       ],
       "layout": {
        "barmode": "relative",
        "legend": {
         "title": {
          "text": "color"
         },
         "tracegroupgap": 0
        },
        "template": {
         "data": {
          "bar": [
           {
            "error_x": {
             "color": "#f2f5fa"
            },
            "error_y": {
             "color": "#f2f5fa"
            },
            "marker": {
             "line": {
              "color": "rgb(17,17,17)",
              "width": 0.5
             },
             "pattern": {
              "fillmode": "overlay",
              "size": 10,
              "solidity": 0.2
             }
            },
            "type": "bar"
           }
          ],
          "barpolar": [
           {
            "marker": {
             "line": {
              "color": "rgb(17,17,17)",
              "width": 0.5
             },
             "pattern": {
              "fillmode": "overlay",
              "size": 10,
              "solidity": 0.2
             }
            },
            "type": "barpolar"
           }
          ],
          "carpet": [
           {
            "aaxis": {
             "endlinecolor": "#A2B1C6",
             "gridcolor": "#506784",
             "linecolor": "#506784",
             "minorgridcolor": "#506784",
             "startlinecolor": "#A2B1C6"
            },
            "baxis": {
             "endlinecolor": "#A2B1C6",
             "gridcolor": "#506784",
             "linecolor": "#506784",
             "minorgridcolor": "#506784",
             "startlinecolor": "#A2B1C6"
            },
            "type": "carpet"
           }
          ],
          "choropleth": [
           {
            "colorbar": {
             "outlinewidth": 0,
             "ticks": ""
            },
            "type": "choropleth"
           }
          ],
          "contour": [
           {
            "colorbar": {
             "outlinewidth": 0,
             "ticks": ""
            },
            "colorscale": [
             [
              0,
              "#0d0887"
             ],
             [
              0.1111111111111111,
              "#46039f"
             ],
             [
              0.2222222222222222,
              "#7201a8"
             ],
             [
              0.3333333333333333,
              "#9c179e"
             ],
             [
              0.4444444444444444,
              "#bd3786"
             ],
             [
              0.5555555555555556,
              "#d8576b"
             ],
             [
              0.6666666666666666,
              "#ed7953"
             ],
             [
              0.7777777777777778,
              "#fb9f3a"
             ],
             [
              0.8888888888888888,
              "#fdca26"
             ],
             [
              1,
              "#f0f921"
             ]
            ],
            "type": "contour"
           }
          ],
          "contourcarpet": [
           {
            "colorbar": {
             "outlinewidth": 0,
             "ticks": ""
            },
            "type": "contourcarpet"
           }
          ],
          "heatmap": [
           {
            "colorbar": {
             "outlinewidth": 0,
             "ticks": ""
            },
            "colorscale": [
             [
              0,
              "#0d0887"
             ],
             [
              0.1111111111111111,
              "#46039f"
             ],
             [
              0.2222222222222222,
              "#7201a8"
             ],
             [
              0.3333333333333333,
              "#9c179e"
             ],
             [
              0.4444444444444444,
              "#bd3786"
             ],
             [
              0.5555555555555556,
              "#d8576b"
             ],
             [
              0.6666666666666666,
              "#ed7953"
             ],
             [
              0.7777777777777778,
              "#fb9f3a"
             ],
             [
              0.8888888888888888,
              "#fdca26"
             ],
             [
              1,
              "#f0f921"
             ]
            ],
            "type": "heatmap"
           }
          ],
          "heatmapgl": [
           {
            "colorbar": {
             "outlinewidth": 0,
             "ticks": ""
            },
            "colorscale": [
             [
              0,
              "#0d0887"
             ],
             [
              0.1111111111111111,
              "#46039f"
             ],
             [
              0.2222222222222222,
              "#7201a8"
             ],
             [
              0.3333333333333333,
              "#9c179e"
             ],
             [
              0.4444444444444444,
              "#bd3786"
             ],
             [
              0.5555555555555556,
              "#d8576b"
             ],
             [
              0.6666666666666666,
              "#ed7953"
             ],
             [
              0.7777777777777778,
              "#fb9f3a"
             ],
             [
              0.8888888888888888,
              "#fdca26"
             ],
             [
              1,
              "#f0f921"
             ]
            ],
            "type": "heatmapgl"
           }
          ],
          "histogram": [
           {
            "marker": {
             "pattern": {
              "fillmode": "overlay",
              "size": 10,
              "solidity": 0.2
             }
            },
            "type": "histogram"
           }
          ],
          "histogram2d": [
           {
            "colorbar": {
             "outlinewidth": 0,
             "ticks": ""
            },
            "colorscale": [
             [
              0,
              "#0d0887"
             ],
             [
              0.1111111111111111,
              "#46039f"
             ],
             [
              0.2222222222222222,
              "#7201a8"
             ],
             [
              0.3333333333333333,
              "#9c179e"
             ],
             [
              0.4444444444444444,
              "#bd3786"
             ],
             [
              0.5555555555555556,
              "#d8576b"
             ],
             [
              0.6666666666666666,
              "#ed7953"
             ],
             [
              0.7777777777777778,
              "#fb9f3a"
             ],
             [
              0.8888888888888888,
              "#fdca26"
             ],
             [
              1,
              "#f0f921"
             ]
            ],
            "type": "histogram2d"
           }
          ],
          "histogram2dcontour": [
           {
            "colorbar": {
             "outlinewidth": 0,
             "ticks": ""
            },
            "colorscale": [
             [
              0,
              "#0d0887"
             ],
             [
              0.1111111111111111,
              "#46039f"
             ],
             [
              0.2222222222222222,
              "#7201a8"
             ],
             [
              0.3333333333333333,
              "#9c179e"
             ],
             [
              0.4444444444444444,
              "#bd3786"
             ],
             [
              0.5555555555555556,
              "#d8576b"
             ],
             [
              0.6666666666666666,
              "#ed7953"
             ],
             [
              0.7777777777777778,
              "#fb9f3a"
             ],
             [
              0.8888888888888888,
              "#fdca26"
             ],
             [
              1,
              "#f0f921"
             ]
            ],
            "type": "histogram2dcontour"
           }
          ],
          "mesh3d": [
           {
            "colorbar": {
             "outlinewidth": 0,
             "ticks": ""
            },
            "type": "mesh3d"
           }
          ],
          "parcoords": [
           {
            "line": {
             "colorbar": {
              "outlinewidth": 0,
              "ticks": ""
             }
            },
            "type": "parcoords"
           }
          ],
          "pie": [
           {
            "automargin": true,
            "type": "pie"
           }
          ],
          "scatter": [
           {
            "marker": {
             "line": {
              "color": "#283442"
             }
            },
            "type": "scatter"
           }
          ],
          "scatter3d": [
           {
            "line": {
             "colorbar": {
              "outlinewidth": 0,
              "ticks": ""
             }
            },
            "marker": {
             "colorbar": {
              "outlinewidth": 0,
              "ticks": ""
             }
            },
            "type": "scatter3d"
           }
          ],
          "scattercarpet": [
           {
            "marker": {
             "colorbar": {
              "outlinewidth": 0,
              "ticks": ""
             }
            },
            "type": "scattercarpet"
           }
          ],
          "scattergeo": [
           {
            "marker": {
             "colorbar": {
              "outlinewidth": 0,
              "ticks": ""
             }
            },
            "type": "scattergeo"
           }
          ],
          "scattergl": [
           {
            "marker": {
             "line": {
              "color": "#283442"
             }
            },
            "type": "scattergl"
           }
          ],
          "scattermapbox": [
           {
            "marker": {
             "colorbar": {
              "outlinewidth": 0,
              "ticks": ""
             }
            },
            "type": "scattermapbox"
           }
          ],
          "scatterpolar": [
           {
            "marker": {
             "colorbar": {
              "outlinewidth": 0,
              "ticks": ""
             }
            },
            "type": "scatterpolar"
           }
          ],
          "scatterpolargl": [
           {
            "marker": {
             "colorbar": {
              "outlinewidth": 0,
              "ticks": ""
             }
            },
            "type": "scatterpolargl"
           }
          ],
          "scatterternary": [
           {
            "marker": {
             "colorbar": {
              "outlinewidth": 0,
              "ticks": ""
             }
            },
            "type": "scatterternary"
           }
          ],
          "surface": [
           {
            "colorbar": {
             "outlinewidth": 0,
             "ticks": ""
            },
            "colorscale": [
             [
              0,
              "#0d0887"
             ],
             [
              0.1111111111111111,
              "#46039f"
             ],
             [
              0.2222222222222222,
              "#7201a8"
             ],
             [
              0.3333333333333333,
              "#9c179e"
             ],
             [
              0.4444444444444444,
              "#bd3786"
             ],
             [
              0.5555555555555556,
              "#d8576b"
             ],
             [
              0.6666666666666666,
              "#ed7953"
             ],
             [
              0.7777777777777778,
              "#fb9f3a"
             ],
             [
              0.8888888888888888,
              "#fdca26"
             ],
             [
              1,
              "#f0f921"
             ]
            ],
            "type": "surface"
           }
          ],
          "table": [
           {
            "cells": {
             "fill": {
              "color": "#506784"
             },
             "line": {
              "color": "rgb(17,17,17)"
             }
            },
            "header": {
             "fill": {
              "color": "#2a3f5f"
             },
             "line": {
              "color": "rgb(17,17,17)"
             }
            },
            "type": "table"
           }
          ]
         },
         "layout": {
          "annotationdefaults": {
           "arrowcolor": "#f2f5fa",
           "arrowhead": 0,
           "arrowwidth": 1
          },
          "autotypenumbers": "strict",
          "coloraxis": {
           "colorbar": {
            "outlinewidth": 0,
            "ticks": ""
           }
          },
          "colorscale": {
           "diverging": [
            [
             0,
             "#8e0152"
            ],
            [
             0.1,
             "#c51b7d"
            ],
            [
             0.2,
             "#de77ae"
            ],
            [
             0.3,
             "#f1b6da"
            ],
            [
             0.4,
             "#fde0ef"
            ],
            [
             0.5,
             "#f7f7f7"
            ],
            [
             0.6,
             "#e6f5d0"
            ],
            [
             0.7,
             "#b8e186"
            ],
            [
             0.8,
             "#7fbc41"
            ],
            [
             0.9,
             "#4d9221"
            ],
            [
             1,
             "#276419"
            ]
           ],
           "sequential": [
            [
             0,
             "#0d0887"
            ],
            [
             0.1111111111111111,
             "#46039f"
            ],
            [
             0.2222222222222222,
             "#7201a8"
            ],
            [
             0.3333333333333333,
             "#9c179e"
            ],
            [
             0.4444444444444444,
             "#bd3786"
            ],
            [
             0.5555555555555556,
             "#d8576b"
            ],
            [
             0.6666666666666666,
             "#ed7953"
            ],
            [
             0.7777777777777778,
             "#fb9f3a"
            ],
            [
             0.8888888888888888,
             "#fdca26"
            ],
            [
             1,
             "#f0f921"
            ]
           ],
           "sequentialminus": [
            [
             0,
             "#0d0887"
            ],
            [
             0.1111111111111111,
             "#46039f"
            ],
            [
             0.2222222222222222,
             "#7201a8"
            ],
            [
             0.3333333333333333,
             "#9c179e"
            ],
            [
             0.4444444444444444,
             "#bd3786"
            ],
            [
             0.5555555555555556,
             "#d8576b"
            ],
            [
             0.6666666666666666,
             "#ed7953"
            ],
            [
             0.7777777777777778,
             "#fb9f3a"
            ],
            [
             0.8888888888888888,
             "#fdca26"
            ],
            [
             1,
             "#f0f921"
            ]
           ]
          },
          "colorway": [
           "#636efa",
           "#EF553B",
           "#00cc96",
           "#ab63fa",
           "#FFA15A",
           "#19d3f3",
           "#FF6692",
           "#B6E880",
           "#FF97FF",
           "#FECB52"
          ],
          "font": {
           "color": "#f2f5fa"
          },
          "geo": {
           "bgcolor": "rgb(17,17,17)",
           "lakecolor": "rgb(17,17,17)",
           "landcolor": "rgb(17,17,17)",
           "showlakes": true,
           "showland": true,
           "subunitcolor": "#506784"
          },
          "hoverlabel": {
           "align": "left"
          },
          "hovermode": "closest",
          "mapbox": {
           "style": "dark"
          },
          "paper_bgcolor": "rgb(17,17,17)",
          "plot_bgcolor": "rgb(17,17,17)",
          "polar": {
           "angularaxis": {
            "gridcolor": "#506784",
            "linecolor": "#506784",
            "ticks": ""
           },
           "bgcolor": "rgb(17,17,17)",
           "radialaxis": {
            "gridcolor": "#506784",
            "linecolor": "#506784",
            "ticks": ""
           }
          },
          "scene": {
           "xaxis": {
            "backgroundcolor": "rgb(17,17,17)",
            "gridcolor": "#506784",
            "gridwidth": 2,
            "linecolor": "#506784",
            "showbackground": true,
            "ticks": "",
            "zerolinecolor": "#C8D4E3"
           },
           "yaxis": {
            "backgroundcolor": "rgb(17,17,17)",
            "gridcolor": "#506784",
            "gridwidth": 2,
            "linecolor": "#506784",
            "showbackground": true,
            "ticks": "",
            "zerolinecolor": "#C8D4E3"
           },
           "zaxis": {
            "backgroundcolor": "rgb(17,17,17)",
            "gridcolor": "#506784",
            "gridwidth": 2,
            "linecolor": "#506784",
            "showbackground": true,
            "ticks": "",
            "zerolinecolor": "#C8D4E3"
           }
          },
          "shapedefaults": {
           "line": {
            "color": "#f2f5fa"
           }
          },
          "sliderdefaults": {
           "bgcolor": "#C8D4E3",
           "bordercolor": "rgb(17,17,17)",
           "borderwidth": 1,
           "tickwidth": 0
          },
          "ternary": {
           "aaxis": {
            "gridcolor": "#506784",
            "linecolor": "#506784",
            "ticks": ""
           },
           "baxis": {
            "gridcolor": "#506784",
            "linecolor": "#506784",
            "ticks": ""
           },
           "bgcolor": "rgb(17,17,17)",
           "caxis": {
            "gridcolor": "#506784",
            "linecolor": "#506784",
            "ticks": ""
           }
          },
          "title": {
           "x": 0.05
          },
          "updatemenudefaults": {
           "bgcolor": "#506784",
           "borderwidth": 0
          },
          "xaxis": {
           "automargin": true,
           "gridcolor": "#283442",
           "linecolor": "#506784",
           "ticks": "",
           "title": {
            "standoff": 15
           },
           "zerolinecolor": "#283442",
           "zerolinewidth": 2
          },
          "yaxis": {
           "automargin": true,
           "gridcolor": "#283442",
           "linecolor": "#506784",
           "ticks": "",
           "title": {
            "standoff": 15
           },
           "zerolinecolor": "#283442",
           "zerolinewidth": 2
          }
         }
        },
        "title": {
         "text": "Hastalık Dağılımı"
        },
        "xaxis": {
         "anchor": "y",
         "domain": [
          0,
          1
         ],
         "title": {
          "text": "Hastalık"
         }
        },
        "yaxis": {
         "anchor": "x",
         "domain": [
          0,
          1
         ],
         "title": {
          "text": "Toplam Sayı"
         }
        }
       }
      }
     },
     "metadata": {},
     "output_type": "display_data"
    }
   ],
   "source": [
    "count_dis = data['Disease'].value_counts() #hasta türe göre sayisi \n",
    "\n",
    "# Plotly ile hastalık dağılımını görselleştirme\n",
    "fig=px.bar(x=count_dis.index,  #6 indexi var\n",
    "           y=count_dis.values, # sayisi \n",
    "           color=count_dis.index, # rekleri yine sayisina göre\n",
    "           labels={'x': 'Hastalık','y': 'Toplam Sayı'}, #label yazdırma\n",
    "           title='Hastalık Dağılımı', #başlık \n",
    "           template='plotly_dark') # arkapılan \n",
    "\n",
    "fig.show()"
   ]
  },
  {
   "cell_type": "code",
   "execution_count": 76,
   "id": "95be4b4c",
   "metadata": {},
   "outputs": [
    {
     "data": {
      "application/vnd.plotly.v1+json": {
       "config": {
        "plotlyServerURL": "https://plot.ly"
       },
       "data": [
        {
         "alignmentgroup": "True",
         "hovertemplate": "Gelme Durumu=No<br>Hastalık=%{x}<br>Toplam Sayı=%{y}<extra></extra>",
         "legendgroup": "No",
         "marker": {
          "color": "#00cc96",
          "pattern": {
           "shape": ""
          }
         },
         "name": "No",
         "offsetgroup": "No",
         "orientation": "v",
         "showlegend": true,
         "textposition": "auto",
         "type": "bar",
         "x": [
          "Cardiology",
          "General",
          "Neurology",
          "Orthopedics",
          "Pediatrics"
         ],
         "xaxis": "x",
         "y": [
          152,
          131,
          131,
          128,
          122
         ],
         "yaxis": "y"
        },
        {
         "alignmentgroup": "True",
         "hovertemplate": "Gelme Durumu=Yes<br>Hastalık=%{x}<br>Toplam Sayı=%{y}<extra></extra>",
         "legendgroup": "Yes",
         "marker": {
          "color": "#ab63fa",
          "pattern": {
           "shape": ""
          }
         },
         "name": "Yes",
         "offsetgroup": "Yes",
         "orientation": "v",
         "showlegend": true,
         "textposition": "auto",
         "type": "bar",
         "x": [
          "Cardiology",
          "General",
          "Neurology",
          "Orthopedics",
          "Pediatrics"
         ],
         "xaxis": "x",
         "y": [
          73,
          69,
          58,
          73,
          63
         ],
         "yaxis": "y"
        }
       ],
       "layout": {
        "barmode": "relative",
        "legend": {
         "title": {
          "text": "Gelme Durumu"
         },
         "tracegroupgap": 0
        },
        "template": {
         "data": {
          "bar": [
           {
            "error_x": {
             "color": "#f2f5fa"
            },
            "error_y": {
             "color": "#f2f5fa"
            },
            "marker": {
             "line": {
              "color": "rgb(17,17,17)",
              "width": 0.5
             },
             "pattern": {
              "fillmode": "overlay",
              "size": 10,
              "solidity": 0.2
             }
            },
            "type": "bar"
           }
          ],
          "barpolar": [
           {
            "marker": {
             "line": {
              "color": "rgb(17,17,17)",
              "width": 0.5
             },
             "pattern": {
              "fillmode": "overlay",
              "size": 10,
              "solidity": 0.2
             }
            },
            "type": "barpolar"
           }
          ],
          "carpet": [
           {
            "aaxis": {
             "endlinecolor": "#A2B1C6",
             "gridcolor": "#506784",
             "linecolor": "#506784",
             "minorgridcolor": "#506784",
             "startlinecolor": "#A2B1C6"
            },
            "baxis": {
             "endlinecolor": "#A2B1C6",
             "gridcolor": "#506784",
             "linecolor": "#506784",
             "minorgridcolor": "#506784",
             "startlinecolor": "#A2B1C6"
            },
            "type": "carpet"
           }
          ],
          "choropleth": [
           {
            "colorbar": {
             "outlinewidth": 0,
             "ticks": ""
            },
            "type": "choropleth"
           }
          ],
          "contour": [
           {
            "colorbar": {
             "outlinewidth": 0,
             "ticks": ""
            },
            "colorscale": [
             [
              0,
              "#0d0887"
             ],
             [
              0.1111111111111111,
              "#46039f"
             ],
             [
              0.2222222222222222,
              "#7201a8"
             ],
             [
              0.3333333333333333,
              "#9c179e"
             ],
             [
              0.4444444444444444,
              "#bd3786"
             ],
             [
              0.5555555555555556,
              "#d8576b"
             ],
             [
              0.6666666666666666,
              "#ed7953"
             ],
             [
              0.7777777777777778,
              "#fb9f3a"
             ],
             [
              0.8888888888888888,
              "#fdca26"
             ],
             [
              1,
              "#f0f921"
             ]
            ],
            "type": "contour"
           }
          ],
          "contourcarpet": [
           {
            "colorbar": {
             "outlinewidth": 0,
             "ticks": ""
            },
            "type": "contourcarpet"
           }
          ],
          "heatmap": [
           {
            "colorbar": {
             "outlinewidth": 0,
             "ticks": ""
            },
            "colorscale": [
             [
              0,
              "#0d0887"
             ],
             [
              0.1111111111111111,
              "#46039f"
             ],
             [
              0.2222222222222222,
              "#7201a8"
             ],
             [
              0.3333333333333333,
              "#9c179e"
             ],
             [
              0.4444444444444444,
              "#bd3786"
             ],
             [
              0.5555555555555556,
              "#d8576b"
             ],
             [
              0.6666666666666666,
              "#ed7953"
             ],
             [
              0.7777777777777778,
              "#fb9f3a"
             ],
             [
              0.8888888888888888,
              "#fdca26"
             ],
             [
              1,
              "#f0f921"
             ]
            ],
            "type": "heatmap"
           }
          ],
          "heatmapgl": [
           {
            "colorbar": {
             "outlinewidth": 0,
             "ticks": ""
            },
            "colorscale": [
             [
              0,
              "#0d0887"
             ],
             [
              0.1111111111111111,
              "#46039f"
             ],
             [
              0.2222222222222222,
              "#7201a8"
             ],
             [
              0.3333333333333333,
              "#9c179e"
             ],
             [
              0.4444444444444444,
              "#bd3786"
             ],
             [
              0.5555555555555556,
              "#d8576b"
             ],
             [
              0.6666666666666666,
              "#ed7953"
             ],
             [
              0.7777777777777778,
              "#fb9f3a"
             ],
             [
              0.8888888888888888,
              "#fdca26"
             ],
             [
              1,
              "#f0f921"
             ]
            ],
            "type": "heatmapgl"
           }
          ],
          "histogram": [
           {
            "marker": {
             "pattern": {
              "fillmode": "overlay",
              "size": 10,
              "solidity": 0.2
             }
            },
            "type": "histogram"
           }
          ],
          "histogram2d": [
           {
            "colorbar": {
             "outlinewidth": 0,
             "ticks": ""
            },
            "colorscale": [
             [
              0,
              "#0d0887"
             ],
             [
              0.1111111111111111,
              "#46039f"
             ],
             [
              0.2222222222222222,
              "#7201a8"
             ],
             [
              0.3333333333333333,
              "#9c179e"
             ],
             [
              0.4444444444444444,
              "#bd3786"
             ],
             [
              0.5555555555555556,
              "#d8576b"
             ],
             [
              0.6666666666666666,
              "#ed7953"
             ],
             [
              0.7777777777777778,
              "#fb9f3a"
             ],
             [
              0.8888888888888888,
              "#fdca26"
             ],
             [
              1,
              "#f0f921"
             ]
            ],
            "type": "histogram2d"
           }
          ],
          "histogram2dcontour": [
           {
            "colorbar": {
             "outlinewidth": 0,
             "ticks": ""
            },
            "colorscale": [
             [
              0,
              "#0d0887"
             ],
             [
              0.1111111111111111,
              "#46039f"
             ],
             [
              0.2222222222222222,
              "#7201a8"
             ],
             [
              0.3333333333333333,
              "#9c179e"
             ],
             [
              0.4444444444444444,
              "#bd3786"
             ],
             [
              0.5555555555555556,
              "#d8576b"
             ],
             [
              0.6666666666666666,
              "#ed7953"
             ],
             [
              0.7777777777777778,
              "#fb9f3a"
             ],
             [
              0.8888888888888888,
              "#fdca26"
             ],
             [
              1,
              "#f0f921"
             ]
            ],
            "type": "histogram2dcontour"
           }
          ],
          "mesh3d": [
           {
            "colorbar": {
             "outlinewidth": 0,
             "ticks": ""
            },
            "type": "mesh3d"
           }
          ],
          "parcoords": [
           {
            "line": {
             "colorbar": {
              "outlinewidth": 0,
              "ticks": ""
             }
            },
            "type": "parcoords"
           }
          ],
          "pie": [
           {
            "automargin": true,
            "type": "pie"
           }
          ],
          "scatter": [
           {
            "marker": {
             "line": {
              "color": "#283442"
             }
            },
            "type": "scatter"
           }
          ],
          "scatter3d": [
           {
            "line": {
             "colorbar": {
              "outlinewidth": 0,
              "ticks": ""
             }
            },
            "marker": {
             "colorbar": {
              "outlinewidth": 0,
              "ticks": ""
             }
            },
            "type": "scatter3d"
           }
          ],
          "scattercarpet": [
           {
            "marker": {
             "colorbar": {
              "outlinewidth": 0,
              "ticks": ""
             }
            },
            "type": "scattercarpet"
           }
          ],
          "scattergeo": [
           {
            "marker": {
             "colorbar": {
              "outlinewidth": 0,
              "ticks": ""
             }
            },
            "type": "scattergeo"
           }
          ],
          "scattergl": [
           {
            "marker": {
             "line": {
              "color": "#283442"
             }
            },
            "type": "scattergl"
           }
          ],
          "scattermapbox": [
           {
            "marker": {
             "colorbar": {
              "outlinewidth": 0,
              "ticks": ""
             }
            },
            "type": "scattermapbox"
           }
          ],
          "scatterpolar": [
           {
            "marker": {
             "colorbar": {
              "outlinewidth": 0,
              "ticks": ""
             }
            },
            "type": "scatterpolar"
           }
          ],
          "scatterpolargl": [
           {
            "marker": {
             "colorbar": {
              "outlinewidth": 0,
              "ticks": ""
             }
            },
            "type": "scatterpolargl"
           }
          ],
          "scatterternary": [
           {
            "marker": {
             "colorbar": {
              "outlinewidth": 0,
              "ticks": ""
             }
            },
            "type": "scatterternary"
           }
          ],
          "surface": [
           {
            "colorbar": {
             "outlinewidth": 0,
             "ticks": ""
            },
            "colorscale": [
             [
              0,
              "#0d0887"
             ],
             [
              0.1111111111111111,
              "#46039f"
             ],
             [
              0.2222222222222222,
              "#7201a8"
             ],
             [
              0.3333333333333333,
              "#9c179e"
             ],
             [
              0.4444444444444444,
              "#bd3786"
             ],
             [
              0.5555555555555556,
              "#d8576b"
             ],
             [
              0.6666666666666666,
              "#ed7953"
             ],
             [
              0.7777777777777778,
              "#fb9f3a"
             ],
             [
              0.8888888888888888,
              "#fdca26"
             ],
             [
              1,
              "#f0f921"
             ]
            ],
            "type": "surface"
           }
          ],
          "table": [
           {
            "cells": {
             "fill": {
              "color": "#506784"
             },
             "line": {
              "color": "rgb(17,17,17)"
             }
            },
            "header": {
             "fill": {
              "color": "#2a3f5f"
             },
             "line": {
              "color": "rgb(17,17,17)"
             }
            },
            "type": "table"
           }
          ]
         },
         "layout": {
          "annotationdefaults": {
           "arrowcolor": "#f2f5fa",
           "arrowhead": 0,
           "arrowwidth": 1
          },
          "autotypenumbers": "strict",
          "coloraxis": {
           "colorbar": {
            "outlinewidth": 0,
            "ticks": ""
           }
          },
          "colorscale": {
           "diverging": [
            [
             0,
             "#8e0152"
            ],
            [
             0.1,
             "#c51b7d"
            ],
            [
             0.2,
             "#de77ae"
            ],
            [
             0.3,
             "#f1b6da"
            ],
            [
             0.4,
             "#fde0ef"
            ],
            [
             0.5,
             "#f7f7f7"
            ],
            [
             0.6,
             "#e6f5d0"
            ],
            [
             0.7,
             "#b8e186"
            ],
            [
             0.8,
             "#7fbc41"
            ],
            [
             0.9,
             "#4d9221"
            ],
            [
             1,
             "#276419"
            ]
           ],
           "sequential": [
            [
             0,
             "#0d0887"
            ],
            [
             0.1111111111111111,
             "#46039f"
            ],
            [
             0.2222222222222222,
             "#7201a8"
            ],
            [
             0.3333333333333333,
             "#9c179e"
            ],
            [
             0.4444444444444444,
             "#bd3786"
            ],
            [
             0.5555555555555556,
             "#d8576b"
            ],
            [
             0.6666666666666666,
             "#ed7953"
            ],
            [
             0.7777777777777778,
             "#fb9f3a"
            ],
            [
             0.8888888888888888,
             "#fdca26"
            ],
            [
             1,
             "#f0f921"
            ]
           ],
           "sequentialminus": [
            [
             0,
             "#0d0887"
            ],
            [
             0.1111111111111111,
             "#46039f"
            ],
            [
             0.2222222222222222,
             "#7201a8"
            ],
            [
             0.3333333333333333,
             "#9c179e"
            ],
            [
             0.4444444444444444,
             "#bd3786"
            ],
            [
             0.5555555555555556,
             "#d8576b"
            ],
            [
             0.6666666666666666,
             "#ed7953"
            ],
            [
             0.7777777777777778,
             "#fb9f3a"
            ],
            [
             0.8888888888888888,
             "#fdca26"
            ],
            [
             1,
             "#f0f921"
            ]
           ]
          },
          "colorway": [
           "#636efa",
           "#EF553B",
           "#00cc96",
           "#ab63fa",
           "#FFA15A",
           "#19d3f3",
           "#FF6692",
           "#B6E880",
           "#FF97FF",
           "#FECB52"
          ],
          "font": {
           "color": "#f2f5fa"
          },
          "geo": {
           "bgcolor": "rgb(17,17,17)",
           "lakecolor": "rgb(17,17,17)",
           "landcolor": "rgb(17,17,17)",
           "showlakes": true,
           "showland": true,
           "subunitcolor": "#506784"
          },
          "hoverlabel": {
           "align": "left"
          },
          "hovermode": "closest",
          "mapbox": {
           "style": "dark"
          },
          "paper_bgcolor": "rgb(17,17,17)",
          "plot_bgcolor": "rgb(17,17,17)",
          "polar": {
           "angularaxis": {
            "gridcolor": "#506784",
            "linecolor": "#506784",
            "ticks": ""
           },
           "bgcolor": "rgb(17,17,17)",
           "radialaxis": {
            "gridcolor": "#506784",
            "linecolor": "#506784",
            "ticks": ""
           }
          },
          "scene": {
           "xaxis": {
            "backgroundcolor": "rgb(17,17,17)",
            "gridcolor": "#506784",
            "gridwidth": 2,
            "linecolor": "#506784",
            "showbackground": true,
            "ticks": "",
            "zerolinecolor": "#C8D4E3"
           },
           "yaxis": {
            "backgroundcolor": "rgb(17,17,17)",
            "gridcolor": "#506784",
            "gridwidth": 2,
            "linecolor": "#506784",
            "showbackground": true,
            "ticks": "",
            "zerolinecolor": "#C8D4E3"
           },
           "zaxis": {
            "backgroundcolor": "rgb(17,17,17)",
            "gridcolor": "#506784",
            "gridwidth": 2,
            "linecolor": "#506784",
            "showbackground": true,
            "ticks": "",
            "zerolinecolor": "#C8D4E3"
           }
          },
          "shapedefaults": {
           "line": {
            "color": "#f2f5fa"
           }
          },
          "sliderdefaults": {
           "bgcolor": "#C8D4E3",
           "bordercolor": "rgb(17,17,17)",
           "borderwidth": 1,
           "tickwidth": 0
          },
          "ternary": {
           "aaxis": {
            "gridcolor": "#506784",
            "linecolor": "#506784",
            "ticks": ""
           },
           "baxis": {
            "gridcolor": "#506784",
            "linecolor": "#506784",
            "ticks": ""
           },
           "bgcolor": "rgb(17,17,17)",
           "caxis": {
            "gridcolor": "#506784",
            "linecolor": "#506784",
            "ticks": ""
           }
          },
          "title": {
           "x": 0.05
          },
          "updatemenudefaults": {
           "bgcolor": "#506784",
           "borderwidth": 0
          },
          "xaxis": {
           "automargin": true,
           "gridcolor": "#283442",
           "linecolor": "#506784",
           "ticks": "",
           "title": {
            "standoff": 15
           },
           "zerolinecolor": "#283442",
           "zerolinewidth": 2
          },
          "yaxis": {
           "automargin": true,
           "gridcolor": "#283442",
           "linecolor": "#506784",
           "ticks": "",
           "title": {
            "standoff": 15
           },
           "zerolinecolor": "#283442",
           "zerolinewidth": 2
          }
         }
        },
        "title": {
         "text": "Hastalığa Göre Gelme Durumu"
        },
        "xaxis": {
         "anchor": "y",
         "domain": [
          0,
          1
         ],
         "title": {
          "text": "Hastalık"
         }
        },
        "yaxis": {
         "anchor": "x",
         "domain": [
          0,
          1
         ],
         "title": {
          "text": "Toplam Sayı"
         }
        }
       }
      }
     },
     "metadata": {},
     "output_type": "display_data"
    }
   ],
   "source": [
    "# Hastalığa göre gelip gelmeme durumuna göre gruplama\n",
    "hastalik_gelme = data.groupby(['Disease', 'NoShow']).size().reset_index(name='count')\n",
    "\n",
    "# Plotly ile bar grafiği oluşturma\n",
    "fig = px.bar(hastalik_gelme, \n",
    "             x='Disease',\n",
    "             y='count',\n",
    "             color='NoShow',\n",
    "             labels={'Disease': 'Hastalık', 'count': 'Toplam Sayı',\n",
    "                     'NoShow': 'Gelme Durumu'},\n",
    "             title='Hastalığa Göre Gelme Durumu',\n",
    "             template='plotly_dark',\n",
    "             color_discrete_map={1: '#1f77b4', 0: '#ff5733'})\n",
    "fig.show()"
   ]
  },
  {
   "cell_type": "code",
   "execution_count": 77,
   "id": "debe3bc3",
   "metadata": {
    "scrolled": true
   },
   "outputs": [
    {
     "data": {
      "application/vnd.plotly.v1+json": {
       "config": {
        "plotlyServerURL": "https://plot.ly"
       },
       "data": [
        {
         "domain": {
          "x": [
           0,
           1
          ],
          "y": [
           0,
           1
          ]
         },
         "hovertemplate": "Hastalık=%{label}<br>Toplam Sayı=%{value}<extra></extra>",
         "labels": [
          "Cardiology",
          "Orthopedics",
          "General",
          "Neurology",
          "Pediatrics"
         ],
         "legendgroup": "",
         "name": "",
         "showlegend": true,
         "type": "pie",
         "values": [
          225,
          201,
          200,
          189,
          185
         ]
        }
       ],
       "layout": {
        "legend": {
         "tracegroupgap": 0
        },
        "template": {
         "data": {
          "bar": [
           {
            "error_x": {
             "color": "#2a3f5f"
            },
            "error_y": {
             "color": "#2a3f5f"
            },
            "marker": {
             "line": {
              "color": "white",
              "width": 0.5
             },
             "pattern": {
              "fillmode": "overlay",
              "size": 10,
              "solidity": 0.2
             }
            },
            "type": "bar"
           }
          ],
          "barpolar": [
           {
            "marker": {
             "line": {
              "color": "white",
              "width": 0.5
             },
             "pattern": {
              "fillmode": "overlay",
              "size": 10,
              "solidity": 0.2
             }
            },
            "type": "barpolar"
           }
          ],
          "carpet": [
           {
            "aaxis": {
             "endlinecolor": "#2a3f5f",
             "gridcolor": "#C8D4E3",
             "linecolor": "#C8D4E3",
             "minorgridcolor": "#C8D4E3",
             "startlinecolor": "#2a3f5f"
            },
            "baxis": {
             "endlinecolor": "#2a3f5f",
             "gridcolor": "#C8D4E3",
             "linecolor": "#C8D4E3",
             "minorgridcolor": "#C8D4E3",
             "startlinecolor": "#2a3f5f"
            },
            "type": "carpet"
           }
          ],
          "choropleth": [
           {
            "colorbar": {
             "outlinewidth": 0,
             "ticks": ""
            },
            "type": "choropleth"
           }
          ],
          "contour": [
           {
            "colorbar": {
             "outlinewidth": 0,
             "ticks": ""
            },
            "colorscale": [
             [
              0,
              "#0d0887"
             ],
             [
              0.1111111111111111,
              "#46039f"
             ],
             [
              0.2222222222222222,
              "#7201a8"
             ],
             [
              0.3333333333333333,
              "#9c179e"
             ],
             [
              0.4444444444444444,
              "#bd3786"
             ],
             [
              0.5555555555555556,
              "#d8576b"
             ],
             [
              0.6666666666666666,
              "#ed7953"
             ],
             [
              0.7777777777777778,
              "#fb9f3a"
             ],
             [
              0.8888888888888888,
              "#fdca26"
             ],
             [
              1,
              "#f0f921"
             ]
            ],
            "type": "contour"
           }
          ],
          "contourcarpet": [
           {
            "colorbar": {
             "outlinewidth": 0,
             "ticks": ""
            },
            "type": "contourcarpet"
           }
          ],
          "heatmap": [
           {
            "colorbar": {
             "outlinewidth": 0,
             "ticks": ""
            },
            "colorscale": [
             [
              0,
              "#0d0887"
             ],
             [
              0.1111111111111111,
              "#46039f"
             ],
             [
              0.2222222222222222,
              "#7201a8"
             ],
             [
              0.3333333333333333,
              "#9c179e"
             ],
             [
              0.4444444444444444,
              "#bd3786"
             ],
             [
              0.5555555555555556,
              "#d8576b"
             ],
             [
              0.6666666666666666,
              "#ed7953"
             ],
             [
              0.7777777777777778,
              "#fb9f3a"
             ],
             [
              0.8888888888888888,
              "#fdca26"
             ],
             [
              1,
              "#f0f921"
             ]
            ],
            "type": "heatmap"
           }
          ],
          "heatmapgl": [
           {
            "colorbar": {
             "outlinewidth": 0,
             "ticks": ""
            },
            "colorscale": [
             [
              0,
              "#0d0887"
             ],
             [
              0.1111111111111111,
              "#46039f"
             ],
             [
              0.2222222222222222,
              "#7201a8"
             ],
             [
              0.3333333333333333,
              "#9c179e"
             ],
             [
              0.4444444444444444,
              "#bd3786"
             ],
             [
              0.5555555555555556,
              "#d8576b"
             ],
             [
              0.6666666666666666,
              "#ed7953"
             ],
             [
              0.7777777777777778,
              "#fb9f3a"
             ],
             [
              0.8888888888888888,
              "#fdca26"
             ],
             [
              1,
              "#f0f921"
             ]
            ],
            "type": "heatmapgl"
           }
          ],
          "histogram": [
           {
            "marker": {
             "pattern": {
              "fillmode": "overlay",
              "size": 10,
              "solidity": 0.2
             }
            },
            "type": "histogram"
           }
          ],
          "histogram2d": [
           {
            "colorbar": {
             "outlinewidth": 0,
             "ticks": ""
            },
            "colorscale": [
             [
              0,
              "#0d0887"
             ],
             [
              0.1111111111111111,
              "#46039f"
             ],
             [
              0.2222222222222222,
              "#7201a8"
             ],
             [
              0.3333333333333333,
              "#9c179e"
             ],
             [
              0.4444444444444444,
              "#bd3786"
             ],
             [
              0.5555555555555556,
              "#d8576b"
             ],
             [
              0.6666666666666666,
              "#ed7953"
             ],
             [
              0.7777777777777778,
              "#fb9f3a"
             ],
             [
              0.8888888888888888,
              "#fdca26"
             ],
             [
              1,
              "#f0f921"
             ]
            ],
            "type": "histogram2d"
           }
          ],
          "histogram2dcontour": [
           {
            "colorbar": {
             "outlinewidth": 0,
             "ticks": ""
            },
            "colorscale": [
             [
              0,
              "#0d0887"
             ],
             [
              0.1111111111111111,
              "#46039f"
             ],
             [
              0.2222222222222222,
              "#7201a8"
             ],
             [
              0.3333333333333333,
              "#9c179e"
             ],
             [
              0.4444444444444444,
              "#bd3786"
             ],
             [
              0.5555555555555556,
              "#d8576b"
             ],
             [
              0.6666666666666666,
              "#ed7953"
             ],
             [
              0.7777777777777778,
              "#fb9f3a"
             ],
             [
              0.8888888888888888,
              "#fdca26"
             ],
             [
              1,
              "#f0f921"
             ]
            ],
            "type": "histogram2dcontour"
           }
          ],
          "mesh3d": [
           {
            "colorbar": {
             "outlinewidth": 0,
             "ticks": ""
            },
            "type": "mesh3d"
           }
          ],
          "parcoords": [
           {
            "line": {
             "colorbar": {
              "outlinewidth": 0,
              "ticks": ""
             }
            },
            "type": "parcoords"
           }
          ],
          "pie": [
           {
            "automargin": true,
            "type": "pie"
           }
          ],
          "scatter": [
           {
            "fillpattern": {
             "fillmode": "overlay",
             "size": 10,
             "solidity": 0.2
            },
            "type": "scatter"
           }
          ],
          "scatter3d": [
           {
            "line": {
             "colorbar": {
              "outlinewidth": 0,
              "ticks": ""
             }
            },
            "marker": {
             "colorbar": {
              "outlinewidth": 0,
              "ticks": ""
             }
            },
            "type": "scatter3d"
           }
          ],
          "scattercarpet": [
           {
            "marker": {
             "colorbar": {
              "outlinewidth": 0,
              "ticks": ""
             }
            },
            "type": "scattercarpet"
           }
          ],
          "scattergeo": [
           {
            "marker": {
             "colorbar": {
              "outlinewidth": 0,
              "ticks": ""
             }
            },
            "type": "scattergeo"
           }
          ],
          "scattergl": [
           {
            "marker": {
             "colorbar": {
              "outlinewidth": 0,
              "ticks": ""
             }
            },
            "type": "scattergl"
           }
          ],
          "scattermapbox": [
           {
            "marker": {
             "colorbar": {
              "outlinewidth": 0,
              "ticks": ""
             }
            },
            "type": "scattermapbox"
           }
          ],
          "scatterpolar": [
           {
            "marker": {
             "colorbar": {
              "outlinewidth": 0,
              "ticks": ""
             }
            },
            "type": "scatterpolar"
           }
          ],
          "scatterpolargl": [
           {
            "marker": {
             "colorbar": {
              "outlinewidth": 0,
              "ticks": ""
             }
            },
            "type": "scatterpolargl"
           }
          ],
          "scatterternary": [
           {
            "marker": {
             "colorbar": {
              "outlinewidth": 0,
              "ticks": ""
             }
            },
            "type": "scatterternary"
           }
          ],
          "surface": [
           {
            "colorbar": {
             "outlinewidth": 0,
             "ticks": ""
            },
            "colorscale": [
             [
              0,
              "#0d0887"
             ],
             [
              0.1111111111111111,
              "#46039f"
             ],
             [
              0.2222222222222222,
              "#7201a8"
             ],
             [
              0.3333333333333333,
              "#9c179e"
             ],
             [
              0.4444444444444444,
              "#bd3786"
             ],
             [
              0.5555555555555556,
              "#d8576b"
             ],
             [
              0.6666666666666666,
              "#ed7953"
             ],
             [
              0.7777777777777778,
              "#fb9f3a"
             ],
             [
              0.8888888888888888,
              "#fdca26"
             ],
             [
              1,
              "#f0f921"
             ]
            ],
            "type": "surface"
           }
          ],
          "table": [
           {
            "cells": {
             "fill": {
              "color": "#EBF0F8"
             },
             "line": {
              "color": "white"
             }
            },
            "header": {
             "fill": {
              "color": "#C8D4E3"
             },
             "line": {
              "color": "white"
             }
            },
            "type": "table"
           }
          ]
         },
         "layout": {
          "annotationdefaults": {
           "arrowcolor": "#2a3f5f",
           "arrowhead": 0,
           "arrowwidth": 1
          },
          "autotypenumbers": "strict",
          "coloraxis": {
           "colorbar": {
            "outlinewidth": 0,
            "ticks": ""
           }
          },
          "colorscale": {
           "diverging": [
            [
             0,
             "#8e0152"
            ],
            [
             0.1,
             "#c51b7d"
            ],
            [
             0.2,
             "#de77ae"
            ],
            [
             0.3,
             "#f1b6da"
            ],
            [
             0.4,
             "#fde0ef"
            ],
            [
             0.5,
             "#f7f7f7"
            ],
            [
             0.6,
             "#e6f5d0"
            ],
            [
             0.7,
             "#b8e186"
            ],
            [
             0.8,
             "#7fbc41"
            ],
            [
             0.9,
             "#4d9221"
            ],
            [
             1,
             "#276419"
            ]
           ],
           "sequential": [
            [
             0,
             "#0d0887"
            ],
            [
             0.1111111111111111,
             "#46039f"
            ],
            [
             0.2222222222222222,
             "#7201a8"
            ],
            [
             0.3333333333333333,
             "#9c179e"
            ],
            [
             0.4444444444444444,
             "#bd3786"
            ],
            [
             0.5555555555555556,
             "#d8576b"
            ],
            [
             0.6666666666666666,
             "#ed7953"
            ],
            [
             0.7777777777777778,
             "#fb9f3a"
            ],
            [
             0.8888888888888888,
             "#fdca26"
            ],
            [
             1,
             "#f0f921"
            ]
           ],
           "sequentialminus": [
            [
             0,
             "#0d0887"
            ],
            [
             0.1111111111111111,
             "#46039f"
            ],
            [
             0.2222222222222222,
             "#7201a8"
            ],
            [
             0.3333333333333333,
             "#9c179e"
            ],
            [
             0.4444444444444444,
             "#bd3786"
            ],
            [
             0.5555555555555556,
             "#d8576b"
            ],
            [
             0.6666666666666666,
             "#ed7953"
            ],
            [
             0.7777777777777778,
             "#fb9f3a"
            ],
            [
             0.8888888888888888,
             "#fdca26"
            ],
            [
             1,
             "#f0f921"
            ]
           ]
          },
          "colorway": [
           "#636efa",
           "#EF553B",
           "#00cc96",
           "#ab63fa",
           "#FFA15A",
           "#19d3f3",
           "#FF6692",
           "#B6E880",
           "#FF97FF",
           "#FECB52"
          ],
          "font": {
           "color": "#2a3f5f"
          },
          "geo": {
           "bgcolor": "white",
           "lakecolor": "white",
           "landcolor": "white",
           "showlakes": true,
           "showland": true,
           "subunitcolor": "#C8D4E3"
          },
          "hoverlabel": {
           "align": "left"
          },
          "hovermode": "closest",
          "mapbox": {
           "style": "light"
          },
          "paper_bgcolor": "white",
          "plot_bgcolor": "white",
          "polar": {
           "angularaxis": {
            "gridcolor": "#EBF0F8",
            "linecolor": "#EBF0F8",
            "ticks": ""
           },
           "bgcolor": "white",
           "radialaxis": {
            "gridcolor": "#EBF0F8",
            "linecolor": "#EBF0F8",
            "ticks": ""
           }
          },
          "scene": {
           "xaxis": {
            "backgroundcolor": "white",
            "gridcolor": "#DFE8F3",
            "gridwidth": 2,
            "linecolor": "#EBF0F8",
            "showbackground": true,
            "ticks": "",
            "zerolinecolor": "#EBF0F8"
           },
           "yaxis": {
            "backgroundcolor": "white",
            "gridcolor": "#DFE8F3",
            "gridwidth": 2,
            "linecolor": "#EBF0F8",
            "showbackground": true,
            "ticks": "",
            "zerolinecolor": "#EBF0F8"
           },
           "zaxis": {
            "backgroundcolor": "white",
            "gridcolor": "#DFE8F3",
            "gridwidth": 2,
            "linecolor": "#EBF0F8",
            "showbackground": true,
            "ticks": "",
            "zerolinecolor": "#EBF0F8"
           }
          },
          "shapedefaults": {
           "line": {
            "color": "#2a3f5f"
           }
          },
          "ternary": {
           "aaxis": {
            "gridcolor": "#DFE8F3",
            "linecolor": "#A2B1C6",
            "ticks": ""
           },
           "baxis": {
            "gridcolor": "#DFE8F3",
            "linecolor": "#A2B1C6",
            "ticks": ""
           },
           "bgcolor": "white",
           "caxis": {
            "gridcolor": "#DFE8F3",
            "linecolor": "#A2B1C6",
            "ticks": ""
           }
          },
          "title": {
           "x": 0.05
          },
          "xaxis": {
           "automargin": true,
           "gridcolor": "#EBF0F8",
           "linecolor": "#EBF0F8",
           "ticks": "",
           "title": {
            "standoff": 15
           },
           "zerolinecolor": "#EBF0F8",
           "zerolinewidth": 2
          },
          "yaxis": {
           "automargin": true,
           "gridcolor": "#EBF0F8",
           "linecolor": "#EBF0F8",
           "ticks": "",
           "title": {
            "standoff": 15
           },
           "zerolinecolor": "#EBF0F8",
           "zerolinewidth": 2
          }
         }
        },
        "title": {
         "text": "Hastalık Dağılımı Oranlı:"
        }
       }
      }
     },
     "metadata": {},
     "output_type": "display_data"
    }
   ],
   "source": [
    "# Hastalık bazında sayıları hesapla\n",
    "hasta_sayi = data['Disease'].value_counts()\n",
    "\n",
    "# Plotly ile pasta grafiği (pie chart) oluşturma\n",
    "fig = px.pie(names=hasta_sayi.index,  # isim yerine index lerini\n",
    "             values=hasta_sayi.values, # index yerlerinede kisi sayisini\n",
    "             title='Hastalık Dağılımı Oranlı:', # başlık\n",
    "             labels={'names': 'Hastalık',\n",
    "                     'values': 'Toplam Sayı'},  #labellerimiz\n",
    "             template='plotly_white') # arkaplan rengi\n",
    "fig.show()  # yapılanı gösterme "
   ]
  },
  {
   "cell_type": "code",
   "execution_count": 78,
   "id": "ea7f985d",
   "metadata": {},
   "outputs": [
    {
     "data": {
      "application/vnd.plotly.v1+json": {
       "config": {
        "plotlyServerURL": "https://plot.ly"
       },
       "data": [
        {
         "branchvalues": "total",
         "domain": {
          "x": [
           0,
           1
          ],
          "y": [
           0,
           1
          ]
         },
         "hovertemplate": "labels=%{label}<br>count=%{value}<br>parent=%{parent}<br>id=%{id}<extra></extra>",
         "ids": [
          "Yes/Male/Pediatrics/Sunday/2023-01-01",
          "No/Male/General/Monday/2023-01-02",
          "Yes/Male/Orthopedics/Tuesday/2023-01-03",
          "No/Female/Cardiology/Wednesday/2023-01-04",
          "Yes/Female/Pediatrics/Thursday/2023-01-05",
          "No/Female/General/Friday/2023-01-06",
          "No/Female/Cardiology/Saturday/2023-01-07",
          "No/Female/Cardiology/Sunday/2023-01-08",
          "No/Female/Cardiology/Monday/2023-01-09",
          "No/Female/Cardiology/Tuesday/2023-01-10",
          "No/Male/Orthopedics/Wednesday/2023-01-11",
          "No/Female/Orthopedics/Thursday/2023-01-12",
          "No/Male/Orthopedics/Friday/2023-01-13",
          "No/Male/General/Saturday/2023-01-14",
          "No/Female/General/Sunday/2023-01-15",
          "No/Female/General/Monday/2023-01-16",
          "No/Male/Neurology/Tuesday/2023-01-17",
          "Yes/Male/General/Wednesday/2023-01-18",
          "No/Female/Orthopedics/Thursday/2023-01-19",
          "No/Female/Orthopedics/Friday/2023-01-20",
          "No/Male/Neurology/Saturday/2023-01-21",
          "No/Female/Neurology/Sunday/2023-01-22",
          "No/Female/General/Monday/2023-01-23",
          "No/Female/Pediatrics/Tuesday/2023-01-24",
          "Yes/Male/Neurology/Wednesday/2023-01-25",
          "Yes/Male/Cardiology/Thursday/2023-01-26",
          "No/Male/Orthopedics/Friday/2023-01-27",
          "No/Female/Cardiology/Saturday/2023-01-28",
          "Yes/Female/Orthopedics/Sunday/2023-01-29",
          "Yes/Male/Orthopedics/Monday/2023-01-30",
          "Yes/Male/Neurology/Tuesday/2023-01-31",
          "No/Male/Neurology/Wednesday/2023-02-01",
          "No/Female/Cardiology/Thursday/2023-02-02",
          "No/Male/Orthopedics/Friday/2023-02-03",
          "No/Male/Cardiology/Saturday/2023-02-04",
          "No/Female/Pediatrics/Sunday/2023-02-05",
          "No/Female/Cardiology/Monday/2023-02-06",
          "No/Female/General/Tuesday/2023-02-07",
          "Yes/Male/Cardiology/Wednesday/2023-02-08",
          "No/Female/General/Thursday/2023-02-09",
          "No/Female/General/Friday/2023-02-10",
          "No/Male/General/Saturday/2023-02-11",
          "Yes/Female/Pediatrics/Sunday/2023-02-12",
          "Yes/Male/Cardiology/Monday/2023-02-13",
          "Yes/Male/Cardiology/Tuesday/2023-02-14",
          "No/Female/Pediatrics/Wednesday/2023-02-15",
          "No/Female/Orthopedics/Thursday/2023-02-16",
          "Yes/Female/Neurology/Friday/2023-02-17",
          "No/Female/Cardiology/Saturday/2023-02-18",
          "No/Female/Neurology/Sunday/2023-02-19",
          "Yes/Female/Pediatrics/Monday/2023-02-20",
          "No/Male/Orthopedics/Tuesday/2023-02-21",
          "Yes/Male/Orthopedics/Wednesday/2023-02-22",
          "No/Female/Orthopedics/Thursday/2023-02-23",
          "No/Male/Pediatrics/Friday/2023-02-24",
          "No/Female/General/Saturday/2023-02-25",
          "Yes/Male/General/Sunday/2023-02-26",
          "No/Male/Neurology/Monday/2023-02-27",
          "No/Male/General/Tuesday/2023-02-28",
          "No/Female/General/Wednesday/2023-03-01",
          "Yes/Male/Orthopedics/Thursday/2023-03-02",
          "Yes/Female/Orthopedics/Friday/2023-03-03",
          "Yes/Male/Neurology/Saturday/2023-03-04",
          "Yes/Male/Cardiology/Sunday/2023-03-05",
          "No/Male/Neurology/Monday/2023-03-06",
          "No/Male/Neurology/Tuesday/2023-03-07",
          "No/Male/Pediatrics/Wednesday/2023-03-08",
          "Yes/Female/Pediatrics/Thursday/2023-03-09",
          "No/Female/Neurology/Friday/2023-03-10",
          "Yes/Male/Neurology/Saturday/2023-03-11",
          "No/Male/Neurology/Sunday/2023-03-12",
          "No/Male/General/Monday/2023-03-13",
          "No/Male/Pediatrics/Tuesday/2023-03-14",
          "No/Female/Neurology/Wednesday/2023-03-15",
          "Yes/Male/Orthopedics/Thursday/2023-03-16",
          "No/Female/Orthopedics/Friday/2023-03-17",
          "No/Male/General/Saturday/2023-03-18",
          "No/Female/General/Sunday/2023-03-19",
          "No/Male/Cardiology/Monday/2023-03-20",
          "No/Male/Cardiology/Tuesday/2023-03-21",
          "Yes/Female/Cardiology/Wednesday/2023-03-22",
          "No/Male/General/Thursday/2023-03-23",
          "Yes/Male/General/Friday/2023-03-24",
          "No/Male/General/Saturday/2023-03-25",
          "No/Female/Orthopedics/Sunday/2023-03-26",
          "Yes/Male/General/Monday/2023-03-27",
          "No/Male/Orthopedics/Tuesday/2023-03-28",
          "No/Female/Cardiology/Wednesday/2023-03-29",
          "No/Female/Cardiology/Thursday/2023-03-30",
          "No/Female/Cardiology/Friday/2023-03-31",
          "No/Male/Neurology/Saturday/2023-04-01",
          "No/Male/Neurology/Sunday/2023-04-02",
          "No/Male/Pediatrics/Monday/2023-04-03",
          "No/Female/Pediatrics/Tuesday/2023-04-04",
          "No/Male/Pediatrics/Wednesday/2023-04-05",
          "No/Male/Neurology/Thursday/2023-04-06",
          "No/Female/Neurology/Friday/2023-04-07",
          "Yes/Female/Pediatrics/Saturday/2023-04-08",
          "Yes/Female/Pediatrics/Sunday/2023-04-09",
          "Yes/Female/General/Monday/2023-04-10",
          "No/Female/Pediatrics/Tuesday/2023-04-11",
          "No/Male/General/Wednesday/2023-04-12",
          "No/Female/Orthopedics/Thursday/2023-04-13",
          "No/Male/Neurology/Friday/2023-04-14",
          "Yes/Male/Pediatrics/Saturday/2023-04-15",
          "No/Female/Neurology/Sunday/2023-04-16",
          "No/Female/Neurology/Monday/2023-04-17",
          "No/Female/Neurology/Tuesday/2023-04-18",
          "No/Male/Orthopedics/Wednesday/2023-04-19",
          "No/Female/Cardiology/Thursday/2023-04-20",
          "No/Female/Pediatrics/Friday/2023-04-21",
          "No/Female/Cardiology/Saturday/2023-04-22",
          "No/Female/Cardiology/Sunday/2023-04-23",
          "No/Female/Cardiology/Monday/2023-04-24",
          "Yes/Male/Neurology/Tuesday/2023-04-25",
          "No/Male/General/Wednesday/2023-04-26",
          "No/Male/Neurology/Thursday/2023-04-27",
          "No/Female/Neurology/Friday/2023-04-28",
          "Yes/Female/Cardiology/Saturday/2023-04-29",
          "No/Female/Neurology/Sunday/2023-04-30",
          "No/Male/Cardiology/Monday/2023-05-01",
          "Yes/Female/General/Tuesday/2023-05-02",
          "No/Female/Pediatrics/Wednesday/2023-05-03",
          "Yes/Female/Cardiology/Thursday/2023-05-04",
          "Yes/Male/General/Friday/2023-05-05",
          "Yes/Female/Pediatrics/Saturday/2023-05-06",
          "Yes/Male/Orthopedics/Sunday/2023-05-07",
          "No/Female/Cardiology/Monday/2023-05-08",
          "Yes/Male/Cardiology/Tuesday/2023-05-09",
          "Yes/Male/Orthopedics/Wednesday/2023-05-10",
          "Yes/Male/Orthopedics/Thursday/2023-05-11",
          "Yes/Female/Cardiology/Friday/2023-05-12",
          "Yes/Female/Orthopedics/Saturday/2023-05-13",
          "No/Male/Neurology/Sunday/2023-05-14",
          "Yes/Male/Pediatrics/Monday/2023-05-15",
          "No/Female/Pediatrics/Tuesday/2023-05-16",
          "No/Female/Pediatrics/Wednesday/2023-05-17",
          "Yes/Male/Neurology/Thursday/2023-05-18",
          "No/Female/Orthopedics/Friday/2023-05-19",
          "Yes/Female/General/Saturday/2023-05-20",
          "Yes/Female/Orthopedics/Sunday/2023-05-21",
          "Yes/Female/Cardiology/Monday/2023-05-22",
          "No/Male/Pediatrics/Tuesday/2023-05-23",
          "No/Female/Orthopedics/Wednesday/2023-05-24",
          "No/Female/General/Thursday/2023-05-25",
          "No/Male/Cardiology/Friday/2023-05-26",
          "No/Male/Neurology/Saturday/2023-05-27",
          "Yes/Female/Neurology/Sunday/2023-05-28",
          "No/Female/General/Monday/2023-05-29",
          "Yes/Female/Cardiology/Tuesday/2023-05-30",
          "Yes/Female/Pediatrics/Wednesday/2023-05-31",
          "Yes/Male/Orthopedics/Thursday/2023-06-01",
          "Yes/Male/Cardiology/Friday/2023-06-02",
          "No/Male/Neurology/Saturday/2023-06-03",
          "No/Female/General/Sunday/2023-06-04",
          "Yes/Female/General/Monday/2023-06-05",
          "No/Female/Orthopedics/Tuesday/2023-06-06",
          "No/Female/General/Wednesday/2023-06-07",
          "No/Male/General/Thursday/2023-06-08",
          "Yes/Male/Cardiology/Friday/2023-06-09",
          "No/Female/Pediatrics/Saturday/2023-06-10",
          "No/Male/Orthopedics/Sunday/2023-06-11",
          "No/Female/Cardiology/Monday/2023-06-12",
          "No/Female/Pediatrics/Tuesday/2023-06-13",
          "Yes/Male/Cardiology/Wednesday/2023-06-14",
          "Yes/Female/Cardiology/Thursday/2023-06-15",
          "No/Female/General/Friday/2023-06-16",
          "No/Male/Pediatrics/Saturday/2023-06-17",
          "Yes/Female/Orthopedics/Sunday/2023-06-18",
          "No/Female/Orthopedics/Monday/2023-06-19",
          "No/Male/Pediatrics/Tuesday/2023-06-20",
          "No/Female/General/Wednesday/2023-06-21",
          "No/Male/Neurology/Thursday/2023-06-22",
          "No/Female/Cardiology/Friday/2023-06-23",
          "No/Male/General/Saturday/2023-06-24",
          "No/Male/Pediatrics/Sunday/2023-06-25",
          "Yes/Male/Cardiology/Monday/2023-06-26",
          "Yes/Female/Orthopedics/Tuesday/2023-06-27",
          "Yes/Male/Neurology/Wednesday/2023-06-28",
          "Yes/Male/Orthopedics/Thursday/2023-06-29",
          "Yes/Male/Pediatrics/Friday/2023-06-30",
          "Yes/Male/Cardiology/Saturday/2023-07-01",
          "No/Male/Pediatrics/Sunday/2023-07-02",
          "Yes/Female/Cardiology/Monday/2023-07-03",
          "No/Female/General/Tuesday/2023-07-04",
          "Yes/Female/Neurology/Wednesday/2023-07-05",
          "No/Female/General/Thursday/2023-07-06",
          "No/Female/General/Friday/2023-07-07",
          "Yes/Female/Pediatrics/Saturday/2023-07-08",
          "No/Female/Neurology/Sunday/2023-07-09",
          "No/Male/Cardiology/Monday/2023-07-10",
          "No/Female/Cardiology/Tuesday/2023-07-11",
          "No/Male/Orthopedics/Wednesday/2023-07-12",
          "No/Male/Cardiology/Thursday/2023-07-13",
          "No/Female/Pediatrics/Friday/2023-07-14",
          "No/Male/General/Saturday/2023-07-15",
          "Yes/Male/General/Sunday/2023-07-16",
          "No/Male/General/Monday/2023-07-17",
          "No/Male/Neurology/Tuesday/2023-07-18",
          "No/Female/Cardiology/Wednesday/2023-07-19",
          "Yes/Female/Pediatrics/Thursday/2023-07-20",
          "No/Female/Neurology/Friday/2023-07-21",
          "No/Female/Orthopedics/Saturday/2023-07-22",
          "Yes/Female/Pediatrics/Sunday/2023-07-23",
          "No/Female/Pediatrics/Monday/2023-07-24",
          "No/Female/Pediatrics/Tuesday/2023-07-25",
          "No/Female/General/Wednesday/2023-07-26",
          "No/Female/Pediatrics/Thursday/2023-07-27",
          "No/Female/Cardiology/Friday/2023-07-28",
          "No/Male/Pediatrics/Saturday/2023-07-29",
          "No/Female/General/Sunday/2023-07-30",
          "Yes/Male/Pediatrics/Monday/2023-07-31",
          "Yes/Male/Orthopedics/Tuesday/2023-08-01",
          "No/Male/Orthopedics/Wednesday/2023-08-02",
          "Yes/Male/General/Thursday/2023-08-03",
          "Yes/Female/Cardiology/Friday/2023-08-04",
          "No/Male/Cardiology/Saturday/2023-08-05",
          "Yes/Female/Neurology/Sunday/2023-08-06",
          "No/Female/General/Monday/2023-08-07",
          "Yes/Male/Pediatrics/Tuesday/2023-08-08",
          "No/Female/General/Wednesday/2023-08-09",
          "No/Male/Neurology/Thursday/2023-08-10",
          "Yes/Male/General/Friday/2023-08-11",
          "No/Female/General/Saturday/2023-08-12",
          "Yes/Female/Neurology/Sunday/2023-08-13",
          "No/Male/Cardiology/Monday/2023-08-14",
          "No/Female/Pediatrics/Tuesday/2023-08-15",
          "No/Female/Neurology/Wednesday/2023-08-16",
          "No/Female/Orthopedics/Thursday/2023-08-17",
          "No/Male/Cardiology/Friday/2023-08-18",
          "No/Male/Orthopedics/Saturday/2023-08-19",
          "No/Female/Cardiology/Sunday/2023-08-20",
          "Yes/Female/Pediatrics/Monday/2023-08-21",
          "No/Female/Pediatrics/Tuesday/2023-08-22",
          "Yes/Female/General/Wednesday/2023-08-23",
          "No/Female/Orthopedics/Thursday/2023-08-24",
          "Yes/Male/Cardiology/Friday/2023-08-25",
          "No/Female/Pediatrics/Saturday/2023-08-26",
          "Yes/Male/Neurology/Sunday/2023-08-27",
          "Yes/Female/Pediatrics/Monday/2023-08-28",
          "No/Male/Neurology/Tuesday/2023-08-29",
          "No/Female/Cardiology/Wednesday/2023-08-30",
          "No/Male/Pediatrics/Thursday/2023-08-31",
          "Yes/Female/Pediatrics/Friday/2023-09-01",
          "Yes/Male/Cardiology/Saturday/2023-09-02",
          "No/Male/Pediatrics/Sunday/2023-09-03",
          "No/Male/Neurology/Monday/2023-09-04",
          "Yes/Male/Pediatrics/Tuesday/2023-09-05",
          "No/Male/Orthopedics/Wednesday/2023-09-06",
          "No/Male/General/Thursday/2023-09-07",
          "No/Female/Neurology/Friday/2023-09-08",
          "No/Male/Orthopedics/Saturday/2023-09-09",
          "No/Female/Cardiology/Sunday/2023-09-10",
          "Yes/Female/Neurology/Monday/2023-09-11",
          "Yes/Female/General/Tuesday/2023-09-12",
          "No/Female/General/Wednesday/2023-09-13",
          "No/Female/Cardiology/Thursday/2023-09-14",
          "No/Male/Cardiology/Friday/2023-09-15",
          "No/Male/Neurology/Saturday/2023-09-16",
          "No/Male/Pediatrics/Sunday/2023-09-17",
          "No/Female/Cardiology/Monday/2023-09-18",
          "Yes/Male/Pediatrics/Tuesday/2023-09-19",
          "Yes/Male/Orthopedics/Wednesday/2023-09-20",
          "No/Male/General/Thursday/2023-09-21",
          "No/Male/Pediatrics/Friday/2023-09-22",
          "Yes/Male/General/Saturday/2023-09-23",
          "No/Female/Pediatrics/Sunday/2023-09-24",
          "No/Male/Orthopedics/Monday/2023-09-25",
          "No/Female/Cardiology/Tuesday/2023-09-26",
          "Yes/Female/Orthopedics/Wednesday/2023-09-27",
          "No/Female/Cardiology/Thursday/2023-09-28",
          "Yes/Female/Cardiology/Friday/2023-09-29",
          "No/Female/General/Saturday/2023-09-30",
          "Yes/Male/Orthopedics/Sunday/2023-10-01",
          "No/Male/Pediatrics/Monday/2023-10-02",
          "Yes/Male/Orthopedics/Tuesday/2023-10-03",
          "No/Female/General/Wednesday/2023-10-04",
          "No/Male/Cardiology/Thursday/2023-10-05",
          "Yes/Male/General/Friday/2023-10-06",
          "No/Female/Neurology/Saturday/2023-10-07",
          "Yes/Female/Neurology/Sunday/2023-10-08",
          "No/Female/Pediatrics/Monday/2023-10-09",
          "No/Female/General/Tuesday/2023-10-10",
          "No/Male/Pediatrics/Wednesday/2023-10-11",
          "No/Female/Pediatrics/Thursday/2023-10-12",
          "No/Female/Neurology/Friday/2023-10-13",
          "No/Male/Pediatrics/Saturday/2023-10-14",
          "Yes/Male/Neurology/Sunday/2023-10-15",
          "No/Female/Cardiology/Monday/2023-10-16",
          "No/Male/General/Tuesday/2023-10-17",
          "Yes/Female/Pediatrics/Wednesday/2023-10-18",
          "No/Female/Neurology/Thursday/2023-10-19",
          "Yes/Male/Orthopedics/Friday/2023-10-20",
          "No/Male/Pediatrics/Saturday/2023-10-21",
          "Yes/Female/Cardiology/Sunday/2023-10-22",
          "No/Female/Cardiology/Monday/2023-10-23",
          "No/Female/Orthopedics/Tuesday/2023-10-24",
          "Yes/Male/Neurology/Wednesday/2023-10-25",
          "Yes/Female/Pediatrics/Thursday/2023-10-26",
          "No/Female/Neurology/Friday/2023-10-27",
          "No/Female/Cardiology/Saturday/2023-10-28",
          "Yes/Female/Neurology/Sunday/2023-10-29",
          "Yes/Female/Cardiology/Monday/2023-10-30",
          "No/Male/Neurology/Tuesday/2023-10-31",
          "No/Female/Orthopedics/Wednesday/2023-11-01",
          "No/Female/General/Thursday/2023-11-02",
          "No/Female/Orthopedics/Friday/2023-11-03",
          "Yes/Female/Orthopedics/Saturday/2023-11-04",
          "No/Male/General/Sunday/2023-11-05",
          "No/Male/General/Monday/2023-11-06",
          "Yes/Male/Pediatrics/Tuesday/2023-11-07",
          "No/Female/Pediatrics/Wednesday/2023-11-08",
          "No/Female/Orthopedics/Thursday/2023-11-09",
          "No/Male/Orthopedics/Friday/2023-11-10",
          "No/Male/Cardiology/Saturday/2023-11-11",
          "Yes/Male/Cardiology/Sunday/2023-11-12",
          "No/Female/Pediatrics/Monday/2023-11-13",
          "No/Female/Pediatrics/Tuesday/2023-11-14",
          "Yes/Male/Cardiology/Wednesday/2023-11-15",
          "No/Male/Cardiology/Thursday/2023-11-16",
          "No/Male/Neurology/Friday/2023-11-17",
          "No/Female/Neurology/Saturday/2023-11-18",
          "No/Female/Cardiology/Sunday/2023-11-19",
          "No/Female/Neurology/Monday/2023-11-20",
          "No/Male/General/Tuesday/2023-11-21",
          "No/Male/Pediatrics/Wednesday/2023-11-22",
          "No/Female/Pediatrics/Thursday/2023-11-23",
          "Yes/Male/Cardiology/Friday/2023-11-24",
          "No/Female/Orthopedics/Saturday/2023-11-25",
          "No/Male/Cardiology/Sunday/2023-11-26",
          "No/Male/Neurology/Monday/2023-11-27",
          "No/Male/Orthopedics/Tuesday/2023-11-28",
          "No/Male/Neurology/Wednesday/2023-11-29",
          "No/Female/General/Thursday/2023-11-30",
          "Yes/Male/Neurology/Friday/2023-12-01",
          "Yes/Female/General/Saturday/2023-12-02",
          "No/Female/General/Sunday/2023-12-03",
          "No/Female/Neurology/Monday/2023-12-04",
          "Yes/Male/Neurology/Tuesday/2023-12-05",
          "Yes/Female/General/Wednesday/2023-12-06",
          "No/Female/Orthopedics/Thursday/2023-12-07",
          "No/Female/General/Friday/2023-12-08",
          "No/Male/Pediatrics/Saturday/2023-12-09",
          "No/Male/General/Sunday/2023-12-10",
          "Yes/Female/Orthopedics/Monday/2023-12-11",
          "No/Male/Pediatrics/Tuesday/2023-12-12",
          "No/Female/Cardiology/Wednesday/2023-12-13",
          "No/Female/Cardiology/Thursday/2023-12-14",
          "Yes/Male/Orthopedics/Friday/2023-12-15",
          "Yes/Female/General/Saturday/2023-12-16",
          "Yes/Male/Neurology/Sunday/2023-12-17",
          "No/Male/Orthopedics/Monday/2023-12-18",
          "No/Female/Pediatrics/Tuesday/2023-12-19",
          "No/Male/Pediatrics/Wednesday/2023-12-20",
          "No/Male/Cardiology/Thursday/2023-12-21",
          "No/Female/Pediatrics/Friday/2023-12-22",
          "No/Female/Orthopedics/Saturday/2023-12-23",
          "Yes/Male/Pediatrics/Sunday/2023-12-24",
          "No/Male/Orthopedics/Monday/2023-12-25",
          "No/Female/Neurology/Tuesday/2023-12-26",
          "No/Male/Cardiology/Wednesday/2023-12-27",
          "No/Male/Pediatrics/Thursday/2023-12-28",
          "No/Male/Orthopedics/Friday/2023-12-29",
          "No/Male/General/Saturday/2023-12-30",
          "No/Male/Cardiology/Sunday/2023-12-31",
          "No/Male/Neurology/Monday/2024-01-01",
          "No/Male/Orthopedics/Tuesday/2024-01-02",
          "No/Female/Neurology/Wednesday/2024-01-03",
          "Yes/Female/Neurology/Thursday/2024-01-04",
          "No/Female/Pediatrics/Friday/2024-01-05",
          "No/Female/Pediatrics/Saturday/2024-01-06",
          "Yes/Female/Orthopedics/Sunday/2024-01-07",
          "Yes/Male/General/Monday/2024-01-08",
          "Yes/Male/Orthopedics/Tuesday/2024-01-09",
          "No/Male/General/Wednesday/2024-01-10",
          "No/Male/Neurology/Thursday/2024-01-11",
          "No/Female/Cardiology/Friday/2024-01-12",
          "No/Male/Orthopedics/Saturday/2024-01-13",
          "No/Male/Orthopedics/Sunday/2024-01-14",
          "No/Female/General/Monday/2024-01-15",
          "No/Male/Neurology/Tuesday/2024-01-16",
          "No/Male/Neurology/Wednesday/2024-01-17",
          "Yes/Female/General/Thursday/2024-01-18",
          "No/Male/Neurology/Friday/2024-01-19",
          "No/Male/Pediatrics/Saturday/2024-01-20",
          "No/Male/Cardiology/Sunday/2024-01-21",
          "No/Male/Orthopedics/Monday/2024-01-22",
          "No/Male/Cardiology/Tuesday/2024-01-23",
          "Yes/Female/Orthopedics/Wednesday/2024-01-24",
          "No/Female/Pediatrics/Thursday/2024-01-25",
          "Yes/Female/Neurology/Friday/2024-01-26",
          "No/Female/General/Saturday/2024-01-27",
          "No/Female/Pediatrics/Sunday/2024-01-28",
          "No/Female/Cardiology/Monday/2024-01-29",
          "No/Male/General/Tuesday/2024-01-30",
          "No/Female/Neurology/Wednesday/2024-01-31",
          "No/Female/Pediatrics/Thursday/2024-02-01",
          "No/Male/General/Friday/2024-02-02",
          "No/Male/Pediatrics/Saturday/2024-02-03",
          "No/Female/Pediatrics/Sunday/2024-02-04",
          "No/Male/Neurology/Monday/2024-02-05",
          "Yes/Female/Orthopedics/Tuesday/2024-02-06",
          "No/Male/General/Wednesday/2024-02-07",
          "No/Female/Neurology/Thursday/2024-02-08",
          "No/Male/Pediatrics/Friday/2024-02-09",
          "Yes/Male/Neurology/Saturday/2024-02-10",
          "No/Female/Orthopedics/Sunday/2024-02-11",
          "Yes/Female/General/Monday/2024-02-12",
          "Yes/Female/Orthopedics/Tuesday/2024-02-13",
          "No/Female/Cardiology/Wednesday/2024-02-14",
          "No/Female/General/Thursday/2024-02-15",
          "Yes/Male/Orthopedics/Friday/2024-02-16",
          "No/Female/Pediatrics/Saturday/2024-02-17",
          "No/Female/General/Sunday/2024-02-18",
          "No/Male/General/Monday/2024-02-19",
          "Yes/Male/Neurology/Tuesday/2024-02-20",
          "No/Female/Pediatrics/Wednesday/2024-02-21",
          "No/Male/Cardiology/Thursday/2024-02-22",
          "No/Male/Orthopedics/Friday/2024-02-23",
          "No/Female/Neurology/Saturday/2024-02-24",
          "No/Male/Orthopedics/Sunday/2024-02-25",
          "Yes/Male/Cardiology/Monday/2024-02-26",
          "No/Female/Cardiology/Tuesday/2024-02-27",
          "No/Female/General/Wednesday/2024-02-28",
          "No/Male/Cardiology/Thursday/2024-02-29",
          "No/Male/Orthopedics/Friday/2024-03-01",
          "Yes/Female/Pediatrics/Saturday/2024-03-02",
          "No/Male/Pediatrics/Sunday/2024-03-03",
          "No/Male/General/Monday/2024-03-04",
          "No/Male/Orthopedics/Tuesday/2024-03-05",
          "No/Female/Orthopedics/Wednesday/2024-03-06",
          "No/Male/Cardiology/Thursday/2024-03-07",
          "No/Male/Orthopedics/Friday/2024-03-08",
          "Yes/Female/Neurology/Saturday/2024-03-09",
          "No/Male/Cardiology/Sunday/2024-03-10",
          "No/Male/Neurology/Monday/2024-03-11",
          "No/Female/General/Tuesday/2024-03-12",
          "No/Female/Pediatrics/Wednesday/2024-03-13",
          "No/Female/General/Thursday/2024-03-14",
          "Yes/Female/Pediatrics/Friday/2024-03-15",
          "Yes/Male/General/Saturday/2024-03-16",
          "No/Male/Orthopedics/Sunday/2024-03-17",
          "Yes/Female/Neurology/Monday/2024-03-18",
          "No/Female/Pediatrics/Tuesday/2024-03-19",
          "Yes/Male/Cardiology/Wednesday/2024-03-20",
          "No/Female/Neurology/Thursday/2024-03-21",
          "No/Male/Cardiology/Friday/2024-03-22",
          "Yes/Female/Neurology/Saturday/2024-03-23",
          "No/Male/Neurology/Sunday/2024-03-24",
          "Yes/Female/General/Monday/2024-03-25",
          "No/Female/Pediatrics/Tuesday/2024-03-26",
          "Yes/Male/Pediatrics/Wednesday/2024-03-27",
          "No/Female/Neurology/Thursday/2024-03-28",
          "No/Male/Orthopedics/Friday/2024-03-29",
          "Yes/Male/Orthopedics/Saturday/2024-03-30",
          "Yes/Male/Cardiology/Sunday/2024-03-31",
          "No/Male/Cardiology/Monday/2024-04-01",
          "Yes/Male/General/Tuesday/2024-04-02",
          "No/Female/Neurology/Wednesday/2024-04-03",
          "No/Female/Cardiology/Thursday/2024-04-04",
          "No/Male/Cardiology/Friday/2024-04-05",
          "No/Female/Neurology/Saturday/2024-04-06",
          "No/Male/General/Sunday/2024-04-07",
          "No/Female/Cardiology/Monday/2024-04-08",
          "No/Female/General/Tuesday/2024-04-09",
          "Yes/Female/Pediatrics/Wednesday/2024-04-10",
          "Yes/Female/General/Thursday/2024-04-11",
          "No/Male/Orthopedics/Friday/2024-04-12",
          "No/Male/Orthopedics/Saturday/2024-04-13",
          "Yes/Female/General/Sunday/2024-04-14",
          "No/Female/Orthopedics/Monday/2024-04-15",
          "No/Male/Pediatrics/Tuesday/2024-04-16",
          "Yes/Female/Neurology/Wednesday/2024-04-17",
          "No/Male/Orthopedics/Thursday/2024-04-18",
          "Yes/Male/Orthopedics/Friday/2024-04-19",
          "No/Male/General/Saturday/2024-04-20",
          "Yes/Female/Pediatrics/Sunday/2024-04-21",
          "No/Male/Neurology/Monday/2024-04-22",
          "Yes/Female/General/Tuesday/2024-04-23",
          "No/Male/General/Wednesday/2024-04-24",
          "No/Female/Pediatrics/Thursday/2024-04-25",
          "Yes/Female/Neurology/Friday/2024-04-26",
          "No/Female/Pediatrics/Saturday/2024-04-27",
          "No/Male/Neurology/Sunday/2024-04-28",
          "Yes/Male/Pediatrics/Monday/2024-04-29",
          "No/Female/General/Tuesday/2024-04-30",
          "No/Female/General/Wednesday/2024-05-01",
          "No/Female/Cardiology/Thursday/2024-05-02",
          "No/Male/Orthopedics/Friday/2024-05-03",
          "No/Male/Pediatrics/Saturday/2024-05-04",
          "Yes/Male/Cardiology/Sunday/2024-05-05",
          "No/Male/Orthopedics/Monday/2024-05-06",
          "No/Female/Pediatrics/Tuesday/2024-05-07",
          "No/Female/Neurology/Wednesday/2024-05-08",
          "No/Male/Orthopedics/Thursday/2024-05-09",
          "No/Male/General/Friday/2024-05-10",
          "Yes/Female/Cardiology/Saturday/2024-05-11",
          "Yes/Male/Orthopedics/Sunday/2024-05-12",
          "Yes/Male/Orthopedics/Monday/2024-05-13",
          "Yes/Male/General/Tuesday/2024-05-14",
          "No/Male/Pediatrics/Wednesday/2024-05-15",
          "Yes/Male/Neurology/Thursday/2024-05-16",
          "Yes/Male/General/Friday/2024-05-17",
          "Yes/Female/Neurology/Saturday/2024-05-18",
          "Yes/Male/Pediatrics/Sunday/2024-05-19",
          "Yes/Male/Orthopedics/Monday/2024-05-20",
          "Yes/Female/Neurology/Tuesday/2024-05-21",
          "No/Female/Cardiology/Wednesday/2024-05-22",
          "No/Female/Cardiology/Thursday/2024-05-23",
          "Yes/Male/General/Friday/2024-05-24",
          "No/Female/Pediatrics/Saturday/2024-05-25",
          "No/Male/General/Sunday/2024-05-26",
          "Yes/Male/General/Monday/2024-05-27",
          "Yes/Male/General/Tuesday/2024-05-28",
          "No/Female/Cardiology/Wednesday/2024-05-29",
          "No/Female/Cardiology/Thursday/2024-05-30",
          "Yes/Female/General/Friday/2024-05-31",
          "Yes/Female/Cardiology/Saturday/2024-06-01",
          "No/Female/Pediatrics/Sunday/2024-06-02",
          "Yes/Male/General/Monday/2024-06-03",
          "Yes/Male/Cardiology/Tuesday/2024-06-04",
          "No/Male/Neurology/Wednesday/2024-06-05",
          "No/Male/General/Thursday/2024-06-06",
          "No/Female/General/Friday/2024-06-07",
          "No/Female/Pediatrics/Saturday/2024-06-08",
          "Yes/Male/Orthopedics/Sunday/2024-06-09",
          "Yes/Female/Orthopedics/Monday/2024-06-10",
          "No/Female/Pediatrics/Tuesday/2024-06-11",
          "Yes/Male/Pediatrics/Wednesday/2024-06-12",
          "No/Male/Pediatrics/Thursday/2024-06-13",
          "No/Female/Orthopedics/Friday/2024-06-14",
          "No/Female/Pediatrics/Saturday/2024-06-15",
          "Yes/Male/Cardiology/Sunday/2024-06-16",
          "No/Male/General/Monday/2024-06-17",
          "No/Male/General/Tuesday/2024-06-18",
          "No/Female/Neurology/Wednesday/2024-06-19",
          "Yes/Male/Neurology/Thursday/2024-06-20",
          "Yes/Male/General/Friday/2024-06-21",
          "Yes/Female/Cardiology/Saturday/2024-06-22",
          "No/Female/Orthopedics/Sunday/2024-06-23",
          "No/Female/Orthopedics/Monday/2024-06-24",
          "No/Female/Cardiology/Tuesday/2024-06-25",
          "No/Female/Orthopedics/Wednesday/2024-06-26",
          "Yes/Male/Pediatrics/Thursday/2024-06-27",
          "No/Male/General/Friday/2024-06-28",
          "Yes/Female/General/Saturday/2024-06-29",
          "No/Female/Cardiology/Sunday/2024-06-30",
          "No/Female/Orthopedics/Monday/2024-07-01",
          "No/Female/Neurology/Tuesday/2024-07-02",
          "No/Female/Neurology/Wednesday/2024-07-03",
          "Yes/Male/Orthopedics/Thursday/2024-07-04",
          "Yes/Male/Neurology/Friday/2024-07-05",
          "No/Male/Cardiology/Saturday/2024-07-06",
          "No/Male/Cardiology/Sunday/2024-07-07",
          "Yes/Female/Orthopedics/Monday/2024-07-08",
          "Yes/Male/Neurology/Tuesday/2024-07-09",
          "No/Female/Cardiology/Wednesday/2024-07-10",
          "Yes/Female/Cardiology/Thursday/2024-07-11",
          "No/Female/Pediatrics/Friday/2024-07-12",
          "No/Male/Pediatrics/Saturday/2024-07-13",
          "Yes/Female/Cardiology/Sunday/2024-07-14",
          "Yes/Male/Orthopedics/Monday/2024-07-15",
          "No/Male/General/Tuesday/2024-07-16",
          "No/Female/General/Wednesday/2024-07-17",
          "No/Female/Cardiology/Thursday/2024-07-18",
          "No/Female/Cardiology/Friday/2024-07-19",
          "Yes/Male/Cardiology/Saturday/2024-07-20",
          "No/Female/Orthopedics/Sunday/2024-07-21",
          "No/Male/Pediatrics/Monday/2024-07-22",
          "Yes/Female/Cardiology/Tuesday/2024-07-23",
          "No/Female/Cardiology/Wednesday/2024-07-24",
          "Yes/Male/Neurology/Thursday/2024-07-25",
          "Yes/Male/Orthopedics/Friday/2024-07-26",
          "Yes/Male/Cardiology/Saturday/2024-07-27",
          "No/Male/Neurology/Sunday/2024-07-28",
          "No/Male/General/Monday/2024-07-29",
          "No/Male/Cardiology/Tuesday/2024-07-30",
          "No/Female/Cardiology/Wednesday/2024-07-31",
          "No/Female/Neurology/Thursday/2024-08-01",
          "Yes/Male/Orthopedics/Friday/2024-08-02",
          "Yes/Female/Cardiology/Saturday/2024-08-03",
          "Yes/Male/General/Sunday/2024-08-04",
          "Yes/Female/Cardiology/Monday/2024-08-05",
          "No/Female/General/Tuesday/2024-08-06",
          "No/Male/Pediatrics/Wednesday/2024-08-07",
          "No/Male/Pediatrics/Thursday/2024-08-08",
          "Yes/Male/General/Friday/2024-08-09",
          "No/Female/Orthopedics/Saturday/2024-08-10",
          "No/Male/Cardiology/Sunday/2024-08-11",
          "Yes/Female/Cardiology/Monday/2024-08-12",
          "No/Male/Pediatrics/Tuesday/2024-08-13",
          "No/Female/General/Wednesday/2024-08-14",
          "No/Female/Cardiology/Thursday/2024-08-15",
          "No/Male/Cardiology/Friday/2024-08-16",
          "No/Female/Orthopedics/Saturday/2024-08-17",
          "Yes/Female/Neurology/Sunday/2024-08-18",
          "No/Male/Pediatrics/Monday/2024-08-19",
          "Yes/Female/Pediatrics/Tuesday/2024-08-20",
          "Yes/Male/Neurology/Wednesday/2024-08-21",
          "No/Male/Cardiology/Thursday/2024-08-22",
          "No/Male/Orthopedics/Friday/2024-08-23",
          "No/Male/Orthopedics/Saturday/2024-08-24",
          "No/Female/Pediatrics/Sunday/2024-08-25",
          "No/Female/Orthopedics/Monday/2024-08-26",
          "No/Female/Neurology/Tuesday/2024-08-27",
          "No/Male/Cardiology/Wednesday/2024-08-28",
          "Yes/Female/Neurology/Thursday/2024-08-29",
          "No/Female/General/Friday/2024-08-30",
          "Yes/Male/Pediatrics/Saturday/2024-08-31",
          "No/Male/Orthopedics/Sunday/2024-09-01",
          "Yes/Female/General/Monday/2024-09-02",
          "No/Male/Orthopedics/Tuesday/2024-09-03",
          "Yes/Male/Cardiology/Wednesday/2024-09-04",
          "No/Male/Cardiology/Thursday/2024-09-05",
          "No/Male/Cardiology/Friday/2024-09-06",
          "Yes/Female/Orthopedics/Saturday/2024-09-07",
          "No/Male/General/Sunday/2024-09-08",
          "No/Male/Cardiology/Monday/2024-09-09",
          "No/Male/General/Tuesday/2024-09-10",
          "Yes/Male/Orthopedics/Wednesday/2024-09-11",
          "No/Male/General/Thursday/2024-09-12",
          "No/Male/Orthopedics/Friday/2024-09-13",
          "No/Male/Orthopedics/Saturday/2024-09-14",
          "Yes/Male/Pediatrics/Sunday/2024-09-15",
          "No/Female/Orthopedics/Monday/2024-09-16",
          "No/Male/Orthopedics/Tuesday/2024-09-17",
          "No/Female/Neurology/Wednesday/2024-09-18",
          "No/Male/Cardiology/Thursday/2024-09-19",
          "No/Male/Pediatrics/Friday/2024-09-20",
          "Yes/Male/Pediatrics/Saturday/2024-09-21",
          "No/Male/Pediatrics/Sunday/2024-09-22",
          "No/Female/Neurology/Monday/2024-09-23",
          "Yes/Male/Orthopedics/Tuesday/2024-09-24",
          "No/Male/Cardiology/Wednesday/2024-09-25",
          "Yes/Female/General/Thursday/2024-09-26",
          "No/Female/Orthopedics/Friday/2024-09-27",
          "No/Male/Neurology/Saturday/2024-09-28",
          "Yes/Female/Orthopedics/Sunday/2024-09-29",
          "No/Female/Orthopedics/Monday/2024-09-30",
          "No/Female/Neurology/Tuesday/2024-10-01",
          "Yes/Male/Pediatrics/Wednesday/2024-10-02",
          "No/Male/Pediatrics/Thursday/2024-10-03",
          "No/Male/Cardiology/Friday/2024-10-04",
          "No/Female/Cardiology/Saturday/2024-10-05",
          "Yes/Male/Pediatrics/Sunday/2024-10-06",
          "No/Female/General/Monday/2024-10-07",
          "Yes/Male/Orthopedics/Tuesday/2024-10-08",
          "No/Male/General/Wednesday/2024-10-09",
          "Yes/Female/Orthopedics/Thursday/2024-10-10",
          "No/Male/Pediatrics/Friday/2024-10-11",
          "No/Female/Cardiology/Saturday/2024-10-12",
          "No/Female/Cardiology/Sunday/2024-10-13",
          "No/Male/General/Monday/2024-10-14",
          "Yes/Female/Cardiology/Tuesday/2024-10-15",
          "Yes/Male/Pediatrics/Wednesday/2024-10-16",
          "No/Male/General/Thursday/2024-10-17",
          "No/Female/Orthopedics/Friday/2024-10-18",
          "Yes/Male/Cardiology/Saturday/2024-10-19",
          "No/Female/Neurology/Sunday/2024-10-20",
          "No/Male/Cardiology/Monday/2024-10-21",
          "No/Male/Orthopedics/Tuesday/2024-10-22",
          "Yes/Male/General/Wednesday/2024-10-23",
          "Yes/Male/Orthopedics/Thursday/2024-10-24",
          "Yes/Male/Neurology/Friday/2024-10-25",
          "No/Female/Pediatrics/Saturday/2024-10-26",
          "No/Female/Cardiology/Sunday/2024-10-27",
          "No/Female/General/Monday/2024-10-28",
          "No/Female/Pediatrics/Tuesday/2024-10-29",
          "No/Female/Orthopedics/Wednesday/2024-10-30",
          "No/Female/General/Thursday/2024-10-31",
          "No/Male/Pediatrics/Friday/2024-11-01",
          "Yes/Male/General/Saturday/2024-11-02",
          "No/Female/Neurology/Sunday/2024-11-03",
          "No/Female/Neurology/Monday/2024-11-04",
          "Yes/Male/Cardiology/Tuesday/2024-11-05",
          "No/Male/Cardiology/Wednesday/2024-11-06",
          "Yes/Male/Neurology/Thursday/2024-11-07",
          "No/Female/General/Friday/2024-11-08",
          "No/Female/Neurology/Saturday/2024-11-09",
          "No/Female/Cardiology/Sunday/2024-11-10",
          "No/Male/Neurology/Monday/2024-11-11",
          "Yes/Male/Neurology/Tuesday/2024-11-12",
          "No/Female/General/Wednesday/2024-11-13",
          "Yes/Female/Pediatrics/Thursday/2024-11-14",
          "No/Male/Cardiology/Friday/2024-11-15",
          "No/Male/General/Saturday/2024-11-16",
          "No/Male/Neurology/Sunday/2024-11-17",
          "No/Male/Neurology/Monday/2024-11-18",
          "No/Female/Pediatrics/Tuesday/2024-11-19",
          "No/Male/Cardiology/Wednesday/2024-11-20",
          "No/Male/Cardiology/Thursday/2024-11-21",
          "No/Male/Orthopedics/Friday/2024-11-22",
          "Yes/Female/Cardiology/Saturday/2024-11-23",
          "No/Female/Pediatrics/Sunday/2024-11-24",
          "No/Male/Orthopedics/Monday/2024-11-25",
          "Yes/Male/Orthopedics/Tuesday/2024-11-26",
          "No/Male/Neurology/Wednesday/2024-11-27",
          "Yes/Female/Neurology/Thursday/2024-11-28",
          "No/Female/Cardiology/Friday/2024-11-29",
          "Yes/Female/Orthopedics/Saturday/2024-11-30",
          "No/Male/Neurology/Sunday/2024-12-01",
          "Yes/Female/Pediatrics/Monday/2024-12-02",
          "No/Male/Neurology/Tuesday/2024-12-03",
          "No/Male/Neurology/Wednesday/2024-12-04",
          "No/Male/Orthopedics/Thursday/2024-12-05",
          "No/Female/Orthopedics/Friday/2024-12-06",
          "No/Male/General/Saturday/2024-12-07",
          "Yes/Female/Pediatrics/Sunday/2024-12-08",
          "Yes/Female/Orthopedics/Monday/2024-12-09",
          "No/Male/Cardiology/Tuesday/2024-12-10",
          "No/Male/Pediatrics/Wednesday/2024-12-11",
          "Yes/Female/Pediatrics/Thursday/2024-12-12",
          "No/Male/Orthopedics/Friday/2024-12-13",
          "Yes/Female/Pediatrics/Saturday/2024-12-14",
          "Yes/Male/Orthopedics/Sunday/2024-12-15",
          "No/Female/Neurology/Monday/2024-12-16",
          "No/Female/General/Tuesday/2024-12-17",
          "No/Female/Neurology/Wednesday/2024-12-18",
          "No/Female/Orthopedics/Thursday/2024-12-19",
          "No/Male/Orthopedics/Friday/2024-12-20",
          "No/Male/Neurology/Saturday/2024-12-21",
          "Yes/Female/Cardiology/Sunday/2024-12-22",
          "Yes/Female/Cardiology/Monday/2024-12-23",
          "No/Male/Cardiology/Tuesday/2024-12-24",
          "No/Male/Orthopedics/Wednesday/2024-12-25",
          "No/Male/Pediatrics/Thursday/2024-12-26",
          "Yes/Male/Orthopedics/Friday/2024-12-27",
          "Yes/Male/Pediatrics/Saturday/2024-12-28",
          "No/Male/Neurology/Sunday/2024-12-29",
          "Yes/Female/General/Monday/2024-12-30",
          "No/Male/Pediatrics/Tuesday/2024-12-31",
          "Yes/Male/Cardiology/Wednesday/2025-01-01",
          "Yes/Female/Orthopedics/Thursday/2025-01-02",
          "No/Male/Neurology/Friday/2025-01-03",
          "No/Male/Cardiology/Saturday/2025-01-04",
          "No/Male/Neurology/Sunday/2025-01-05",
          "Yes/Male/General/Monday/2025-01-06",
          "No/Male/Orthopedics/Tuesday/2025-01-07",
          "Yes/Female/Orthopedics/Wednesday/2025-01-08",
          "No/Male/General/Thursday/2025-01-09",
          "No/Female/Orthopedics/Friday/2025-01-10",
          "Yes/Female/Pediatrics/Saturday/2025-01-11",
          "No/Male/Neurology/Sunday/2025-01-12",
          "Yes/Female/Cardiology/Monday/2025-01-13",
          "No/Male/General/Tuesday/2025-01-14",
          "No/Female/Pediatrics/Wednesday/2025-01-15",
          "No/Female/Cardiology/Thursday/2025-01-16",
          "Yes/Male/Cardiology/Friday/2025-01-17",
          "No/Male/General/Saturday/2025-01-18",
          "No/Male/Pediatrics/Sunday/2025-01-19",
          "No/Male/Cardiology/Monday/2025-01-20",
          "No/Male/Cardiology/Tuesday/2025-01-21",
          "Yes/Female/Pediatrics/Wednesday/2025-01-22",
          "No/Female/Orthopedics/Thursday/2025-01-23",
          "Yes/Female/Cardiology/Friday/2025-01-24",
          "Yes/Female/Neurology/Saturday/2025-01-25",
          "No/Female/Pediatrics/Sunday/2025-01-26",
          "No/Female/Cardiology/Monday/2025-01-27",
          "No/Female/General/Tuesday/2025-01-28",
          "No/Male/Neurology/Wednesday/2025-01-29",
          "No/Male/Cardiology/Thursday/2025-01-30",
          "No/Female/Neurology/Friday/2025-01-31",
          "No/Female/Neurology/Saturday/2025-02-01",
          "Yes/Male/Orthopedics/Sunday/2025-02-02",
          "No/Male/Neurology/Monday/2025-02-03",
          "Yes/Male/Orthopedics/Tuesday/2025-02-04",
          "No/Male/Pediatrics/Wednesday/2025-02-05",
          "No/Female/Orthopedics/Thursday/2025-02-06",
          "No/Male/General/Friday/2025-02-07",
          "No/Female/Cardiology/Saturday/2025-02-08",
          "Yes/Female/Pediatrics/Sunday/2025-02-09",
          "No/Female/Pediatrics/Monday/2025-02-10",
          "Yes/Male/General/Tuesday/2025-02-11",
          "No/Male/Orthopedics/Wednesday/2025-02-12",
          "No/Female/Cardiology/Thursday/2025-02-13",
          "No/Female/Orthopedics/Friday/2025-02-14",
          "Yes/Female/Neurology/Saturday/2025-02-15",
          "Yes/Male/Orthopedics/Sunday/2025-02-16",
          "Yes/Female/Pediatrics/Monday/2025-02-17",
          "No/Male/Cardiology/Tuesday/2025-02-18",
          "No/Female/Orthopedics/Wednesday/2025-02-19",
          "Yes/Female/Cardiology/Thursday/2025-02-20",
          "No/Female/Cardiology/Friday/2025-02-21",
          "No/Male/Neurology/Saturday/2025-02-22",
          "No/Male/Neurology/Sunday/2025-02-23",
          "No/Female/Pediatrics/Monday/2025-02-24",
          "No/Male/General/Tuesday/2025-02-25",
          "Yes/Female/Cardiology/Wednesday/2025-02-26",
          "Yes/Male/General/Thursday/2025-02-27",
          "Yes/Male/Pediatrics/Friday/2025-02-28",
          "No/Male/Cardiology/Saturday/2025-03-01",
          "No/Female/Cardiology/Sunday/2025-03-02",
          "No/Male/General/Monday/2025-03-03",
          "Yes/Male/Orthopedics/Tuesday/2025-03-04",
          "No/Female/Neurology/Wednesday/2025-03-05",
          "Yes/Female/Orthopedics/Thursday/2025-03-06",
          "Yes/Female/General/Friday/2025-03-07",
          "No/Female/Neurology/Saturday/2025-03-08",
          "No/Male/Orthopedics/Sunday/2025-03-09",
          "No/Male/Neurology/Monday/2025-03-10",
          "No/Male/Cardiology/Tuesday/2025-03-11",
          "Yes/Male/Orthopedics/Wednesday/2025-03-12",
          "Yes/Male/Neurology/Thursday/2025-03-13",
          "No/Female/Neurology/Friday/2025-03-14",
          "No/Male/Neurology/Saturday/2025-03-15",
          "No/Male/Orthopedics/Sunday/2025-03-16",
          "No/Male/Pediatrics/Monday/2025-03-17",
          "No/Female/Orthopedics/Tuesday/2025-03-18",
          "Yes/Female/General/Wednesday/2025-03-19",
          "Yes/Male/Orthopedics/Thursday/2025-03-20",
          "No/Female/Neurology/Friday/2025-03-21",
          "Yes/Female/Cardiology/Saturday/2025-03-22",
          "No/Female/Orthopedics/Sunday/2025-03-23",
          "No/Female/Orthopedics/Monday/2025-03-24",
          "No/Female/Neurology/Tuesday/2025-03-25",
          "Yes/Female/Cardiology/Wednesday/2025-03-26",
          "Yes/Female/Cardiology/Thursday/2025-03-27",
          "No/Male/General/Friday/2025-03-28",
          "No/Male/Orthopedics/Saturday/2025-03-29",
          "No/Female/Cardiology/Sunday/2025-03-30",
          "No/Male/Cardiology/Monday/2025-03-31",
          "No/Male/Pediatrics/Tuesday/2025-04-01",
          "No/Female/Pediatrics/Wednesday/2025-04-02",
          "No/Male/Cardiology/Thursday/2025-04-03",
          "No/Female/General/Friday/2025-04-04",
          "No/Female/Cardiology/Saturday/2025-04-05",
          "Yes/Female/Neurology/Sunday/2025-04-06",
          "No/Male/Orthopedics/Monday/2025-04-07",
          "No/Male/General/Tuesday/2025-04-08",
          "No/Male/Neurology/Wednesday/2025-04-09",
          "No/Male/General/Thursday/2025-04-10",
          "No/Female/Neurology/Friday/2025-04-11",
          "No/Female/Orthopedics/Saturday/2025-04-12",
          "No/Male/Orthopedics/Sunday/2025-04-13",
          "No/Female/Pediatrics/Monday/2025-04-14",
          "No/Female/Neurology/Tuesday/2025-04-15",
          "No/Male/Pediatrics/Wednesday/2025-04-16",
          "No/Female/Neurology/Thursday/2025-04-17",
          "Yes/Male/Pediatrics/Friday/2025-04-18",
          "No/Female/Orthopedics/Saturday/2025-04-19",
          "Yes/Male/General/Sunday/2025-04-20",
          "No/Female/Pediatrics/Monday/2025-04-21",
          "Yes/Female/Neurology/Tuesday/2025-04-22",
          "No/Male/Neurology/Wednesday/2025-04-23",
          "No/Male/Orthopedics/Thursday/2025-04-24",
          "Yes/Male/Neurology/Friday/2025-04-25",
          "Yes/Male/Cardiology/Saturday/2025-04-26",
          "Yes/Female/General/Sunday/2025-04-27",
          "No/Female/Pediatrics/Monday/2025-04-28",
          "No/Male/General/Tuesday/2025-04-29",
          "Yes/Female/Orthopedics/Wednesday/2025-04-30",
          "Yes/Male/Pediatrics/Thursday/2025-05-01",
          "No/Male/Pediatrics/Friday/2025-05-02",
          "Yes/Female/Cardiology/Saturday/2025-05-03",
          "No/Female/Orthopedics/Sunday/2025-05-04",
          "Yes/Male/Neurology/Monday/2025-05-05",
          "No/Male/Cardiology/Tuesday/2025-05-06",
          "Yes/Male/Cardiology/Wednesday/2025-05-07",
          "No/Female/General/Thursday/2025-05-08",
          "Yes/Female/General/Friday/2025-05-09",
          "No/Female/General/Saturday/2025-05-10",
          "No/Female/Cardiology/Sunday/2025-05-11",
          "No/Male/Neurology/Monday/2025-05-12",
          "No/Male/Pediatrics/Tuesday/2025-05-13",
          "No/Male/General/Wednesday/2025-05-14",
          "No/Male/Neurology/Thursday/2025-05-15",
          "No/Male/Orthopedics/Friday/2025-05-16",
          "Yes/Male/General/Saturday/2025-05-17",
          "No/Female/Pediatrics/Sunday/2025-05-18",
          "No/Female/Orthopedics/Monday/2025-05-19",
          "Yes/Male/Orthopedics/Tuesday/2025-05-20",
          "Yes/Male/Pediatrics/Wednesday/2025-05-21",
          "Yes/Female/General/Thursday/2025-05-22",
          "No/Female/Cardiology/Friday/2025-05-23",
          "Yes/Female/Pediatrics/Saturday/2025-05-24",
          "Yes/Female/Pediatrics/Sunday/2025-05-25",
          "Yes/Male/Pediatrics/Monday/2025-05-26",
          "No/Male/Orthopedics/Tuesday/2025-05-27",
          "No/Male/Neurology/Wednesday/2025-05-28",
          "No/Male/Cardiology/Thursday/2025-05-29",
          "Yes/Male/General/Friday/2025-05-30",
          "Yes/Female/General/Saturday/2025-05-31",
          "No/Male/Neurology/Sunday/2025-06-01",
          "No/Female/Pediatrics/Monday/2025-06-02",
          "No/Male/Cardiology/Tuesday/2025-06-03",
          "Yes/Male/General/Wednesday/2025-06-04",
          "No/Male/General/Thursday/2025-06-05",
          "No/Male/Pediatrics/Friday/2025-06-06",
          "Yes/Male/Neurology/Saturday/2025-06-07",
          "Yes/Female/Cardiology/Sunday/2025-06-08",
          "No/Female/Neurology/Monday/2025-06-09",
          "No/Female/Neurology/Tuesday/2025-06-10",
          "No/Male/Cardiology/Wednesday/2025-06-11",
          "No/Male/Cardiology/Thursday/2025-06-12",
          "No/Female/General/Friday/2025-06-13",
          "Yes/Male/General/Saturday/2025-06-14",
          "No/Male/Cardiology/Sunday/2025-06-15",
          "No/Female/Orthopedics/Monday/2025-06-16",
          "Yes/Male/General/Tuesday/2025-06-17",
          "No/Female/Orthopedics/Wednesday/2025-06-18",
          "Yes/Male/Cardiology/Thursday/2025-06-19",
          "No/Female/General/Friday/2025-06-20",
          "No/Male/Neurology/Saturday/2025-06-21",
          "No/Male/Cardiology/Sunday/2025-06-22",
          "No/Female/Pediatrics/Monday/2025-06-23",
          "Yes/Male/Orthopedics/Tuesday/2025-06-24",
          "No/Male/Cardiology/Wednesday/2025-06-25",
          "No/Female/Cardiology/Thursday/2025-06-26",
          "No/Male/General/Friday/2025-06-27",
          "No/Female/General/Saturday/2025-06-28",
          "No/Male/General/Sunday/2025-06-29",
          "Yes/Male/Pediatrics/Monday/2025-06-30",
          "No/Male/General/Tuesday/2025-07-01",
          "Yes/Male/Cardiology/Wednesday/2025-07-02",
          "Yes/Female/General/Thursday/2025-07-03",
          "No/Male/Neurology/Friday/2025-07-04",
          "No/Female/General/Saturday/2025-07-05",
          "Yes/Male/Pediatrics/Sunday/2025-07-06",
          "No/Male/Neurology/Monday/2025-07-07",
          "Yes/Male/Cardiology/Tuesday/2025-07-08",
          "No/Male/Cardiology/Wednesday/2025-07-09",
          "No/Female/Orthopedics/Thursday/2025-07-10",
          "No/Female/Neurology/Friday/2025-07-11",
          "Yes/Female/Orthopedics/Saturday/2025-07-12",
          "No/Female/Neurology/Sunday/2025-07-13",
          "No/Male/Neurology/Monday/2025-07-14",
          "No/Female/Pediatrics/Tuesday/2025-07-15",
          "No/Female/Orthopedics/Wednesday/2025-07-16",
          "No/Male/Pediatrics/Thursday/2025-07-17",
          "Yes/Male/Neurology/Friday/2025-07-18",
          "No/Male/Cardiology/Saturday/2025-07-19",
          "No/Male/Neurology/Sunday/2025-07-20",
          "Yes/Female/Pediatrics/Monday/2025-07-21",
          "No/Female/Orthopedics/Tuesday/2025-07-22",
          "Yes/Male/Orthopedics/Wednesday/2025-07-23",
          "No/Male/Pediatrics/Thursday/2025-07-24",
          "No/Male/Orthopedics/Friday/2025-07-25",
          "No/Female/General/Saturday/2025-07-26",
          "No/Female/Cardiology/Sunday/2025-07-27",
          "Yes/Male/Cardiology/Monday/2025-07-28",
          "No/Male/Cardiology/Tuesday/2025-07-29",
          "Yes/Female/Orthopedics/Wednesday/2025-07-30",
          "No/Male/Orthopedics/Thursday/2025-07-31",
          "Yes/Male/Neurology/Friday/2025-08-01",
          "No/Female/Neurology/Saturday/2025-08-02",
          "No/Male/Cardiology/Sunday/2025-08-03",
          "No/Female/General/Monday/2025-08-04",
          "No/Male/Neurology/Tuesday/2025-08-05",
          "No/Male/Neurology/Wednesday/2025-08-06",
          "No/Female/Orthopedics/Thursday/2025-08-07",
          "Yes/Female/General/Friday/2025-08-08",
          "No/Male/Cardiology/Saturday/2025-08-09",
          "Yes/Female/Neurology/Sunday/2025-08-10",
          "Yes/Male/General/Monday/2025-08-11",
          "No/Male/General/Tuesday/2025-08-12",
          "Yes/Female/Cardiology/Wednesday/2025-08-13",
          "Yes/Male/General/Thursday/2025-08-14",
          "Yes/Male/General/Friday/2025-08-15",
          "Yes/Female/General/Saturday/2025-08-16",
          "Yes/Female/Neurology/Sunday/2025-08-17",
          "No/Male/Cardiology/Monday/2025-08-18",
          "Yes/Female/General/Tuesday/2025-08-19",
          "No/Female/General/Wednesday/2025-08-20",
          "Yes/Female/Neurology/Thursday/2025-08-21",
          "No/Female/Cardiology/Friday/2025-08-22",
          "Yes/Male/Orthopedics/Saturday/2025-08-23",
          "No/Male/Neurology/Sunday/2025-08-24",
          "No/Male/Cardiology/Monday/2025-08-25",
          "Yes/Female/General/Tuesday/2025-08-26",
          "No/Female/Cardiology/Wednesday/2025-08-27",
          "No/Female/Cardiology/Thursday/2025-08-28",
          "Yes/Female/Cardiology/Friday/2025-08-29",
          "No/Female/Orthopedics/Saturday/2025-08-30",
          "No/Female/Cardiology/Sunday/2025-08-31",
          "No/Female/Orthopedics/Monday/2025-09-01",
          "No/Male/General/Tuesday/2025-09-02",
          "No/Male/Orthopedics/Wednesday/2025-09-03",
          "No/Female/General/Thursday/2025-09-04",
          "No/Female/General/Friday/2025-09-05",
          "No/Female/Orthopedics/Saturday/2025-09-06",
          "Yes/Male/Neurology/Sunday/2025-09-07",
          "No/Male/Pediatrics/Monday/2025-09-08",
          "Yes/Female/Cardiology/Tuesday/2025-09-09",
          "Yes/Female/Pediatrics/Wednesday/2025-09-10",
          "No/Male/Cardiology/Thursday/2025-09-11",
          "No/Male/Cardiology/Friday/2025-09-12",
          "Yes/Male/General/Saturday/2025-09-13",
          "No/Male/Cardiology/Sunday/2025-09-14",
          "No/Female/Cardiology/Monday/2025-09-15",
          "No/Male/Orthopedics/Tuesday/2025-09-16",
          "No/Male/Pediatrics/Wednesday/2025-09-17",
          "No/Female/Orthopedics/Thursday/2025-09-18",
          "Yes/Male/Cardiology/Friday/2025-09-19",
          "Yes/Male/General/Saturday/2025-09-20",
          "No/Male/Orthopedics/Sunday/2025-09-21",
          "Yes/Female/Orthopedics/Monday/2025-09-22",
          "No/Male/Neurology/Tuesday/2025-09-23",
          "No/Female/Cardiology/Wednesday/2025-09-24",
          "No/Female/General/Thursday/2025-09-25",
          "Yes/Male/Orthopedics/Friday/2025-09-26",
          "No/Female/Cardiology/Friday",
          "Yes/Female/Cardiology/Friday",
          "No/Male/Cardiology/Friday",
          "Yes/Male/Cardiology/Friday",
          "No/Female/General/Friday",
          "Yes/Female/General/Friday",
          "No/Male/General/Friday",
          "Yes/Male/General/Friday",
          "No/Female/Neurology/Friday",
          "Yes/Female/Neurology/Friday",
          "No/Male/Neurology/Friday",
          "Yes/Male/Neurology/Friday",
          "No/Female/Orthopedics/Friday",
          "Yes/Female/Orthopedics/Friday",
          "No/Male/Orthopedics/Friday",
          "Yes/Male/Orthopedics/Friday",
          "No/Female/Pediatrics/Friday",
          "Yes/Female/Pediatrics/Friday",
          "No/Male/Pediatrics/Friday",
          "Yes/Male/Pediatrics/Friday",
          "No/Female/Cardiology/Monday",
          "Yes/Female/Cardiology/Monday",
          "No/Male/Cardiology/Monday",
          "Yes/Male/Cardiology/Monday",
          "No/Female/General/Monday",
          "Yes/Female/General/Monday",
          "No/Male/General/Monday",
          "Yes/Male/General/Monday",
          "No/Female/Neurology/Monday",
          "Yes/Female/Neurology/Monday",
          "No/Male/Neurology/Monday",
          "Yes/Male/Neurology/Monday",
          "No/Female/Orthopedics/Monday",
          "Yes/Female/Orthopedics/Monday",
          "No/Male/Orthopedics/Monday",
          "Yes/Male/Orthopedics/Monday",
          "No/Female/Pediatrics/Monday",
          "Yes/Female/Pediatrics/Monday",
          "No/Male/Pediatrics/Monday",
          "Yes/Male/Pediatrics/Monday",
          "No/Female/Cardiology/Saturday",
          "Yes/Female/Cardiology/Saturday",
          "No/Male/Cardiology/Saturday",
          "Yes/Male/Cardiology/Saturday",
          "No/Female/General/Saturday",
          "Yes/Female/General/Saturday",
          "No/Male/General/Saturday",
          "Yes/Male/General/Saturday",
          "No/Female/Neurology/Saturday",
          "Yes/Female/Neurology/Saturday",
          "No/Male/Neurology/Saturday",
          "Yes/Male/Neurology/Saturday",
          "No/Female/Orthopedics/Saturday",
          "Yes/Female/Orthopedics/Saturday",
          "No/Male/Orthopedics/Saturday",
          "Yes/Male/Orthopedics/Saturday",
          "No/Female/Pediatrics/Saturday",
          "Yes/Female/Pediatrics/Saturday",
          "No/Male/Pediatrics/Saturday",
          "Yes/Male/Pediatrics/Saturday",
          "No/Female/Cardiology/Sunday",
          "Yes/Female/Cardiology/Sunday",
          "No/Male/Cardiology/Sunday",
          "Yes/Male/Cardiology/Sunday",
          "No/Female/General/Sunday",
          "Yes/Female/General/Sunday",
          "No/Male/General/Sunday",
          "Yes/Male/General/Sunday",
          "No/Female/Neurology/Sunday",
          "Yes/Female/Neurology/Sunday",
          "No/Male/Neurology/Sunday",
          "Yes/Male/Neurology/Sunday",
          "No/Female/Orthopedics/Sunday",
          "Yes/Female/Orthopedics/Sunday",
          "No/Male/Orthopedics/Sunday",
          "Yes/Male/Orthopedics/Sunday",
          "No/Female/Pediatrics/Sunday",
          "Yes/Female/Pediatrics/Sunday",
          "No/Male/Pediatrics/Sunday",
          "Yes/Male/Pediatrics/Sunday",
          "No/Female/Cardiology/Thursday",
          "Yes/Female/Cardiology/Thursday",
          "No/Male/Cardiology/Thursday",
          "Yes/Male/Cardiology/Thursday",
          "No/Female/General/Thursday",
          "Yes/Female/General/Thursday",
          "No/Male/General/Thursday",
          "Yes/Male/General/Thursday",
          "No/Female/Neurology/Thursday",
          "Yes/Female/Neurology/Thursday",
          "No/Male/Neurology/Thursday",
          "Yes/Male/Neurology/Thursday",
          "No/Female/Orthopedics/Thursday",
          "Yes/Female/Orthopedics/Thursday",
          "No/Male/Orthopedics/Thursday",
          "Yes/Male/Orthopedics/Thursday",
          "No/Female/Pediatrics/Thursday",
          "Yes/Female/Pediatrics/Thursday",
          "No/Male/Pediatrics/Thursday",
          "Yes/Male/Pediatrics/Thursday",
          "No/Female/Cardiology/Tuesday",
          "Yes/Female/Cardiology/Tuesday",
          "No/Male/Cardiology/Tuesday",
          "Yes/Male/Cardiology/Tuesday",
          "No/Female/General/Tuesday",
          "Yes/Female/General/Tuesday",
          "No/Male/General/Tuesday",
          "Yes/Male/General/Tuesday",
          "No/Female/Neurology/Tuesday",
          "Yes/Female/Neurology/Tuesday",
          "No/Male/Neurology/Tuesday",
          "Yes/Male/Neurology/Tuesday",
          "No/Female/Orthopedics/Tuesday",
          "Yes/Female/Orthopedics/Tuesday",
          "No/Male/Orthopedics/Tuesday",
          "Yes/Male/Orthopedics/Tuesday",
          "No/Female/Pediatrics/Tuesday",
          "Yes/Female/Pediatrics/Tuesday",
          "No/Male/Pediatrics/Tuesday",
          "Yes/Male/Pediatrics/Tuesday",
          "No/Female/Cardiology/Wednesday",
          "Yes/Female/Cardiology/Wednesday",
          "No/Male/Cardiology/Wednesday",
          "Yes/Male/Cardiology/Wednesday",
          "No/Female/General/Wednesday",
          "Yes/Female/General/Wednesday",
          "No/Male/General/Wednesday",
          "Yes/Male/General/Wednesday",
          "No/Female/Neurology/Wednesday",
          "Yes/Female/Neurology/Wednesday",
          "No/Male/Neurology/Wednesday",
          "Yes/Male/Neurology/Wednesday",
          "No/Female/Orthopedics/Wednesday",
          "Yes/Female/Orthopedics/Wednesday",
          "No/Male/Orthopedics/Wednesday",
          "Yes/Male/Orthopedics/Wednesday",
          "No/Female/Pediatrics/Wednesday",
          "Yes/Female/Pediatrics/Wednesday",
          "No/Male/Pediatrics/Wednesday",
          "Yes/Male/Pediatrics/Wednesday",
          "No/Female/Cardiology",
          "Yes/Female/Cardiology",
          "No/Male/Cardiology",
          "Yes/Male/Cardiology",
          "No/Female/General",
          "Yes/Female/General",
          "No/Male/General",
          "Yes/Male/General",
          "No/Female/Neurology",
          "Yes/Female/Neurology",
          "No/Male/Neurology",
          "Yes/Male/Neurology",
          "No/Female/Orthopedics",
          "Yes/Female/Orthopedics",
          "No/Male/Orthopedics",
          "Yes/Male/Orthopedics",
          "No/Female/Pediatrics",
          "Yes/Female/Pediatrics",
          "No/Male/Pediatrics",
          "Yes/Male/Pediatrics",
          "No/Female",
          "Yes/Female",
          "No/Male",
          "Yes/Male",
          "No",
          "Yes"
         ],
         "labels": [
          "2023-01-01",
          "2023-01-02",
          "2023-01-03",
          "2023-01-04",
          "2023-01-05",
          "2023-01-06",
          "2023-01-07",
          "2023-01-08",
          "2023-01-09",
          "2023-01-10",
          "2023-01-11",
          "2023-01-12",
          "2023-01-13",
          "2023-01-14",
          "2023-01-15",
          "2023-01-16",
          "2023-01-17",
          "2023-01-18",
          "2023-01-19",
          "2023-01-20",
          "2023-01-21",
          "2023-01-22",
          "2023-01-23",
          "2023-01-24",
          "2023-01-25",
          "2023-01-26",
          "2023-01-27",
          "2023-01-28",
          "2023-01-29",
          "2023-01-30",
          "2023-01-31",
          "2023-02-01",
          "2023-02-02",
          "2023-02-03",
          "2023-02-04",
          "2023-02-05",
          "2023-02-06",
          "2023-02-07",
          "2023-02-08",
          "2023-02-09",
          "2023-02-10",
          "2023-02-11",
          "2023-02-12",
          "2023-02-13",
          "2023-02-14",
          "2023-02-15",
          "2023-02-16",
          "2023-02-17",
          "2023-02-18",
          "2023-02-19",
          "2023-02-20",
          "2023-02-21",
          "2023-02-22",
          "2023-02-23",
          "2023-02-24",
          "2023-02-25",
          "2023-02-26",
          "2023-02-27",
          "2023-02-28",
          "2023-03-01",
          "2023-03-02",
          "2023-03-03",
          "2023-03-04",
          "2023-03-05",
          "2023-03-06",
          "2023-03-07",
          "2023-03-08",
          "2023-03-09",
          "2023-03-10",
          "2023-03-11",
          "2023-03-12",
          "2023-03-13",
          "2023-03-14",
          "2023-03-15",
          "2023-03-16",
          "2023-03-17",
          "2023-03-18",
          "2023-03-19",
          "2023-03-20",
          "2023-03-21",
          "2023-03-22",
          "2023-03-23",
          "2023-03-24",
          "2023-03-25",
          "2023-03-26",
          "2023-03-27",
          "2023-03-28",
          "2023-03-29",
          "2023-03-30",
          "2023-03-31",
          "2023-04-01",
          "2023-04-02",
          "2023-04-03",
          "2023-04-04",
          "2023-04-05",
          "2023-04-06",
          "2023-04-07",
          "2023-04-08",
          "2023-04-09",
          "2023-04-10",
          "2023-04-11",
          "2023-04-12",
          "2023-04-13",
          "2023-04-14",
          "2023-04-15",
          "2023-04-16",
          "2023-04-17",
          "2023-04-18",
          "2023-04-19",
          "2023-04-20",
          "2023-04-21",
          "2023-04-22",
          "2023-04-23",
          "2023-04-24",
          "2023-04-25",
          "2023-04-26",
          "2023-04-27",
          "2023-04-28",
          "2023-04-29",
          "2023-04-30",
          "2023-05-01",
          "2023-05-02",
          "2023-05-03",
          "2023-05-04",
          "2023-05-05",
          "2023-05-06",
          "2023-05-07",
          "2023-05-08",
          "2023-05-09",
          "2023-05-10",
          "2023-05-11",
          "2023-05-12",
          "2023-05-13",
          "2023-05-14",
          "2023-05-15",
          "2023-05-16",
          "2023-05-17",
          "2023-05-18",
          "2023-05-19",
          "2023-05-20",
          "2023-05-21",
          "2023-05-22",
          "2023-05-23",
          "2023-05-24",
          "2023-05-25",
          "2023-05-26",
          "2023-05-27",
          "2023-05-28",
          "2023-05-29",
          "2023-05-30",
          "2023-05-31",
          "2023-06-01",
          "2023-06-02",
          "2023-06-03",
          "2023-06-04",
          "2023-06-05",
          "2023-06-06",
          "2023-06-07",
          "2023-06-08",
          "2023-06-09",
          "2023-06-10",
          "2023-06-11",
          "2023-06-12",
          "2023-06-13",
          "2023-06-14",
          "2023-06-15",
          "2023-06-16",
          "2023-06-17",
          "2023-06-18",
          "2023-06-19",
          "2023-06-20",
          "2023-06-21",
          "2023-06-22",
          "2023-06-23",
          "2023-06-24",
          "2023-06-25",
          "2023-06-26",
          "2023-06-27",
          "2023-06-28",
          "2023-06-29",
          "2023-06-30",
          "2023-07-01",
          "2023-07-02",
          "2023-07-03",
          "2023-07-04",
          "2023-07-05",
          "2023-07-06",
          "2023-07-07",
          "2023-07-08",
          "2023-07-09",
          "2023-07-10",
          "2023-07-11",
          "2023-07-12",
          "2023-07-13",
          "2023-07-14",
          "2023-07-15",
          "2023-07-16",
          "2023-07-17",
          "2023-07-18",
          "2023-07-19",
          "2023-07-20",
          "2023-07-21",
          "2023-07-22",
          "2023-07-23",
          "2023-07-24",
          "2023-07-25",
          "2023-07-26",
          "2023-07-27",
          "2023-07-28",
          "2023-07-29",
          "2023-07-30",
          "2023-07-31",
          "2023-08-01",
          "2023-08-02",
          "2023-08-03",
          "2023-08-04",
          "2023-08-05",
          "2023-08-06",
          "2023-08-07",
          "2023-08-08",
          "2023-08-09",
          "2023-08-10",
          "2023-08-11",
          "2023-08-12",
          "2023-08-13",
          "2023-08-14",
          "2023-08-15",
          "2023-08-16",
          "2023-08-17",
          "2023-08-18",
          "2023-08-19",
          "2023-08-20",
          "2023-08-21",
          "2023-08-22",
          "2023-08-23",
          "2023-08-24",
          "2023-08-25",
          "2023-08-26",
          "2023-08-27",
          "2023-08-28",
          "2023-08-29",
          "2023-08-30",
          "2023-08-31",
          "2023-09-01",
          "2023-09-02",
          "2023-09-03",
          "2023-09-04",
          "2023-09-05",
          "2023-09-06",
          "2023-09-07",
          "2023-09-08",
          "2023-09-09",
          "2023-09-10",
          "2023-09-11",
          "2023-09-12",
          "2023-09-13",
          "2023-09-14",
          "2023-09-15",
          "2023-09-16",
          "2023-09-17",
          "2023-09-18",
          "2023-09-19",
          "2023-09-20",
          "2023-09-21",
          "2023-09-22",
          "2023-09-23",
          "2023-09-24",
          "2023-09-25",
          "2023-09-26",
          "2023-09-27",
          "2023-09-28",
          "2023-09-29",
          "2023-09-30",
          "2023-10-01",
          "2023-10-02",
          "2023-10-03",
          "2023-10-04",
          "2023-10-05",
          "2023-10-06",
          "2023-10-07",
          "2023-10-08",
          "2023-10-09",
          "2023-10-10",
          "2023-10-11",
          "2023-10-12",
          "2023-10-13",
          "2023-10-14",
          "2023-10-15",
          "2023-10-16",
          "2023-10-17",
          "2023-10-18",
          "2023-10-19",
          "2023-10-20",
          "2023-10-21",
          "2023-10-22",
          "2023-10-23",
          "2023-10-24",
          "2023-10-25",
          "2023-10-26",
          "2023-10-27",
          "2023-10-28",
          "2023-10-29",
          "2023-10-30",
          "2023-10-31",
          "2023-11-01",
          "2023-11-02",
          "2023-11-03",
          "2023-11-04",
          "2023-11-05",
          "2023-11-06",
          "2023-11-07",
          "2023-11-08",
          "2023-11-09",
          "2023-11-10",
          "2023-11-11",
          "2023-11-12",
          "2023-11-13",
          "2023-11-14",
          "2023-11-15",
          "2023-11-16",
          "2023-11-17",
          "2023-11-18",
          "2023-11-19",
          "2023-11-20",
          "2023-11-21",
          "2023-11-22",
          "2023-11-23",
          "2023-11-24",
          "2023-11-25",
          "2023-11-26",
          "2023-11-27",
          "2023-11-28",
          "2023-11-29",
          "2023-11-30",
          "2023-12-01",
          "2023-12-02",
          "2023-12-03",
          "2023-12-04",
          "2023-12-05",
          "2023-12-06",
          "2023-12-07",
          "2023-12-08",
          "2023-12-09",
          "2023-12-10",
          "2023-12-11",
          "2023-12-12",
          "2023-12-13",
          "2023-12-14",
          "2023-12-15",
          "2023-12-16",
          "2023-12-17",
          "2023-12-18",
          "2023-12-19",
          "2023-12-20",
          "2023-12-21",
          "2023-12-22",
          "2023-12-23",
          "2023-12-24",
          "2023-12-25",
          "2023-12-26",
          "2023-12-27",
          "2023-12-28",
          "2023-12-29",
          "2023-12-30",
          "2023-12-31",
          "2024-01-01",
          "2024-01-02",
          "2024-01-03",
          "2024-01-04",
          "2024-01-05",
          "2024-01-06",
          "2024-01-07",
          "2024-01-08",
          "2024-01-09",
          "2024-01-10",
          "2024-01-11",
          "2024-01-12",
          "2024-01-13",
          "2024-01-14",
          "2024-01-15",
          "2024-01-16",
          "2024-01-17",
          "2024-01-18",
          "2024-01-19",
          "2024-01-20",
          "2024-01-21",
          "2024-01-22",
          "2024-01-23",
          "2024-01-24",
          "2024-01-25",
          "2024-01-26",
          "2024-01-27",
          "2024-01-28",
          "2024-01-29",
          "2024-01-30",
          "2024-01-31",
          "2024-02-01",
          "2024-02-02",
          "2024-02-03",
          "2024-02-04",
          "2024-02-05",
          "2024-02-06",
          "2024-02-07",
          "2024-02-08",
          "2024-02-09",
          "2024-02-10",
          "2024-02-11",
          "2024-02-12",
          "2024-02-13",
          "2024-02-14",
          "2024-02-15",
          "2024-02-16",
          "2024-02-17",
          "2024-02-18",
          "2024-02-19",
          "2024-02-20",
          "2024-02-21",
          "2024-02-22",
          "2024-02-23",
          "2024-02-24",
          "2024-02-25",
          "2024-02-26",
          "2024-02-27",
          "2024-02-28",
          "2024-02-29",
          "2024-03-01",
          "2024-03-02",
          "2024-03-03",
          "2024-03-04",
          "2024-03-05",
          "2024-03-06",
          "2024-03-07",
          "2024-03-08",
          "2024-03-09",
          "2024-03-10",
          "2024-03-11",
          "2024-03-12",
          "2024-03-13",
          "2024-03-14",
          "2024-03-15",
          "2024-03-16",
          "2024-03-17",
          "2024-03-18",
          "2024-03-19",
          "2024-03-20",
          "2024-03-21",
          "2024-03-22",
          "2024-03-23",
          "2024-03-24",
          "2024-03-25",
          "2024-03-26",
          "2024-03-27",
          "2024-03-28",
          "2024-03-29",
          "2024-03-30",
          "2024-03-31",
          "2024-04-01",
          "2024-04-02",
          "2024-04-03",
          "2024-04-04",
          "2024-04-05",
          "2024-04-06",
          "2024-04-07",
          "2024-04-08",
          "2024-04-09",
          "2024-04-10",
          "2024-04-11",
          "2024-04-12",
          "2024-04-13",
          "2024-04-14",
          "2024-04-15",
          "2024-04-16",
          "2024-04-17",
          "2024-04-18",
          "2024-04-19",
          "2024-04-20",
          "2024-04-21",
          "2024-04-22",
          "2024-04-23",
          "2024-04-24",
          "2024-04-25",
          "2024-04-26",
          "2024-04-27",
          "2024-04-28",
          "2024-04-29",
          "2024-04-30",
          "2024-05-01",
          "2024-05-02",
          "2024-05-03",
          "2024-05-04",
          "2024-05-05",
          "2024-05-06",
          "2024-05-07",
          "2024-05-08",
          "2024-05-09",
          "2024-05-10",
          "2024-05-11",
          "2024-05-12",
          "2024-05-13",
          "2024-05-14",
          "2024-05-15",
          "2024-05-16",
          "2024-05-17",
          "2024-05-18",
          "2024-05-19",
          "2024-05-20",
          "2024-05-21",
          "2024-05-22",
          "2024-05-23",
          "2024-05-24",
          "2024-05-25",
          "2024-05-26",
          "2024-05-27",
          "2024-05-28",
          "2024-05-29",
          "2024-05-30",
          "2024-05-31",
          "2024-06-01",
          "2024-06-02",
          "2024-06-03",
          "2024-06-04",
          "2024-06-05",
          "2024-06-06",
          "2024-06-07",
          "2024-06-08",
          "2024-06-09",
          "2024-06-10",
          "2024-06-11",
          "2024-06-12",
          "2024-06-13",
          "2024-06-14",
          "2024-06-15",
          "2024-06-16",
          "2024-06-17",
          "2024-06-18",
          "2024-06-19",
          "2024-06-20",
          "2024-06-21",
          "2024-06-22",
          "2024-06-23",
          "2024-06-24",
          "2024-06-25",
          "2024-06-26",
          "2024-06-27",
          "2024-06-28",
          "2024-06-29",
          "2024-06-30",
          "2024-07-01",
          "2024-07-02",
          "2024-07-03",
          "2024-07-04",
          "2024-07-05",
          "2024-07-06",
          "2024-07-07",
          "2024-07-08",
          "2024-07-09",
          "2024-07-10",
          "2024-07-11",
          "2024-07-12",
          "2024-07-13",
          "2024-07-14",
          "2024-07-15",
          "2024-07-16",
          "2024-07-17",
          "2024-07-18",
          "2024-07-19",
          "2024-07-20",
          "2024-07-21",
          "2024-07-22",
          "2024-07-23",
          "2024-07-24",
          "2024-07-25",
          "2024-07-26",
          "2024-07-27",
          "2024-07-28",
          "2024-07-29",
          "2024-07-30",
          "2024-07-31",
          "2024-08-01",
          "2024-08-02",
          "2024-08-03",
          "2024-08-04",
          "2024-08-05",
          "2024-08-06",
          "2024-08-07",
          "2024-08-08",
          "2024-08-09",
          "2024-08-10",
          "2024-08-11",
          "2024-08-12",
          "2024-08-13",
          "2024-08-14",
          "2024-08-15",
          "2024-08-16",
          "2024-08-17",
          "2024-08-18",
          "2024-08-19",
          "2024-08-20",
          "2024-08-21",
          "2024-08-22",
          "2024-08-23",
          "2024-08-24",
          "2024-08-25",
          "2024-08-26",
          "2024-08-27",
          "2024-08-28",
          "2024-08-29",
          "2024-08-30",
          "2024-08-31",
          "2024-09-01",
          "2024-09-02",
          "2024-09-03",
          "2024-09-04",
          "2024-09-05",
          "2024-09-06",
          "2024-09-07",
          "2024-09-08",
          "2024-09-09",
          "2024-09-10",
          "2024-09-11",
          "2024-09-12",
          "2024-09-13",
          "2024-09-14",
          "2024-09-15",
          "2024-09-16",
          "2024-09-17",
          "2024-09-18",
          "2024-09-19",
          "2024-09-20",
          "2024-09-21",
          "2024-09-22",
          "2024-09-23",
          "2024-09-24",
          "2024-09-25",
          "2024-09-26",
          "2024-09-27",
          "2024-09-28",
          "2024-09-29",
          "2024-09-30",
          "2024-10-01",
          "2024-10-02",
          "2024-10-03",
          "2024-10-04",
          "2024-10-05",
          "2024-10-06",
          "2024-10-07",
          "2024-10-08",
          "2024-10-09",
          "2024-10-10",
          "2024-10-11",
          "2024-10-12",
          "2024-10-13",
          "2024-10-14",
          "2024-10-15",
          "2024-10-16",
          "2024-10-17",
          "2024-10-18",
          "2024-10-19",
          "2024-10-20",
          "2024-10-21",
          "2024-10-22",
          "2024-10-23",
          "2024-10-24",
          "2024-10-25",
          "2024-10-26",
          "2024-10-27",
          "2024-10-28",
          "2024-10-29",
          "2024-10-30",
          "2024-10-31",
          "2024-11-01",
          "2024-11-02",
          "2024-11-03",
          "2024-11-04",
          "2024-11-05",
          "2024-11-06",
          "2024-11-07",
          "2024-11-08",
          "2024-11-09",
          "2024-11-10",
          "2024-11-11",
          "2024-11-12",
          "2024-11-13",
          "2024-11-14",
          "2024-11-15",
          "2024-11-16",
          "2024-11-17",
          "2024-11-18",
          "2024-11-19",
          "2024-11-20",
          "2024-11-21",
          "2024-11-22",
          "2024-11-23",
          "2024-11-24",
          "2024-11-25",
          "2024-11-26",
          "2024-11-27",
          "2024-11-28",
          "2024-11-29",
          "2024-11-30",
          "2024-12-01",
          "2024-12-02",
          "2024-12-03",
          "2024-12-04",
          "2024-12-05",
          "2024-12-06",
          "2024-12-07",
          "2024-12-08",
          "2024-12-09",
          "2024-12-10",
          "2024-12-11",
          "2024-12-12",
          "2024-12-13",
          "2024-12-14",
          "2024-12-15",
          "2024-12-16",
          "2024-12-17",
          "2024-12-18",
          "2024-12-19",
          "2024-12-20",
          "2024-12-21",
          "2024-12-22",
          "2024-12-23",
          "2024-12-24",
          "2024-12-25",
          "2024-12-26",
          "2024-12-27",
          "2024-12-28",
          "2024-12-29",
          "2024-12-30",
          "2024-12-31",
          "2025-01-01",
          "2025-01-02",
          "2025-01-03",
          "2025-01-04",
          "2025-01-05",
          "2025-01-06",
          "2025-01-07",
          "2025-01-08",
          "2025-01-09",
          "2025-01-10",
          "2025-01-11",
          "2025-01-12",
          "2025-01-13",
          "2025-01-14",
          "2025-01-15",
          "2025-01-16",
          "2025-01-17",
          "2025-01-18",
          "2025-01-19",
          "2025-01-20",
          "2025-01-21",
          "2025-01-22",
          "2025-01-23",
          "2025-01-24",
          "2025-01-25",
          "2025-01-26",
          "2025-01-27",
          "2025-01-28",
          "2025-01-29",
          "2025-01-30",
          "2025-01-31",
          "2025-02-01",
          "2025-02-02",
          "2025-02-03",
          "2025-02-04",
          "2025-02-05",
          "2025-02-06",
          "2025-02-07",
          "2025-02-08",
          "2025-02-09",
          "2025-02-10",
          "2025-02-11",
          "2025-02-12",
          "2025-02-13",
          "2025-02-14",
          "2025-02-15",
          "2025-02-16",
          "2025-02-17",
          "2025-02-18",
          "2025-02-19",
          "2025-02-20",
          "2025-02-21",
          "2025-02-22",
          "2025-02-23",
          "2025-02-24",
          "2025-02-25",
          "2025-02-26",
          "2025-02-27",
          "2025-02-28",
          "2025-03-01",
          "2025-03-02",
          "2025-03-03",
          "2025-03-04",
          "2025-03-05",
          "2025-03-06",
          "2025-03-07",
          "2025-03-08",
          "2025-03-09",
          "2025-03-10",
          "2025-03-11",
          "2025-03-12",
          "2025-03-13",
          "2025-03-14",
          "2025-03-15",
          "2025-03-16",
          "2025-03-17",
          "2025-03-18",
          "2025-03-19",
          "2025-03-20",
          "2025-03-21",
          "2025-03-22",
          "2025-03-23",
          "2025-03-24",
          "2025-03-25",
          "2025-03-26",
          "2025-03-27",
          "2025-03-28",
          "2025-03-29",
          "2025-03-30",
          "2025-03-31",
          "2025-04-01",
          "2025-04-02",
          "2025-04-03",
          "2025-04-04",
          "2025-04-05",
          "2025-04-06",
          "2025-04-07",
          "2025-04-08",
          "2025-04-09",
          "2025-04-10",
          "2025-04-11",
          "2025-04-12",
          "2025-04-13",
          "2025-04-14",
          "2025-04-15",
          "2025-04-16",
          "2025-04-17",
          "2025-04-18",
          "2025-04-19",
          "2025-04-20",
          "2025-04-21",
          "2025-04-22",
          "2025-04-23",
          "2025-04-24",
          "2025-04-25",
          "2025-04-26",
          "2025-04-27",
          "2025-04-28",
          "2025-04-29",
          "2025-04-30",
          "2025-05-01",
          "2025-05-02",
          "2025-05-03",
          "2025-05-04",
          "2025-05-05",
          "2025-05-06",
          "2025-05-07",
          "2025-05-08",
          "2025-05-09",
          "2025-05-10",
          "2025-05-11",
          "2025-05-12",
          "2025-05-13",
          "2025-05-14",
          "2025-05-15",
          "2025-05-16",
          "2025-05-17",
          "2025-05-18",
          "2025-05-19",
          "2025-05-20",
          "2025-05-21",
          "2025-05-22",
          "2025-05-23",
          "2025-05-24",
          "2025-05-25",
          "2025-05-26",
          "2025-05-27",
          "2025-05-28",
          "2025-05-29",
          "2025-05-30",
          "2025-05-31",
          "2025-06-01",
          "2025-06-02",
          "2025-06-03",
          "2025-06-04",
          "2025-06-05",
          "2025-06-06",
          "2025-06-07",
          "2025-06-08",
          "2025-06-09",
          "2025-06-10",
          "2025-06-11",
          "2025-06-12",
          "2025-06-13",
          "2025-06-14",
          "2025-06-15",
          "2025-06-16",
          "2025-06-17",
          "2025-06-18",
          "2025-06-19",
          "2025-06-20",
          "2025-06-21",
          "2025-06-22",
          "2025-06-23",
          "2025-06-24",
          "2025-06-25",
          "2025-06-26",
          "2025-06-27",
          "2025-06-28",
          "2025-06-29",
          "2025-06-30",
          "2025-07-01",
          "2025-07-02",
          "2025-07-03",
          "2025-07-04",
          "2025-07-05",
          "2025-07-06",
          "2025-07-07",
          "2025-07-08",
          "2025-07-09",
          "2025-07-10",
          "2025-07-11",
          "2025-07-12",
          "2025-07-13",
          "2025-07-14",
          "2025-07-15",
          "2025-07-16",
          "2025-07-17",
          "2025-07-18",
          "2025-07-19",
          "2025-07-20",
          "2025-07-21",
          "2025-07-22",
          "2025-07-23",
          "2025-07-24",
          "2025-07-25",
          "2025-07-26",
          "2025-07-27",
          "2025-07-28",
          "2025-07-29",
          "2025-07-30",
          "2025-07-31",
          "2025-08-01",
          "2025-08-02",
          "2025-08-03",
          "2025-08-04",
          "2025-08-05",
          "2025-08-06",
          "2025-08-07",
          "2025-08-08",
          "2025-08-09",
          "2025-08-10",
          "2025-08-11",
          "2025-08-12",
          "2025-08-13",
          "2025-08-14",
          "2025-08-15",
          "2025-08-16",
          "2025-08-17",
          "2025-08-18",
          "2025-08-19",
          "2025-08-20",
          "2025-08-21",
          "2025-08-22",
          "2025-08-23",
          "2025-08-24",
          "2025-08-25",
          "2025-08-26",
          "2025-08-27",
          "2025-08-28",
          "2025-08-29",
          "2025-08-30",
          "2025-08-31",
          "2025-09-01",
          "2025-09-02",
          "2025-09-03",
          "2025-09-04",
          "2025-09-05",
          "2025-09-06",
          "2025-09-07",
          "2025-09-08",
          "2025-09-09",
          "2025-09-10",
          "2025-09-11",
          "2025-09-12",
          "2025-09-13",
          "2025-09-14",
          "2025-09-15",
          "2025-09-16",
          "2025-09-17",
          "2025-09-18",
          "2025-09-19",
          "2025-09-20",
          "2025-09-21",
          "2025-09-22",
          "2025-09-23",
          "2025-09-24",
          "2025-09-25",
          "2025-09-26",
          "Friday",
          "Friday",
          "Friday",
          "Friday",
          "Friday",
          "Friday",
          "Friday",
          "Friday",
          "Friday",
          "Friday",
          "Friday",
          "Friday",
          "Friday",
          "Friday",
          "Friday",
          "Friday",
          "Friday",
          "Friday",
          "Friday",
          "Friday",
          "Monday",
          "Monday",
          "Monday",
          "Monday",
          "Monday",
          "Monday",
          "Monday",
          "Monday",
          "Monday",
          "Monday",
          "Monday",
          "Monday",
          "Monday",
          "Monday",
          "Monday",
          "Monday",
          "Monday",
          "Monday",
          "Monday",
          "Monday",
          "Saturday",
          "Saturday",
          "Saturday",
          "Saturday",
          "Saturday",
          "Saturday",
          "Saturday",
          "Saturday",
          "Saturday",
          "Saturday",
          "Saturday",
          "Saturday",
          "Saturday",
          "Saturday",
          "Saturday",
          "Saturday",
          "Saturday",
          "Saturday",
          "Saturday",
          "Saturday",
          "Sunday",
          "Sunday",
          "Sunday",
          "Sunday",
          "Sunday",
          "Sunday",
          "Sunday",
          "Sunday",
          "Sunday",
          "Sunday",
          "Sunday",
          "Sunday",
          "Sunday",
          "Sunday",
          "Sunday",
          "Sunday",
          "Sunday",
          "Sunday",
          "Sunday",
          "Sunday",
          "Thursday",
          "Thursday",
          "Thursday",
          "Thursday",
          "Thursday",
          "Thursday",
          "Thursday",
          "Thursday",
          "Thursday",
          "Thursday",
          "Thursday",
          "Thursday",
          "Thursday",
          "Thursday",
          "Thursday",
          "Thursday",
          "Thursday",
          "Thursday",
          "Thursday",
          "Thursday",
          "Tuesday",
          "Tuesday",
          "Tuesday",
          "Tuesday",
          "Tuesday",
          "Tuesday",
          "Tuesday",
          "Tuesday",
          "Tuesday",
          "Tuesday",
          "Tuesday",
          "Tuesday",
          "Tuesday",
          "Tuesday",
          "Tuesday",
          "Tuesday",
          "Tuesday",
          "Tuesday",
          "Tuesday",
          "Tuesday",
          "Wednesday",
          "Wednesday",
          "Wednesday",
          "Wednesday",
          "Wednesday",
          "Wednesday",
          "Wednesday",
          "Wednesday",
          "Wednesday",
          "Wednesday",
          "Wednesday",
          "Wednesday",
          "Wednesday",
          "Wednesday",
          "Wednesday",
          "Wednesday",
          "Wednesday",
          "Wednesday",
          "Wednesday",
          "Wednesday",
          "Cardiology",
          "Cardiology",
          "Cardiology",
          "Cardiology",
          "General",
          "General",
          "General",
          "General",
          "Neurology",
          "Neurology",
          "Neurology",
          "Neurology",
          "Orthopedics",
          "Orthopedics",
          "Orthopedics",
          "Orthopedics",
          "Pediatrics",
          "Pediatrics",
          "Pediatrics",
          "Pediatrics",
          "Female",
          "Female",
          "Male",
          "Male",
          "No",
          "Yes"
         ],
         "name": "",
         "parents": [
          "Yes/Male/Pediatrics/Sunday",
          "No/Male/General/Monday",
          "Yes/Male/Orthopedics/Tuesday",
          "No/Female/Cardiology/Wednesday",
          "Yes/Female/Pediatrics/Thursday",
          "No/Female/General/Friday",
          "No/Female/Cardiology/Saturday",
          "No/Female/Cardiology/Sunday",
          "No/Female/Cardiology/Monday",
          "No/Female/Cardiology/Tuesday",
          "No/Male/Orthopedics/Wednesday",
          "No/Female/Orthopedics/Thursday",
          "No/Male/Orthopedics/Friday",
          "No/Male/General/Saturday",
          "No/Female/General/Sunday",
          "No/Female/General/Monday",
          "No/Male/Neurology/Tuesday",
          "Yes/Male/General/Wednesday",
          "No/Female/Orthopedics/Thursday",
          "No/Female/Orthopedics/Friday",
          "No/Male/Neurology/Saturday",
          "No/Female/Neurology/Sunday",
          "No/Female/General/Monday",
          "No/Female/Pediatrics/Tuesday",
          "Yes/Male/Neurology/Wednesday",
          "Yes/Male/Cardiology/Thursday",
          "No/Male/Orthopedics/Friday",
          "No/Female/Cardiology/Saturday",
          "Yes/Female/Orthopedics/Sunday",
          "Yes/Male/Orthopedics/Monday",
          "Yes/Male/Neurology/Tuesday",
          "No/Male/Neurology/Wednesday",
          "No/Female/Cardiology/Thursday",
          "No/Male/Orthopedics/Friday",
          "No/Male/Cardiology/Saturday",
          "No/Female/Pediatrics/Sunday",
          "No/Female/Cardiology/Monday",
          "No/Female/General/Tuesday",
          "Yes/Male/Cardiology/Wednesday",
          "No/Female/General/Thursday",
          "No/Female/General/Friday",
          "No/Male/General/Saturday",
          "Yes/Female/Pediatrics/Sunday",
          "Yes/Male/Cardiology/Monday",
          "Yes/Male/Cardiology/Tuesday",
          "No/Female/Pediatrics/Wednesday",
          "No/Female/Orthopedics/Thursday",
          "Yes/Female/Neurology/Friday",
          "No/Female/Cardiology/Saturday",
          "No/Female/Neurology/Sunday",
          "Yes/Female/Pediatrics/Monday",
          "No/Male/Orthopedics/Tuesday",
          "Yes/Male/Orthopedics/Wednesday",
          "No/Female/Orthopedics/Thursday",
          "No/Male/Pediatrics/Friday",
          "No/Female/General/Saturday",
          "Yes/Male/General/Sunday",
          "No/Male/Neurology/Monday",
          "No/Male/General/Tuesday",
          "No/Female/General/Wednesday",
          "Yes/Male/Orthopedics/Thursday",
          "Yes/Female/Orthopedics/Friday",
          "Yes/Male/Neurology/Saturday",
          "Yes/Male/Cardiology/Sunday",
          "No/Male/Neurology/Monday",
          "No/Male/Neurology/Tuesday",
          "No/Male/Pediatrics/Wednesday",
          "Yes/Female/Pediatrics/Thursday",
          "No/Female/Neurology/Friday",
          "Yes/Male/Neurology/Saturday",
          "No/Male/Neurology/Sunday",
          "No/Male/General/Monday",
          "No/Male/Pediatrics/Tuesday",
          "No/Female/Neurology/Wednesday",
          "Yes/Male/Orthopedics/Thursday",
          "No/Female/Orthopedics/Friday",
          "No/Male/General/Saturday",
          "No/Female/General/Sunday",
          "No/Male/Cardiology/Monday",
          "No/Male/Cardiology/Tuesday",
          "Yes/Female/Cardiology/Wednesday",
          "No/Male/General/Thursday",
          "Yes/Male/General/Friday",
          "No/Male/General/Saturday",
          "No/Female/Orthopedics/Sunday",
          "Yes/Male/General/Monday",
          "No/Male/Orthopedics/Tuesday",
          "No/Female/Cardiology/Wednesday",
          "No/Female/Cardiology/Thursday",
          "No/Female/Cardiology/Friday",
          "No/Male/Neurology/Saturday",
          "No/Male/Neurology/Sunday",
          "No/Male/Pediatrics/Monday",
          "No/Female/Pediatrics/Tuesday",
          "No/Male/Pediatrics/Wednesday",
          "No/Male/Neurology/Thursday",
          "No/Female/Neurology/Friday",
          "Yes/Female/Pediatrics/Saturday",
          "Yes/Female/Pediatrics/Sunday",
          "Yes/Female/General/Monday",
          "No/Female/Pediatrics/Tuesday",
          "No/Male/General/Wednesday",
          "No/Female/Orthopedics/Thursday",
          "No/Male/Neurology/Friday",
          "Yes/Male/Pediatrics/Saturday",
          "No/Female/Neurology/Sunday",
          "No/Female/Neurology/Monday",
          "No/Female/Neurology/Tuesday",
          "No/Male/Orthopedics/Wednesday",
          "No/Female/Cardiology/Thursday",
          "No/Female/Pediatrics/Friday",
          "No/Female/Cardiology/Saturday",
          "No/Female/Cardiology/Sunday",
          "No/Female/Cardiology/Monday",
          "Yes/Male/Neurology/Tuesday",
          "No/Male/General/Wednesday",
          "No/Male/Neurology/Thursday",
          "No/Female/Neurology/Friday",
          "Yes/Female/Cardiology/Saturday",
          "No/Female/Neurology/Sunday",
          "No/Male/Cardiology/Monday",
          "Yes/Female/General/Tuesday",
          "No/Female/Pediatrics/Wednesday",
          "Yes/Female/Cardiology/Thursday",
          "Yes/Male/General/Friday",
          "Yes/Female/Pediatrics/Saturday",
          "Yes/Male/Orthopedics/Sunday",
          "No/Female/Cardiology/Monday",
          "Yes/Male/Cardiology/Tuesday",
          "Yes/Male/Orthopedics/Wednesday",
          "Yes/Male/Orthopedics/Thursday",
          "Yes/Female/Cardiology/Friday",
          "Yes/Female/Orthopedics/Saturday",
          "No/Male/Neurology/Sunday",
          "Yes/Male/Pediatrics/Monday",
          "No/Female/Pediatrics/Tuesday",
          "No/Female/Pediatrics/Wednesday",
          "Yes/Male/Neurology/Thursday",
          "No/Female/Orthopedics/Friday",
          "Yes/Female/General/Saturday",
          "Yes/Female/Orthopedics/Sunday",
          "Yes/Female/Cardiology/Monday",
          "No/Male/Pediatrics/Tuesday",
          "No/Female/Orthopedics/Wednesday",
          "No/Female/General/Thursday",
          "No/Male/Cardiology/Friday",
          "No/Male/Neurology/Saturday",
          "Yes/Female/Neurology/Sunday",
          "No/Female/General/Monday",
          "Yes/Female/Cardiology/Tuesday",
          "Yes/Female/Pediatrics/Wednesday",
          "Yes/Male/Orthopedics/Thursday",
          "Yes/Male/Cardiology/Friday",
          "No/Male/Neurology/Saturday",
          "No/Female/General/Sunday",
          "Yes/Female/General/Monday",
          "No/Female/Orthopedics/Tuesday",
          "No/Female/General/Wednesday",
          "No/Male/General/Thursday",
          "Yes/Male/Cardiology/Friday",
          "No/Female/Pediatrics/Saturday",
          "No/Male/Orthopedics/Sunday",
          "No/Female/Cardiology/Monday",
          "No/Female/Pediatrics/Tuesday",
          "Yes/Male/Cardiology/Wednesday",
          "Yes/Female/Cardiology/Thursday",
          "No/Female/General/Friday",
          "No/Male/Pediatrics/Saturday",
          "Yes/Female/Orthopedics/Sunday",
          "No/Female/Orthopedics/Monday",
          "No/Male/Pediatrics/Tuesday",
          "No/Female/General/Wednesday",
          "No/Male/Neurology/Thursday",
          "No/Female/Cardiology/Friday",
          "No/Male/General/Saturday",
          "No/Male/Pediatrics/Sunday",
          "Yes/Male/Cardiology/Monday",
          "Yes/Female/Orthopedics/Tuesday",
          "Yes/Male/Neurology/Wednesday",
          "Yes/Male/Orthopedics/Thursday",
          "Yes/Male/Pediatrics/Friday",
          "Yes/Male/Cardiology/Saturday",
          "No/Male/Pediatrics/Sunday",
          "Yes/Female/Cardiology/Monday",
          "No/Female/General/Tuesday",
          "Yes/Female/Neurology/Wednesday",
          "No/Female/General/Thursday",
          "No/Female/General/Friday",
          "Yes/Female/Pediatrics/Saturday",
          "No/Female/Neurology/Sunday",
          "No/Male/Cardiology/Monday",
          "No/Female/Cardiology/Tuesday",
          "No/Male/Orthopedics/Wednesday",
          "No/Male/Cardiology/Thursday",
          "No/Female/Pediatrics/Friday",
          "No/Male/General/Saturday",
          "Yes/Male/General/Sunday",
          "No/Male/General/Monday",
          "No/Male/Neurology/Tuesday",
          "No/Female/Cardiology/Wednesday",
          "Yes/Female/Pediatrics/Thursday",
          "No/Female/Neurology/Friday",
          "No/Female/Orthopedics/Saturday",
          "Yes/Female/Pediatrics/Sunday",
          "No/Female/Pediatrics/Monday",
          "No/Female/Pediatrics/Tuesday",
          "No/Female/General/Wednesday",
          "No/Female/Pediatrics/Thursday",
          "No/Female/Cardiology/Friday",
          "No/Male/Pediatrics/Saturday",
          "No/Female/General/Sunday",
          "Yes/Male/Pediatrics/Monday",
          "Yes/Male/Orthopedics/Tuesday",
          "No/Male/Orthopedics/Wednesday",
          "Yes/Male/General/Thursday",
          "Yes/Female/Cardiology/Friday",
          "No/Male/Cardiology/Saturday",
          "Yes/Female/Neurology/Sunday",
          "No/Female/General/Monday",
          "Yes/Male/Pediatrics/Tuesday",
          "No/Female/General/Wednesday",
          "No/Male/Neurology/Thursday",
          "Yes/Male/General/Friday",
          "No/Female/General/Saturday",
          "Yes/Female/Neurology/Sunday",
          "No/Male/Cardiology/Monday",
          "No/Female/Pediatrics/Tuesday",
          "No/Female/Neurology/Wednesday",
          "No/Female/Orthopedics/Thursday",
          "No/Male/Cardiology/Friday",
          "No/Male/Orthopedics/Saturday",
          "No/Female/Cardiology/Sunday",
          "Yes/Female/Pediatrics/Monday",
          "No/Female/Pediatrics/Tuesday",
          "Yes/Female/General/Wednesday",
          "No/Female/Orthopedics/Thursday",
          "Yes/Male/Cardiology/Friday",
          "No/Female/Pediatrics/Saturday",
          "Yes/Male/Neurology/Sunday",
          "Yes/Female/Pediatrics/Monday",
          "No/Male/Neurology/Tuesday",
          "No/Female/Cardiology/Wednesday",
          "No/Male/Pediatrics/Thursday",
          "Yes/Female/Pediatrics/Friday",
          "Yes/Male/Cardiology/Saturday",
          "No/Male/Pediatrics/Sunday",
          "No/Male/Neurology/Monday",
          "Yes/Male/Pediatrics/Tuesday",
          "No/Male/Orthopedics/Wednesday",
          "No/Male/General/Thursday",
          "No/Female/Neurology/Friday",
          "No/Male/Orthopedics/Saturday",
          "No/Female/Cardiology/Sunday",
          "Yes/Female/Neurology/Monday",
          "Yes/Female/General/Tuesday",
          "No/Female/General/Wednesday",
          "No/Female/Cardiology/Thursday",
          "No/Male/Cardiology/Friday",
          "No/Male/Neurology/Saturday",
          "No/Male/Pediatrics/Sunday",
          "No/Female/Cardiology/Monday",
          "Yes/Male/Pediatrics/Tuesday",
          "Yes/Male/Orthopedics/Wednesday",
          "No/Male/General/Thursday",
          "No/Male/Pediatrics/Friday",
          "Yes/Male/General/Saturday",
          "No/Female/Pediatrics/Sunday",
          "No/Male/Orthopedics/Monday",
          "No/Female/Cardiology/Tuesday",
          "Yes/Female/Orthopedics/Wednesday",
          "No/Female/Cardiology/Thursday",
          "Yes/Female/Cardiology/Friday",
          "No/Female/General/Saturday",
          "Yes/Male/Orthopedics/Sunday",
          "No/Male/Pediatrics/Monday",
          "Yes/Male/Orthopedics/Tuesday",
          "No/Female/General/Wednesday",
          "No/Male/Cardiology/Thursday",
          "Yes/Male/General/Friday",
          "No/Female/Neurology/Saturday",
          "Yes/Female/Neurology/Sunday",
          "No/Female/Pediatrics/Monday",
          "No/Female/General/Tuesday",
          "No/Male/Pediatrics/Wednesday",
          "No/Female/Pediatrics/Thursday",
          "No/Female/Neurology/Friday",
          "No/Male/Pediatrics/Saturday",
          "Yes/Male/Neurology/Sunday",
          "No/Female/Cardiology/Monday",
          "No/Male/General/Tuesday",
          "Yes/Female/Pediatrics/Wednesday",
          "No/Female/Neurology/Thursday",
          "Yes/Male/Orthopedics/Friday",
          "No/Male/Pediatrics/Saturday",
          "Yes/Female/Cardiology/Sunday",
          "No/Female/Cardiology/Monday",
          "No/Female/Orthopedics/Tuesday",
          "Yes/Male/Neurology/Wednesday",
          "Yes/Female/Pediatrics/Thursday",
          "No/Female/Neurology/Friday",
          "No/Female/Cardiology/Saturday",
          "Yes/Female/Neurology/Sunday",
          "Yes/Female/Cardiology/Monday",
          "No/Male/Neurology/Tuesday",
          "No/Female/Orthopedics/Wednesday",
          "No/Female/General/Thursday",
          "No/Female/Orthopedics/Friday",
          "Yes/Female/Orthopedics/Saturday",
          "No/Male/General/Sunday",
          "No/Male/General/Monday",
          "Yes/Male/Pediatrics/Tuesday",
          "No/Female/Pediatrics/Wednesday",
          "No/Female/Orthopedics/Thursday",
          "No/Male/Orthopedics/Friday",
          "No/Male/Cardiology/Saturday",
          "Yes/Male/Cardiology/Sunday",
          "No/Female/Pediatrics/Monday",
          "No/Female/Pediatrics/Tuesday",
          "Yes/Male/Cardiology/Wednesday",
          "No/Male/Cardiology/Thursday",
          "No/Male/Neurology/Friday",
          "No/Female/Neurology/Saturday",
          "No/Female/Cardiology/Sunday",
          "No/Female/Neurology/Monday",
          "No/Male/General/Tuesday",
          "No/Male/Pediatrics/Wednesday",
          "No/Female/Pediatrics/Thursday",
          "Yes/Male/Cardiology/Friday",
          "No/Female/Orthopedics/Saturday",
          "No/Male/Cardiology/Sunday",
          "No/Male/Neurology/Monday",
          "No/Male/Orthopedics/Tuesday",
          "No/Male/Neurology/Wednesday",
          "No/Female/General/Thursday",
          "Yes/Male/Neurology/Friday",
          "Yes/Female/General/Saturday",
          "No/Female/General/Sunday",
          "No/Female/Neurology/Monday",
          "Yes/Male/Neurology/Tuesday",
          "Yes/Female/General/Wednesday",
          "No/Female/Orthopedics/Thursday",
          "No/Female/General/Friday",
          "No/Male/Pediatrics/Saturday",
          "No/Male/General/Sunday",
          "Yes/Female/Orthopedics/Monday",
          "No/Male/Pediatrics/Tuesday",
          "No/Female/Cardiology/Wednesday",
          "No/Female/Cardiology/Thursday",
          "Yes/Male/Orthopedics/Friday",
          "Yes/Female/General/Saturday",
          "Yes/Male/Neurology/Sunday",
          "No/Male/Orthopedics/Monday",
          "No/Female/Pediatrics/Tuesday",
          "No/Male/Pediatrics/Wednesday",
          "No/Male/Cardiology/Thursday",
          "No/Female/Pediatrics/Friday",
          "No/Female/Orthopedics/Saturday",
          "Yes/Male/Pediatrics/Sunday",
          "No/Male/Orthopedics/Monday",
          "No/Female/Neurology/Tuesday",
          "No/Male/Cardiology/Wednesday",
          "No/Male/Pediatrics/Thursday",
          "No/Male/Orthopedics/Friday",
          "No/Male/General/Saturday",
          "No/Male/Cardiology/Sunday",
          "No/Male/Neurology/Monday",
          "No/Male/Orthopedics/Tuesday",
          "No/Female/Neurology/Wednesday",
          "Yes/Female/Neurology/Thursday",
          "No/Female/Pediatrics/Friday",
          "No/Female/Pediatrics/Saturday",
          "Yes/Female/Orthopedics/Sunday",
          "Yes/Male/General/Monday",
          "Yes/Male/Orthopedics/Tuesday",
          "No/Male/General/Wednesday",
          "No/Male/Neurology/Thursday",
          "No/Female/Cardiology/Friday",
          "No/Male/Orthopedics/Saturday",
          "No/Male/Orthopedics/Sunday",
          "No/Female/General/Monday",
          "No/Male/Neurology/Tuesday",
          "No/Male/Neurology/Wednesday",
          "Yes/Female/General/Thursday",
          "No/Male/Neurology/Friday",
          "No/Male/Pediatrics/Saturday",
          "No/Male/Cardiology/Sunday",
          "No/Male/Orthopedics/Monday",
          "No/Male/Cardiology/Tuesday",
          "Yes/Female/Orthopedics/Wednesday",
          "No/Female/Pediatrics/Thursday",
          "Yes/Female/Neurology/Friday",
          "No/Female/General/Saturday",
          "No/Female/Pediatrics/Sunday",
          "No/Female/Cardiology/Monday",
          "No/Male/General/Tuesday",
          "No/Female/Neurology/Wednesday",
          "No/Female/Pediatrics/Thursday",
          "No/Male/General/Friday",
          "No/Male/Pediatrics/Saturday",
          "No/Female/Pediatrics/Sunday",
          "No/Male/Neurology/Monday",
          "Yes/Female/Orthopedics/Tuesday",
          "No/Male/General/Wednesday",
          "No/Female/Neurology/Thursday",
          "No/Male/Pediatrics/Friday",
          "Yes/Male/Neurology/Saturday",
          "No/Female/Orthopedics/Sunday",
          "Yes/Female/General/Monday",
          "Yes/Female/Orthopedics/Tuesday",
          "No/Female/Cardiology/Wednesday",
          "No/Female/General/Thursday",
          "Yes/Male/Orthopedics/Friday",
          "No/Female/Pediatrics/Saturday",
          "No/Female/General/Sunday",
          "No/Male/General/Monday",
          "Yes/Male/Neurology/Tuesday",
          "No/Female/Pediatrics/Wednesday",
          "No/Male/Cardiology/Thursday",
          "No/Male/Orthopedics/Friday",
          "No/Female/Neurology/Saturday",
          "No/Male/Orthopedics/Sunday",
          "Yes/Male/Cardiology/Monday",
          "No/Female/Cardiology/Tuesday",
          "No/Female/General/Wednesday",
          "No/Male/Cardiology/Thursday",
          "No/Male/Orthopedics/Friday",
          "Yes/Female/Pediatrics/Saturday",
          "No/Male/Pediatrics/Sunday",
          "No/Male/General/Monday",
          "No/Male/Orthopedics/Tuesday",
          "No/Female/Orthopedics/Wednesday",
          "No/Male/Cardiology/Thursday",
          "No/Male/Orthopedics/Friday",
          "Yes/Female/Neurology/Saturday",
          "No/Male/Cardiology/Sunday",
          "No/Male/Neurology/Monday",
          "No/Female/General/Tuesday",
          "No/Female/Pediatrics/Wednesday",
          "No/Female/General/Thursday",
          "Yes/Female/Pediatrics/Friday",
          "Yes/Male/General/Saturday",
          "No/Male/Orthopedics/Sunday",
          "Yes/Female/Neurology/Monday",
          "No/Female/Pediatrics/Tuesday",
          "Yes/Male/Cardiology/Wednesday",
          "No/Female/Neurology/Thursday",
          "No/Male/Cardiology/Friday",
          "Yes/Female/Neurology/Saturday",
          "No/Male/Neurology/Sunday",
          "Yes/Female/General/Monday",
          "No/Female/Pediatrics/Tuesday",
          "Yes/Male/Pediatrics/Wednesday",
          "No/Female/Neurology/Thursday",
          "No/Male/Orthopedics/Friday",
          "Yes/Male/Orthopedics/Saturday",
          "Yes/Male/Cardiology/Sunday",
          "No/Male/Cardiology/Monday",
          "Yes/Male/General/Tuesday",
          "No/Female/Neurology/Wednesday",
          "No/Female/Cardiology/Thursday",
          "No/Male/Cardiology/Friday",
          "No/Female/Neurology/Saturday",
          "No/Male/General/Sunday",
          "No/Female/Cardiology/Monday",
          "No/Female/General/Tuesday",
          "Yes/Female/Pediatrics/Wednesday",
          "Yes/Female/General/Thursday",
          "No/Male/Orthopedics/Friday",
          "No/Male/Orthopedics/Saturday",
          "Yes/Female/General/Sunday",
          "No/Female/Orthopedics/Monday",
          "No/Male/Pediatrics/Tuesday",
          "Yes/Female/Neurology/Wednesday",
          "No/Male/Orthopedics/Thursday",
          "Yes/Male/Orthopedics/Friday",
          "No/Male/General/Saturday",
          "Yes/Female/Pediatrics/Sunday",
          "No/Male/Neurology/Monday",
          "Yes/Female/General/Tuesday",
          "No/Male/General/Wednesday",
          "No/Female/Pediatrics/Thursday",
          "Yes/Female/Neurology/Friday",
          "No/Female/Pediatrics/Saturday",
          "No/Male/Neurology/Sunday",
          "Yes/Male/Pediatrics/Monday",
          "No/Female/General/Tuesday",
          "No/Female/General/Wednesday",
          "No/Female/Cardiology/Thursday",
          "No/Male/Orthopedics/Friday",
          "No/Male/Pediatrics/Saturday",
          "Yes/Male/Cardiology/Sunday",
          "No/Male/Orthopedics/Monday",
          "No/Female/Pediatrics/Tuesday",
          "No/Female/Neurology/Wednesday",
          "No/Male/Orthopedics/Thursday",
          "No/Male/General/Friday",
          "Yes/Female/Cardiology/Saturday",
          "Yes/Male/Orthopedics/Sunday",
          "Yes/Male/Orthopedics/Monday",
          "Yes/Male/General/Tuesday",
          "No/Male/Pediatrics/Wednesday",
          "Yes/Male/Neurology/Thursday",
          "Yes/Male/General/Friday",
          "Yes/Female/Neurology/Saturday",
          "Yes/Male/Pediatrics/Sunday",
          "Yes/Male/Orthopedics/Monday",
          "Yes/Female/Neurology/Tuesday",
          "No/Female/Cardiology/Wednesday",
          "No/Female/Cardiology/Thursday",
          "Yes/Male/General/Friday",
          "No/Female/Pediatrics/Saturday",
          "No/Male/General/Sunday",
          "Yes/Male/General/Monday",
          "Yes/Male/General/Tuesday",
          "No/Female/Cardiology/Wednesday",
          "No/Female/Cardiology/Thursday",
          "Yes/Female/General/Friday",
          "Yes/Female/Cardiology/Saturday",
          "No/Female/Pediatrics/Sunday",
          "Yes/Male/General/Monday",
          "Yes/Male/Cardiology/Tuesday",
          "No/Male/Neurology/Wednesday",
          "No/Male/General/Thursday",
          "No/Female/General/Friday",
          "No/Female/Pediatrics/Saturday",
          "Yes/Male/Orthopedics/Sunday",
          "Yes/Female/Orthopedics/Monday",
          "No/Female/Pediatrics/Tuesday",
          "Yes/Male/Pediatrics/Wednesday",
          "No/Male/Pediatrics/Thursday",
          "No/Female/Orthopedics/Friday",
          "No/Female/Pediatrics/Saturday",
          "Yes/Male/Cardiology/Sunday",
          "No/Male/General/Monday",
          "No/Male/General/Tuesday",
          "No/Female/Neurology/Wednesday",
          "Yes/Male/Neurology/Thursday",
          "Yes/Male/General/Friday",
          "Yes/Female/Cardiology/Saturday",
          "No/Female/Orthopedics/Sunday",
          "No/Female/Orthopedics/Monday",
          "No/Female/Cardiology/Tuesday",
          "No/Female/Orthopedics/Wednesday",
          "Yes/Male/Pediatrics/Thursday",
          "No/Male/General/Friday",
          "Yes/Female/General/Saturday",
          "No/Female/Cardiology/Sunday",
          "No/Female/Orthopedics/Monday",
          "No/Female/Neurology/Tuesday",
          "No/Female/Neurology/Wednesday",
          "Yes/Male/Orthopedics/Thursday",
          "Yes/Male/Neurology/Friday",
          "No/Male/Cardiology/Saturday",
          "No/Male/Cardiology/Sunday",
          "Yes/Female/Orthopedics/Monday",
          "Yes/Male/Neurology/Tuesday",
          "No/Female/Cardiology/Wednesday",
          "Yes/Female/Cardiology/Thursday",
          "No/Female/Pediatrics/Friday",
          "No/Male/Pediatrics/Saturday",
          "Yes/Female/Cardiology/Sunday",
          "Yes/Male/Orthopedics/Monday",
          "No/Male/General/Tuesday",
          "No/Female/General/Wednesday",
          "No/Female/Cardiology/Thursday",
          "No/Female/Cardiology/Friday",
          "Yes/Male/Cardiology/Saturday",
          "No/Female/Orthopedics/Sunday",
          "No/Male/Pediatrics/Monday",
          "Yes/Female/Cardiology/Tuesday",
          "No/Female/Cardiology/Wednesday",
          "Yes/Male/Neurology/Thursday",
          "Yes/Male/Orthopedics/Friday",
          "Yes/Male/Cardiology/Saturday",
          "No/Male/Neurology/Sunday",
          "No/Male/General/Monday",
          "No/Male/Cardiology/Tuesday",
          "No/Female/Cardiology/Wednesday",
          "No/Female/Neurology/Thursday",
          "Yes/Male/Orthopedics/Friday",
          "Yes/Female/Cardiology/Saturday",
          "Yes/Male/General/Sunday",
          "Yes/Female/Cardiology/Monday",
          "No/Female/General/Tuesday",
          "No/Male/Pediatrics/Wednesday",
          "No/Male/Pediatrics/Thursday",
          "Yes/Male/General/Friday",
          "No/Female/Orthopedics/Saturday",
          "No/Male/Cardiology/Sunday",
          "Yes/Female/Cardiology/Monday",
          "No/Male/Pediatrics/Tuesday",
          "No/Female/General/Wednesday",
          "No/Female/Cardiology/Thursday",
          "No/Male/Cardiology/Friday",
          "No/Female/Orthopedics/Saturday",
          "Yes/Female/Neurology/Sunday",
          "No/Male/Pediatrics/Monday",
          "Yes/Female/Pediatrics/Tuesday",
          "Yes/Male/Neurology/Wednesday",
          "No/Male/Cardiology/Thursday",
          "No/Male/Orthopedics/Friday",
          "No/Male/Orthopedics/Saturday",
          "No/Female/Pediatrics/Sunday",
          "No/Female/Orthopedics/Monday",
          "No/Female/Neurology/Tuesday",
          "No/Male/Cardiology/Wednesday",
          "Yes/Female/Neurology/Thursday",
          "No/Female/General/Friday",
          "Yes/Male/Pediatrics/Saturday",
          "No/Male/Orthopedics/Sunday",
          "Yes/Female/General/Monday",
          "No/Male/Orthopedics/Tuesday",
          "Yes/Male/Cardiology/Wednesday",
          "No/Male/Cardiology/Thursday",
          "No/Male/Cardiology/Friday",
          "Yes/Female/Orthopedics/Saturday",
          "No/Male/General/Sunday",
          "No/Male/Cardiology/Monday",
          "No/Male/General/Tuesday",
          "Yes/Male/Orthopedics/Wednesday",
          "No/Male/General/Thursday",
          "No/Male/Orthopedics/Friday",
          "No/Male/Orthopedics/Saturday",
          "Yes/Male/Pediatrics/Sunday",
          "No/Female/Orthopedics/Monday",
          "No/Male/Orthopedics/Tuesday",
          "No/Female/Neurology/Wednesday",
          "No/Male/Cardiology/Thursday",
          "No/Male/Pediatrics/Friday",
          "Yes/Male/Pediatrics/Saturday",
          "No/Male/Pediatrics/Sunday",
          "No/Female/Neurology/Monday",
          "Yes/Male/Orthopedics/Tuesday",
          "No/Male/Cardiology/Wednesday",
          "Yes/Female/General/Thursday",
          "No/Female/Orthopedics/Friday",
          "No/Male/Neurology/Saturday",
          "Yes/Female/Orthopedics/Sunday",
          "No/Female/Orthopedics/Monday",
          "No/Female/Neurology/Tuesday",
          "Yes/Male/Pediatrics/Wednesday",
          "No/Male/Pediatrics/Thursday",
          "No/Male/Cardiology/Friday",
          "No/Female/Cardiology/Saturday",
          "Yes/Male/Pediatrics/Sunday",
          "No/Female/General/Monday",
          "Yes/Male/Orthopedics/Tuesday",
          "No/Male/General/Wednesday",
          "Yes/Female/Orthopedics/Thursday",
          "No/Male/Pediatrics/Friday",
          "No/Female/Cardiology/Saturday",
          "No/Female/Cardiology/Sunday",
          "No/Male/General/Monday",
          "Yes/Female/Cardiology/Tuesday",
          "Yes/Male/Pediatrics/Wednesday",
          "No/Male/General/Thursday",
          "No/Female/Orthopedics/Friday",
          "Yes/Male/Cardiology/Saturday",
          "No/Female/Neurology/Sunday",
          "No/Male/Cardiology/Monday",
          "No/Male/Orthopedics/Tuesday",
          "Yes/Male/General/Wednesday",
          "Yes/Male/Orthopedics/Thursday",
          "Yes/Male/Neurology/Friday",
          "No/Female/Pediatrics/Saturday",
          "No/Female/Cardiology/Sunday",
          "No/Female/General/Monday",
          "No/Female/Pediatrics/Tuesday",
          "No/Female/Orthopedics/Wednesday",
          "No/Female/General/Thursday",
          "No/Male/Pediatrics/Friday",
          "Yes/Male/General/Saturday",
          "No/Female/Neurology/Sunday",
          "No/Female/Neurology/Monday",
          "Yes/Male/Cardiology/Tuesday",
          "No/Male/Cardiology/Wednesday",
          "Yes/Male/Neurology/Thursday",
          "No/Female/General/Friday",
          "No/Female/Neurology/Saturday",
          "No/Female/Cardiology/Sunday",
          "No/Male/Neurology/Monday",
          "Yes/Male/Neurology/Tuesday",
          "No/Female/General/Wednesday",
          "Yes/Female/Pediatrics/Thursday",
          "No/Male/Cardiology/Friday",
          "No/Male/General/Saturday",
          "No/Male/Neurology/Sunday",
          "No/Male/Neurology/Monday",
          "No/Female/Pediatrics/Tuesday",
          "No/Male/Cardiology/Wednesday",
          "No/Male/Cardiology/Thursday",
          "No/Male/Orthopedics/Friday",
          "Yes/Female/Cardiology/Saturday",
          "No/Female/Pediatrics/Sunday",
          "No/Male/Orthopedics/Monday",
          "Yes/Male/Orthopedics/Tuesday",
          "No/Male/Neurology/Wednesday",
          "Yes/Female/Neurology/Thursday",
          "No/Female/Cardiology/Friday",
          "Yes/Female/Orthopedics/Saturday",
          "No/Male/Neurology/Sunday",
          "Yes/Female/Pediatrics/Monday",
          "No/Male/Neurology/Tuesday",
          "No/Male/Neurology/Wednesday",
          "No/Male/Orthopedics/Thursday",
          "No/Female/Orthopedics/Friday",
          "No/Male/General/Saturday",
          "Yes/Female/Pediatrics/Sunday",
          "Yes/Female/Orthopedics/Monday",
          "No/Male/Cardiology/Tuesday",
          "No/Male/Pediatrics/Wednesday",
          "Yes/Female/Pediatrics/Thursday",
          "No/Male/Orthopedics/Friday",
          "Yes/Female/Pediatrics/Saturday",
          "Yes/Male/Orthopedics/Sunday",
          "No/Female/Neurology/Monday",
          "No/Female/General/Tuesday",
          "No/Female/Neurology/Wednesday",
          "No/Female/Orthopedics/Thursday",
          "No/Male/Orthopedics/Friday",
          "No/Male/Neurology/Saturday",
          "Yes/Female/Cardiology/Sunday",
          "Yes/Female/Cardiology/Monday",
          "No/Male/Cardiology/Tuesday",
          "No/Male/Orthopedics/Wednesday",
          "No/Male/Pediatrics/Thursday",
          "Yes/Male/Orthopedics/Friday",
          "Yes/Male/Pediatrics/Saturday",
          "No/Male/Neurology/Sunday",
          "Yes/Female/General/Monday",
          "No/Male/Pediatrics/Tuesday",
          "Yes/Male/Cardiology/Wednesday",
          "Yes/Female/Orthopedics/Thursday",
          "No/Male/Neurology/Friday",
          "No/Male/Cardiology/Saturday",
          "No/Male/Neurology/Sunday",
          "Yes/Male/General/Monday",
          "No/Male/Orthopedics/Tuesday",
          "Yes/Female/Orthopedics/Wednesday",
          "No/Male/General/Thursday",
          "No/Female/Orthopedics/Friday",
          "Yes/Female/Pediatrics/Saturday",
          "No/Male/Neurology/Sunday",
          "Yes/Female/Cardiology/Monday",
          "No/Male/General/Tuesday",
          "No/Female/Pediatrics/Wednesday",
          "No/Female/Cardiology/Thursday",
          "Yes/Male/Cardiology/Friday",
          "No/Male/General/Saturday",
          "No/Male/Pediatrics/Sunday",
          "No/Male/Cardiology/Monday",
          "No/Male/Cardiology/Tuesday",
          "Yes/Female/Pediatrics/Wednesday",
          "No/Female/Orthopedics/Thursday",
          "Yes/Female/Cardiology/Friday",
          "Yes/Female/Neurology/Saturday",
          "No/Female/Pediatrics/Sunday",
          "No/Female/Cardiology/Monday",
          "No/Female/General/Tuesday",
          "No/Male/Neurology/Wednesday",
          "No/Male/Cardiology/Thursday",
          "No/Female/Neurology/Friday",
          "No/Female/Neurology/Saturday",
          "Yes/Male/Orthopedics/Sunday",
          "No/Male/Neurology/Monday",
          "Yes/Male/Orthopedics/Tuesday",
          "No/Male/Pediatrics/Wednesday",
          "No/Female/Orthopedics/Thursday",
          "No/Male/General/Friday",
          "No/Female/Cardiology/Saturday",
          "Yes/Female/Pediatrics/Sunday",
          "No/Female/Pediatrics/Monday",
          "Yes/Male/General/Tuesday",
          "No/Male/Orthopedics/Wednesday",
          "No/Female/Cardiology/Thursday",
          "No/Female/Orthopedics/Friday",
          "Yes/Female/Neurology/Saturday",
          "Yes/Male/Orthopedics/Sunday",
          "Yes/Female/Pediatrics/Monday",
          "No/Male/Cardiology/Tuesday",
          "No/Female/Orthopedics/Wednesday",
          "Yes/Female/Cardiology/Thursday",
          "No/Female/Cardiology/Friday",
          "No/Male/Neurology/Saturday",
          "No/Male/Neurology/Sunday",
          "No/Female/Pediatrics/Monday",
          "No/Male/General/Tuesday",
          "Yes/Female/Cardiology/Wednesday",
          "Yes/Male/General/Thursday",
          "Yes/Male/Pediatrics/Friday",
          "No/Male/Cardiology/Saturday",
          "No/Female/Cardiology/Sunday",
          "No/Male/General/Monday",
          "Yes/Male/Orthopedics/Tuesday",
          "No/Female/Neurology/Wednesday",
          "Yes/Female/Orthopedics/Thursday",
          "Yes/Female/General/Friday",
          "No/Female/Neurology/Saturday",
          "No/Male/Orthopedics/Sunday",
          "No/Male/Neurology/Monday",
          "No/Male/Cardiology/Tuesday",
          "Yes/Male/Orthopedics/Wednesday",
          "Yes/Male/Neurology/Thursday",
          "No/Female/Neurology/Friday",
          "No/Male/Neurology/Saturday",
          "No/Male/Orthopedics/Sunday",
          "No/Male/Pediatrics/Monday",
          "No/Female/Orthopedics/Tuesday",
          "Yes/Female/General/Wednesday",
          "Yes/Male/Orthopedics/Thursday",
          "No/Female/Neurology/Friday",
          "Yes/Female/Cardiology/Saturday",
          "No/Female/Orthopedics/Sunday",
          "No/Female/Orthopedics/Monday",
          "No/Female/Neurology/Tuesday",
          "Yes/Female/Cardiology/Wednesday",
          "Yes/Female/Cardiology/Thursday",
          "No/Male/General/Friday",
          "No/Male/Orthopedics/Saturday",
          "No/Female/Cardiology/Sunday",
          "No/Male/Cardiology/Monday",
          "No/Male/Pediatrics/Tuesday",
          "No/Female/Pediatrics/Wednesday",
          "No/Male/Cardiology/Thursday",
          "No/Female/General/Friday",
          "No/Female/Cardiology/Saturday",
          "Yes/Female/Neurology/Sunday",
          "No/Male/Orthopedics/Monday",
          "No/Male/General/Tuesday",
          "No/Male/Neurology/Wednesday",
          "No/Male/General/Thursday",
          "No/Female/Neurology/Friday",
          "No/Female/Orthopedics/Saturday",
          "No/Male/Orthopedics/Sunday",
          "No/Female/Pediatrics/Monday",
          "No/Female/Neurology/Tuesday",
          "No/Male/Pediatrics/Wednesday",
          "No/Female/Neurology/Thursday",
          "Yes/Male/Pediatrics/Friday",
          "No/Female/Orthopedics/Saturday",
          "Yes/Male/General/Sunday",
          "No/Female/Pediatrics/Monday",
          "Yes/Female/Neurology/Tuesday",
          "No/Male/Neurology/Wednesday",
          "No/Male/Orthopedics/Thursday",
          "Yes/Male/Neurology/Friday",
          "Yes/Male/Cardiology/Saturday",
          "Yes/Female/General/Sunday",
          "No/Female/Pediatrics/Monday",
          "No/Male/General/Tuesday",
          "Yes/Female/Orthopedics/Wednesday",
          "Yes/Male/Pediatrics/Thursday",
          "No/Male/Pediatrics/Friday",
          "Yes/Female/Cardiology/Saturday",
          "No/Female/Orthopedics/Sunday",
          "Yes/Male/Neurology/Monday",
          "No/Male/Cardiology/Tuesday",
          "Yes/Male/Cardiology/Wednesday",
          "No/Female/General/Thursday",
          "Yes/Female/General/Friday",
          "No/Female/General/Saturday",
          "No/Female/Cardiology/Sunday",
          "No/Male/Neurology/Monday",
          "No/Male/Pediatrics/Tuesday",
          "No/Male/General/Wednesday",
          "No/Male/Neurology/Thursday",
          "No/Male/Orthopedics/Friday",
          "Yes/Male/General/Saturday",
          "No/Female/Pediatrics/Sunday",
          "No/Female/Orthopedics/Monday",
          "Yes/Male/Orthopedics/Tuesday",
          "Yes/Male/Pediatrics/Wednesday",
          "Yes/Female/General/Thursday",
          "No/Female/Cardiology/Friday",
          "Yes/Female/Pediatrics/Saturday",
          "Yes/Female/Pediatrics/Sunday",
          "Yes/Male/Pediatrics/Monday",
          "No/Male/Orthopedics/Tuesday",
          "No/Male/Neurology/Wednesday",
          "No/Male/Cardiology/Thursday",
          "Yes/Male/General/Friday",
          "Yes/Female/General/Saturday",
          "No/Male/Neurology/Sunday",
          "No/Female/Pediatrics/Monday",
          "No/Male/Cardiology/Tuesday",
          "Yes/Male/General/Wednesday",
          "No/Male/General/Thursday",
          "No/Male/Pediatrics/Friday",
          "Yes/Male/Neurology/Saturday",
          "Yes/Female/Cardiology/Sunday",
          "No/Female/Neurology/Monday",
          "No/Female/Neurology/Tuesday",
          "No/Male/Cardiology/Wednesday",
          "No/Male/Cardiology/Thursday",
          "No/Female/General/Friday",
          "Yes/Male/General/Saturday",
          "No/Male/Cardiology/Sunday",
          "No/Female/Orthopedics/Monday",
          "Yes/Male/General/Tuesday",
          "No/Female/Orthopedics/Wednesday",
          "Yes/Male/Cardiology/Thursday",
          "No/Female/General/Friday",
          "No/Male/Neurology/Saturday",
          "No/Male/Cardiology/Sunday",
          "No/Female/Pediatrics/Monday",
          "Yes/Male/Orthopedics/Tuesday",
          "No/Male/Cardiology/Wednesday",
          "No/Female/Cardiology/Thursday",
          "No/Male/General/Friday",
          "No/Female/General/Saturday",
          "No/Male/General/Sunday",
          "Yes/Male/Pediatrics/Monday",
          "No/Male/General/Tuesday",
          "Yes/Male/Cardiology/Wednesday",
          "Yes/Female/General/Thursday",
          "No/Male/Neurology/Friday",
          "No/Female/General/Saturday",
          "Yes/Male/Pediatrics/Sunday",
          "No/Male/Neurology/Monday",
          "Yes/Male/Cardiology/Tuesday",
          "No/Male/Cardiology/Wednesday",
          "No/Female/Orthopedics/Thursday",
          "No/Female/Neurology/Friday",
          "Yes/Female/Orthopedics/Saturday",
          "No/Female/Neurology/Sunday",
          "No/Male/Neurology/Monday",
          "No/Female/Pediatrics/Tuesday",
          "No/Female/Orthopedics/Wednesday",
          "No/Male/Pediatrics/Thursday",
          "Yes/Male/Neurology/Friday",
          "No/Male/Cardiology/Saturday",
          "No/Male/Neurology/Sunday",
          "Yes/Female/Pediatrics/Monday",
          "No/Female/Orthopedics/Tuesday",
          "Yes/Male/Orthopedics/Wednesday",
          "No/Male/Pediatrics/Thursday",
          "No/Male/Orthopedics/Friday",
          "No/Female/General/Saturday",
          "No/Female/Cardiology/Sunday",
          "Yes/Male/Cardiology/Monday",
          "No/Male/Cardiology/Tuesday",
          "Yes/Female/Orthopedics/Wednesday",
          "No/Male/Orthopedics/Thursday",
          "Yes/Male/Neurology/Friday",
          "No/Female/Neurology/Saturday",
          "No/Male/Cardiology/Sunday",
          "No/Female/General/Monday",
          "No/Male/Neurology/Tuesday",
          "No/Male/Neurology/Wednesday",
          "No/Female/Orthopedics/Thursday",
          "Yes/Female/General/Friday",
          "No/Male/Cardiology/Saturday",
          "Yes/Female/Neurology/Sunday",
          "Yes/Male/General/Monday",
          "No/Male/General/Tuesday",
          "Yes/Female/Cardiology/Wednesday",
          "Yes/Male/General/Thursday",
          "Yes/Male/General/Friday",
          "Yes/Female/General/Saturday",
          "Yes/Female/Neurology/Sunday",
          "No/Male/Cardiology/Monday",
          "Yes/Female/General/Tuesday",
          "No/Female/General/Wednesday",
          "Yes/Female/Neurology/Thursday",
          "No/Female/Cardiology/Friday",
          "Yes/Male/Orthopedics/Saturday",
          "No/Male/Neurology/Sunday",
          "No/Male/Cardiology/Monday",
          "Yes/Female/General/Tuesday",
          "No/Female/Cardiology/Wednesday",
          "No/Female/Cardiology/Thursday",
          "Yes/Female/Cardiology/Friday",
          "No/Female/Orthopedics/Saturday",
          "No/Female/Cardiology/Sunday",
          "No/Female/Orthopedics/Monday",
          "No/Male/General/Tuesday",
          "No/Male/Orthopedics/Wednesday",
          "No/Female/General/Thursday",
          "No/Female/General/Friday",
          "No/Female/Orthopedics/Saturday",
          "Yes/Male/Neurology/Sunday",
          "No/Male/Pediatrics/Monday",
          "Yes/Female/Cardiology/Tuesday",
          "Yes/Female/Pediatrics/Wednesday",
          "No/Male/Cardiology/Thursday",
          "No/Male/Cardiology/Friday",
          "Yes/Male/General/Saturday",
          "No/Male/Cardiology/Sunday",
          "No/Female/Cardiology/Monday",
          "No/Male/Orthopedics/Tuesday",
          "No/Male/Pediatrics/Wednesday",
          "No/Female/Orthopedics/Thursday",
          "Yes/Male/Cardiology/Friday",
          "Yes/Male/General/Saturday",
          "No/Male/Orthopedics/Sunday",
          "Yes/Female/Orthopedics/Monday",
          "No/Male/Neurology/Tuesday",
          "No/Female/Cardiology/Wednesday",
          "No/Female/General/Thursday",
          "Yes/Male/Orthopedics/Friday",
          "No/Female/Cardiology",
          "Yes/Female/Cardiology",
          "No/Male/Cardiology",
          "Yes/Male/Cardiology",
          "No/Female/General",
          "Yes/Female/General",
          "No/Male/General",
          "Yes/Male/General",
          "No/Female/Neurology",
          "Yes/Female/Neurology",
          "No/Male/Neurology",
          "Yes/Male/Neurology",
          "No/Female/Orthopedics",
          "Yes/Female/Orthopedics",
          "No/Male/Orthopedics",
          "Yes/Male/Orthopedics",
          "No/Female/Pediatrics",
          "Yes/Female/Pediatrics",
          "No/Male/Pediatrics",
          "Yes/Male/Pediatrics",
          "No/Female/Cardiology",
          "Yes/Female/Cardiology",
          "No/Male/Cardiology",
          "Yes/Male/Cardiology",
          "No/Female/General",
          "Yes/Female/General",
          "No/Male/General",
          "Yes/Male/General",
          "No/Female/Neurology",
          "Yes/Female/Neurology",
          "No/Male/Neurology",
          "Yes/Male/Neurology",
          "No/Female/Orthopedics",
          "Yes/Female/Orthopedics",
          "No/Male/Orthopedics",
          "Yes/Male/Orthopedics",
          "No/Female/Pediatrics",
          "Yes/Female/Pediatrics",
          "No/Male/Pediatrics",
          "Yes/Male/Pediatrics",
          "No/Female/Cardiology",
          "Yes/Female/Cardiology",
          "No/Male/Cardiology",
          "Yes/Male/Cardiology",
          "No/Female/General",
          "Yes/Female/General",
          "No/Male/General",
          "Yes/Male/General",
          "No/Female/Neurology",
          "Yes/Female/Neurology",
          "No/Male/Neurology",
          "Yes/Male/Neurology",
          "No/Female/Orthopedics",
          "Yes/Female/Orthopedics",
          "No/Male/Orthopedics",
          "Yes/Male/Orthopedics",
          "No/Female/Pediatrics",
          "Yes/Female/Pediatrics",
          "No/Male/Pediatrics",
          "Yes/Male/Pediatrics",
          "No/Female/Cardiology",
          "Yes/Female/Cardiology",
          "No/Male/Cardiology",
          "Yes/Male/Cardiology",
          "No/Female/General",
          "Yes/Female/General",
          "No/Male/General",
          "Yes/Male/General",
          "No/Female/Neurology",
          "Yes/Female/Neurology",
          "No/Male/Neurology",
          "Yes/Male/Neurology",
          "No/Female/Orthopedics",
          "Yes/Female/Orthopedics",
          "No/Male/Orthopedics",
          "Yes/Male/Orthopedics",
          "No/Female/Pediatrics",
          "Yes/Female/Pediatrics",
          "No/Male/Pediatrics",
          "Yes/Male/Pediatrics",
          "No/Female/Cardiology",
          "Yes/Female/Cardiology",
          "No/Male/Cardiology",
          "Yes/Male/Cardiology",
          "No/Female/General",
          "Yes/Female/General",
          "No/Male/General",
          "Yes/Male/General",
          "No/Female/Neurology",
          "Yes/Female/Neurology",
          "No/Male/Neurology",
          "Yes/Male/Neurology",
          "No/Female/Orthopedics",
          "Yes/Female/Orthopedics",
          "No/Male/Orthopedics",
          "Yes/Male/Orthopedics",
          "No/Female/Pediatrics",
          "Yes/Female/Pediatrics",
          "No/Male/Pediatrics",
          "Yes/Male/Pediatrics",
          "No/Female/Cardiology",
          "Yes/Female/Cardiology",
          "No/Male/Cardiology",
          "Yes/Male/Cardiology",
          "No/Female/General",
          "Yes/Female/General",
          "No/Male/General",
          "Yes/Male/General",
          "No/Female/Neurology",
          "Yes/Female/Neurology",
          "No/Male/Neurology",
          "Yes/Male/Neurology",
          "No/Female/Orthopedics",
          "Yes/Female/Orthopedics",
          "No/Male/Orthopedics",
          "Yes/Male/Orthopedics",
          "No/Female/Pediatrics",
          "Yes/Female/Pediatrics",
          "No/Male/Pediatrics",
          "Yes/Male/Pediatrics",
          "No/Female/Cardiology",
          "Yes/Female/Cardiology",
          "No/Male/Cardiology",
          "Yes/Male/Cardiology",
          "No/Female/General",
          "Yes/Female/General",
          "No/Male/General",
          "Yes/Male/General",
          "No/Female/Neurology",
          "Yes/Female/Neurology",
          "No/Male/Neurology",
          "Yes/Male/Neurology",
          "No/Female/Orthopedics",
          "Yes/Female/Orthopedics",
          "No/Male/Orthopedics",
          "Yes/Male/Orthopedics",
          "No/Female/Pediatrics",
          "Yes/Female/Pediatrics",
          "No/Male/Pediatrics",
          "Yes/Male/Pediatrics",
          "No/Female",
          "Yes/Female",
          "No/Male",
          "Yes/Male",
          "No/Female",
          "Yes/Female",
          "No/Male",
          "Yes/Male",
          "No/Female",
          "Yes/Female",
          "No/Male",
          "Yes/Male",
          "No/Female",
          "Yes/Female",
          "No/Male",
          "Yes/Male",
          "No/Female",
          "Yes/Female",
          "No/Male",
          "Yes/Male",
          "No",
          "Yes",
          "No",
          "Yes",
          "",
          ""
         ],
         "type": "sunburst",
         "values": [
          1,
          1,
          1,
          1,
          1,
          1,
          1,
          1,
          1,
          1,
          1,
          1,
          1,
          1,
          1,
          1,
          1,
          1,
          1,
          1,
          1,
          1,
          1,
          1,
          1,
          1,
          1,
          1,
          1,
          1,
          1,
          1,
          1,
          1,
          1,
          1,
          1,
          1,
          1,
          1,
          1,
          1,
          1,
          1,
          1,
          1,
          1,
          1,
          1,
          1,
          1,
          1,
          1,
          1,
          1,
          1,
          1,
          1,
          1,
          1,
          1,
          1,
          1,
          1,
          1,
          1,
          1,
          1,
          1,
          1,
          1,
          1,
          1,
          1,
          1,
          1,
          1,
          1,
          1,
          1,
          1,
          1,
          1,
          1,
          1,
          1,
          1,
          1,
          1,
          1,
          1,
          1,
          1,
          1,
          1,
          1,
          1,
          1,
          1,
          1,
          1,
          1,
          1,
          1,
          1,
          1,
          1,
          1,
          1,
          1,
          1,
          1,
          1,
          1,
          1,
          1,
          1,
          1,
          1,
          1,
          1,
          1,
          1,
          1,
          1,
          1,
          1,
          1,
          1,
          1,
          1,
          1,
          1,
          1,
          1,
          1,
          1,
          1,
          1,
          1,
          1,
          1,
          1,
          1,
          1,
          1,
          1,
          1,
          1,
          1,
          1,
          1,
          1,
          1,
          1,
          1,
          1,
          1,
          1,
          1,
          1,
          1,
          1,
          1,
          1,
          1,
          1,
          1,
          1,
          1,
          1,
          1,
          1,
          1,
          1,
          1,
          1,
          1,
          1,
          1,
          1,
          1,
          1,
          1,
          1,
          1,
          1,
          1,
          1,
          1,
          1,
          1,
          1,
          1,
          1,
          1,
          1,
          1,
          1,
          1,
          1,
          1,
          1,
          1,
          1,
          1,
          1,
          1,
          1,
          1,
          1,
          1,
          1,
          1,
          1,
          1,
          1,
          1,
          1,
          1,
          1,
          1,
          1,
          1,
          1,
          1,
          1,
          1,
          1,
          1,
          1,
          1,
          1,
          1,
          1,
          1,
          1,
          1,
          1,
          1,
          1,
          1,
          1,
          1,
          1,
          1,
          1,
          1,
          1,
          1,
          1,
          1,
          1,
          1,
          1,
          1,
          1,
          1,
          1,
          1,
          1,
          1,
          1,
          1,
          1,
          1,
          1,
          1,
          1,
          1,
          1,
          1,
          1,
          1,
          1,
          1,
          1,
          1,
          1,
          1,
          1,
          1,
          1,
          1,
          1,
          1,
          1,
          1,
          1,
          1,
          1,
          1,
          1,
          1,
          1,
          1,
          1,
          1,
          1,
          1,
          1,
          1,
          1,
          1,
          1,
          1,
          1,
          1,
          1,
          1,
          1,
          1,
          1,
          1,
          1,
          1,
          1,
          1,
          1,
          1,
          1,
          1,
          1,
          1,
          1,
          1,
          1,
          1,
          1,
          1,
          1,
          1,
          1,
          1,
          1,
          1,
          1,
          1,
          1,
          1,
          1,
          1,
          1,
          1,
          1,
          1,
          1,
          1,
          1,
          1,
          1,
          1,
          1,
          1,
          1,
          1,
          1,
          1,
          1,
          1,
          1,
          1,
          1,
          1,
          1,
          1,
          1,
          1,
          1,
          1,
          1,
          1,
          1,
          1,
          1,
          1,
          1,
          1,
          1,
          1,
          1,
          1,
          1,
          1,
          1,
          1,
          1,
          1,
          1,
          1,
          1,
          1,
          1,
          1,
          1,
          1,
          1,
          1,
          1,
          1,
          1,
          1,
          1,
          1,
          1,
          1,
          1,
          1,
          1,
          1,
          1,
          1,
          1,
          1,
          1,
          1,
          1,
          1,
          1,
          1,
          1,
          1,
          1,
          1,
          1,
          1,
          1,
          1,
          1,
          1,
          1,
          1,
          1,
          1,
          1,
          1,
          1,
          1,
          1,
          1,
          1,
          1,
          1,
          1,
          1,
          1,
          1,
          1,
          1,
          1,
          1,
          1,
          1,
          1,
          1,
          1,
          1,
          1,
          1,
          1,
          1,
          1,
          1,
          1,
          1,
          1,
          1,
          1,
          1,
          1,
          1,
          1,
          1,
          1,
          1,
          1,
          1,
          1,
          1,
          1,
          1,
          1,
          1,
          1,
          1,
          1,
          1,
          1,
          1,
          1,
          1,
          1,
          1,
          1,
          1,
          1,
          1,
          1,
          1,
          1,
          1,
          1,
          1,
          1,
          1,
          1,
          1,
          1,
          1,
          1,
          1,
          1,
          1,
          1,
          1,
          1,
          1,
          1,
          1,
          1,
          1,
          1,
          1,
          1,
          1,
          1,
          1,
          1,
          1,
          1,
          1,
          1,
          1,
          1,
          1,
          1,
          1,
          1,
          1,
          1,
          1,
          1,
          1,
          1,
          1,
          1,
          1,
          1,
          1,
          1,
          1,
          1,
          1,
          1,
          1,
          1,
          1,
          1,
          1,
          1,
          1,
          1,
          1,
          1,
          1,
          1,
          1,
          1,
          1,
          1,
          1,
          1,
          1,
          1,
          1,
          1,
          1,
          1,
          1,
          1,
          1,
          1,
          1,
          1,
          1,
          1,
          1,
          1,
          1,
          1,
          1,
          1,
          1,
          1,
          1,
          1,
          1,
          1,
          1,
          1,
          1,
          1,
          1,
          1,
          1,
          1,
          1,
          1,
          1,
          1,
          1,
          1,
          1,
          1,
          1,
          1,
          1,
          1,
          1,
          1,
          1,
          1,
          1,
          1,
          1,
          1,
          1,
          1,
          1,
          1,
          1,
          1,
          1,
          1,
          1,
          1,
          1,
          1,
          1,
          1,
          1,
          1,
          1,
          1,
          1,
          1,
          1,
          1,
          1,
          1,
          1,
          1,
          1,
          1,
          1,
          1,
          1,
          1,
          1,
          1,
          1,
          1,
          1,
          1,
          1,
          1,
          1,
          1,
          1,
          1,
          1,
          1,
          1,
          1,
          1,
          1,
          1,
          1,
          1,
          1,
          1,
          1,
          1,
          1,
          1,
          1,
          1,
          1,
          1,
          1,
          1,
          1,
          1,
          1,
          1,
          1,
          1,
          1,
          1,
          1,
          1,
          1,
          1,
          1,
          1,
          1,
          1,
          1,
          1,
          1,
          1,
          1,
          1,
          1,
          1,
          1,
          1,
          1,
          1,
          1,
          1,
          1,
          1,
          1,
          1,
          1,
          1,
          1,
          1,
          1,
          1,
          1,
          1,
          1,
          1,
          1,
          1,
          1,
          1,
          1,
          1,
          1,
          1,
          1,
          1,
          1,
          1,
          1,
          1,
          1,
          1,
          1,
          1,
          1,
          1,
          1,
          1,
          1,
          1,
          1,
          1,
          1,
          1,
          1,
          1,
          1,
          1,
          1,
          1,
          1,
          1,
          1,
          1,
          1,
          1,
          1,
          1,
          1,
          1,
          1,
          1,
          1,
          1,
          1,
          1,
          1,
          1,
          1,
          1,
          1,
          1,
          1,
          1,
          1,
          1,
          1,
          1,
          1,
          1,
          1,
          1,
          1,
          1,
          1,
          1,
          1,
          1,
          1,
          1,
          1,
          1,
          1,
          1,
          1,
          1,
          1,
          1,
          1,
          1,
          1,
          1,
          1,
          1,
          1,
          1,
          1,
          1,
          1,
          1,
          1,
          1,
          1,
          1,
          1,
          1,
          1,
          1,
          1,
          1,
          1,
          1,
          1,
          1,
          1,
          1,
          1,
          1,
          1,
          1,
          1,
          1,
          1,
          1,
          1,
          1,
          1,
          1,
          1,
          1,
          1,
          1,
          1,
          1,
          1,
          1,
          1,
          1,
          1,
          1,
          1,
          1,
          1,
          1,
          1,
          1,
          1,
          1,
          1,
          1,
          1,
          1,
          1,
          1,
          1,
          1,
          1,
          1,
          1,
          1,
          1,
          1,
          1,
          1,
          1,
          1,
          1,
          1,
          1,
          1,
          1,
          1,
          1,
          1,
          1,
          1,
          1,
          1,
          1,
          1,
          1,
          1,
          1,
          1,
          1,
          1,
          1,
          1,
          1,
          1,
          1,
          1,
          1,
          1,
          1,
          1,
          1,
          1,
          1,
          1,
          1,
          1,
          1,
          1,
          1,
          1,
          1,
          1,
          1,
          1,
          1,
          1,
          1,
          1,
          1,
          1,
          1,
          1,
          1,
          1,
          1,
          1,
          1,
          1,
          1,
          1,
          1,
          1,
          1,
          1,
          1,
          1,
          1,
          1,
          1,
          1,
          1,
          1,
          1,
          1,
          1,
          1,
          1,
          1,
          1,
          1,
          1,
          1,
          1,
          1,
          1,
          1,
          1,
          1,
          1,
          1,
          1,
          1,
          1,
          1,
          1,
          1,
          1,
          1,
          1,
          1,
          1,
          1,
          1,
          1,
          1,
          9,
          5,
          10,
          6,
          12,
          4,
          6,
          10,
          12,
          3,
          5,
          6,
          10,
          1,
          18,
          8,
          5,
          2,
          8,
          3,
          12,
          7,
          11,
          4,
          8,
          6,
          10,
          6,
          7,
          2,
          15,
          1,
          11,
          5,
          7,
          4,
          10,
          6,
          6,
          5,
          9,
          8,
          8,
          6,
          8,
          6,
          11,
          7,
          8,
          5,
          10,
          4,
          9,
          5,
          7,
          2,
          9,
          7,
          9,
          4,
          14,
          4,
          10,
          5,
          6,
          2,
          6,
          4,
          8,
          9,
          15,
          4,
          6,
          5,
          9,
          7,
          9,
          7,
          7,
          6,
          16,
          5,
          16,
          2,
          11,
          5,
          10,
          3,
          6,
          4,
          6,
          6,
          15,
          3,
          5,
          8,
          6,
          6,
          8,
          2,
          5,
          4,
          11,
          5,
          9,
          5,
          14,
          5,
          8,
          2,
          9,
          6,
          4,
          3,
          11,
          11,
          17,
          1,
          9,
          4,
          13,
          4,
          8,
          8,
          13,
          3,
          7,
          3,
          11,
          2,
          11,
          4,
          8,
          5,
          8,
          6,
          8,
          5,
          11,
          5,
          78,
          37,
          74,
          36,
          67,
          31,
          64,
          38,
          60,
          27,
          71,
          31,
          63,
          27,
          65,
          46,
          64,
          34,
          58,
          29,
          332,
          156,
          332,
          180,
          664,
          336
         ]
        }
       ],
       "layout": {
        "legend": {
         "tracegroupgap": 0
        },
        "template": {
         "data": {
          "bar": [
           {
            "error_x": {
             "color": "#f2f5fa"
            },
            "error_y": {
             "color": "#f2f5fa"
            },
            "marker": {
             "line": {
              "color": "rgb(17,17,17)",
              "width": 0.5
             },
             "pattern": {
              "fillmode": "overlay",
              "size": 10,
              "solidity": 0.2
             }
            },
            "type": "bar"
           }
          ],
          "barpolar": [
           {
            "marker": {
             "line": {
              "color": "rgb(17,17,17)",
              "width": 0.5
             },
             "pattern": {
              "fillmode": "overlay",
              "size": 10,
              "solidity": 0.2
             }
            },
            "type": "barpolar"
           }
          ],
          "carpet": [
           {
            "aaxis": {
             "endlinecolor": "#A2B1C6",
             "gridcolor": "#506784",
             "linecolor": "#506784",
             "minorgridcolor": "#506784",
             "startlinecolor": "#A2B1C6"
            },
            "baxis": {
             "endlinecolor": "#A2B1C6",
             "gridcolor": "#506784",
             "linecolor": "#506784",
             "minorgridcolor": "#506784",
             "startlinecolor": "#A2B1C6"
            },
            "type": "carpet"
           }
          ],
          "choropleth": [
           {
            "colorbar": {
             "outlinewidth": 0,
             "ticks": ""
            },
            "type": "choropleth"
           }
          ],
          "contour": [
           {
            "colorbar": {
             "outlinewidth": 0,
             "ticks": ""
            },
            "colorscale": [
             [
              0,
              "#0d0887"
             ],
             [
              0.1111111111111111,
              "#46039f"
             ],
             [
              0.2222222222222222,
              "#7201a8"
             ],
             [
              0.3333333333333333,
              "#9c179e"
             ],
             [
              0.4444444444444444,
              "#bd3786"
             ],
             [
              0.5555555555555556,
              "#d8576b"
             ],
             [
              0.6666666666666666,
              "#ed7953"
             ],
             [
              0.7777777777777778,
              "#fb9f3a"
             ],
             [
              0.8888888888888888,
              "#fdca26"
             ],
             [
              1,
              "#f0f921"
             ]
            ],
            "type": "contour"
           }
          ],
          "contourcarpet": [
           {
            "colorbar": {
             "outlinewidth": 0,
             "ticks": ""
            },
            "type": "contourcarpet"
           }
          ],
          "heatmap": [
           {
            "colorbar": {
             "outlinewidth": 0,
             "ticks": ""
            },
            "colorscale": [
             [
              0,
              "#0d0887"
             ],
             [
              0.1111111111111111,
              "#46039f"
             ],
             [
              0.2222222222222222,
              "#7201a8"
             ],
             [
              0.3333333333333333,
              "#9c179e"
             ],
             [
              0.4444444444444444,
              "#bd3786"
             ],
             [
              0.5555555555555556,
              "#d8576b"
             ],
             [
              0.6666666666666666,
              "#ed7953"
             ],
             [
              0.7777777777777778,
              "#fb9f3a"
             ],
             [
              0.8888888888888888,
              "#fdca26"
             ],
             [
              1,
              "#f0f921"
             ]
            ],
            "type": "heatmap"
           }
          ],
          "heatmapgl": [
           {
            "colorbar": {
             "outlinewidth": 0,
             "ticks": ""
            },
            "colorscale": [
             [
              0,
              "#0d0887"
             ],
             [
              0.1111111111111111,
              "#46039f"
             ],
             [
              0.2222222222222222,
              "#7201a8"
             ],
             [
              0.3333333333333333,
              "#9c179e"
             ],
             [
              0.4444444444444444,
              "#bd3786"
             ],
             [
              0.5555555555555556,
              "#d8576b"
             ],
             [
              0.6666666666666666,
              "#ed7953"
             ],
             [
              0.7777777777777778,
              "#fb9f3a"
             ],
             [
              0.8888888888888888,
              "#fdca26"
             ],
             [
              1,
              "#f0f921"
             ]
            ],
            "type": "heatmapgl"
           }
          ],
          "histogram": [
           {
            "marker": {
             "pattern": {
              "fillmode": "overlay",
              "size": 10,
              "solidity": 0.2
             }
            },
            "type": "histogram"
           }
          ],
          "histogram2d": [
           {
            "colorbar": {
             "outlinewidth": 0,
             "ticks": ""
            },
            "colorscale": [
             [
              0,
              "#0d0887"
             ],
             [
              0.1111111111111111,
              "#46039f"
             ],
             [
              0.2222222222222222,
              "#7201a8"
             ],
             [
              0.3333333333333333,
              "#9c179e"
             ],
             [
              0.4444444444444444,
              "#bd3786"
             ],
             [
              0.5555555555555556,
              "#d8576b"
             ],
             [
              0.6666666666666666,
              "#ed7953"
             ],
             [
              0.7777777777777778,
              "#fb9f3a"
             ],
             [
              0.8888888888888888,
              "#fdca26"
             ],
             [
              1,
              "#f0f921"
             ]
            ],
            "type": "histogram2d"
           }
          ],
          "histogram2dcontour": [
           {
            "colorbar": {
             "outlinewidth": 0,
             "ticks": ""
            },
            "colorscale": [
             [
              0,
              "#0d0887"
             ],
             [
              0.1111111111111111,
              "#46039f"
             ],
             [
              0.2222222222222222,
              "#7201a8"
             ],
             [
              0.3333333333333333,
              "#9c179e"
             ],
             [
              0.4444444444444444,
              "#bd3786"
             ],
             [
              0.5555555555555556,
              "#d8576b"
             ],
             [
              0.6666666666666666,
              "#ed7953"
             ],
             [
              0.7777777777777778,
              "#fb9f3a"
             ],
             [
              0.8888888888888888,
              "#fdca26"
             ],
             [
              1,
              "#f0f921"
             ]
            ],
            "type": "histogram2dcontour"
           }
          ],
          "mesh3d": [
           {
            "colorbar": {
             "outlinewidth": 0,
             "ticks": ""
            },
            "type": "mesh3d"
           }
          ],
          "parcoords": [
           {
            "line": {
             "colorbar": {
              "outlinewidth": 0,
              "ticks": ""
             }
            },
            "type": "parcoords"
           }
          ],
          "pie": [
           {
            "automargin": true,
            "type": "pie"
           }
          ],
          "scatter": [
           {
            "marker": {
             "line": {
              "color": "#283442"
             }
            },
            "type": "scatter"
           }
          ],
          "scatter3d": [
           {
            "line": {
             "colorbar": {
              "outlinewidth": 0,
              "ticks": ""
             }
            },
            "marker": {
             "colorbar": {
              "outlinewidth": 0,
              "ticks": ""
             }
            },
            "type": "scatter3d"
           }
          ],
          "scattercarpet": [
           {
            "marker": {
             "colorbar": {
              "outlinewidth": 0,
              "ticks": ""
             }
            },
            "type": "scattercarpet"
           }
          ],
          "scattergeo": [
           {
            "marker": {
             "colorbar": {
              "outlinewidth": 0,
              "ticks": ""
             }
            },
            "type": "scattergeo"
           }
          ],
          "scattergl": [
           {
            "marker": {
             "line": {
              "color": "#283442"
             }
            },
            "type": "scattergl"
           }
          ],
          "scattermapbox": [
           {
            "marker": {
             "colorbar": {
              "outlinewidth": 0,
              "ticks": ""
             }
            },
            "type": "scattermapbox"
           }
          ],
          "scatterpolar": [
           {
            "marker": {
             "colorbar": {
              "outlinewidth": 0,
              "ticks": ""
             }
            },
            "type": "scatterpolar"
           }
          ],
          "scatterpolargl": [
           {
            "marker": {
             "colorbar": {
              "outlinewidth": 0,
              "ticks": ""
             }
            },
            "type": "scatterpolargl"
           }
          ],
          "scatterternary": [
           {
            "marker": {
             "colorbar": {
              "outlinewidth": 0,
              "ticks": ""
             }
            },
            "type": "scatterternary"
           }
          ],
          "surface": [
           {
            "colorbar": {
             "outlinewidth": 0,
             "ticks": ""
            },
            "colorscale": [
             [
              0,
              "#0d0887"
             ],
             [
              0.1111111111111111,
              "#46039f"
             ],
             [
              0.2222222222222222,
              "#7201a8"
             ],
             [
              0.3333333333333333,
              "#9c179e"
             ],
             [
              0.4444444444444444,
              "#bd3786"
             ],
             [
              0.5555555555555556,
              "#d8576b"
             ],
             [
              0.6666666666666666,
              "#ed7953"
             ],
             [
              0.7777777777777778,
              "#fb9f3a"
             ],
             [
              0.8888888888888888,
              "#fdca26"
             ],
             [
              1,
              "#f0f921"
             ]
            ],
            "type": "surface"
           }
          ],
          "table": [
           {
            "cells": {
             "fill": {
              "color": "#506784"
             },
             "line": {
              "color": "rgb(17,17,17)"
             }
            },
            "header": {
             "fill": {
              "color": "#2a3f5f"
             },
             "line": {
              "color": "rgb(17,17,17)"
             }
            },
            "type": "table"
           }
          ]
         },
         "layout": {
          "annotationdefaults": {
           "arrowcolor": "#f2f5fa",
           "arrowhead": 0,
           "arrowwidth": 1
          },
          "autotypenumbers": "strict",
          "coloraxis": {
           "colorbar": {
            "outlinewidth": 0,
            "ticks": ""
           }
          },
          "colorscale": {
           "diverging": [
            [
             0,
             "#8e0152"
            ],
            [
             0.1,
             "#c51b7d"
            ],
            [
             0.2,
             "#de77ae"
            ],
            [
             0.3,
             "#f1b6da"
            ],
            [
             0.4,
             "#fde0ef"
            ],
            [
             0.5,
             "#f7f7f7"
            ],
            [
             0.6,
             "#e6f5d0"
            ],
            [
             0.7,
             "#b8e186"
            ],
            [
             0.8,
             "#7fbc41"
            ],
            [
             0.9,
             "#4d9221"
            ],
            [
             1,
             "#276419"
            ]
           ],
           "sequential": [
            [
             0,
             "#0d0887"
            ],
            [
             0.1111111111111111,
             "#46039f"
            ],
            [
             0.2222222222222222,
             "#7201a8"
            ],
            [
             0.3333333333333333,
             "#9c179e"
            ],
            [
             0.4444444444444444,
             "#bd3786"
            ],
            [
             0.5555555555555556,
             "#d8576b"
            ],
            [
             0.6666666666666666,
             "#ed7953"
            ],
            [
             0.7777777777777778,
             "#fb9f3a"
            ],
            [
             0.8888888888888888,
             "#fdca26"
            ],
            [
             1,
             "#f0f921"
            ]
           ],
           "sequentialminus": [
            [
             0,
             "#0d0887"
            ],
            [
             0.1111111111111111,
             "#46039f"
            ],
            [
             0.2222222222222222,
             "#7201a8"
            ],
            [
             0.3333333333333333,
             "#9c179e"
            ],
            [
             0.4444444444444444,
             "#bd3786"
            ],
            [
             0.5555555555555556,
             "#d8576b"
            ],
            [
             0.6666666666666666,
             "#ed7953"
            ],
            [
             0.7777777777777778,
             "#fb9f3a"
            ],
            [
             0.8888888888888888,
             "#fdca26"
            ],
            [
             1,
             "#f0f921"
            ]
           ]
          },
          "colorway": [
           "#636efa",
           "#EF553B",
           "#00cc96",
           "#ab63fa",
           "#FFA15A",
           "#19d3f3",
           "#FF6692",
           "#B6E880",
           "#FF97FF",
           "#FECB52"
          ],
          "font": {
           "color": "#f2f5fa"
          },
          "geo": {
           "bgcolor": "rgb(17,17,17)",
           "lakecolor": "rgb(17,17,17)",
           "landcolor": "rgb(17,17,17)",
           "showlakes": true,
           "showland": true,
           "subunitcolor": "#506784"
          },
          "hoverlabel": {
           "align": "left"
          },
          "hovermode": "closest",
          "mapbox": {
           "style": "dark"
          },
          "paper_bgcolor": "rgb(17,17,17)",
          "plot_bgcolor": "rgb(17,17,17)",
          "polar": {
           "angularaxis": {
            "gridcolor": "#506784",
            "linecolor": "#506784",
            "ticks": ""
           },
           "bgcolor": "rgb(17,17,17)",
           "radialaxis": {
            "gridcolor": "#506784",
            "linecolor": "#506784",
            "ticks": ""
           }
          },
          "scene": {
           "xaxis": {
            "backgroundcolor": "rgb(17,17,17)",
            "gridcolor": "#506784",
            "gridwidth": 2,
            "linecolor": "#506784",
            "showbackground": true,
            "ticks": "",
            "zerolinecolor": "#C8D4E3"
           },
           "yaxis": {
            "backgroundcolor": "rgb(17,17,17)",
            "gridcolor": "#506784",
            "gridwidth": 2,
            "linecolor": "#506784",
            "showbackground": true,
            "ticks": "",
            "zerolinecolor": "#C8D4E3"
           },
           "zaxis": {
            "backgroundcolor": "rgb(17,17,17)",
            "gridcolor": "#506784",
            "gridwidth": 2,
            "linecolor": "#506784",
            "showbackground": true,
            "ticks": "",
            "zerolinecolor": "#C8D4E3"
           }
          },
          "shapedefaults": {
           "line": {
            "color": "#f2f5fa"
           }
          },
          "sliderdefaults": {
           "bgcolor": "#C8D4E3",
           "bordercolor": "rgb(17,17,17)",
           "borderwidth": 1,
           "tickwidth": 0
          },
          "ternary": {
           "aaxis": {
            "gridcolor": "#506784",
            "linecolor": "#506784",
            "ticks": ""
           },
           "baxis": {
            "gridcolor": "#506784",
            "linecolor": "#506784",
            "ticks": ""
           },
           "bgcolor": "rgb(17,17,17)",
           "caxis": {
            "gridcolor": "#506784",
            "linecolor": "#506784",
            "ticks": ""
           }
          },
          "title": {
           "x": 0.05
          },
          "updatemenudefaults": {
           "bgcolor": "#506784",
           "borderwidth": 0
          },
          "xaxis": {
           "automargin": true,
           "gridcolor": "#283442",
           "linecolor": "#506784",
           "ticks": "",
           "title": {
            "standoff": 15
           },
           "zerolinecolor": "#283442",
           "zerolinewidth": 2
          },
          "yaxis": {
           "automargin": true,
           "gridcolor": "#283442",
           "linecolor": "#506784",
           "ticks": "",
           "title": {
            "standoff": 15
           },
           "zerolinecolor": "#283442",
           "zerolinewidth": 2
          }
         }
        },
        "title": {
         "text": "Hastane Randevu Dağılımı"
        }
       }
      }
     },
     "metadata": {},
     "output_type": "display_data"
    }
   ],
   "source": [
    "# Tarih, hastalık, cinsiyet bazında sayıları hesapla\n",
    "count = data.groupby(['PatientGender','Disease','AppointmentDay',  'AppointmentDate','NoShow']).size().reset_index(name='count')\n",
    "# count ta biz diyoruz ki datamızın şu değerlerini alsın \n",
    "\n",
    "# Plotly ile sunburst grafiği oluşturma\n",
    "fig = px.sunburst(count,\n",
    "                  path=['NoShow',       #path ta şu sıralma ile yap diyoruz \n",
    "                        'PatientGender',\n",
    "                        'Disease',\n",
    "                        'AppointmentDay',\n",
    "                        'AppointmentDate'],\n",
    "                  values='count',\n",
    "                  title='Hastane Randevu Dağılımı',\n",
    "                  template='plotly_dark')\n",
    "fig.show()"
   ]
  },
  {
   "cell_type": "markdown",
   "id": "768d6226",
   "metadata": {},
   "source": [
    "## korelasyon "
   ]
  },
  {
   "cell_type": "code",
   "execution_count": 79,
   "id": "c7a48a82",
   "metadata": {
    "scrolled": true
   },
   "outputs": [
    {
     "data": {
      "image/png": "[encoded data removed]",
      "text/plain": [
       "<Figure size 1500x1000 with 2 Axes>"
      ]
     },
     "metadata": {},
     "output_type": "display_data"
    }
   ],
   "source": [
    "# Korelasyon matrisi hesaplama\n",
    "corr_matrix = df.corr(numeric_only=True)\n",
    "\n",
    "# Korelasyon matrisini görselleştirme\n",
    "plt.figure(figsize=(15, 10))\n",
    "sns.heatmap(corr_matrix, annot=True, cmap='coolwarm', vmin=-1, vmax=1)\n",
    "plt.title('Değişkenler Arası Korelasyon Matrisi')\n",
    "plt.show()\n",
    "\n",
    "# burada Korelasyonu en çok etlkileyen başaka neler var bakmak gerekiyor"
   ]
  },
  {
   "cell_type": "markdown",
   "id": "277af182",
   "metadata": {
    "papermill": {
     "duration": 0.003989,
     "end_time": "2024-06-12T15:54:46.361413",
     "exception": false,
     "start_time": "2024-06-12T15:54:46.357424",
     "status": "completed"
    },
    "tags": []
   },
   "source": [
    "**4. Veri Ön İşleme ve Sayısallaştırma**\n",
    "\n",
    "Kategorik Değişkenlerin Kodlanması: Kategorik değişkenleri sayısal değerlere dönüştürün (örneğin, one-hot encoding veya label encoding).\n",
    "\n",
    "Özellik Seçimi: Model için önemli olabilecek özellikleri seçin.\n",
    "\n",
    "Veri Normalizasyonu: Sayısal özellikleri normalize edin.\n"
   ]
  },
  {
   "cell_type": "code",
   "execution_count": 80,
   "id": "2644d9d5",
   "metadata": {
    "papermill": {
     "duration": 0.004676,
     "end_time": "2024-06-12T15:54:46.370548",
     "exception": false,
     "start_time": "2024-06-12T15:54:46.365872",
     "status": "completed"
    },
    "tags": []
   },
   "outputs": [
    {
     "data": {
      "image/png": "[encoded data removed]",
      "text/plain": [
       "<Figure size 1000x600 with 1 Axes>"
      ]
     },
     "metadata": {},
     "output_type": "display_data"
    }
   ],
   "source": [
    "x = df.drop(columns=['NoShow','AppointmentDate'])  # Hedef değişken hariç tüm özellikler\n",
    "y = df['NoShow']  # Hedef değişken\n",
    "\n",
    "# RandomForestClassifier ile özellik önem sıralamasını alalım\n",
    "rf = RandomForestClassifier(random_state=42)\n",
    "rf.fit(x, y)\n",
    "\n",
    "# Özellik önem sıralamasını görselleştirelim\n",
    "plt.figure(figsize=(10, 6))\n",
    "feat_importances = pd.Series(rf.feature_importances_, index=x.columns)\n",
    "feat_importances.nlargest(10).plot(kind='barh')\n",
    "plt.title('Özellik Önem Sıralaması')\n",
    "plt.xlabel('Önem Derecesi')\n",
    "plt.ylabel('Özellik')\n",
    "plt.show()"
   ]
  },
  {
   "cell_type": "code",
   "execution_count": 81,
   "id": "fb68e2da",
   "metadata": {},
   "outputs": [
    {
     "data": {
      "text/html": [
       "<div>\n",
       "<style scoped>\n",
       "    .dataframe tbody tr th:only-of-type {\n",
       "        vertical-align: middle;\n",
       "    }\n",
       "\n",
       "    .dataframe tbody tr th {\n",
       "        vertical-align: top;\n",
       "    }\n",
       "\n",
       "    .dataframe thead th {\n",
       "        text-align: right;\n",
       "    }\n",
       "</style>\n",
       "<table border=\"1\" class=\"dataframe\">\n",
       "  <thead>\n",
       "    <tr style=\"text-align: right;\">\n",
       "      <th></th>\n",
       "      <th>AppointmentID</th>\n",
       "      <th>PatientID</th>\n",
       "      <th>AppointmentTime</th>\n",
       "      <th>AppointmentDay</th>\n",
       "      <th>PatientAge</th>\n",
       "      <th>PatientGender</th>\n",
       "      <th>Disease</th>\n",
       "      <th>DoctorID</th>\n",
       "      <th>PreviousNoShow</th>\n",
       "      <th>SMSReminder</th>\n",
       "    </tr>\n",
       "  </thead>\n",
       "  <tbody>\n",
       "    <tr>\n",
       "      <th>0</th>\n",
       "      <td>0.000000</td>\n",
       "      <td>0.102204</td>\n",
       "      <td>0.666667</td>\n",
       "      <td>0.500000</td>\n",
       "      <td>0.787879</td>\n",
       "      <td>1.0</td>\n",
       "      <td>1.00</td>\n",
       "      <td>0.101010</td>\n",
       "      <td>0.75</td>\n",
       "      <td>1.0</td>\n",
       "    </tr>\n",
       "    <tr>\n",
       "      <th>1</th>\n",
       "      <td>0.001001</td>\n",
       "      <td>0.435872</td>\n",
       "      <td>0.222222</td>\n",
       "      <td>0.166667</td>\n",
       "      <td>0.333333</td>\n",
       "      <td>1.0</td>\n",
       "      <td>0.25</td>\n",
       "      <td>0.525253</td>\n",
       "      <td>0.75</td>\n",
       "      <td>1.0</td>\n",
       "    </tr>\n",
       "    <tr>\n",
       "      <th>2</th>\n",
       "      <td>0.002002</td>\n",
       "      <td>0.861723</td>\n",
       "      <td>0.000000</td>\n",
       "      <td>0.833333</td>\n",
       "      <td>0.353535</td>\n",
       "      <td>1.0</td>\n",
       "      <td>0.75</td>\n",
       "      <td>0.454545</td>\n",
       "      <td>0.00</td>\n",
       "      <td>1.0</td>\n",
       "    </tr>\n",
       "    <tr>\n",
       "      <th>3</th>\n",
       "      <td>0.003003</td>\n",
       "      <td>0.270541</td>\n",
       "      <td>0.000000</td>\n",
       "      <td>1.000000</td>\n",
       "      <td>0.050505</td>\n",
       "      <td>0.0</td>\n",
       "      <td>0.00</td>\n",
       "      <td>0.292929</td>\n",
       "      <td>0.25</td>\n",
       "      <td>1.0</td>\n",
       "    </tr>\n",
       "    <tr>\n",
       "      <th>4</th>\n",
       "      <td>0.004004</td>\n",
       "      <td>0.106212</td>\n",
       "      <td>0.944444</td>\n",
       "      <td>0.666667</td>\n",
       "      <td>0.383838</td>\n",
       "      <td>0.0</td>\n",
       "      <td>1.00</td>\n",
       "      <td>0.565657</td>\n",
       "      <td>0.00</td>\n",
       "      <td>1.0</td>\n",
       "    </tr>\n",
       "  </tbody>\n",
       "</table>\n",
       "</div>"
      ],
      "text/plain": [
       "   AppointmentID  PatientID  AppointmentTime  AppointmentDay  PatientAge  \\\n",
       "0       0.000000   0.102204         0.666667        0.500000    0.787879   \n",
       "1       0.001001   0.435872         0.222222        0.166667    0.333333   \n",
       "2       0.002002   0.861723         0.000000        0.833333    0.353535   \n",
       "3       0.003003   0.270541         0.000000        1.000000    0.050505   \n",
       "4       0.004004   0.106212         0.944444        0.666667    0.383838   \n",
       "\n",
       "   PatientGender  Disease  DoctorID  PreviousNoShow  SMSReminder  \n",
       "0            1.0     1.00  0.101010            0.75          1.0  \n",
       "1            1.0     0.25  0.525253            0.75          1.0  \n",
       "2            1.0     0.75  0.454545            0.00          1.0  \n",
       "3            0.0     0.00  0.292929            0.25          1.0  \n",
       "4            0.0     1.00  0.565657            0.00          1.0  "
      ]
     },
     "execution_count": 81,
     "metadata": {},
     "output_type": "execute_result"
    }
   ],
   "source": [
    "# Normalizasion \n",
    " # nedeni  :\n",
    "        #Farklı Ölçeklerdeki Değerleri Karşılaştırılabilir Hale Getirme: Veri setindeki farklı özellikler genellikle farklı ölçeklerde olabilir. Örneğin, bir özellik binlerce dolar değerinde olabilirken, diğer özellik yalnızca birkaç birimlik bir sayısal aralığa sahip olabilir. Bu durumda, özellikler arasında doğru bir karşılaştırma yapmak zor olabilir. Normalizasyon, tüm özellikleri aynı ölçekte ifade ederek, algoritmaların bu özellikler üzerinde dengeli bir şekilde çalışmasını sağlar.\n",
    "\n",
    "# Min-Max scaling ile sayısal özellikleri normalize edelim        \n",
    "scaler = MinMaxScaler()\n",
    "x_scaler = scaler.fit_transform(x)\n",
    "# Normalize edilmiş özellikleri DataFrame olarak saklayabiliriz\n",
    "x_normalized = pd.DataFrame(x_scaler, columns=x.columns)\n",
    "x_normalized.head()"
   ]
  },
  {
   "cell_type": "code",
   "execution_count": 82,
   "id": "c5def7ac",
   "metadata": {},
   "outputs": [],
   "source": [
    "# Dumy Varible \n",
    "df = pd.get_dummies(df, columns=['AppointmentDay', 'PatientGender', 'Disease'], drop_first=True)"
   ]
  },
  {
   "cell_type": "code",
   "execution_count": 83,
   "id": "27b3c301",
   "metadata": {},
   "outputs": [],
   "source": [
    "x=df.drop('NoShow',axis=1) # \n",
    "y=df['NoShow']\n",
    "from sklearn.model_selection import train_test_split as tts\n",
    "x_train,x_test,y_train,y_test=tts(x,y,random_state=42,test_size=0.2)\n",
    "\n"
   ]
  },
  {
   "cell_type": "markdown",
   "id": "d593a618",
   "metadata": {
    "papermill": {
     "duration": 0.005194,
     "end_time": "2024-06-12T15:54:46.380260",
     "exception": false,
     "start_time": "2024-06-12T15:54:46.375066",
     "status": "completed"
    },
    "tags": []
   },
   "source": [
    "**5. Model Oluşturma ve Değerlendirme**\n",
    "\n",
    "Veri Setinin Bölünmesi: Veri setini eğitim ve test kümelerine ayırın.\n",
    "\n",
    "Model Seçimi: Uygun bir model seçin (örneğin, Logistic Regression, Decision Trees, Random Forest vb.).\n",
    "\n",
    "Model Eğitimi: Seçilen modeli eğitin.\n",
    "\n",
    "Model Değerlendirmesi: Modelin performansını değerlendirin (örneğin, doğruluk, hassasiyet, geri çağırma gibi metrikler kullanarak)."
   ]
  },
  {
   "cell_type": "code",
   "execution_count": 84,
   "id": "0abf5bc9",
   "metadata": {},
   "outputs": [
    {
     "data": {
      "text/plain": [
       "Index(['AppointmentID', 'PatientID', 'AppointmentDate', 'AppointmentTime',\n",
       "       'PatientAge', 'DoctorID', 'PreviousNoShow', 'SMSReminder', 'NoShow',\n",
       "       'AppointmentDay_1', 'AppointmentDay_2', 'AppointmentDay_3',\n",
       "       'AppointmentDay_4', 'AppointmentDay_5', 'AppointmentDay_6',\n",
       "       'PatientGender_1', 'Disease_1', 'Disease_2', 'Disease_3', 'Disease_4'],\n",
       "      dtype='object')"
      ]
     },
     "execution_count": 84,
     "metadata": {},
     "output_type": "execute_result"
    }
   ],
   "source": [
    "df.columns"
   ]
  },
  {
   "cell_type": "markdown",
   "id": "7e9f6b68",
   "metadata": {},
   "source": [
    "# Verileri Bölme ve Model Oluşumu "
   ]
  },
  {
   "cell_type": "code",
   "execution_count": 85,
   "id": "0041fc0e",
   "metadata": {
    "papermill": {
     "duration": 0.004056,
     "end_time": "2024-06-12T15:54:46.389047",
     "exception": false,
     "start_time": "2024-06-12T15:54:46.384991",
     "status": "completed"
    },
    "tags": []
   },
   "outputs": [
    {
     "name": "stdout",
     "output_type": "stream",
     "text": [
      "(800, 18) (200, 18)\n"
     ]
    }
   ],
   "source": [
    "x = df.drop(columns=['NoShow','AppointmentDate'])  # Hedef değişken hariç \n",
    "#x=x_scaler\n",
    "y = df['NoShow']  # Hedef değişken\n",
    "\n",
    "x_train, x_test, y_train, y_test = tts(x, y, test_size=0.2, random_state=42)\n",
    "\n",
    "print(x_train.shape,x_test.shape)  #verimizin sayisi ve doğru böldükmü kontrolu"
   ]
  },
  {
   "cell_type": "code",
   "execution_count": 86,
   "id": "2a3ff4b5",
   "metadata": {},
   "outputs": [
    {
     "data": {
      "text/html": [
       "<style>#sk-container-id-4 {\n",
       "  /* Definition of color scheme common for light and dark mode */\n",
       "  --sklearn-color-text: black;\n",
       "  --sklearn-color-line: gray;\n",
       "  /* Definition of color scheme for unfitted estimators */\n",
       "  --sklearn-color-unfitted-level-0: #fff5e6;\n",
       "  --sklearn-color-unfitted-level-1: #f6e4d2;\n",
       "  --sklearn-color-unfitted-level-2: #ffe0b3;\n",
       "  --sklearn-color-unfitted-level-3: chocolate;\n",
       "  /* Definition of color scheme for fitted estimators */\n",
       "  --sklearn-color-fitted-level-0: #f0f8ff;\n",
       "  --sklearn-color-fitted-level-1: #d4ebff;\n",
       "  --sklearn-color-fitted-level-2: #b3dbfd;\n",
       "  --sklearn-color-fitted-level-3: cornflowerblue;\n",
       "\n",
       "  /* Specific color for light theme */\n",
       "  --sklearn-color-text-on-default-background: var(--sg-text-color, var(--theme-code-foreground, var(--jp-content-font-color1, black)));\n",
       "  --sklearn-color-background: var(--sg-background-color, var(--theme-background, var(--jp-layout-color0, white)));\n",
       "  --sklearn-color-border-box: var(--sg-text-color, var(--theme-code-foreground, var(--jp-content-font-color1, black)));\n",
       "  --sklearn-color-icon: #696969;\n",
       "\n",
       "  @media (prefers-color-scheme: dark) {\n",
       "    /* Redefinition of color scheme for dark theme */\n",
       "    --sklearn-color-text-on-default-background: var(--sg-text-color, var(--theme-code-foreground, var(--jp-content-font-color1, white)));\n",
       "    --sklearn-color-background: var(--sg-background-color, var(--theme-background, var(--jp-layout-color0, #111)));\n",
       "    --sklearn-color-border-box: var(--sg-text-color, var(--theme-code-foreground, var(--jp-content-font-color1, white)));\n",
       "    --sklearn-color-icon: #878787;\n",
       "  }\n",
       "}\n",
       "\n",
       "#sk-container-id-4 {\n",
       "  color: var(--sklearn-color-text);\n",
       "}\n",
       "\n",
       "#sk-container-id-4 pre {\n",
       "  padding: 0;\n",
       "}\n",
       "\n",
       "#sk-container-id-4 input.sk-hidden--visually {\n",
       "  border: 0;\n",
       "  clip: rect(1px 1px 1px 1px);\n",
       "  clip: rect(1px, 1px, 1px, 1px);\n",
       "  height: 1px;\n",
       "  margin: -1px;\n",
       "  overflow: hidden;\n",
       "  padding: 0;\n",
       "  position: absolute;\n",
       "  width: 1px;\n",
       "}\n",
       "\n",
       "#sk-container-id-4 div.sk-dashed-wrapped {\n",
       "  border: 1px dashed var(--sklearn-color-line);\n",
       "  margin: 0 0.4em 0.5em 0.4em;\n",
       "  box-sizing: border-box;\n",
       "  padding-bottom: 0.4em;\n",
       "  background-color: var(--sklearn-color-background);\n",
       "}\n",
       "\n",
       "#sk-container-id-4 div.sk-container {\n",
       "  /* jupyter's `normalize.less` sets `[hidden] { display: none; }`\n",
       "     but bootstrap.min.css set `[hidden] { display: none !important; }`\n",
       "     so we also need the `!important` here to be able to override the\n",
       "     default hidden behavior on the sphinx rendered scikit-learn.org.\n",
       "     See: https://github.com/scikit-learn/scikit-learn/issues/21755 */\n",
       "  display: inline-block !important;\n",
       "  position: relative;\n",
       "}\n",
       "\n",
       "#sk-container-id-4 div.sk-text-repr-fallback {\n",
       "  display: none;\n",
       "}\n",
       "\n",
       "div.sk-parallel-item,\n",
       "div.sk-serial,\n",
       "div.sk-item {\n",
       "  /* draw centered vertical line to link estimators */\n",
       "  background-image: linear-gradient(var(--sklearn-color-text-on-default-background), var(--sklearn-color-text-on-default-background));\n",
       "  background-size: 2px 100%;\n",
       "  background-repeat: no-repeat;\n",
       "  background-position: center center;\n",
       "}\n",
       "\n",
       "/* Parallel-specific style estimator block */\n",
       "\n",
       "#sk-container-id-4 div.sk-parallel-item::after {\n",
       "  content: \"\";\n",
       "  width: 100%;\n",
       "  border-bottom: 2px solid var(--sklearn-color-text-on-default-background);\n",
       "  flex-grow: 1;\n",
       "}\n",
       "\n",
       "#sk-container-id-4 div.sk-parallel {\n",
       "  display: flex;\n",
       "  align-items: stretch;\n",
       "  justify-content: center;\n",
       "  background-color: var(--sklearn-color-background);\n",
       "  position: relative;\n",
       "}\n",
       "\n",
       "#sk-container-id-4 div.sk-parallel-item {\n",
       "  display: flex;\n",
       "  flex-direction: column;\n",
       "}\n",
       "\n",
       "#sk-container-id-4 div.sk-parallel-item:first-child::after {\n",
       "  align-self: flex-end;\n",
       "  width: 50%;\n",
       "}\n",
       "\n",
       "#sk-container-id-4 div.sk-parallel-item:last-child::after {\n",
       "  align-self: flex-start;\n",
       "  width: 50%;\n",
       "}\n",
       "\n",
       "#sk-container-id-4 div.sk-parallel-item:only-child::after {\n",
       "  width: 0;\n",
       "}\n",
       "\n",
       "/* Serial-specific style estimator block */\n",
       "\n",
       "#sk-container-id-4 div.sk-serial {\n",
       "  display: flex;\n",
       "  flex-direction: column;\n",
       "  align-items: center;\n",
       "  background-color: var(--sklearn-color-background);\n",
       "  padding-right: 1em;\n",
       "  padding-left: 1em;\n",
       "}\n",
       "\n",
       "\n",
       "/* Toggleable style: style used for estimator/Pipeline/ColumnTransformer box that is\n",
       "clickable and can be expanded/collapsed.\n",
       "- Pipeline and ColumnTransformer use this feature and define the default style\n",
       "- Estimators will overwrite some part of the style using the `sk-estimator` class\n",
       "*/\n",
       "\n",
       "/* Pipeline and ColumnTransformer style (default) */\n",
       "\n",
       "#sk-container-id-4 div.sk-toggleable {\n",
       "  /* Default theme specific background. It is overwritten whether we have a\n",
       "  specific estimator or a Pipeline/ColumnTransformer */\n",
       "  background-color: var(--sklearn-color-background);\n",
       "}\n",
       "\n",
       "/* Toggleable label */\n",
       "#sk-container-id-4 label.sk-toggleable__label {\n",
       "  cursor: pointer;\n",
       "  display: block;\n",
       "  width: 100%;\n",
       "  margin-bottom: 0;\n",
       "  padding: 0.5em;\n",
       "  box-sizing: border-box;\n",
       "  text-align: center;\n",
       "}\n",
       "\n",
       "#sk-container-id-4 label.sk-toggleable__label-arrow:before {\n",
       "  /* Arrow on the left of the label */\n",
       "  content: \"▸\";\n",
       "  float: left;\n",
       "  margin-right: 0.25em;\n",
       "  color: var(--sklearn-color-icon);\n",
       "}\n",
       "\n",
       "#sk-container-id-4 label.sk-toggleable__label-arrow:hover:before {\n",
       "  color: var(--sklearn-color-text);\n",
       "}\n",
       "\n",
       "/* Toggleable content - dropdown */\n",
       "\n",
       "#sk-container-id-4 div.sk-toggleable__content {\n",
       "  max-height: 0;\n",
       "  max-width: 0;\n",
       "  overflow: hidden;\n",
       "  text-align: left;\n",
       "  /* unfitted */\n",
       "  background-color: var(--sklearn-color-unfitted-level-0);\n",
       "}\n",
       "\n",
       "#sk-container-id-4 div.sk-toggleable__content.fitted {\n",
       "  /* fitted */\n",
       "  background-color: var(--sklearn-color-fitted-level-0);\n",
       "}\n",
       "\n",
       "#sk-container-id-4 div.sk-toggleable__content pre {\n",
       "  margin: 0.2em;\n",
       "  border-radius: 0.25em;\n",
       "  color: var(--sklearn-color-text);\n",
       "  /* unfitted */\n",
       "  background-color: var(--sklearn-color-unfitted-level-0);\n",
       "}\n",
       "\n",
       "#sk-container-id-4 div.sk-toggleable__content.fitted pre {\n",
       "  /* unfitted */\n",
       "  background-color: var(--sklearn-color-fitted-level-0);\n",
       "}\n",
       "\n",
       "#sk-container-id-4 input.sk-toggleable__control:checked~div.sk-toggleable__content {\n",
       "  /* Expand drop-down */\n",
       "  max-height: 200px;\n",
       "  max-width: 100%;\n",
       "  overflow: auto;\n",
       "}\n",
       "\n",
       "#sk-container-id-4 input.sk-toggleable__control:checked~label.sk-toggleable__label-arrow:before {\n",
       "  content: \"▾\";\n",
       "}\n",
       "\n",
       "/* Pipeline/ColumnTransformer-specific style */\n",
       "\n",
       "#sk-container-id-4 div.sk-label input.sk-toggleable__control:checked~label.sk-toggleable__label {\n",
       "  color: var(--sklearn-color-text);\n",
       "  background-color: var(--sklearn-color-unfitted-level-2);\n",
       "}\n",
       "\n",
       "#sk-container-id-4 div.sk-label.fitted input.sk-toggleable__control:checked~label.sk-toggleable__label {\n",
       "  background-color: var(--sklearn-color-fitted-level-2);\n",
       "}\n",
       "\n",
       "/* Estimator-specific style */\n",
       "\n",
       "/* Colorize estimator box */\n",
       "#sk-container-id-4 div.sk-estimator input.sk-toggleable__control:checked~label.sk-toggleable__label {\n",
       "  /* unfitted */\n",
       "  background-color: var(--sklearn-color-unfitted-level-2);\n",
       "}\n",
       "\n",
       "#sk-container-id-4 div.sk-estimator.fitted input.sk-toggleable__control:checked~label.sk-toggleable__label {\n",
       "  /* fitted */\n",
       "  background-color: var(--sklearn-color-fitted-level-2);\n",
       "}\n",
       "\n",
       "#sk-container-id-4 div.sk-label label.sk-toggleable__label,\n",
       "#sk-container-id-4 div.sk-label label {\n",
       "  /* The background is the default theme color */\n",
       "  color: var(--sklearn-color-text-on-default-background);\n",
       "}\n",
       "\n",
       "/* On hover, darken the color of the background */\n",
       "#sk-container-id-4 div.sk-label:hover label.sk-toggleable__label {\n",
       "  color: var(--sklearn-color-text);\n",
       "  background-color: var(--sklearn-color-unfitted-level-2);\n",
       "}\n",
       "\n",
       "/* Label box, darken color on hover, fitted */\n",
       "#sk-container-id-4 div.sk-label.fitted:hover label.sk-toggleable__label.fitted {\n",
       "  color: var(--sklearn-color-text);\n",
       "  background-color: var(--sklearn-color-fitted-level-2);\n",
       "}\n",
       "\n",
       "/* Estimator label */\n",
       "\n",
       "#sk-container-id-4 div.sk-label label {\n",
       "  font-family: monospace;\n",
       "  font-weight: bold;\n",
       "  display: inline-block;\n",
       "  line-height: 1.2em;\n",
       "}\n",
       "\n",
       "#sk-container-id-4 div.sk-label-container {\n",
       "  text-align: center;\n",
       "}\n",
       "\n",
       "/* Estimator-specific */\n",
       "#sk-container-id-4 div.sk-estimator {\n",
       "  font-family: monospace;\n",
       "  border: 1px dotted var(--sklearn-color-border-box);\n",
       "  border-radius: 0.25em;\n",
       "  box-sizing: border-box;\n",
       "  margin-bottom: 0.5em;\n",
       "  /* unfitted */\n",
       "  background-color: var(--sklearn-color-unfitted-level-0);\n",
       "}\n",
       "\n",
       "#sk-container-id-4 div.sk-estimator.fitted {\n",
       "  /* fitted */\n",
       "  background-color: var(--sklearn-color-fitted-level-0);\n",
       "}\n",
       "\n",
       "/* on hover */\n",
       "#sk-container-id-4 div.sk-estimator:hover {\n",
       "  /* unfitted */\n",
       "  background-color: var(--sklearn-color-unfitted-level-2);\n",
       "}\n",
       "\n",
       "#sk-container-id-4 div.sk-estimator.fitted:hover {\n",
       "  /* fitted */\n",
       "  background-color: var(--sklearn-color-fitted-level-2);\n",
       "}\n",
       "\n",
       "/* Specification for estimator info (e.g. \"i\" and \"?\") */\n",
       "\n",
       "/* Common style for \"i\" and \"?\" */\n",
       "\n",
       ".sk-estimator-doc-link,\n",
       "a:link.sk-estimator-doc-link,\n",
       "a:visited.sk-estimator-doc-link {\n",
       "  float: right;\n",
       "  font-size: smaller;\n",
       "  line-height: 1em;\n",
       "  font-family: monospace;\n",
       "  background-color: var(--sklearn-color-background);\n",
       "  border-radius: 1em;\n",
       "  height: 1em;\n",
       "  width: 1em;\n",
       "  text-decoration: none !important;\n",
       "  margin-left: 1ex;\n",
       "  /* unfitted */\n",
       "  border: var(--sklearn-color-unfitted-level-1) 1pt solid;\n",
       "  color: var(--sklearn-color-unfitted-level-1);\n",
       "}\n",
       "\n",
       ".sk-estimator-doc-link.fitted,\n",
       "a:link.sk-estimator-doc-link.fitted,\n",
       "a:visited.sk-estimator-doc-link.fitted {\n",
       "  /* fitted */\n",
       "  border: var(--sklearn-color-fitted-level-1) 1pt solid;\n",
       "  color: var(--sklearn-color-fitted-level-1);\n",
       "}\n",
       "\n",
       "/* On hover */\n",
       "div.sk-estimator:hover .sk-estimator-doc-link:hover,\n",
       ".sk-estimator-doc-link:hover,\n",
       "div.sk-label-container:hover .sk-estimator-doc-link:hover,\n",
       ".sk-estimator-doc-link:hover {\n",
       "  /* unfitted */\n",
       "  background-color: var(--sklearn-color-unfitted-level-3);\n",
       "  color: var(--sklearn-color-background);\n",
       "  text-decoration: none;\n",
       "}\n",
       "\n",
       "div.sk-estimator.fitted:hover .sk-estimator-doc-link.fitted:hover,\n",
       ".sk-estimator-doc-link.fitted:hover,\n",
       "div.sk-label-container:hover .sk-estimator-doc-link.fitted:hover,\n",
       ".sk-estimator-doc-link.fitted:hover {\n",
       "  /* fitted */\n",
       "  background-color: var(--sklearn-color-fitted-level-3);\n",
       "  color: var(--sklearn-color-background);\n",
       "  text-decoration: none;\n",
       "}\n",
       "\n",
       "/* Span, style for the box shown on hovering the info icon */\n",
       ".sk-estimator-doc-link span {\n",
       "  display: none;\n",
       "  z-index: 9999;\n",
       "  position: relative;\n",
       "  font-weight: normal;\n",
       "  right: .2ex;\n",
       "  padding: .5ex;\n",
       "  margin: .5ex;\n",
       "  width: min-content;\n",
       "  min-width: 20ex;\n",
       "  max-width: 50ex;\n",
       "  color: var(--sklearn-color-text);\n",
       "  box-shadow: 2pt 2pt 4pt #999;\n",
       "  /* unfitted */\n",
       "  background: var(--sklearn-color-unfitted-level-0);\n",
       "  border: .5pt solid var(--sklearn-color-unfitted-level-3);\n",
       "}\n",
       "\n",
       ".sk-estimator-doc-link.fitted span {\n",
       "  /* fitted */\n",
       "  background: var(--sklearn-color-fitted-level-0);\n",
       "  border: var(--sklearn-color-fitted-level-3);\n",
       "}\n",
       "\n",
       ".sk-estimator-doc-link:hover span {\n",
       "  display: block;\n",
       "}\n",
       "\n",
       "/* \"?\"-specific style due to the `<a>` HTML tag */\n",
       "\n",
       "#sk-container-id-4 a.estimator_doc_link {\n",
       "  float: right;\n",
       "  font-size: 1rem;\n",
       "  line-height: 1em;\n",
       "  font-family: monospace;\n",
       "  background-color: var(--sklearn-color-background);\n",
       "  border-radius: 1rem;\n",
       "  height: 1rem;\n",
       "  width: 1rem;\n",
       "  text-decoration: none;\n",
       "  /* unfitted */\n",
       "  color: var(--sklearn-color-unfitted-level-1);\n",
       "  border: var(--sklearn-color-unfitted-level-1) 1pt solid;\n",
       "}\n",
       "\n",
       "#sk-container-id-4 a.estimator_doc_link.fitted {\n",
       "  /* fitted */\n",
       "  border: var(--sklearn-color-fitted-level-1) 1pt solid;\n",
       "  color: var(--sklearn-color-fitted-level-1);\n",
       "}\n",
       "\n",
       "/* On hover */\n",
       "#sk-container-id-4 a.estimator_doc_link:hover {\n",
       "  /* unfitted */\n",
       "  background-color: var(--sklearn-color-unfitted-level-3);\n",
       "  color: var(--sklearn-color-background);\n",
       "  text-decoration: none;\n",
       "}\n",
       "\n",
       "#sk-container-id-4 a.estimator_doc_link.fitted:hover {\n",
       "  /* fitted */\n",
       "  background-color: var(--sklearn-color-fitted-level-3);\n",
       "}\n",
       "</style><div id=\"sk-container-id-4\" class=\"sk-top-container\"><div class=\"sk-text-repr-fallback\"><pre>RandomForestClassifier(bootstrap=True, ccp_alpha=0.0, class_weight=None,\n",
       "                       criterion=&#x27;gini&#x27;, max_depth=None, max_features=&#x27;sqrt&#x27;,\n",
       "                       max_leaf_nodes=None, max_samples=None,\n",
       "                       min_impurity_decrease=0.0, min_samples_leaf=1,\n",
       "                       min_samples_split=2, min_weight_fraction_leaf=0.0,\n",
       "                       monotonic_cst=None, n_estimators=100, n_jobs=None,\n",
       "                       oob_score=False, random_state=42, verbose=0,\n",
       "                       warm_start=False)</pre><b>In a Jupyter environment, please rerun this cell to show the HTML representation or trust the notebook. <br />On GitHub, the HTML representation is unable to render, please try loading this page with nbviewer.org.</b></div><div class=\"sk-container\" hidden><div class=\"sk-item\"><div class=\"sk-estimator fitted sk-toggleable\"><input class=\"sk-toggleable__control sk-hidden--visually\" id=\"sk-estimator-id-4\" type=\"checkbox\" checked><label for=\"sk-estimator-id-4\" class=\"sk-toggleable__label fitted sk-toggleable__label-arrow fitted\">&nbsp;&nbsp;RandomForestClassifier<a class=\"sk-estimator-doc-link fitted\" rel=\"noreferrer\" target=\"_blank\" href=\"https://scikit-learn.org/1.4/modules/generated/sklearn.ensemble.RandomForestClassifier.html\">?<span>Documentation for RandomForestClassifier</span></a><span class=\"sk-estimator-doc-link fitted\">i<span>Fitted</span></span></label><div class=\"sk-toggleable__content fitted\"><pre>RandomForestClassifier(bootstrap=True, ccp_alpha=0.0, class_weight=None,\n",
       "                       criterion=&#x27;gini&#x27;, max_depth=None, max_features=&#x27;sqrt&#x27;,\n",
       "                       max_leaf_nodes=None, max_samples=None,\n",
       "                       min_impurity_decrease=0.0, min_samples_leaf=1,\n",
       "                       min_samples_split=2, min_weight_fraction_leaf=0.0,\n",
       "                       monotonic_cst=None, n_estimators=100, n_jobs=None,\n",
       "                       oob_score=False, random_state=42, verbose=0,\n",
       "                       warm_start=False)</pre></div> </div></div></div></div>"
      ],
      "text/plain": [
       "RandomForestClassifier(bootstrap=True, ccp_alpha=0.0, class_weight=None,\n",
       "                       criterion='gini', max_depth=None, max_features='sqrt',\n",
       "                       max_leaf_nodes=None, max_samples=None,\n",
       "                       min_impurity_decrease=0.0, min_samples_leaf=1,\n",
       "                       min_samples_split=2, min_weight_fraction_leaf=0.0,\n",
       "                       monotonic_cst=None, n_estimators=100, n_jobs=None,\n",
       "                       oob_score=False, random_state=42, verbose=0,\n",
       "                       warm_start=False)"
      ]
     },
     "execution_count": 86,
     "metadata": {},
     "output_type": "execute_result"
    }
   ],
   "source": [
    "# Model oluşumu \n",
    "model = RandomForestClassifier(random_state=42)\n",
    "# Öğrenme\n",
    "model.fit(x_train, y_train)"
   ]
  },
  {
   "cell_type": "code",
   "execution_count": 87,
   "id": "55e6792d",
   "metadata": {},
   "outputs": [
    {
     "name": "stdout",
     "output_type": "stream",
     "text": [
      "Doğruluk (Accuracy): 0.66\n",
      "Hassasiyet (Precision): 0.10\n",
      "Geri Çağırma (Recall): 0.02\n"
     ]
    }
   ],
   "source": [
    "# Tahmin\n",
    "y_tahmin = model.predict(x_test)\n",
    "\n",
    "# Modelin performansını değerlendirelim\n",
    "accuracy = accuracy_score(y_test, y_tahmin)\n",
    "precision = precision_score(y_test, y_tahmin)\n",
    "recall = recall_score(y_test, y_tahmin)\n",
    "\n",
    "\n",
    "print(\"Doğruluk (Accuracy): {:.2f}\".format(accuracy))\n",
    "print(\"Hassasiyet (Precision): {:.2f}\".format(precision))\n",
    "print(\"Geri Çağırma (Recall): {:.2f}\".format(recall))"
   ]
  },
  {
   "cell_type": "code",
   "execution_count": 88,
   "id": "e0c68350",
   "metadata": {},
   "outputs": [
    {
     "name": "stdout",
     "output_type": "stream",
     "text": [
      "              precision    recall  f1-score   support\n",
      "\n",
      "           0       0.91      0.70      0.80       182\n",
      "           1       0.10      0.33      0.15        18\n",
      "\n",
      "    accuracy                           0.67       200\n",
      "   macro avg       0.51      0.52      0.47       200\n",
      "weighted avg       0.84      0.67      0.74       200\n",
      "\n",
      "              precision    recall  f1-score   support\n",
      "\n",
      "           0       0.99      0.70      0.82       199\n",
      "           1       0.00      0.00      0.00         1\n",
      "\n",
      "    accuracy                           0.69       200\n",
      "   macro avg       0.50      0.35      0.41       200\n",
      "weighted avg       0.99      0.69      0.82       200\n",
      "\n",
      "C_matrix g \n",
      " [[128  54]\n",
      " [ 12   6]]\n",
      "C_matrix b \n",
      " [[139  60]\n",
      " [  1   0]]\n"
     ]
    }
   ],
   "source": [
    "g=GaussianNB()\n",
    "b=BernoulliNB()\n",
    "\n",
    "b.fit(x_train,y_train)\n",
    "g.fit(x_train,y_train)\n",
    "\n",
    "g_predic=g.predict(x_test)\n",
    "b_predict=b.predict(x_test)\n",
    "\n",
    "accuracy_score(g_predic,y_test)\n",
    "accuracy_score(b_predict,y_test)\n",
    "\n",
    "##Confusion matrix (karmaşıklık matrisi), sınıflandırma modelinin performansını değerlendirmek için kullanılan bir araçtır. \n",
    "#Basitçe, modelin tahminlerini gerçek sınıflarla \n",
    "#karşılaştırarak sınıflandırma hatalarını ve doğruluğunu gösteren bir tablodur.\n",
    "\n",
    "sonuc_c_g=confusion_matrix(g_predic,y_test)\n",
    "sonuc_c_b=confusion_matrix(b_predict,y_test)\n",
    "\n",
    "sonuc2=classification_report(g_predic,y_test)\n",
    "sonuc3=classification_report(b_predict,y_test)\n",
    "##classification_report, bir sınıflandırma modelinin performansını değerlendirmek için kullanılan bir \n",
    "#raporlama aracıdır. Genellikle sınıflandırma problemleri için doğruluk (accuracy), \n",
    "#hassasiyet (precision), geri çağırma (recall) ve F1-score gibi metriklerle birlikte kullanılır\n",
    "\n",
    "print(sonuc2)\n",
    "print(sonuc3)\n",
    "\n",
    "print(\"C_matrix g \\n\",sonuc_c_g)\n",
    "print(\"C_matrix b \\n\",sonuc_c_b)"
   ]
  },
  {
   "cell_type": "code",
   "execution_count": 89,
   "id": "144c28de",
   "metadata": {},
   "outputs": [
    {
     "name": "stdout",
     "output_type": "stream",
     "text": [
      "---- Decision Tree ----\n",
      "Doğruluk (Accuracy): 0.52\n",
      "Hassasiyet (Precision): 0.26\n",
      "Geri Çağırma (Recall): 0.33\n",
      "\n",
      "Rapor (Classification Report):\n",
      "              precision    recall  f1-score   support\n",
      "\n",
      "           0       0.68      0.60      0.64       140\n",
      "           1       0.26      0.33      0.29        60\n",
      "\n",
      "    accuracy                           0.52       200\n",
      "   macro avg       0.47      0.47      0.47       200\n",
      "weighted avg       0.55      0.52      0.53       200\n",
      "\n",
      "\n",
      "---- Gradient Boosting ----\n",
      "Doğruluk (Accuracy): 0.66\n",
      "Hassasiyet (Precision): 0.30\n",
      "Geri Çağırma (Recall): 0.12\n",
      "\n",
      "Rapor (Classification Report):\n",
      "              precision    recall  f1-score   support\n",
      "\n",
      "           0       0.70      0.89      0.78       140\n",
      "           1       0.30      0.12      0.17        60\n",
      "\n",
      "    accuracy                           0.66       200\n",
      "   macro avg       0.50      0.50      0.48       200\n",
      "weighted avg       0.58      0.66      0.60       200\n",
      "\n",
      "\n",
      "---- SVC ----\n",
      "Doğruluk (Accuracy): 0.70\n",
      "Hassasiyet (Precision): 0.00\n",
      "Geri Çağırma (Recall): 0.00\n",
      "\n",
      "Rapor (Classification Report):\n",
      "              precision    recall  f1-score   support\n",
      "\n",
      "           0       0.70      1.00      0.82       140\n",
      "           1       0.00      0.00      0.00        60\n",
      "\n",
      "    accuracy                           0.70       200\n",
      "   macro avg       0.35      0.50      0.41       200\n",
      "weighted avg       0.49      0.70      0.58       200\n",
      "\n",
      "\n",
      "---- KNN ----\n",
      "Doğruluk (Accuracy): 0.60\n",
      "Hassasiyet (Precision): 0.28\n",
      "Geri Çağırma (Recall): 0.20\n",
      "\n",
      "Rapor (Classification Report):\n",
      "              precision    recall  f1-score   support\n",
      "\n",
      "           0       0.69      0.78      0.73       140\n",
      "           1       0.28      0.20      0.23        60\n",
      "\n",
      "    accuracy                           0.60       200\n",
      "   macro avg       0.49      0.49      0.48       200\n",
      "weighted avg       0.57      0.60      0.58       200\n",
      "\n",
      "\n"
     ]
    }
   ],
   "source": [
    "# Diyer Algoritmalar .\n",
    "classifiers = {\n",
    "    'Decision Tree': DecisionTreeClassifier(random_state=42),\n",
    "    'Gradient Boosting': GradientBoostingClassifier(random_state=42),\n",
    "    'SVC': SVC(random_state=42),\n",
    "    'KNN': KNeighborsClassifier()\n",
    "}\n",
    "for clf_name, clf in classifiers.items():\n",
    "    clf.fit(x_train, y_train)  # Modeli eğit\n",
    "    y_pred = clf.predict(x_test)  # Test seti üzerinde tahmin yap\n",
    "    \n",
    "    # Performans metriklerini hesapla\n",
    "    accuracy = accuracy_score(y_test, y_pred)\n",
    "    precision = precision_score(y_test, y_pred)\n",
    "    recall = recall_score(y_test, y_pred)\n",
    "    clas_rapor = classification_report(y_test, y_pred)  # Sınıflandırma raporunu oluştur\n",
    "    \n",
    "    # Sonuçlar\n",
    "    print(f\"---- {clf_name} ----\")\n",
    "    print(f\"Doğruluk (Accuracy): {accuracy:.2f}\")\n",
    "    print(f\"Hassasiyet (Precision): {precision:.2f}\")\n",
    "    print(f\"Geri Çağırma (Recall): {recall:.2f}\")\n",
    "    \n",
    "    print(\"\\nRapor (Classification Report):\")\n",
    "    print(clas_rapor)\n",
    "    print()\n"
   ]
  },
  {
   "cell_type": "code",
   "execution_count": 93,
   "id": "3c196909",
   "metadata": {},
   "outputs": [],
   "source": [
    "# Deep Learning ile karşılaştıralım sonuçları"
   ]
  },
  {
   "cell_type": "code",
   "execution_count": 105,
   "id": "7fffa5e0",
   "metadata": {},
   "outputs": [],
   "source": [
    "# Gerekli kütüphaneleri yükleme\n",
    "import tensorflow as tf\n",
    "from tensorflow.keras.models import Sequential\n",
    "from tensorflow.keras.layers import Dense, Dropout\n",
    "from sklearn.model_selection import train_test_split\n",
    "from sklearn.preprocessing import StandardScaler\n",
    "import pandas as pd\n",
    "import warnings\n",
    "\n",
    "warnings.filterwarnings('ignore')\n",
    "\n",
    "# Veriyi yükleme ve ön işleme\n",
    "df = pd.read_csv(\"hospital_appointment_data.csv\")\n",
    "\n",
    "x = df.drop(\"NoShow\", axis=1)\n",
    "y = df[['NoShow']]\n",
    "\n",
    "# Kategorik verileri one-hot encoding ile sayısal verilere çevirme\n",
    "x = pd.get_dummies(x, drop_first=True)\n",
    "\n",
    "# Hedef değişkeni sayısal formata dönüştürme\n",
    "y = y.replace({'NoShow': {'Yes': 1, 'No': 0}})  # 'Yes' -> 1, 'No' -> 0\n",
    "\n",
    "# Veriyi ölçeklendirme\n",
    "scale = StandardScaler()\n",
    "x = scale.fit_transform(x)\n",
    "\n",
    "# Veriyi eğitim ve test setlerine ayırma\n",
    "x1, x2, y1, y2 = train_test_split(x, y, random_state=42, test_size=0.3)"
   ]
  },
  {
   "cell_type": "code",
   "execution_count": 107,
   "id": "d3258cd5",
   "metadata": {},
   "outputs": [
    {
     "name": "stdout",
     "output_type": "stream",
     "text": [
      "Epoch 1/15\n",
      "\u001b[1m47/47\u001b[0m \u001b[32m━━━━━━━━━━━━━━━━━━━━\u001b[0m\u001b[37m\u001b[0m \u001b[1m5s\u001b[0m 11ms/step - accuracy: 0.5312 - loss: 0.6935 - val_accuracy: 0.6967 - val_loss: 0.6147\n",
      "Epoch 2/15\n",
      "\u001b[1m47/47\u001b[0m \u001b[32m━━━━━━━━━━━━━━━━━━━━\u001b[0m\u001b[37m\u001b[0m \u001b[1m0s\u001b[0m 4ms/step - accuracy: 0.6524 - loss: 0.6315 - val_accuracy: 0.6967 - val_loss: 0.6182\n",
      "Epoch 3/15\n",
      "\u001b[1m47/47\u001b[0m \u001b[32m━━━━━━━━━━━━━━━━━━━━\u001b[0m\u001b[37m\u001b[0m \u001b[1m0s\u001b[0m 4ms/step - accuracy: 0.7351 - loss: 0.4844 - val_accuracy: 0.6633 - val_loss: 0.7542\n",
      "Epoch 4/15\n",
      "\u001b[1m47/47\u001b[0m \u001b[32m━━━━━━━━━━━━━━━━━━━━\u001b[0m\u001b[37m\u001b[0m \u001b[1m0s\u001b[0m 4ms/step - accuracy: 0.8893 - loss: 0.2395 - val_accuracy: 0.6200 - val_loss: 0.9061\n",
      "Epoch 5/15\n",
      "\u001b[1m47/47\u001b[0m \u001b[32m━━━━━━━━━━━━━━━━━━━━\u001b[0m\u001b[37m\u001b[0m \u001b[1m0s\u001b[0m 5ms/step - accuracy: 0.9631 - loss: 0.0756 - val_accuracy: 0.6600 - val_loss: 1.2869\n",
      "Epoch 6/15\n",
      "\u001b[1m47/47\u001b[0m \u001b[32m━━━━━━━━━━━━━━━━━━━━\u001b[0m\u001b[37m\u001b[0m \u001b[1m0s\u001b[0m 4ms/step - accuracy: 0.9953 - loss: 0.0242 - val_accuracy: 0.6633 - val_loss: 1.9044\n",
      "Epoch 7/15\n",
      "\u001b[1m47/47\u001b[0m \u001b[32m━━━━━━━━━━━━━━━━━━━━\u001b[0m\u001b[37m\u001b[0m \u001b[1m0s\u001b[0m 4ms/step - accuracy: 0.9869 - loss: 0.0357 - val_accuracy: 0.6567 - val_loss: 2.4523\n",
      "Epoch 8/15\n",
      "\u001b[1m47/47\u001b[0m \u001b[32m━━━━━━━━━━━━━━━━━━━━\u001b[0m\u001b[37m\u001b[0m \u001b[1m0s\u001b[0m 4ms/step - accuracy: 0.9989 - loss: 0.0102 - val_accuracy: 0.6733 - val_loss: 2.9105\n",
      "Epoch 9/15\n",
      "\u001b[1m47/47\u001b[0m \u001b[32m━━━━━━━━━━━━━━━━━━━━\u001b[0m\u001b[37m\u001b[0m \u001b[1m0s\u001b[0m 4ms/step - accuracy: 0.9936 - loss: 0.0122 - val_accuracy: 0.6733 - val_loss: 3.2936\n",
      "Epoch 10/15\n",
      "\u001b[1m47/47\u001b[0m \u001b[32m━━━━━━━━━━━━━━━━━━━━\u001b[0m\u001b[37m\u001b[0m \u001b[1m0s\u001b[0m 4ms/step - accuracy: 0.9882 - loss: 0.0222 - val_accuracy: 0.6700 - val_loss: 3.3539\n",
      "Epoch 11/15\n",
      "\u001b[1m47/47\u001b[0m \u001b[32m━━━━━━━━━━━━━━━━━━━━\u001b[0m\u001b[37m\u001b[0m \u001b[1m0s\u001b[0m 4ms/step - accuracy: 0.9969 - loss: 0.0107 - val_accuracy: 0.6600 - val_loss: 3.5157\n",
      "Epoch 12/15\n",
      "\u001b[1m47/47\u001b[0m \u001b[32m━━━━━━━━━━━━━━━━━━━━\u001b[0m\u001b[37m\u001b[0m \u001b[1m0s\u001b[0m 4ms/step - accuracy: 0.9963 - loss: 0.0067 - val_accuracy: 0.6933 - val_loss: 4.3126\n",
      "Epoch 13/15\n",
      "\u001b[1m47/47\u001b[0m \u001b[32m━━━━━━━━━━━━━━━━━━━━\u001b[0m\u001b[37m\u001b[0m \u001b[1m0s\u001b[0m 4ms/step - accuracy: 0.9925 - loss: 0.0135 - val_accuracy: 0.6600 - val_loss: 3.7177\n",
      "Epoch 14/15\n",
      "\u001b[1m47/47\u001b[0m \u001b[32m━━━━━━━━━━━━━━━━━━━━\u001b[0m\u001b[37m\u001b[0m \u001b[1m0s\u001b[0m 4ms/step - accuracy: 0.9967 - loss: 0.0117 - val_accuracy: 0.6633 - val_loss: 3.8207\n",
      "Epoch 15/15\n",
      "\u001b[1m47/47\u001b[0m \u001b[32m━━━━━━━━━━━━━━━━━━━━\u001b[0m\u001b[37m\u001b[0m \u001b[1m0s\u001b[0m 4ms/step - accuracy: 0.9947 - loss: 0.0125 - val_accuracy: 0.6633 - val_loss: 3.8351\n"
     ]
    }
   ],
   "source": [
    "# Model oluşturma\n",
    "model = Sequential()\n",
    "model.add(Dense(units=256, activation='relu', input_shape=(x1.shape[1],)))  # input layer\n",
    "model.add(Dense(units=128, activation='relu'))  \n",
    "model.add(Dense(units=64, activation='relu'))  # hidden layers\n",
    "model.add(Dense(units=64, activation='relu'))\n",
    "model.add(Dense(units=32, activation='relu'))\n",
    "model.add(Dense(units=16, activation='relu'))\n",
    "model.add(Dropout(0.5))  # dropout layer\n",
    "model.add(Dense(units=8, activation='relu'))\n",
    "model.add(Dense(units=1, activation='sigmoid'))  # output layer\n",
    "\n",
    "# Modeli derleme\n",
    "model.compile(loss='binary_crossentropy', optimizer='adam', metrics=['accuracy'])\n",
    "\n",
    "# Modeli eğitme\n",
    "history = model.fit(x1, y1, epochs=15, batch_size=15, validation_data=(x2, y2), verbose='auto')"
   ]
  },
  {
   "cell_type": "code",
   "execution_count": 110,
   "id": "e4b6cd96",
   "metadata": {},
   "outputs": [
    {
     "data": {
      "image/png": "[encoded data removed]",
      "text/plain": [
       "<Figure size 800x550 with 1 Axes>"
      ]
     },
     "metadata": {},
     "output_type": "display_data"
    }
   ],
   "source": [
    "# Eğitim ve doğrulama kayıplarını ve doğruluklarını görselleştirme\n",
    "import matplotlib.pyplot as plt\n",
    "plt.plot(history.history['accuracy'], label='Eğitim Doğruluğu')\n",
    "plt.plot(history.history['val_accuracy'], label='Doğrulama Doğruluğu')\n",
    "plt.xlabel('Epoch')\n",
    "plt.ylabel('Doğruluk')\n",
    "plt.legend()\n",
    "plt.title('Eğitim ve Doğrulama Doğruluğu')\n",
    "plt.show()\n"
   ]
  },
  {
   "cell_type": "code",
   "execution_count": 112,
   "id": "e713aa4e",
   "metadata": {},
   "outputs": [],
   "source": [
    " # Overfiting yaşandı.\n",
    " \n",
    " ## Sonuç olarak datamız ile gelen ve gelmeyenleri sınıflandırarak  ne ye göre gelmeyeceğini ve verimizi analiz edeerk dağılımları gördük"
   ]
  },
  {
   "cell_type": "code",
   "execution_count": null,
   "id": "8b13d020",
   "metadata": {},
   "outputs": [],
   "source": []
  }
 ],
 "metadata": {
  "kaggle": {
   "accelerator": "none",
   "dataSources": [],
   "dockerImageVersionId": 30732,
   "isGpuEnabled": false,
   "isInternetEnabled": false,
   "language": "python",
   "sourceType": "notebook"
  },
  "kernelspec": {
   "display_name": "Python 3 (ipykernel)",
   "language": "python",
   "name": "python3"
  },
  "language_info": {
   "codemirror_mode": {
    "name": "ipython",
    "version": 3
   },
   "file_extension": ".py",
   "mimetype": "text/x-python",
   "name": "python",
   "nbconvert_exporter": "python",
   "pygments_lexer": "ipython3",
   "version": "3.11.7"
  },
  "papermill": {
   "default_parameters": {},
   "duration": 8.106119,
   "end_time": "2024-06-12T15:54:49.881010",
   "environment_variables": {},
   "exception": null,
   "input_path": "__notebook__.ipynb",
   "output_path": "__notebook__.ipynb",
   "parameters": {},
   "start_time": "2024-06-12T15:54:41.774891",
   "version": "2.5.0"
  }
 },
 "nbformat": 4,
 "nbformat_minor": 5
}
