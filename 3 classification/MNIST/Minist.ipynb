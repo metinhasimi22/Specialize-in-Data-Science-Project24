{
  "nbformat": 4,
  "nbformat_minor": 0,
  "metadata": {
    "colab": {
      "provenance": []
    },
    "kernelspec": {
      "name": "python3",
      "display_name": "Python 3"
    },
    "language_info": {
      "name": "python"
    }
  },
  "cells": [
    {
      "cell_type": "code",
      "execution_count": 1,
      "metadata": {
        "id": "IS_YegT3naEX"
      },
      "outputs": [],
      "source": [
        "import tensorflow as tf"
      ]
    },
    {
      "cell_type": "code",
      "source": [
        "from tensorflow.keras import layers,models"
      ],
      "metadata": {
        "id": "dX0lqnKLniTv"
      },
      "execution_count": 2,
      "outputs": []
    },
    {
      "cell_type": "markdown",
      "source": [
        "# Introduction\n",
        "\n",
        "MNIST (Modified National Institute of Standards and Technology) veri seti, el yazısıyla yazılmış 70,000 adet 28x28 piksel boyutunda gri tonlamalı rakam (0-9) içeren bir veri setidir. Bu veri seti, özellikle makine öğrenmesi ve derin öğrenme algoritmalarını test etmek ve geliştirmek için yaygın olarak kullanılır. MNIST, eğitim için 60,000, test için ise 10,000 örnek içerir ve basit bir şekilde el yazısı rakamların tanınması için temel bir benchmark olarak kabul edilir."
      ],
      "metadata": {
        "id": "hKabSGbxXVDV"
      }
    },
    {
      "cell_type": "code",
      "source": [
        "# mnist veri setini yükleme\n",
        "(x_train,y_train),(x_test,y_test)=tf.keras.datasets.mnist.load_data()"
      ],
      "metadata": {
        "id": "xOUqVI4znvOw",
        "colab": {
          "base_uri": "https://localhost:8080/"
        },
        "outputId": "557025e6-827c-4bb3-e826-68a7ff1cc56b"
      },
      "execution_count": 3,
      "outputs": [
        {
          "output_type": "stream",
          "name": "stdout",
          "text": [
            "Downloading data from https://storage.googleapis.com/tensorflow/tf-keras-datasets/mnist.npz\n",
            "\u001b[1m11490434/11490434\u001b[0m \u001b[32m━━━━━━━━━━━━━━━━━━━━\u001b[0m\u001b[37m\u001b[0m \u001b[1m0s\u001b[0m 0us/step\n"
          ]
        }
      ]
    },
    {
      "cell_type": "code",
      "source": [
        "# veriyi normalize etme\n",
        "x_train,x_test=x_train/255.0 ,x_test/255.0"
      ],
      "metadata": {
        "id": "yAgCJFECn5dm"
      },
      "execution_count": 4,
      "outputs": []
    },
    {
      "cell_type": "code",
      "source": [
        "x_train.shape"
      ],
      "metadata": {
        "colab": {
          "base_uri": "https://localhost:8080/"
        },
        "id": "_Abr6U8yxGK_",
        "outputId": "2044f3db-b4f2-410c-f3ea-2d3ab332ef01"
      },
      "execution_count": 5,
      "outputs": [
        {
          "output_type": "execute_result",
          "data": {
            "text/plain": [
              "(60000, 28, 28)"
            ]
          },
          "metadata": {},
          "execution_count": 5
        }
      ]
    },
    {
      "cell_type": "code",
      "source": [
        "# modeli oluşturma\n",
        "model=models.Sequential([layers.Flatten(input_shape=(28,28)),#Flatten: 28x28'lik iki boyutlu görüntüleri tek boyutlu bir vektöre dönüştürür. Sinir ağlarına girdi olarak düzleştirilmiş veriler vermek için kullanılır.\n",
        "                        layers.Dense(128,activation='relu'),#Dense (128 nöronlu, ReLU aktivasyonu): Tam bağlantılı katman. Verileri işler ve doğrusal olmayan dönüşümler uygulayarak öğrenme yeteneğini artırır.\n",
        "                        layers.Dense(100,activation='relu'),\n",
        "                         layers.Dense(80,activation='relu'),## DAha fazla daerin katman katarak deha iyi öğrenmesiini sağlıyoruz\n",
        "                         layers.Dense(80,activation='relu'),\n",
        "                         layers.Dense(40,activation='relu'),\n",
        "\n",
        "                        layers.Dropout(0.2),#Dropout (0.2): Aşırı öğrenmeyi önlemek için eğitim sırasında rastgele olarak bazı nöronları kapatır.\n",
        "                        layers.Dense(10,activation='softmax')])#Dense (10 nöronlu, Softmax aktivasyonu): Çıktı katmanı. 10 sınıf arasında olasılık dağılımı üretir (0-9 rakamları)."
      ],
      "metadata": {
        "id": "NwIiMPJooB7t",
        "colab": {
          "base_uri": "https://localhost:8080/"
        },
        "outputId": "9e257cfa-cf89-44b1-ac2b-d5bbfa8f9f81"
      },
      "execution_count": 6,
      "outputs": [
        {
          "output_type": "stream",
          "name": "stderr",
          "text": [
            "/usr/local/lib/python3.10/dist-packages/keras/src/layers/reshaping/flatten.py:37: UserWarning: Do not pass an `input_shape`/`input_dim` argument to a layer. When using Sequential models, prefer using an `Input(shape)` object as the first layer in the model instead.\n",
            "  super().__init__(**kwargs)\n"
          ]
        }
      ]
    },
    {
      "cell_type": "code",
      "source": [
        "# modeli derleme\n",
        "model.compile(\n",
        "              optimizer='adam',\n",
        "              loss='sparse_categorical_crossentropy',\n",
        "              metrics=['accuracy']\n",
        "              )"
      ],
      "metadata": {
        "id": "gLuTih_hoDmz"
      },
      "execution_count": 7,
      "outputs": []
    },
    {
      "cell_type": "code",
      "source": [
        "# model eğitimi\n",
        "model.fit(x_train,y_train,epochs=10,batch_size=50,validation_split=0.1)"
      ],
      "metadata": {
        "colab": {
          "base_uri": "https://localhost:8080/"
        },
        "id": "R_212-oapAM6",
        "outputId": "0adccb25-1a3c-417c-8378-ef241ff020ad"
      },
      "execution_count": 8,
      "outputs": [
        {
          "output_type": "stream",
          "name": "stdout",
          "text": [
            "Epoch 1/10\n",
            "\u001b[1m1080/1080\u001b[0m \u001b[32m━━━━━━━━━━━━━━━━━━━━\u001b[0m\u001b[37m\u001b[0m \u001b[1m13s\u001b[0m 8ms/step - accuracy: 0.7925 - loss: 0.6553 - val_accuracy: 0.9655 - val_loss: 0.1180\n",
            "Epoch 2/10\n",
            "\u001b[1m1080/1080\u001b[0m \u001b[32m━━━━━━━━━━━━━━━━━━━━\u001b[0m\u001b[37m\u001b[0m \u001b[1m8s\u001b[0m 7ms/step - accuracy: 0.9595 - loss: 0.1493 - val_accuracy: 0.9655 - val_loss: 0.1126\n",
            "Epoch 3/10\n",
            "\u001b[1m1080/1080\u001b[0m \u001b[32m━━━━━━━━━━━━━━━━━━━━\u001b[0m\u001b[37m\u001b[0m \u001b[1m12s\u001b[0m 9ms/step - accuracy: 0.9704 - loss: 0.1035 - val_accuracy: 0.9760 - val_loss: 0.0918\n",
            "Epoch 4/10\n",
            "\u001b[1m1080/1080\u001b[0m \u001b[32m━━━━━━━━━━━━━━━━━━━━\u001b[0m\u001b[37m\u001b[0m \u001b[1m10s\u001b[0m 9ms/step - accuracy: 0.9778 - loss: 0.0782 - val_accuracy: 0.9787 - val_loss: 0.0804\n",
            "Epoch 5/10\n",
            "\u001b[1m1080/1080\u001b[0m \u001b[32m━━━━━━━━━━━━━━━━━━━━\u001b[0m\u001b[37m\u001b[0m \u001b[1m9s\u001b[0m 9ms/step - accuracy: 0.9822 - loss: 0.0593 - val_accuracy: 0.9768 - val_loss: 0.0863\n",
            "Epoch 6/10\n",
            "\u001b[1m1080/1080\u001b[0m \u001b[32m━━━━━━━━━━━━━━━━━━━━\u001b[0m\u001b[37m\u001b[0m \u001b[1m9s\u001b[0m 7ms/step - accuracy: 0.9837 - loss: 0.0533 - val_accuracy: 0.9782 - val_loss: 0.0808\n",
            "Epoch 7/10\n",
            "\u001b[1m1080/1080\u001b[0m \u001b[32m━━━━━━━━━━━━━━━━━━━━\u001b[0m\u001b[37m\u001b[0m \u001b[1m8s\u001b[0m 8ms/step - accuracy: 0.9862 - loss: 0.0446 - val_accuracy: 0.9783 - val_loss: 0.0935\n",
            "Epoch 8/10\n",
            "\u001b[1m1080/1080\u001b[0m \u001b[32m━━━━━━━━━━━━━━━━━━━━\u001b[0m\u001b[37m\u001b[0m \u001b[1m9s\u001b[0m 6ms/step - accuracy: 0.9892 - loss: 0.0372 - val_accuracy: 0.9762 - val_loss: 0.0989\n",
            "Epoch 9/10\n",
            "\u001b[1m1080/1080\u001b[0m \u001b[32m━━━━━━━━━━━━━━━━━━━━\u001b[0m\u001b[37m\u001b[0m \u001b[1m6s\u001b[0m 6ms/step - accuracy: 0.9907 - loss: 0.0328 - val_accuracy: 0.9767 - val_loss: 0.1049\n",
            "Epoch 10/10\n",
            "\u001b[1m1080/1080\u001b[0m \u001b[32m━━━━━━━━━━━━━━━━━━━━\u001b[0m\u001b[37m\u001b[0m \u001b[1m6s\u001b[0m 6ms/step - accuracy: 0.9903 - loss: 0.0355 - val_accuracy: 0.9785 - val_loss: 0.0937\n"
          ]
        },
        {
          "output_type": "execute_result",
          "data": {
            "text/plain": [
              "<keras.src.callbacks.history.History at 0x7db5d437e9e0>"
            ]
          },
          "metadata": {},
          "execution_count": 8
        }
      ]
    },
    {
      "cell_type": "code",
      "source": [
        "test_loss, test_acc = model.evaluate(x_test, y_test)\n"
      ],
      "metadata": {
        "colab": {
          "base_uri": "https://localhost:8080/"
        },
        "id": "t1CnI7VqpfrX",
        "outputId": "05e1f36f-e583-4043-ff96-c3cc5a685de5"
      },
      "execution_count": 11,
      "outputs": [
        {
          "output_type": "stream",
          "name": "stdout",
          "text": [
            "\u001b[1m313/313\u001b[0m \u001b[32m━━━━━━━━━━━━━━━━━━━━\u001b[0m\u001b[37m\u001b[0m \u001b[1m1s\u001b[0m 2ms/step - accuracy: 0.9736 - loss: 0.1080\n"
          ]
        }
      ]
    },
    {
      "cell_type": "code",
      "source": [
        "print(f\"test accuracy:{test_acc}\")"
      ],
      "metadata": {
        "colab": {
          "base_uri": "https://localhost:8080/"
        },
        "id": "lr5Mhrhtp1Z5",
        "outputId": "0b30a8d0-f28c-4d54-f0c4-c5c2521754b5"
      },
      "execution_count": 12,
      "outputs": [
        {
          "output_type": "stream",
          "name": "stdout",
          "text": [
            "test accuracy:0.9761000275611877\n"
          ]
        }
      ]
    },
    {
      "cell_type": "code",
      "source": [
        "# Sonuc olarak\n",
        "from sklearn.metrics import confusion_matrix,classification_report\n",
        "import seaborn as sns\n",
        "import matplotlib.pyplot as plt\n",
        "\n",
        "# Tahminleri yap\n",
        "y_pred = model.predict(x_test)\n",
        "y_pred_classes = y_pred.argmax(axis=1)  # Sınıf etiketlerini al\n",
        "\n",
        "# Confusion matrix oluştur\n",
        "cm = confusion_matrix(y_test, y_pred_classes)\n",
        "\n",
        "# Görselleştir\n",
        "plt.figure(figsize=(10,7))\n",
        "sns.heatmap(cm, annot=True, fmt='d', cmap='Blues')\n",
        "plt.xlabel('Predicted')\n",
        "plt.ylabel('True')\n",
        "plt.title('Confusion Matrix')\n",
        "plt.show()\n"
      ],
      "metadata": {
        "colab": {
          "base_uri": "https://localhost:8080/",
          "height": 659
        },
        "id": "64_X2KwDXRmv",
        "outputId": "8e23627a-a42b-498e-c71a-bd0b22849785"
      },
      "execution_count": 14,
      "outputs": [
        {
          "output_type": "stream",
          "name": "stdout",
          "text": [
            "\u001b[1m313/313\u001b[0m \u001b[32m━━━━━━━━━━━━━━━━━━━━\u001b[0m\u001b[37m\u001b[0m \u001b[1m1s\u001b[0m 4ms/step\n"
          ]
        },
        {
          "output_type": "display_data",
          "data": {
            "text/plain": [
              "<Figure size 1000x700 with 2 Axes>"
            ],
            "image/png": "[encoded data removed]"
          },
          "metadata": {}
        }
      ]
    },
    {
      "cell_type": "code",
      "source": [
        "report = classification_report(y_test, y_pred_classes)\n",
        "print(report)"
      ],
      "metadata": {
        "colab": {
          "base_uri": "https://localhost:8080/"
        },
        "id": "Bj5Dd-g7X5EN",
        "outputId": "f3f65d2b-ca50-49a8-cb3a-69445a89f59c"
      },
      "execution_count": 17,
      "outputs": [
        {
          "output_type": "stream",
          "name": "stdout",
          "text": [
            "              precision    recall  f1-score   support\n",
            "\n",
            "           0       0.97      0.99      0.98       980\n",
            "           1       0.99      0.98      0.99      1135\n",
            "           2       0.95      0.99      0.97      1032\n",
            "           3       0.98      0.97      0.97      1010\n",
            "           4       0.97      0.98      0.98       982\n",
            "           5       0.99      0.97      0.98       892\n",
            "           6       0.98      0.98      0.98       958\n",
            "           7       0.98      0.98      0.98      1028\n",
            "           8       0.98      0.95      0.96       974\n",
            "           9       0.97      0.96      0.97      1009\n",
            "\n",
            "    accuracy                           0.98     10000\n",
            "   macro avg       0.98      0.98      0.98     10000\n",
            "weighted avg       0.98      0.98      0.98     10000\n",
            "\n"
          ]
        }
      ]
    },
    {
      "cell_type": "code",
      "source": [],
      "metadata": {
        "id": "0gA-WBOOYJqX"
      },
      "execution_count": null,
      "outputs": []
    }
  ]
}